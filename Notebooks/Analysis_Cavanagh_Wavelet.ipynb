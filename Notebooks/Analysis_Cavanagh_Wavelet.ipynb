{
 "cells": [
  {
   "cell_type": "markdown",
   "id": "roman-washer",
   "metadata": {},
   "source": [
    "# Wavelet estimator on Cavanagh dataset"
   ]
  },
  {
   "cell_type": "code",
   "execution_count": 1,
   "id": "applicable-alignment",
   "metadata": {},
   "outputs": [],
   "source": [
    "using CSV\n",
    "using DataFrames\n",
    "using LinearAlgebra\n",
    "using Plots\n",
    "using Statistics\n",
    "using GLM"
   ]
  },
  {
   "cell_type": "code",
   "execution_count": 2,
   "id": "southeast-northern",
   "metadata": {},
   "outputs": [],
   "source": [
    "alt = [0.2, 0.3, 0.4, 0.6, 0.7, 0.8];"
   ]
  },
  {
   "cell_type": "markdown",
   "id": "disabled-willow",
   "metadata": {},
   "source": [
    "### Functions"
   ]
  },
  {
   "cell_type": "code",
   "execution_count": 3,
   "id": "changing-airline",
   "metadata": {},
   "outputs": [
    {
     "data": {
      "text/plain": [
       "extract_P_DT (generic function with 1 method)"
      ]
     },
     "execution_count": 3,
     "metadata": {},
     "output_type": "execute_result"
    }
   ],
   "source": [
    "function extract_P_DT(dataset)\n",
    "    Pᵒ = zeros(6,6)\n",
    "    DTᵒ = zeros(6,6)\n",
    "    mask = Array{Bool}([1 1 1; 1 0 1; 1 0 1; 1 0 1; 1 0 0; 1 0 0; 1 0 0; 1 0 0; 1 0 0; 1 0 0])\n",
    "    \n",
    "    for i in 1:10\n",
    "        if mask[i,1]\n",
    "            alt1 = dataset[i,1]\n",
    "            alt2 = dataset[i,2]\n",
    "            idx1 = findfirst(alt .== alt1)\n",
    "            idx2 = findfirst(alt .== alt2)\n",
    "            Pᵒ[idx1, idx2] = dataset[i, 4]\n",
    "            Pᵒ[idx2, idx1] = 1 - Pᵒ[idx1, idx2]\n",
    "            DTᵒ[idx1, idx2] = dataset[i, 7]\n",
    "            DTᵒ[idx2, idx1] = DTᵒ[idx1, idx2]\n",
    "        end\n",
    "\n",
    "        if mask[i,2]\n",
    "            alt1 = dataset[i,2]\n",
    "            alt2 = dataset[i,3]\n",
    "            idx1 = findfirst(alt .== alt1)\n",
    "            idx2 = findfirst(alt .== alt2)\n",
    "            Pᵒ[idx1, idx2] = dataset[i, 5]\n",
    "            Pᵒ[idx2, idx1] = 1 - Pᵒ[idx1, idx2]\n",
    "            DTᵒ[idx1, idx2] = dataset[i, 8]\n",
    "            DTᵒ[idx2, idx1] = DTᵒ[idx1, idx2]\n",
    "        end\n",
    "\n",
    "        if mask[i,3]\n",
    "            alt1 = dataset[i,1]\n",
    "            alt2 = dataset[i,3]\n",
    "            idx1 = findfirst(alt .== alt1)\n",
    "            idx2 = findfirst(alt .== alt2)\n",
    "            Pᵒ[idx1, idx2] = dataset[i, 6]\n",
    "            Pᵒ[idx2, idx1] = 1 - Pᵒ[idx1, idx2]\n",
    "            DTᵒ[idx1, idx2] = dataset[i, 9]\n",
    "            DTᵒ[idx2, idx1] = DTᵒ[idx1, idx2]\n",
    "        end\n",
    "    end\n",
    "    return Pᵒ,DTᵒ\n",
    "end"
   ]
  },
  {
   "cell_type": "code",
   "execution_count": 4,
   "id": "infinite-sacramento",
   "metadata": {},
   "outputs": [
    {
     "data": {
      "text/plain": [
       "DT_tilde (generic function with 2 methods)"
      ]
     },
     "execution_count": 4,
     "metadata": {},
     "output_type": "execute_result"
    }
   ],
   "source": [
    "# Analysis functions\n",
    "\n",
    "#find which alternatives are actually compared to \"a\" in the experiment\n",
    "function getComp(a::Int64, obs::Matrix{Float64}) \n",
    "    choice_set = collect(1:size(obs)[1])\n",
    "    (sum(abs.(obs[a,:])) == Inf) && return choice_set[abs.(obs[a,:]) .!= Inf]      #observable is l or DT\n",
    "    (obs[a,a] == 0.5) && return choice_set[obs[a,:] .!= 0.0]                       #observable is P - ALWAYS USE THIS FOR COMPLETE DATASETS!!!!\n",
    "    return choice_set\n",
    "end\n",
    "\n",
    "\n",
    "function get_l(P::Matrix{Float64})\n",
    "    l = log.(P ./ (1 .- P))\n",
    "    return l\n",
    "end\n",
    "\n",
    "#l\n",
    "function l_tilde(a::Int64, b::Int64, l::Matrix{Float64}, obs::Matrix{Float64})\n",
    "    C_a = getComp(a, obs)\n",
    "    C_b = getComp(b, obs)\n",
    "    C = intersect(Set(C_a), Set(C_b))\n",
    "    l̃ = 0\n",
    "    N = length(C)\n",
    "    N == 0 && return (false, -Inf) #a and b are not connected in the transitive comparison graph\n",
    "    for c in C\n",
    "        l̃ += (l[a,c] + l[c,b])\n",
    "    end\n",
    "    return (true, l̃/N)\n",
    "end\n",
    "\n",
    "\n",
    "function l_tilde(l::Matrix{Float64}, obs::Matrix{Float64})\n",
    "    n = size(l)[1]\n",
    "    L̃ = -Inf .* ones(n,n)\n",
    "    for a in 1:n\n",
    "        @assert abs(l_tilde(a,a,l,obs)[2]) < 1e-7 \n",
    "        L̃[a,a] = 0.0\n",
    "        for b in (a+1):n\n",
    "            conn, l̃ = l_tilde(a,b,l,obs)\n",
    "            if !conn\n",
    "                L̃[a,b] = L̃[b,a] = -Inf\n",
    "            else\n",
    "                L̃[a,b] = l̃\n",
    "                L̃[b,a] = -l̃\n",
    "            end\n",
    "        end\n",
    "    end\n",
    "    conn = (L̃ .> -Inf)  #if l̃[a,b] is -Inf, it means that a and b are not neighbors\n",
    "    return L̃, conn\n",
    "end\n",
    "\n",
    "# DT\n",
    "function DT_tilde(a::Int64, b::Int64, l::Matrix{Float64}, DT::Matrix{Float64})\n",
    "    A_l = (l .> -Inf)    #i.e. conn (in the l-step, not in the DT-step)\n",
    "    A_dt = (DT .< Inf)\n",
    "    @assert (A_l .& A_dt) == A_dt    #i.e. A_dt <= A_l\n",
    "    n = size(A_l)[1]\n",
    "    !A_l[a,b] && return Inf\n",
    "    a == b && return 0.0  #impose diagonal, think more about it later\n",
    "    \n",
    "    R = abs(l[a,b]) * (exp(abs(l[a,b])) + 1) / (exp(abs(l[a,b])) - 1)\n",
    "    res = 0.0\n",
    "    for c in 1:n\n",
    "        for d in (c+1):n\n",
    "            if A_dt[c,d]\n",
    "                k = abs(l[c,d])\n",
    "                r = k * (exp(k) + 1) / (exp(k) - 1)\n",
    "                res += DT[c,d] * r\n",
    "            end\n",
    "        end\n",
    "    end\n",
    "    return res / (R * (sum(A_dt) - n) / 2)\n",
    "end\n",
    "\n",
    "function DT_tilde(l::Matrix{Float64}, DT::Matrix{Float64})\n",
    "    n = size(DT)[1]\n",
    "    DT_t = Inf .* ones(n,n)\n",
    "    for a in 1:n\n",
    "        for b in a:n\n",
    "            DT_t[a,b] = DT_tilde(a,b,l,DT)\n",
    "            DT_t[b,a] = DT_t[a,b]\n",
    "        end\n",
    "    end\n",
    "    return DT_t\n",
    "end"
   ]
  },
  {
   "cell_type": "markdown",
   "id": "suburban-gallery",
   "metadata": {},
   "source": [
    "**Caveat with l_tilde compared to Shevlin et al: I had to base getComp() on the P observable instead of the l observable, this should be debugged more.**"
   ]
  },
  {
   "cell_type": "code",
   "execution_count": 5,
   "id": "ancient-austin",
   "metadata": {},
   "outputs": [
    {
     "data": {
      "text/plain": [
       "DT_tilde_comp (generic function with 1 method)"
      ]
     },
     "execution_count": 5,
     "metadata": {},
     "output_type": "execute_result"
    }
   ],
   "source": [
    "# smoothing functions for complete datasets\n",
    "\n",
    "function l_tilde_comp(l::Matrix{Float64})\n",
    "    n = size(l)[1]\n",
    "    l_til = -Inf .* ones(n,n)\n",
    "    \n",
    "    for a in 1:n\n",
    "        for b in a:n\n",
    "            l_til[a,b] = 0.0\n",
    "            \n",
    "            (a == b) && (abs(sum(l[a,:] + l[:,a])) < 1e-7) && continue\n",
    "            \n",
    "            for c in 1:n\n",
    "                l_til[a,b] += (l[a,c] + l[c,b]) \n",
    "            end\n",
    "            l_til[a,b] /= n\n",
    "            l_til[b,a] = -l_til[a,b]\n",
    "        end\n",
    "    end\n",
    "    return l_til\n",
    "end\n",
    "\n",
    "function DT_tilde_comp(l::Matrix{Float64}, DT::Matrix{Float64})\n",
    "    n = size(DT)[1]\n",
    "    DT_til = Inf .* ones(n,n)\n",
    "    for a in 1:n\n",
    "        for b in a:n\n",
    "            R = abs(l[a,b]) * (exp(abs(l[a,b])) + 1) / (exp(abs(l[a,b])) - 1)\n",
    "            DT_til[a,b] = 0.0\n",
    "            (a == b) && continue\n",
    "            for c in 1:n\n",
    "                for d in (c+1):n \n",
    "                    k = abs(l[c,d])\n",
    "                    DT_til[a,b] += DT[c,d] * k * (exp(k) + 1) / (exp(k) - 1)\n",
    "                end\n",
    "            end\n",
    "            DT_til[a,b] /= (R*n*(n-1)/2)\n",
    "            DT_til[b,a] = DT_til[a,b]\n",
    "        end\n",
    "    end\n",
    "    return DT_til\n",
    "end"
   ]
  },
  {
   "cell_type": "code",
   "execution_count": 6,
   "id": "confused-december",
   "metadata": {},
   "outputs": [
    {
     "data": {
      "text/plain": [
       "wavelet (generic function with 2 methods)"
      ]
     },
     "execution_count": 6,
     "metadata": {},
     "output_type": "execute_result"
    }
   ],
   "source": [
    "#Wavelet\n",
    "\n",
    "function wavelet(l::Matrix{Float64}, DT::Matrix{Float64}, new::Bool = true)\n",
    "    @assert size(l)[1] == size(l)[2] == size(DT)[1] == size(DT)[2]\n",
    "    n = size(l)[1]\n",
    "    conn = (l .> -Inf)\n",
    "    @assert conn == (DT .< Inf)\n",
    "    \n",
    "    if new\n",
    "        k = abs(l[1,2])\n",
    "        λ = DT[1,2] * k * (exp(k) + 1) / (exp(k) - 1)\n",
    "    else\n",
    "        λ = 0\n",
    "        edges = (sum(conn) - n) / 2\n",
    "        for a in 1:n\n",
    "            for b in (a+1):n\n",
    "                if conn[a,b]\n",
    "                    k = abs(l[a,b])\n",
    "                    λ += DT[a,b] * k * (exp(k) + 1) / (exp(k) - 1)\n",
    "                end\n",
    "            end\n",
    "        end\n",
    "        λ /= edges\n",
    "    end\n",
    "    \n",
    "    return (sqrt(λ), l/sqrt(λ))\n",
    "end\n",
    "\n",
    "# function wavelet(l::Matrix{Float64}, DT::Matrix{Float64}, a::Int64=1, b::Int64=1)\n",
    "#     @assert size(l)[1] == size(l)[2] == size(DT)[1] == size(DT)[2]\n",
    "#     n = size(l)[1]\n",
    "#     conn = (l .> -Inf)\n",
    "#     @assert conn == (DT .< Inf)\n",
    "    \n",
    "#     k = abs(l[a,b])\n",
    "#     λ = DT[a,b] * k * (exp(k) + 1) / (exp(k) - 1)\n",
    "\n",
    "#     return (sqrt(λ), l/sqrt(λ))\n",
    "# end\n",
    "\n",
    "# #this needs to be fixed...\n",
    "# function wavelet(P::Matrix{Float64}, DT::Matrix{Float64}, mask::BitArray{2})\n",
    "#     @assert size(P)[1] == size(P)[2] == size(DT)[1] == size(DT)[2]\n",
    "#     n = size(P)[1]\n",
    "#     l = log.(P ./ (1 .- P))\n",
    "#     l[diagind(l)] .= 0\n",
    "#     l̃, conn = l_tilde(l, P)\n",
    "#     λ = 0\n",
    "#     edges = sum(conn)/2\n",
    "#     @assert issymmetric(conn)\n",
    "#     for a in 1:n\n",
    "#         for b in (a+1):n\n",
    "#             if conn[a,b] && mask[a,b]\n",
    "#                 λ += DT[a,b] * abs(l̃[a,b]) * (exp(abs(l̃[a,b])) + 1) / (exp(abs(l̃[a,b])) - 1)\n",
    "#             end\n",
    "#         end\n",
    "#     end\n",
    "#     λ /= edges\n",
    "#     return (sqrt(λ), l̃/sqrt(λ))\n",
    "# end"
   ]
  },
  {
   "cell_type": "code",
   "execution_count": 7,
   "id": "returning-motorcycle",
   "metadata": {},
   "outputs": [
    {
     "data": {
      "text/plain": [
       "P_DDM (generic function with 2 methods)"
      ]
     },
     "execution_count": 7,
     "metadata": {},
     "output_type": "execute_result"
    }
   ],
   "source": [
    "#DDM\n",
    "DT_DDM(λ::Float64, udiff::Matrix{Float64}) = λ .* tanh.(λ .* udiff ./ 2) ./ udiff\n",
    "DT_DDM(λ::Float64, udiff::Vector{Float64}) = λ .* tanh.(λ .* udiff ./ 2) ./ udiff\n",
    "P_DDM(λ::Float64, udiff::Matrix{Float64}) = 1 ./ (1 .+ exp.(-λ.*udiff))\n",
    "P_DDM(λ::Float64, udiff::Vector{Float64}) = 1 ./ (1 .+ exp.(-λ.*udiff))"
   ]
  },
  {
   "cell_type": "code",
   "execution_count": 79,
   "id": "thermal-residence",
   "metadata": {},
   "outputs": [
    {
     "data": {
      "text/plain": [
       "plot_DT (generic function with 3 methods)"
      ]
     },
     "execution_count": 79,
     "metadata": {},
     "output_type": "execute_result"
    }
   ],
   "source": [
    "#visualization\n",
    "\n",
    "function plot_obs(obs::Matrix{Float64}, lam::Float64, udiff::Matrix{Float64})\n",
    "    n = size(obs)[1]\n",
    "    v = lam .* udiff\n",
    "    idx = (obs .!= 0.0)\n",
    "    y = obs[idx]\n",
    "    x = v[idx]\n",
    "    scatter(x,y)\n",
    "end\n",
    "\n",
    "function plot_obs(obs::Matrix{Float64}, v::Matrix{Float64})\n",
    "    n = size(obs)[1]\n",
    "    idx = (obs .!= 0.0)\n",
    "    y = obs[idx]\n",
    "    x = v[idx]\n",
    "    scatter(x,y)\n",
    "end\n",
    "\n",
    "function plot_P(P::Matrix{Float64}, lam::Float64, udiff::Matrix{Float64}, save::Bool=false, filename=\"P_plot_shevlin\")\n",
    "    n = size(P)[1]\n",
    "    v = udiff\n",
    "    idx = (P .!= 0.0) .& (P .!= 0.5) .& (v .> 0)\n",
    "    x = v[idx]\n",
    "    y = P[idx]\n",
    "    \n",
    "    u = udiff[idx]\n",
    "    grid = minimum(u) .+ (maximum(u) - minimum(u)) .* collect(1:1000) ./ 1000\n",
    "    P_th = P_DDM(lam, grid)\n",
    "    \n",
    "    fig = scatter(x, y, label = \"observed choice freq.\", title=\"Wavelet estimator and empirical data (P)\", legend=:topleft, dpi=500)\n",
    "    plot!(grid, P_th, label = \"elicited DDM\")\n",
    "    xlabel!(\"Δu (elicited)\")\n",
    "    ylabel!(\"P(a,b)\")\n",
    "  \n",
    "    save && savefig(fig, filename)\n",
    "    display(fig)\n",
    "end\n",
    "\n",
    "function plot_P(P::Matrix{Float64}, lam::Tuple{Float64}, udiff::Tuple{Matrix{Float64}}, save::Bool=false, filename=\"P_plot_shevlin\")\n",
    "n = size(P)[1]\n",
    "    v = udiff\n",
    "    idx = (P .!= 0.0) .& (P .!= 0.5) .& (v .> 0)\n",
    "    x = v[idx]\n",
    "    y = P[idx]\n",
    "    \n",
    "    u = udiff[idx]\n",
    "    grid = minimum(u) .+ (maximum(u) - minimum(u)) .* collect(1:1000) ./ 1000\n",
    "    P_th = P_DDM(lam, grid)\n",
    "    \n",
    "    fig = scatter(x, y, label = \"observed choice freq.\", title=\"Wavelet estimator and empirical data (P)\", legend=:topleft, dpi=500)\n",
    "    plot!(grid, P_th, label = \"elicited DDM\")\n",
    "    xlabel!(\"Δu (elicited)\")\n",
    "    ylabel!(\"P(a,b)\")\n",
    "  \n",
    "    save && savefig(fig, filename)\n",
    "    display(fig)\n",
    "end\n",
    "\n",
    "\n",
    "function plot_DT(DT::Matrix{Float64}, lam::Float64, udiff::Matrix{Float64}, save::Bool=false, filename=\"DT_plot_shevlin\")\n",
    "    n = size(DT)[1]\n",
    "    v = udiff\n",
    "    idx = (DT .< Inf) .& (DT .!= 0) .& (v .> 0)\n",
    "    x = v[idx]\n",
    "    y = DT[idx]\n",
    "    \n",
    "    u = udiff[idx]\n",
    "    grid = minimum(u) .+ (maximum(u) - minimum(u)) .* collect(1:1000) ./ 1000\n",
    "    DT_th = DT_DDM(lam, grid)\n",
    "    \n",
    "    fig = scatter(x, y, label = \"observed mean DT\", title=\"Wavelet estimator and empirical data (DT)\", dpi=500)\n",
    "    plot!(grid, DT_th, label = \"elicited DDM\") \n",
    "    xlabel!(\"Δu (elicited)\")\n",
    "    ylabel!(\"DT(a,b)\")\n",
    "    save && savefig(fig, filename)\n",
    "    display(fig)\n",
    "end"
   ]
  },
  {
   "cell_type": "markdown",
   "id": "distinct-directory",
   "metadata": {},
   "source": [
    "---"
   ]
  },
  {
   "cell_type": "markdown",
   "id": "elementary-enzyme",
   "metadata": {},
   "source": [
    "## Analysis"
   ]
  },
  {
   "cell_type": "code",
   "execution_count": 80,
   "id": "spanish-lingerie",
   "metadata": {},
   "outputs": [],
   "source": [
    "dataset1 = CSV.read(\"Datasets/CavanaghDataset.csv\", DataFrame)\n",
    "dataset1 = Matrix(dataset1);"
   ]
  },
  {
   "cell_type": "code",
   "execution_count": 81,
   "id": "ongoing-chocolate",
   "metadata": {},
   "outputs": [],
   "source": [
    "P_c, DT_c = extract_P_DT(dataset1)\n",
    "P_c[diagind(P_c)] .= 0.5;"
   ]
  },
  {
   "cell_type": "code",
   "execution_count": 82,
   "id": "musical-fitting",
   "metadata": {},
   "outputs": [
    {
     "data": {
      "text/plain": [
       "6×6 Matrix{Float64}:\n",
       " 0.5       0.362179  0.261981  0.106109  0.083871  0.0573248\n",
       " 0.637821  0.5       0.434505  0.125807  0.163462  0.115756\n",
       " 0.738019  0.565495  0.5       0.23301   0.140575  0.153846\n",
       " 0.893891  0.874193  0.76699   0.5       0.506536  0.325806\n",
       " 0.916129  0.836538  0.859425  0.493464  0.5       0.351613\n",
       " 0.942675  0.884244  0.846154  0.674194  0.648387  0.5"
      ]
     },
     "execution_count": 82,
     "metadata": {},
     "output_type": "execute_result"
    }
   ],
   "source": [
    "P_c"
   ]
  },
  {
   "cell_type": "code",
   "execution_count": 83,
   "id": "smoking-province",
   "metadata": {},
   "outputs": [
    {
     "data": {
      "text/plain": [
       "6×6 Matrix{Float64}:\n",
       "    0.0    1286.85  1285.75   981.942  1044.13   929.42\n",
       " 1286.85      0.0   1334.77  1086.93   1129.05  1055.03\n",
       " 1285.75   1334.77     0.0   1168.58   1195.47  1041.3\n",
       "  981.942  1086.93  1168.58     0.0    1128.91  1057.22\n",
       " 1044.13   1129.05  1195.47  1128.91      0.0   1047.59\n",
       "  929.42   1055.03  1041.3   1057.22   1047.59     0.0"
      ]
     },
     "execution_count": 83,
     "metadata": {},
     "output_type": "execute_result"
    }
   ],
   "source": [
    "DT_c"
   ]
  },
  {
   "cell_type": "code",
   "execution_count": 84,
   "id": "broad-drunk",
   "metadata": {
    "scrolled": false
   },
   "outputs": [
    {
     "data": {
      "text/plain": [
       "6×6 Matrix{Float64}:\n",
       " 0.0       -0.565917  -1.0357    -2.13111    -2.39088    -2.79999\n",
       " 0.565917   0.0       -0.263495  -1.93856    -1.6327     -2.03325\n",
       " 1.0357     0.263495   0.0       -1.19139    -1.81052    -1.70475\n",
       " 2.13111    1.93856    1.19139    0.0         0.0261451  -0.727214\n",
       " 2.39088    1.6327     1.81052   -0.0261451   0.0        -0.611957\n",
       " 2.79999    2.03325    1.70475    0.727214    0.611957    0.0"
      ]
     },
     "execution_count": 84,
     "metadata": {},
     "output_type": "execute_result"
    }
   ],
   "source": [
    "l = get_l(P_c)"
   ]
  },
  {
   "cell_type": "code",
   "execution_count": 85,
   "id": "green-matthew",
   "metadata": {
    "scrolled": true
   },
   "outputs": [
    {
     "data": {
      "text/plain": [
       "3.3861802251067274e-15"
      ]
     },
     "execution_count": 85,
     "metadata": {},
     "output_type": "execute_result"
    }
   ],
   "source": [
    "l_til = l_tilde(l, P_c)[1]\n",
    "l_til2 = l_tilde(l_til, P_c)[1]\n",
    "\n",
    "l_diff = abs.(l_til2 - l_til)\n",
    "sum(l_diff[.!isnan.(l_diff)])"
   ]
  },
  {
   "cell_type": "code",
   "execution_count": 86,
   "id": "abroad-virginia",
   "metadata": {},
   "outputs": [
    {
     "data": {
      "text/plain": [
       "3.3861802251067274e-15"
      ]
     },
     "execution_count": 86,
     "metadata": {},
     "output_type": "execute_result"
    }
   ],
   "source": [
    "sum(abs.(l_til - l_til2))"
   ]
  },
  {
   "cell_type": "markdown",
   "id": "colored-communication",
   "metadata": {},
   "source": [
    "The function for l_tilde in the incomplete case works just as the one for the complete case, good!"
   ]
  },
  {
   "cell_type": "code",
   "execution_count": 87,
   "id": "short-opportunity",
   "metadata": {},
   "outputs": [
    {
     "data": {
      "text/plain": [
       "6×6 Matrix{Float64}:\n",
       "    0.0    1286.51   1239.25   954.017   930.821   838.105\n",
       " 1286.51      0.0    1314.43  1090.26   1066.25    965.245\n",
       " 1239.25   1314.43      0.0   1159.72   1136.9    1036.43\n",
       "  954.017  1090.26   1159.72     0.0    1324.09   1292.57\n",
       "  930.821  1066.25   1136.9   1324.09      0.0    1303.71\n",
       "  838.105   965.245  1036.43  1292.57   1303.71      0.0"
      ]
     },
     "execution_count": 87,
     "metadata": {},
     "output_type": "execute_result"
    }
   ],
   "source": [
    "DT_til = DT_tilde(l_til, DT_c)"
   ]
  },
  {
   "cell_type": "code",
   "execution_count": 88,
   "id": "other-exchange",
   "metadata": {},
   "outputs": [
    {
     "data": {
      "text/plain": [
       "6×6 Matrix{Float64}:\n",
       "    0.0    1286.51   1239.25   954.017   930.821   838.105\n",
       " 1286.51      0.0    1314.43  1090.26   1066.25    965.245\n",
       " 1239.25   1314.43      0.0   1159.72   1136.9    1036.43\n",
       "  954.017  1090.26   1159.72     0.0    1324.09   1292.57\n",
       "  930.821  1066.25   1136.9   1324.09      0.0    1303.71\n",
       "  838.105   965.245  1036.43  1292.57   1303.71      0.0"
      ]
     },
     "execution_count": 88,
     "metadata": {},
     "output_type": "execute_result"
    }
   ],
   "source": [
    "DT_til1 = DT_tilde_comp(l_til, DT_c)"
   ]
  },
  {
   "cell_type": "code",
   "execution_count": 89,
   "id": "orange-graphics",
   "metadata": {},
   "outputs": [
    {
     "data": {
      "text/plain": [
       "5.6843418860808015e-12"
      ]
     },
     "execution_count": 89,
     "metadata": {},
     "output_type": "execute_result"
    }
   ],
   "source": [
    "sum(abs.(DT_til - DT_til1))"
   ]
  },
  {
   "cell_type": "code",
   "execution_count": 90,
   "id": "blank-freight",
   "metadata": {},
   "outputs": [
    {
     "data": {
      "text/plain": [
       "(51.48454121648704, [0.0 -0.011723626006055367 … -0.045708176244739766 -0.054387698670204494; 0.011723626006055367 0.0 … -0.0339845502386844 -0.042664072664149115; … ; 0.045708176244739766 0.0339845502386844 … 0.0 -0.008679522425464721; 0.054387698670204494 0.042664072664149115 … 0.008679522425464721 0.0])"
      ]
     },
     "execution_count": 90,
     "metadata": {},
     "output_type": "execute_result"
    }
   ],
   "source": [
    "λ, udiff = wavelet(l_til, DT_til)"
   ]
  },
  {
   "cell_type": "markdown",
   "id": "acting-variation",
   "metadata": {},
   "source": [
    "## Visualization"
   ]
  },
  {
   "cell_type": "markdown",
   "id": "diverse-lottery",
   "metadata": {},
   "source": [
    "To understand how well the Wavelet estimator fits the data, we need to plot it. In particular, we need to plot P and DT as a function of $\\lambda \\Delta u$"
   ]
  },
  {
   "cell_type": "markdown",
   "id": "fiscal-cliff",
   "metadata": {},
   "source": [
    "A note on masking on Julia:\n",
    "\n",
    "Whenever matrices arrays are flattened, the resulting vector is filled column-wise (first column, second column, ..., last column). \n",
    "\n",
    "If M = [**a b ... n**], then vec(M) = [**a**\\*, **b**\\*, ..., **n**\\*]"
   ]
  },
  {
   "cell_type": "code",
   "execution_count": 91,
   "id": "threaded-nothing",
   "metadata": {},
   "outputs": [
    {
     "data": {
      "image/svg+xml": [
       "<?xml version=\"1.0\" encoding=\"utf-8\"?>\n",
       "<svg xmlns=\"http://www.w3.org/2000/svg\" xmlns:xlink=\"http://www.w3.org/1999/xlink\" width=\"600\" height=\"400\" viewBox=\"0 0 2400 1600\">\n",
       "<defs>\n",
       "  <clipPath id=\"clip950\">\n",
       "    <rect x=\"0\" y=\"0\" width=\"2400\" height=\"1600\"/>\n",
       "  </clipPath>\n",
       "</defs>\n",
       "<path clip-path=\"url(#clip950)\" d=\"\n",
       "M0 1600 L2400 1600 L2400 0 L0 0  Z\n",
       "  \" fill=\"#ffffff\" fill-rule=\"evenodd\" fill-opacity=\"1\"/>\n",
       "<defs>\n",
       "  <clipPath id=\"clip951\">\n",
       "    <rect x=\"480\" y=\"0\" width=\"1681\" height=\"1600\"/>\n",
       "  </clipPath>\n",
       "</defs>\n",
       "<path clip-path=\"url(#clip950)\" d=\"\n",
       "M219.542 1423.18 L2352.76 1423.18 L2352.76 123.472 L219.542 123.472  Z\n",
       "  \" fill=\"#ffffff\" fill-rule=\"evenodd\" fill-opacity=\"1\"/>\n",
       "<defs>\n",
       "  <clipPath id=\"clip952\">\n",
       "    <rect x=\"219\" y=\"123\" width=\"2134\" height=\"1301\"/>\n",
       "  </clipPath>\n",
       "</defs>\n",
       "<polyline clip-path=\"url(#clip952)\" style=\"stroke:#000000; stroke-linecap:butt; stroke-linejoin:round; stroke-width:2; stroke-opacity:0.1; fill:none\" points=\"\n",
       "  585.317,1423.18 585.317,123.472 \n",
       "  \"/>\n",
       "<polyline clip-path=\"url(#clip952)\" style=\"stroke:#000000; stroke-linecap:butt; stroke-linejoin:round; stroke-width:2; stroke-opacity:0.1; fill:none\" points=\"\n",
       "  969.898,1423.18 969.898,123.472 \n",
       "  \"/>\n",
       "<polyline clip-path=\"url(#clip952)\" style=\"stroke:#000000; stroke-linecap:butt; stroke-linejoin:round; stroke-width:2; stroke-opacity:0.1; fill:none\" points=\"\n",
       "  1354.48,1423.18 1354.48,123.472 \n",
       "  \"/>\n",
       "<polyline clip-path=\"url(#clip952)\" style=\"stroke:#000000; stroke-linecap:butt; stroke-linejoin:round; stroke-width:2; stroke-opacity:0.1; fill:none\" points=\"\n",
       "  1739.06,1423.18 1739.06,123.472 \n",
       "  \"/>\n",
       "<polyline clip-path=\"url(#clip952)\" style=\"stroke:#000000; stroke-linecap:butt; stroke-linejoin:round; stroke-width:2; stroke-opacity:0.1; fill:none\" points=\"\n",
       "  2123.64,1423.18 2123.64,123.472 \n",
       "  \"/>\n",
       "<polyline clip-path=\"url(#clip950)\" style=\"stroke:#000000; stroke-linecap:butt; stroke-linejoin:round; stroke-width:4; stroke-opacity:1; fill:none\" points=\"\n",
       "  219.542,1423.18 2352.76,1423.18 \n",
       "  \"/>\n",
       "<polyline clip-path=\"url(#clip950)\" style=\"stroke:#000000; stroke-linecap:butt; stroke-linejoin:round; stroke-width:4; stroke-opacity:1; fill:none\" points=\"\n",
       "  585.317,1423.18 585.317,1404.28 \n",
       "  \"/>\n",
       "<polyline clip-path=\"url(#clip950)\" style=\"stroke:#000000; stroke-linecap:butt; stroke-linejoin:round; stroke-width:4; stroke-opacity:1; fill:none\" points=\"\n",
       "  969.898,1423.18 969.898,1404.28 \n",
       "  \"/>\n",
       "<polyline clip-path=\"url(#clip950)\" style=\"stroke:#000000; stroke-linecap:butt; stroke-linejoin:round; stroke-width:4; stroke-opacity:1; fill:none\" points=\"\n",
       "  1354.48,1423.18 1354.48,1404.28 \n",
       "  \"/>\n",
       "<polyline clip-path=\"url(#clip950)\" style=\"stroke:#000000; stroke-linecap:butt; stroke-linejoin:round; stroke-width:4; stroke-opacity:1; fill:none\" points=\"\n",
       "  1739.06,1423.18 1739.06,1404.28 \n",
       "  \"/>\n",
       "<polyline clip-path=\"url(#clip950)\" style=\"stroke:#000000; stroke-linecap:butt; stroke-linejoin:round; stroke-width:4; stroke-opacity:1; fill:none\" points=\"\n",
       "  2123.64,1423.18 2123.64,1404.28 \n",
       "  \"/>\n",
       "<path clip-path=\"url(#clip950)\" d=\"M548.234 1454.1 Q544.623 1454.1 542.794 1457.66 Q540.989 1461.2 540.989 1468.33 Q540.989 1475.44 542.794 1479.01 Q544.623 1482.55 548.234 1482.55 Q551.868 1482.55 553.674 1479.01 Q555.502 1475.44 555.502 1468.33 Q555.502 1461.2 553.674 1457.66 Q551.868 1454.1 548.234 1454.1 M548.234 1450.39 Q554.044 1450.39 557.1 1455 Q560.178 1459.58 560.178 1468.33 Q560.178 1477.06 557.1 1481.67 Q554.044 1486.25 548.234 1486.25 Q542.424 1486.25 539.345 1481.67 Q536.29 1477.06 536.29 1468.33 Q536.29 1459.58 539.345 1455 Q542.424 1450.39 548.234 1450.39 Z\" fill=\"#000000\" fill-rule=\"evenodd\" fill-opacity=\"1\" /><path clip-path=\"url(#clip950)\" d=\"M568.396 1479.7 L573.28 1479.7 L573.28 1485.58 L568.396 1485.58 L568.396 1479.7 Z\" fill=\"#000000\" fill-rule=\"evenodd\" fill-opacity=\"1\" /><path clip-path=\"url(#clip950)\" d=\"M593.465 1454.1 Q589.854 1454.1 588.025 1457.66 Q586.22 1461.2 586.22 1468.33 Q586.22 1475.44 588.025 1479.01 Q589.854 1482.55 593.465 1482.55 Q597.099 1482.55 598.905 1479.01 Q600.734 1475.44 600.734 1468.33 Q600.734 1461.2 598.905 1457.66 Q597.099 1454.1 593.465 1454.1 M593.465 1450.39 Q599.275 1450.39 602.331 1455 Q605.41 1459.58 605.41 1468.33 Q605.41 1477.06 602.331 1481.67 Q599.275 1486.25 593.465 1486.25 Q587.655 1486.25 584.576 1481.67 Q581.521 1477.06 581.521 1468.33 Q581.521 1459.58 584.576 1455 Q587.655 1450.39 593.465 1450.39 Z\" fill=\"#000000\" fill-rule=\"evenodd\" fill-opacity=\"1\" /><path clip-path=\"url(#clip950)\" d=\"M614.437 1481.64 L622.076 1481.64 L622.076 1455.28 L613.766 1456.95 L613.766 1452.69 L622.03 1451.02 L626.706 1451.02 L626.706 1481.64 L634.345 1481.64 L634.345 1485.58 L614.437 1485.58 L614.437 1481.64 Z\" fill=\"#000000\" fill-rule=\"evenodd\" fill-opacity=\"1\" /><path clip-path=\"url(#clip950)\" d=\"M933 1454.1 Q929.389 1454.1 927.56 1457.66 Q925.754 1461.2 925.754 1468.33 Q925.754 1475.44 927.56 1479.01 Q929.389 1482.55 933 1482.55 Q936.634 1482.55 938.44 1479.01 Q940.268 1475.44 940.268 1468.33 Q940.268 1461.2 938.44 1457.66 Q936.634 1454.1 933 1454.1 M933 1450.39 Q938.81 1450.39 941.865 1455 Q944.944 1459.58 944.944 1468.33 Q944.944 1477.06 941.865 1481.67 Q938.81 1486.25 933 1486.25 Q927.19 1486.25 924.111 1481.67 Q921.055 1477.06 921.055 1468.33 Q921.055 1459.58 924.111 1455 Q927.19 1450.39 933 1450.39 Z\" fill=\"#000000\" fill-rule=\"evenodd\" fill-opacity=\"1\" /><path clip-path=\"url(#clip950)\" d=\"M953.162 1479.7 L958.046 1479.7 L958.046 1485.58 L953.162 1485.58 L953.162 1479.7 Z\" fill=\"#000000\" fill-rule=\"evenodd\" fill-opacity=\"1\" /><path clip-path=\"url(#clip950)\" d=\"M978.231 1454.1 Q974.62 1454.1 972.791 1457.66 Q970.986 1461.2 970.986 1468.33 Q970.986 1475.44 972.791 1479.01 Q974.62 1482.55 978.231 1482.55 Q981.865 1482.55 983.671 1479.01 Q985.5 1475.44 985.5 1468.33 Q985.5 1461.2 983.671 1457.66 Q981.865 1454.1 978.231 1454.1 M978.231 1450.39 Q984.041 1450.39 987.097 1455 Q990.175 1459.58 990.175 1468.33 Q990.175 1477.06 987.097 1481.67 Q984.041 1486.25 978.231 1486.25 Q972.421 1486.25 969.342 1481.67 Q966.287 1477.06 966.287 1468.33 Q966.287 1459.58 969.342 1455 Q972.421 1450.39 978.231 1450.39 Z\" fill=\"#000000\" fill-rule=\"evenodd\" fill-opacity=\"1\" /><path clip-path=\"url(#clip950)\" d=\"M1002.42 1481.64 L1018.74 1481.64 L1018.74 1485.58 L996.796 1485.58 L996.796 1481.64 Q999.458 1478.89 1004.04 1474.26 Q1008.65 1469.61 1009.83 1468.27 Q1012.07 1465.74 1012.95 1464.01 Q1013.86 1462.25 1013.86 1460.56 Q1013.86 1457.8 1011.91 1456.07 Q1009.99 1454.33 1006.89 1454.33 Q1004.69 1454.33 1002.24 1455.09 Q999.805 1455.86 997.027 1457.41 L997.027 1452.69 Q999.851 1451.55 1002.3 1450.97 Q1004.76 1450.39 1006.8 1450.39 Q1012.17 1450.39 1015.36 1453.08 Q1018.55 1455.77 1018.55 1460.26 Q1018.55 1462.39 1017.74 1464.31 Q1016.96 1466.2 1014.85 1468.8 Q1014.27 1469.47 1011.17 1472.69 Q1008.07 1475.88 1002.42 1481.64 Z\" fill=\"#000000\" fill-rule=\"evenodd\" fill-opacity=\"1\" /><path clip-path=\"url(#clip950)\" d=\"M1317.11 1454.1 Q1313.49 1454.1 1311.67 1457.66 Q1309.86 1461.2 1309.86 1468.33 Q1309.86 1475.44 1311.67 1479.01 Q1313.49 1482.55 1317.11 1482.55 Q1320.74 1482.55 1322.55 1479.01 Q1324.37 1475.44 1324.37 1468.33 Q1324.37 1461.2 1322.55 1457.66 Q1320.74 1454.1 1317.11 1454.1 M1317.11 1450.39 Q1322.92 1450.39 1325.97 1455 Q1329.05 1459.58 1329.05 1468.33 Q1329.05 1477.06 1325.97 1481.67 Q1322.92 1486.25 1317.11 1486.25 Q1311.3 1486.25 1308.22 1481.67 Q1305.16 1477.06 1305.16 1468.33 Q1305.16 1459.58 1308.22 1455 Q1311.3 1450.39 1317.11 1450.39 Z\" fill=\"#000000\" fill-rule=\"evenodd\" fill-opacity=\"1\" /><path clip-path=\"url(#clip950)\" d=\"M1337.27 1479.7 L1342.15 1479.7 L1342.15 1485.58 L1337.27 1485.58 L1337.27 1479.7 Z\" fill=\"#000000\" fill-rule=\"evenodd\" fill-opacity=\"1\" /><path clip-path=\"url(#clip950)\" d=\"M1362.34 1454.1 Q1358.73 1454.1 1356.9 1457.66 Q1355.09 1461.2 1355.09 1468.33 Q1355.09 1475.44 1356.9 1479.01 Q1358.73 1482.55 1362.34 1482.55 Q1365.97 1482.55 1367.78 1479.01 Q1369.61 1475.44 1369.61 1468.33 Q1369.61 1461.2 1367.78 1457.66 Q1365.97 1454.1 1362.34 1454.1 M1362.34 1450.39 Q1368.15 1450.39 1371.2 1455 Q1374.28 1459.58 1374.28 1468.33 Q1374.28 1477.06 1371.2 1481.67 Q1368.15 1486.25 1362.34 1486.25 Q1356.53 1486.25 1353.45 1481.67 Q1350.39 1477.06 1350.39 1468.33 Q1350.39 1459.58 1353.45 1455 Q1356.53 1450.39 1362.34 1450.39 Z\" fill=\"#000000\" fill-rule=\"evenodd\" fill-opacity=\"1\" /><path clip-path=\"url(#clip950)\" d=\"M1396.67 1466.95 Q1400.02 1467.66 1401.9 1469.93 Q1403.8 1472.2 1403.8 1475.53 Q1403.8 1480.65 1400.28 1483.45 Q1396.76 1486.25 1390.28 1486.25 Q1388.1 1486.25 1385.79 1485.81 Q1383.49 1485.39 1381.04 1484.54 L1381.04 1480.02 Q1382.99 1481.16 1385.3 1481.74 Q1387.61 1482.32 1390.14 1482.32 Q1394.54 1482.32 1396.83 1480.58 Q1399.14 1478.84 1399.14 1475.53 Q1399.14 1472.48 1396.99 1470.77 Q1394.86 1469.03 1391.04 1469.03 L1387.01 1469.03 L1387.01 1465.19 L1391.23 1465.19 Q1394.67 1465.19 1396.5 1463.82 Q1398.33 1462.43 1398.33 1459.84 Q1398.33 1457.18 1396.43 1455.77 Q1394.56 1454.33 1391.04 1454.33 Q1389.12 1454.33 1386.92 1454.75 Q1384.72 1455.16 1382.08 1456.04 L1382.08 1451.88 Q1384.74 1451.14 1387.06 1450.77 Q1389.4 1450.39 1391.46 1450.39 Q1396.78 1450.39 1399.88 1452.83 Q1402.99 1455.23 1402.99 1459.35 Q1402.99 1462.22 1401.34 1464.21 Q1399.7 1466.18 1396.67 1466.95 Z\" fill=\"#000000\" fill-rule=\"evenodd\" fill-opacity=\"1\" /><path clip-path=\"url(#clip950)\" d=\"M1701.12 1454.1 Q1697.51 1454.1 1695.68 1457.66 Q1693.87 1461.2 1693.87 1468.33 Q1693.87 1475.44 1695.68 1479.01 Q1697.51 1482.55 1701.12 1482.55 Q1704.75 1482.55 1706.56 1479.01 Q1708.39 1475.44 1708.39 1468.33 Q1708.39 1461.2 1706.56 1457.66 Q1704.75 1454.1 1701.12 1454.1 M1701.12 1450.39 Q1706.93 1450.39 1709.99 1455 Q1713.06 1459.58 1713.06 1468.33 Q1713.06 1477.06 1709.99 1481.67 Q1706.93 1486.25 1701.12 1486.25 Q1695.31 1486.25 1692.23 1481.67 Q1689.17 1477.06 1689.17 1468.33 Q1689.17 1459.58 1692.23 1455 Q1695.31 1450.39 1701.12 1450.39 Z\" fill=\"#000000\" fill-rule=\"evenodd\" fill-opacity=\"1\" /><path clip-path=\"url(#clip950)\" d=\"M1721.28 1479.7 L1726.17 1479.7 L1726.17 1485.58 L1721.28 1485.58 L1721.28 1479.7 Z\" fill=\"#000000\" fill-rule=\"evenodd\" fill-opacity=\"1\" /><path clip-path=\"url(#clip950)\" d=\"M1746.35 1454.1 Q1742.74 1454.1 1740.91 1457.66 Q1739.11 1461.2 1739.11 1468.33 Q1739.11 1475.44 1740.91 1479.01 Q1742.74 1482.55 1746.35 1482.55 Q1749.98 1482.55 1751.79 1479.01 Q1753.62 1475.44 1753.62 1468.33 Q1753.62 1461.2 1751.79 1457.66 Q1749.98 1454.1 1746.35 1454.1 M1746.35 1450.39 Q1752.16 1450.39 1755.22 1455 Q1758.29 1459.58 1758.29 1468.33 Q1758.29 1477.06 1755.22 1481.67 Q1752.16 1486.25 1746.35 1486.25 Q1740.54 1486.25 1737.46 1481.67 Q1734.41 1477.06 1734.41 1468.33 Q1734.41 1459.58 1737.46 1455 Q1740.54 1450.39 1746.35 1450.39 Z\" fill=\"#000000\" fill-rule=\"evenodd\" fill-opacity=\"1\" /><path clip-path=\"url(#clip950)\" d=\"M1779.36 1455.09 L1767.55 1473.54 L1779.36 1473.54 L1779.36 1455.09 M1778.13 1451.02 L1784.01 1451.02 L1784.01 1473.54 L1788.94 1473.54 L1788.94 1477.43 L1784.01 1477.43 L1784.01 1485.58 L1779.36 1485.58 L1779.36 1477.43 L1763.76 1477.43 L1763.76 1472.92 L1778.13 1451.02 Z\" fill=\"#000000\" fill-rule=\"evenodd\" fill-opacity=\"1\" /><path clip-path=\"url(#clip950)\" d=\"M2086.44 1454.1 Q2082.83 1454.1 2081 1457.66 Q2079.2 1461.2 2079.2 1468.33 Q2079.2 1475.44 2081 1479.01 Q2082.83 1482.55 2086.44 1482.55 Q2090.07 1482.55 2091.88 1479.01 Q2093.71 1475.44 2093.71 1468.33 Q2093.71 1461.2 2091.88 1457.66 Q2090.07 1454.1 2086.44 1454.1 M2086.44 1450.39 Q2092.25 1450.39 2095.31 1455 Q2098.39 1459.58 2098.39 1468.33 Q2098.39 1477.06 2095.31 1481.67 Q2092.25 1486.25 2086.44 1486.25 Q2080.63 1486.25 2077.55 1481.67 Q2074.5 1477.06 2074.5 1468.33 Q2074.5 1459.58 2077.55 1455 Q2080.63 1450.39 2086.44 1450.39 Z\" fill=\"#000000\" fill-rule=\"evenodd\" fill-opacity=\"1\" /><path clip-path=\"url(#clip950)\" d=\"M2106.6 1479.7 L2111.49 1479.7 L2111.49 1485.58 L2106.6 1485.58 L2106.6 1479.7 Z\" fill=\"#000000\" fill-rule=\"evenodd\" fill-opacity=\"1\" /><path clip-path=\"url(#clip950)\" d=\"M2131.67 1454.1 Q2128.06 1454.1 2126.23 1457.66 Q2124.43 1461.2 2124.43 1468.33 Q2124.43 1475.44 2126.23 1479.01 Q2128.06 1482.55 2131.67 1482.55 Q2135.31 1482.55 2137.11 1479.01 Q2138.94 1475.44 2138.94 1468.33 Q2138.94 1461.2 2137.11 1457.66 Q2135.31 1454.1 2131.67 1454.1 M2131.67 1450.39 Q2137.48 1450.39 2140.54 1455 Q2143.62 1459.58 2143.62 1468.33 Q2143.62 1477.06 2140.54 1481.67 Q2137.48 1486.25 2131.67 1486.25 Q2125.86 1486.25 2122.78 1481.67 Q2119.73 1477.06 2119.73 1468.33 Q2119.73 1459.58 2122.78 1455 Q2125.86 1450.39 2131.67 1450.39 Z\" fill=\"#000000\" fill-rule=\"evenodd\" fill-opacity=\"1\" /><path clip-path=\"url(#clip950)\" d=\"M2151.88 1451.02 L2170.24 1451.02 L2170.24 1454.96 L2156.16 1454.96 L2156.16 1463.43 Q2157.18 1463.08 2158.2 1462.92 Q2159.22 1462.73 2160.24 1462.73 Q2166.02 1462.73 2169.4 1465.9 Q2172.78 1469.08 2172.78 1474.49 Q2172.78 1480.07 2169.31 1483.17 Q2165.84 1486.25 2159.52 1486.25 Q2157.34 1486.25 2155.07 1485.88 Q2152.83 1485.51 2150.42 1484.77 L2150.42 1480.07 Q2152.51 1481.2 2154.73 1481.76 Q2156.95 1482.32 2159.43 1482.32 Q2163.43 1482.32 2165.77 1480.21 Q2168.11 1478.1 2168.11 1474.49 Q2168.11 1470.88 2165.77 1468.77 Q2163.43 1466.67 2159.43 1466.67 Q2157.55 1466.67 2155.68 1467.08 Q2153.82 1467.5 2151.88 1468.38 L2151.88 1451.02 Z\" fill=\"#000000\" fill-rule=\"evenodd\" fill-opacity=\"1\" /><path clip-path=\"url(#clip950)\" d=\"M1113.57 1526.86 L1100.53 1562.7 L1126.66 1562.7 L1113.57 1526.86 M1091.8 1568.04 L1109.95 1520.52 L1117.24 1520.52 L1135.35 1568.04 L1091.8 1568.04 Z\" fill=\"#000000\" fill-rule=\"evenodd\" fill-opacity=\"1\" /><path clip-path=\"url(#clip950)\" d=\"M1141.42 1553.98 L1141.42 1532.4 L1147.28 1532.4 L1147.28 1553.75 Q1147.28 1558.81 1149.25 1561.36 Q1151.23 1563.87 1155.17 1563.87 Q1159.92 1563.87 1162.65 1560.85 Q1165.42 1557.83 1165.42 1552.61 L1165.42 1532.4 L1171.28 1532.4 L1171.28 1568.04 L1165.42 1568.04 L1165.42 1562.57 Q1163.29 1565.82 1160.46 1567.41 Q1157.66 1568.97 1153.93 1568.97 Q1147.79 1568.97 1144.61 1565.15 Q1141.42 1561.33 1141.42 1553.98 M1156.16 1531.54 L1156.16 1531.54 Z\" fill=\"#000000\" fill-rule=\"evenodd\" fill-opacity=\"1\" /><path clip-path=\"url(#clip950)\" d=\"M1218.13 1518.58 Q1213.87 1525.9 1211.8 1533.06 Q1209.73 1540.23 1209.73 1547.58 Q1209.73 1554.93 1211.8 1562.16 Q1213.9 1569.35 1218.13 1576.64 L1213.04 1576.64 Q1208.26 1569.16 1205.88 1561.93 Q1203.52 1554.71 1203.52 1547.58 Q1203.52 1540.48 1205.88 1533.29 Q1208.23 1526.09 1213.04 1518.58 L1218.13 1518.58 Z\" fill=\"#000000\" fill-rule=\"evenodd\" fill-opacity=\"1\" /><path clip-path=\"url(#clip950)\" d=\"M1259.99 1548.76 L1259.99 1551.62 L1233.06 1551.62 Q1233.44 1557.67 1236.69 1560.85 Q1239.97 1564 1245.79 1564 Q1249.16 1564 1252.32 1563.17 Q1255.5 1562.35 1258.62 1560.69 L1258.62 1566.23 Q1255.47 1567.57 1252.16 1568.27 Q1248.85 1568.97 1245.44 1568.97 Q1236.91 1568.97 1231.91 1564 Q1226.95 1559.04 1226.95 1550.57 Q1226.95 1541.82 1231.66 1536.69 Q1236.4 1531.54 1244.42 1531.54 Q1251.62 1531.54 1255.78 1536.18 Q1259.99 1540.8 1259.99 1548.76 M1254.13 1547.04 Q1254.07 1542.23 1251.42 1539.37 Q1248.81 1536.5 1244.49 1536.5 Q1239.58 1536.5 1236.62 1539.27 Q1233.7 1542.04 1233.25 1547.07 L1254.13 1547.04 Z\" fill=\"#000000\" fill-rule=\"evenodd\" fill-opacity=\"1\" /><path clip-path=\"url(#clip950)\" d=\"M1269.6 1518.52 L1275.45 1518.52 L1275.45 1568.04 L1269.6 1568.04 L1269.6 1518.52 Z\" fill=\"#000000\" fill-rule=\"evenodd\" fill-opacity=\"1\" /><path clip-path=\"url(#clip950)\" d=\"M1287.71 1532.4 L1293.57 1532.4 L1293.57 1568.04 L1287.71 1568.04 L1287.71 1532.4 M1287.71 1518.52 L1293.57 1518.52 L1293.57 1525.93 L1287.71 1525.93 L1287.71 1518.52 Z\" fill=\"#000000\" fill-rule=\"evenodd\" fill-opacity=\"1\" /><path clip-path=\"url(#clip950)\" d=\"M1331.47 1533.76 L1331.47 1539.24 Q1328.99 1537.87 1326.48 1537.2 Q1323.99 1536.5 1321.45 1536.5 Q1315.75 1536.5 1312.6 1540.13 Q1309.45 1543.73 1309.45 1550.25 Q1309.45 1556.78 1312.6 1560.4 Q1315.75 1564 1321.45 1564 Q1323.99 1564 1326.48 1563.33 Q1328.99 1562.63 1331.47 1561.26 L1331.47 1566.68 Q1329.02 1567.82 1326.38 1568.39 Q1323.77 1568.97 1320.81 1568.97 Q1312.76 1568.97 1308.02 1563.91 Q1303.27 1558.85 1303.27 1550.25 Q1303.27 1541.53 1308.05 1536.53 Q1312.85 1531.54 1321.19 1531.54 Q1323.9 1531.54 1326.48 1532.11 Q1329.05 1532.65 1331.47 1533.76 Z\" fill=\"#000000\" fill-rule=\"evenodd\" fill-opacity=\"1\" /><path clip-path=\"url(#clip950)\" d=\"M1341.66 1532.4 L1347.51 1532.4 L1347.51 1568.04 L1341.66 1568.04 L1341.66 1532.4 M1341.66 1518.52 L1347.51 1518.52 L1347.51 1525.93 L1341.66 1525.93 L1341.66 1518.52 Z\" fill=\"#000000\" fill-rule=\"evenodd\" fill-opacity=\"1\" /><path clip-path=\"url(#clip950)\" d=\"M1365.56 1522.27 L1365.56 1532.4 L1377.62 1532.4 L1377.62 1536.95 L1365.56 1536.95 L1365.56 1556.3 Q1365.56 1560.66 1366.74 1561.9 Q1367.95 1563.14 1371.61 1563.14 L1377.62 1563.14 L1377.62 1568.04 L1371.61 1568.04 Q1364.83 1568.04 1362.25 1565.53 Q1359.67 1562.98 1359.67 1556.3 L1359.67 1536.95 L1355.38 1536.95 L1355.38 1532.4 L1359.67 1532.4 L1359.67 1522.27 L1365.56 1522.27 Z\" fill=\"#000000\" fill-rule=\"evenodd\" fill-opacity=\"1\" /><path clip-path=\"url(#clip950)\" d=\"M1415.82 1548.76 L1415.82 1551.62 L1388.89 1551.62 Q1389.27 1557.67 1392.52 1560.85 Q1395.8 1564 1401.62 1564 Q1405 1564 1408.15 1563.17 Q1411.33 1562.35 1414.45 1560.69 L1414.45 1566.23 Q1411.3 1567.57 1407.99 1568.27 Q1404.68 1568.97 1401.27 1568.97 Q1392.74 1568.97 1387.75 1564 Q1382.78 1559.04 1382.78 1550.57 Q1382.78 1541.82 1387.49 1536.69 Q1392.23 1531.54 1400.25 1531.54 Q1407.45 1531.54 1411.62 1536.18 Q1415.82 1540.8 1415.82 1548.76 M1409.96 1547.04 Q1409.9 1542.23 1407.26 1539.37 Q1404.65 1536.5 1400.32 1536.5 Q1395.42 1536.5 1392.46 1539.27 Q1389.53 1542.04 1389.08 1547.07 L1409.96 1547.04 Z\" fill=\"#000000\" fill-rule=\"evenodd\" fill-opacity=\"1\" /><path clip-path=\"url(#clip950)\" d=\"M1448.89 1537.81 L1448.89 1518.52 L1454.74 1518.52 L1454.74 1568.04 L1448.89 1568.04 L1448.89 1562.7 Q1447.04 1565.88 1444.21 1567.44 Q1441.41 1568.97 1437.46 1568.97 Q1431 1568.97 1426.93 1563.81 Q1422.88 1558.65 1422.88 1550.25 Q1422.88 1541.85 1426.93 1536.69 Q1431 1531.54 1437.46 1531.54 Q1441.41 1531.54 1444.21 1533.1 Q1447.04 1534.62 1448.89 1537.81 M1428.93 1550.25 Q1428.93 1556.71 1431.57 1560.4 Q1434.25 1564.07 1438.89 1564.07 Q1443.54 1564.07 1446.21 1560.4 Q1448.89 1556.71 1448.89 1550.25 Q1448.89 1543.79 1446.21 1540.13 Q1443.54 1536.44 1438.89 1536.44 Q1434.25 1536.44 1431.57 1540.13 Q1428.93 1543.79 1428.93 1550.25 Z\" fill=\"#000000\" fill-rule=\"evenodd\" fill-opacity=\"1\" /><path clip-path=\"url(#clip950)\" d=\"M1465.88 1518.58 L1470.98 1518.58 Q1475.75 1526.09 1478.11 1533.29 Q1480.49 1540.48 1480.49 1547.58 Q1480.49 1554.71 1478.11 1561.93 Q1475.75 1569.16 1470.98 1576.64 L1465.88 1576.64 Q1470.12 1569.35 1472.19 1562.16 Q1474.29 1554.93 1474.29 1547.58 Q1474.29 1540.23 1472.19 1533.06 Q1470.12 1525.9 1465.88 1518.58 Z\" fill=\"#000000\" fill-rule=\"evenodd\" fill-opacity=\"1\" /><polyline clip-path=\"url(#clip952)\" style=\"stroke:#000000; stroke-linecap:butt; stroke-linejoin:round; stroke-width:2; stroke-opacity:0.1; fill:none\" points=\"\n",
       "  219.542,1368.56 2352.76,1368.56 \n",
       "  \"/>\n",
       "<polyline clip-path=\"url(#clip952)\" style=\"stroke:#000000; stroke-linecap:butt; stroke-linejoin:round; stroke-width:2; stroke-opacity:0.1; fill:none\" points=\"\n",
       "  219.542,1095.61 2352.76,1095.61 \n",
       "  \"/>\n",
       "<polyline clip-path=\"url(#clip952)\" style=\"stroke:#000000; stroke-linecap:butt; stroke-linejoin:round; stroke-width:2; stroke-opacity:0.1; fill:none\" points=\"\n",
       "  219.542,822.657 2352.76,822.657 \n",
       "  \"/>\n",
       "<polyline clip-path=\"url(#clip952)\" style=\"stroke:#000000; stroke-linecap:butt; stroke-linejoin:round; stroke-width:2; stroke-opacity:0.1; fill:none\" points=\"\n",
       "  219.542,549.708 2352.76,549.708 \n",
       "  \"/>\n",
       "<polyline clip-path=\"url(#clip952)\" style=\"stroke:#000000; stroke-linecap:butt; stroke-linejoin:round; stroke-width:2; stroke-opacity:0.1; fill:none\" points=\"\n",
       "  219.542,276.758 2352.76,276.758 \n",
       "  \"/>\n",
       "<polyline clip-path=\"url(#clip950)\" style=\"stroke:#000000; stroke-linecap:butt; stroke-linejoin:round; stroke-width:4; stroke-opacity:1; fill:none\" points=\"\n",
       "  219.542,1423.18 219.542,123.472 \n",
       "  \"/>\n",
       "<polyline clip-path=\"url(#clip950)\" style=\"stroke:#000000; stroke-linecap:butt; stroke-linejoin:round; stroke-width:4; stroke-opacity:1; fill:none\" points=\"\n",
       "  219.542,1368.56 238.44,1368.56 \n",
       "  \"/>\n",
       "<polyline clip-path=\"url(#clip950)\" style=\"stroke:#000000; stroke-linecap:butt; stroke-linejoin:round; stroke-width:4; stroke-opacity:1; fill:none\" points=\"\n",
       "  219.542,1095.61 238.44,1095.61 \n",
       "  \"/>\n",
       "<polyline clip-path=\"url(#clip950)\" style=\"stroke:#000000; stroke-linecap:butt; stroke-linejoin:round; stroke-width:4; stroke-opacity:1; fill:none\" points=\"\n",
       "  219.542,822.657 238.44,822.657 \n",
       "  \"/>\n",
       "<polyline clip-path=\"url(#clip950)\" style=\"stroke:#000000; stroke-linecap:butt; stroke-linejoin:round; stroke-width:4; stroke-opacity:1; fill:none\" points=\"\n",
       "  219.542,549.708 238.44,549.708 \n",
       "  \"/>\n",
       "<polyline clip-path=\"url(#clip950)\" style=\"stroke:#000000; stroke-linecap:butt; stroke-linejoin:round; stroke-width:4; stroke-opacity:1; fill:none\" points=\"\n",
       "  219.542,276.758 238.44,276.758 \n",
       "  \"/>\n",
       "<path clip-path=\"url(#clip950)\" d=\"M127.362 1354.35 Q123.751 1354.35 121.922 1357.92 Q120.117 1361.46 120.117 1368.59 Q120.117 1375.7 121.922 1379.26 Q123.751 1382.8 127.362 1382.8 Q130.996 1382.8 132.802 1379.26 Q134.63 1375.7 134.63 1368.59 Q134.63 1361.46 132.802 1357.92 Q130.996 1354.35 127.362 1354.35 M127.362 1350.65 Q133.172 1350.65 136.228 1355.26 Q139.306 1359.84 139.306 1368.59 Q139.306 1377.32 136.228 1381.92 Q133.172 1386.51 127.362 1386.51 Q121.552 1386.51 118.473 1381.92 Q115.418 1377.32 115.418 1368.59 Q115.418 1359.84 118.473 1355.26 Q121.552 1350.65 127.362 1350.65 Z\" fill=\"#000000\" fill-rule=\"evenodd\" fill-opacity=\"1\" /><path clip-path=\"url(#clip950)\" d=\"M147.524 1379.96 L152.408 1379.96 L152.408 1385.84 L147.524 1385.84 L147.524 1379.96 Z\" fill=\"#000000\" fill-rule=\"evenodd\" fill-opacity=\"1\" /><path clip-path=\"url(#clip950)\" d=\"M162.64 1351.28 L180.996 1351.28 L180.996 1355.21 L166.922 1355.21 L166.922 1363.68 Q167.94 1363.34 168.959 1363.17 Q169.977 1362.99 170.996 1362.99 Q176.783 1362.99 180.163 1366.16 Q183.542 1369.33 183.542 1374.75 Q183.542 1380.33 180.07 1383.43 Q176.598 1386.51 170.278 1386.51 Q168.102 1386.51 165.834 1386.14 Q163.589 1385.77 161.181 1385.03 L161.181 1380.33 Q163.265 1381.46 165.487 1382.02 Q167.709 1382.57 170.186 1382.57 Q174.19 1382.57 176.528 1380.47 Q178.866 1378.36 178.866 1374.75 Q178.866 1371.14 176.528 1369.03 Q174.19 1366.92 170.186 1366.92 Q168.311 1366.92 166.436 1367.34 Q164.584 1367.76 162.64 1368.64 L162.64 1351.28 Z\" fill=\"#000000\" fill-rule=\"evenodd\" fill-opacity=\"1\" /><path clip-path=\"url(#clip950)\" d=\"M126.205 1081.41 Q122.593 1081.41 120.765 1084.97 Q118.959 1088.51 118.959 1095.64 Q118.959 1102.75 120.765 1106.31 Q122.593 1109.85 126.205 1109.85 Q129.839 1109.85 131.644 1106.31 Q133.473 1102.75 133.473 1095.64 Q133.473 1088.51 131.644 1084.97 Q129.839 1081.41 126.205 1081.41 M126.205 1077.7 Q132.015 1077.7 135.07 1082.31 Q138.149 1086.89 138.149 1095.64 Q138.149 1104.37 135.07 1108.97 Q132.015 1113.56 126.205 1113.56 Q120.394 1113.56 117.316 1108.97 Q114.26 1104.37 114.26 1095.64 Q114.26 1086.89 117.316 1082.31 Q120.394 1077.7 126.205 1077.7 Z\" fill=\"#000000\" fill-rule=\"evenodd\" fill-opacity=\"1\" /><path clip-path=\"url(#clip950)\" d=\"M146.366 1107.01 L151.251 1107.01 L151.251 1112.89 L146.366 1112.89 L146.366 1107.01 Z\" fill=\"#000000\" fill-rule=\"evenodd\" fill-opacity=\"1\" /><path clip-path=\"url(#clip950)\" d=\"M172.014 1093.74 Q168.866 1093.74 167.015 1095.9 Q165.186 1098.05 165.186 1101.8 Q165.186 1105.53 167.015 1107.7 Q168.866 1109.85 172.014 1109.85 Q175.163 1109.85 176.991 1107.7 Q178.843 1105.53 178.843 1101.8 Q178.843 1098.05 176.991 1095.9 Q175.163 1093.74 172.014 1093.74 M181.297 1079.09 L181.297 1083.35 Q179.538 1082.52 177.732 1082.08 Q175.95 1081.64 174.19 1081.64 Q169.561 1081.64 167.107 1084.76 Q164.677 1087.89 164.329 1094.21 Q165.695 1092.19 167.755 1091.13 Q169.815 1090.04 172.292 1090.04 Q177.501 1090.04 180.51 1093.21 Q183.542 1096.36 183.542 1101.8 Q183.542 1107.12 180.394 1110.34 Q177.246 1113.56 172.014 1113.56 Q166.019 1113.56 162.848 1108.97 Q159.677 1104.37 159.677 1095.64 Q159.677 1087.45 163.565 1082.59 Q167.454 1077.7 174.005 1077.7 Q175.764 1077.7 177.547 1078.05 Q179.352 1078.4 181.297 1079.09 Z\" fill=\"#000000\" fill-rule=\"evenodd\" fill-opacity=\"1\" /><path clip-path=\"url(#clip950)\" d=\"M127.269 808.456 Q123.658 808.456 121.83 812.021 Q120.024 815.562 120.024 822.692 Q120.024 829.798 121.83 833.363 Q123.658 836.905 127.269 836.905 Q130.904 836.905 132.709 833.363 Q134.538 829.798 134.538 822.692 Q134.538 815.562 132.709 812.021 Q130.904 808.456 127.269 808.456 M127.269 804.752 Q133.08 804.752 136.135 809.359 Q139.214 813.942 139.214 822.692 Q139.214 831.419 136.135 836.025 Q133.08 840.608 127.269 840.608 Q121.459 840.608 118.381 836.025 Q115.325 831.419 115.325 822.692 Q115.325 813.942 118.381 809.359 Q121.459 804.752 127.269 804.752 Z\" fill=\"#000000\" fill-rule=\"evenodd\" fill-opacity=\"1\" /><path clip-path=\"url(#clip950)\" d=\"M147.431 834.058 L152.316 834.058 L152.316 839.937 L147.431 839.937 L147.431 834.058 Z\" fill=\"#000000\" fill-rule=\"evenodd\" fill-opacity=\"1\" /><path clip-path=\"url(#clip950)\" d=\"M161.32 805.377 L183.542 805.377 L183.542 807.368 L170.996 839.937 L166.112 839.937 L177.917 809.312 L161.32 809.312 L161.32 805.377 Z\" fill=\"#000000\" fill-rule=\"evenodd\" fill-opacity=\"1\" /><path clip-path=\"url(#clip950)\" d=\"M126.459 535.506 Q122.848 535.506 121.019 539.071 Q119.214 542.613 119.214 549.742 Q119.214 556.849 121.019 560.414 Q122.848 563.955 126.459 563.955 Q130.093 563.955 131.899 560.414 Q133.728 556.849 133.728 549.742 Q133.728 542.613 131.899 539.071 Q130.093 535.506 126.459 535.506 M126.459 531.803 Q132.269 531.803 135.325 536.409 Q138.404 540.992 138.404 549.742 Q138.404 558.469 135.325 563.076 Q132.269 567.659 126.459 567.659 Q120.649 567.659 117.57 563.076 Q114.515 558.469 114.515 549.742 Q114.515 540.992 117.57 536.409 Q120.649 531.803 126.459 531.803 Z\" fill=\"#000000\" fill-rule=\"evenodd\" fill-opacity=\"1\" /><path clip-path=\"url(#clip950)\" d=\"M146.621 561.108 L151.505 561.108 L151.505 566.988 L146.621 566.988 L146.621 561.108 Z\" fill=\"#000000\" fill-rule=\"evenodd\" fill-opacity=\"1\" /><path clip-path=\"url(#clip950)\" d=\"M171.69 550.576 Q168.357 550.576 166.436 552.358 Q164.538 554.141 164.538 557.266 Q164.538 560.391 166.436 562.173 Q168.357 563.955 171.69 563.955 Q175.024 563.955 176.945 562.173 Q178.866 560.367 178.866 557.266 Q178.866 554.141 176.945 552.358 Q175.047 550.576 171.69 550.576 M167.015 548.585 Q164.005 547.844 162.315 545.784 Q160.649 543.724 160.649 540.761 Q160.649 536.617 163.589 534.21 Q166.552 531.803 171.69 531.803 Q176.852 531.803 179.792 534.21 Q182.732 536.617 182.732 540.761 Q182.732 543.724 181.042 545.784 Q179.376 547.844 176.389 548.585 Q179.769 549.372 181.644 551.664 Q183.542 553.955 183.542 557.266 Q183.542 562.289 180.464 564.974 Q177.408 567.659 171.69 567.659 Q165.973 567.659 162.894 564.974 Q159.839 562.289 159.839 557.266 Q159.839 553.955 161.737 551.664 Q163.635 549.372 167.015 548.585 M165.302 541.201 Q165.302 543.886 166.968 545.391 Q168.658 546.895 171.69 546.895 Q174.7 546.895 176.389 545.391 Q178.102 543.886 178.102 541.201 Q178.102 538.516 176.389 537.011 Q174.7 535.506 171.69 535.506 Q168.658 535.506 166.968 537.011 Q165.302 538.516 165.302 541.201 Z\" fill=\"#000000\" fill-rule=\"evenodd\" fill-opacity=\"1\" /><path clip-path=\"url(#clip950)\" d=\"M126.552 262.557 Q122.941 262.557 121.112 266.122 Q119.306 269.663 119.306 276.793 Q119.306 283.899 121.112 287.464 Q122.941 291.006 126.552 291.006 Q130.186 291.006 131.992 287.464 Q133.82 283.899 133.82 276.793 Q133.82 269.663 131.992 266.122 Q130.186 262.557 126.552 262.557 M126.552 258.853 Q132.362 258.853 135.417 263.46 Q138.496 268.043 138.496 276.793 Q138.496 285.52 135.417 290.126 Q132.362 294.71 126.552 294.71 Q120.742 294.71 117.663 290.126 Q114.607 285.52 114.607 276.793 Q114.607 268.043 117.663 263.46 Q120.742 258.853 126.552 258.853 Z\" fill=\"#000000\" fill-rule=\"evenodd\" fill-opacity=\"1\" /><path clip-path=\"url(#clip950)\" d=\"M146.714 288.159 L151.598 288.159 L151.598 294.038 L146.714 294.038 L146.714 288.159 Z\" fill=\"#000000\" fill-rule=\"evenodd\" fill-opacity=\"1\" /><path clip-path=\"url(#clip950)\" d=\"M161.922 293.321 L161.922 289.061 Q163.681 289.895 165.487 290.335 Q167.292 290.774 169.028 290.774 Q173.658 290.774 176.089 287.673 Q178.542 284.548 178.889 278.205 Q177.547 280.196 175.487 281.261 Q173.427 282.325 170.927 282.325 Q165.741 282.325 162.709 279.2 Q159.7 276.052 159.7 270.612 Q159.7 265.288 162.848 262.071 Q165.996 258.853 171.227 258.853 Q177.223 258.853 180.371 263.46 Q183.542 268.043 183.542 276.793 Q183.542 284.964 179.653 289.848 Q175.788 294.71 169.237 294.71 Q167.477 294.71 165.672 294.362 Q163.866 294.015 161.922 293.321 M171.227 278.668 Q174.376 278.668 176.204 276.515 Q178.056 274.362 178.056 270.612 Q178.056 266.886 176.204 264.733 Q174.376 262.557 171.227 262.557 Q168.079 262.557 166.227 264.733 Q164.399 266.886 164.399 270.612 Q164.399 274.362 166.227 276.515 Q168.079 278.668 171.227 278.668 Z\" fill=\"#000000\" fill-rule=\"evenodd\" fill-opacity=\"1\" /><path clip-path=\"url(#clip950)\" d=\"M21.7677 857.003 L39.6235 857.003 L39.6235 848.919 Q39.6235 844.431 37.3 841.98 Q34.9765 839.529 30.6797 839.529 Q26.4147 839.529 24.0912 841.98 Q21.7677 844.431 21.7677 848.919 L21.7677 857.003 M16.4842 863.433 L16.4842 848.919 Q16.4842 840.93 20.1126 836.856 Q23.7092 832.75 30.6797 832.75 Q37.7138 832.75 41.3104 836.856 Q44.907 840.93 44.907 848.919 L44.907 857.003 L64.0042 857.003 L64.0042 863.433 L16.4842 863.433 Z\" fill=\"#000000\" fill-rule=\"evenodd\" fill-opacity=\"1\" /><path clip-path=\"url(#clip950)\" d=\"M14.5426 810.311 Q21.8632 814.576 29.0246 816.645 Q36.186 818.713 43.5384 818.713 Q50.8908 818.713 58.1159 816.645 Q65.3091 814.544 72.5979 810.311 L72.5979 815.403 Q65.1182 820.178 57.8931 822.565 Q50.668 824.92 43.5384 824.92 Q36.4406 824.92 29.2474 822.565 Q22.0542 820.209 14.5426 815.403 L14.5426 810.311 Z\" fill=\"#000000\" fill-rule=\"evenodd\" fill-opacity=\"1\" /><path clip-path=\"url(#clip950)\" d=\"M46.0847 782.747 Q46.0847 789.845 47.7079 792.582 Q49.3312 795.32 53.2461 795.32 Q56.3653 795.32 58.2114 793.282 Q60.0256 791.214 60.0256 787.681 Q60.0256 782.811 56.5881 779.883 Q53.1188 776.923 47.3897 776.923 L46.0847 776.923 L46.0847 782.747 M43.6657 771.066 L64.0042 771.066 L64.0042 776.923 L58.5933 776.923 Q61.8398 778.928 63.3994 781.92 Q64.9272 784.912 64.9272 789.24 Q64.9272 794.715 61.8716 797.961 Q58.7843 801.176 53.6281 801.176 Q47.6125 801.176 44.5569 797.166 Q41.5014 793.123 41.5014 785.134 L41.5014 776.923 L40.9285 776.923 Q36.8862 776.923 34.6901 779.596 Q32.4621 782.238 32.4621 787.044 Q32.4621 790.1 33.1941 792.996 Q33.9262 795.892 35.3903 798.566 L29.9795 798.566 Q28.7381 795.351 28.1334 792.328 Q27.4968 789.304 27.4968 786.439 Q27.4968 778.705 31.5072 774.886 Q35.5176 771.066 43.6657 771.066 Z\" fill=\"#000000\" fill-rule=\"evenodd\" fill-opacity=\"1\" /><path clip-path=\"url(#clip950)\" d=\"M55.9197 757.507 L55.9197 750.791 L61.3942 750.791 L71.5793 756.011 L71.5793 760.117 L61.3942 757.507 L55.9197 757.507 Z\" fill=\"#000000\" fill-rule=\"evenodd\" fill-opacity=\"1\" /><path clip-path=\"url(#clip950)\" d=\"M46.212 712.693 Q39.7508 712.693 36.0905 715.366 Q32.3984 718.008 32.3984 722.655 Q32.3984 727.302 36.0905 729.976 Q39.7508 732.617 46.212 732.617 Q52.6732 732.617 56.3653 729.976 Q60.0256 727.302 60.0256 722.655 Q60.0256 718.008 56.3653 715.366 Q52.6732 712.693 46.212 712.693 M33.7671 732.617 Q30.5842 730.771 29.0564 727.97 Q27.4968 725.138 27.4968 721.223 Q27.4968 714.73 32.6531 710.687 Q37.8093 706.613 46.212 706.613 Q54.6147 706.613 59.771 710.687 Q64.9272 714.73 64.9272 721.223 Q64.9272 725.138 63.3994 727.97 Q61.8398 730.771 58.657 732.617 L64.0042 732.617 L64.0042 738.506 L14.479 738.506 L14.479 732.617 L33.7671 732.617 Z\" fill=\"#000000\" fill-rule=\"evenodd\" fill-opacity=\"1\" /><path clip-path=\"url(#clip950)\" d=\"M14.5426 697.829 L14.5426 692.736 Q22.0542 687.962 29.2474 685.607 Q36.4406 683.219 43.5384 683.219 Q50.668 683.219 57.8931 685.607 Q65.1182 687.962 72.5979 692.736 L72.5979 697.829 Q65.3091 693.596 58.1159 691.527 Q50.8908 689.426 43.5384 689.426 Q36.186 689.426 29.0246 691.527 Q21.8632 693.596 14.5426 697.829 Z\" fill=\"#000000\" fill-rule=\"evenodd\" fill-opacity=\"1\" /><path clip-path=\"url(#clip950)\" d=\"M437.586 12.096 L445.85 12.096 L458.57 63.2184 L471.249 12.096 L480.444 12.096 L493.164 63.2184 L505.844 12.096 L514.148 12.096 L498.957 72.576 L488.668 72.576 L475.907 20.0763 L463.026 72.576 L452.736 72.576 L437.586 12.096 Z\" fill=\"#000000\" fill-rule=\"evenodd\" fill-opacity=\"1\" /><path clip-path=\"url(#clip950)\" d=\"M539.993 49.7694 Q530.959 49.7694 527.475 51.8354 Q523.992 53.9013 523.992 58.8839 Q523.992 62.8538 526.584 65.2034 Q529.217 67.5124 533.714 67.5124 Q539.912 67.5124 543.639 63.1374 Q547.406 58.7219 547.406 51.4303 L547.406 49.7694 L539.993 49.7694 M554.86 46.6907 L554.86 72.576 L547.406 72.576 L547.406 65.6895 Q544.854 69.8214 541.046 71.8063 Q537.238 73.7508 531.729 73.7508 Q524.761 73.7508 520.629 69.8619 Q516.538 65.9325 516.538 59.3701 Q516.538 51.7138 521.642 47.825 Q526.787 43.9361 536.955 43.9361 L547.406 43.9361 L547.406 43.2069 Q547.406 38.0623 544.003 35.2672 Q540.641 32.4315 534.524 32.4315 Q530.635 32.4315 526.949 33.3632 Q523.263 34.295 519.86 36.1584 L519.86 29.2718 Q523.951 27.692 527.8 26.9223 Q531.648 26.1121 535.294 26.1121 Q545.137 26.1121 549.998 31.2163 Q554.86 36.3204 554.86 46.6907 Z\" fill=\"#000000\" fill-rule=\"evenodd\" fill-opacity=\"1\" /><path clip-path=\"url(#clip950)\" d=\"M564.865 27.2059 L572.765 27.2059 L586.943 65.2844 L601.121 27.2059 L609.02 27.2059 L592.006 72.576 L581.879 72.576 L564.865 27.2059 Z\" fill=\"#000000\" fill-rule=\"evenodd\" fill-opacity=\"1\" /><path clip-path=\"url(#clip950)\" d=\"M658.117 48.0275 L658.117 51.6733 L623.846 51.6733 Q624.333 59.3701 628.464 63.421 Q632.637 67.4314 640.05 67.4314 Q644.344 67.4314 648.354 66.3781 Q652.405 65.3249 656.375 63.2184 L656.375 70.267 Q652.365 71.9684 648.152 72.8596 Q643.939 73.7508 639.604 73.7508 Q628.748 73.7508 622.388 67.4314 Q616.069 61.1119 616.069 50.3365 Q616.069 39.1965 622.064 32.6746 Q628.1 26.1121 638.308 26.1121 Q647.463 26.1121 652.77 32.0264 Q658.117 37.9003 658.117 48.0275 M650.663 45.84 Q650.582 39.7232 647.22 36.0774 Q643.898 32.4315 638.389 32.4315 Q632.151 32.4315 628.383 35.9558 Q624.657 39.4801 624.09 45.8805 L650.663 45.84 Z\" fill=\"#000000\" fill-rule=\"evenodd\" fill-opacity=\"1\" /><path clip-path=\"url(#clip950)\" d=\"M670.351 9.54393 L677.805 9.54393 L677.805 72.576 L670.351 72.576 L670.351 9.54393 Z\" fill=\"#000000\" fill-rule=\"evenodd\" fill-opacity=\"1\" /><path clip-path=\"url(#clip950)\" d=\"M732.208 48.0275 L732.208 51.6733 L697.938 51.6733 Q698.424 59.3701 702.556 63.421 Q706.728 67.4314 714.141 67.4314 Q718.435 67.4314 722.445 66.3781 Q726.496 65.3249 730.466 63.2184 L730.466 70.267 Q726.456 71.9684 722.243 72.8596 Q718.03 73.7508 713.696 73.7508 Q702.839 73.7508 696.479 67.4314 Q690.16 61.1119 690.16 50.3365 Q690.16 39.1965 696.155 32.6746 Q702.191 26.1121 712.399 26.1121 Q721.554 26.1121 726.861 32.0264 Q732.208 37.9003 732.208 48.0275 M724.754 45.84 Q724.673 39.7232 721.311 36.0774 Q717.989 32.4315 712.48 32.4315 Q706.242 32.4315 702.475 35.9558 Q698.748 39.4801 698.181 45.8805 L724.754 45.84 Z\" fill=\"#000000\" fill-rule=\"evenodd\" fill-opacity=\"1\" /><path clip-path=\"url(#clip950)\" d=\"M751.815 14.324 L751.815 27.2059 L767.167 27.2059 L767.167 32.9987 L751.815 32.9987 L751.815 57.6282 Q751.815 63.1779 753.313 64.7578 Q754.853 66.3376 759.511 66.3376 L767.167 66.3376 L767.167 72.576 L759.511 72.576 Q750.883 72.576 747.602 69.3758 Q744.32 66.1351 744.32 57.6282 L744.32 32.9987 L738.852 32.9987 L738.852 27.2059 L744.32 27.2059 L744.32 14.324 L751.815 14.324 Z\" fill=\"#000000\" fill-rule=\"evenodd\" fill-opacity=\"1\" /><path clip-path=\"url(#clip950)\" d=\"M842.15 48.0275 L842.15 51.6733 L807.879 51.6733 Q808.365 59.3701 812.497 63.421 Q816.67 67.4314 824.083 67.4314 Q828.377 67.4314 832.387 66.3781 Q836.438 65.3249 840.408 63.2184 L840.408 70.267 Q836.397 71.9684 832.184 72.8596 Q827.972 73.7508 823.637 73.7508 Q812.781 73.7508 806.421 67.4314 Q800.101 61.1119 800.101 50.3365 Q800.101 39.1965 806.097 32.6746 Q812.132 26.1121 822.341 26.1121 Q831.496 26.1121 836.802 32.0264 Q842.15 37.9003 842.15 48.0275 M834.696 45.84 Q834.615 39.7232 831.253 36.0774 Q827.931 32.4315 822.422 32.4315 Q816.183 32.4315 812.416 35.9558 Q808.689 39.4801 808.122 45.8805 L834.696 45.84 Z\" fill=\"#000000\" fill-rule=\"evenodd\" fill-opacity=\"1\" /><path clip-path=\"url(#clip950)\" d=\"M883.307 28.5427 L883.307 35.5912 Q880.147 33.9709 876.744 33.1607 Q873.342 32.3505 869.696 32.3505 Q864.146 32.3505 861.351 34.0519 Q858.596 35.7533 858.596 39.156 Q858.596 41.7486 860.581 43.2475 Q862.566 44.7058 868.562 46.0426 L871.114 46.6097 Q879.053 48.3111 882.375 51.4303 Q885.737 54.509 885.737 60.0587 Q885.737 66.3781 880.714 70.0644 Q875.732 73.7508 866.982 73.7508 Q863.336 73.7508 859.366 73.0216 Q855.437 72.3329 851.062 70.9151 L851.062 63.2184 Q855.194 65.3654 859.204 66.4591 Q863.214 67.5124 867.144 67.5124 Q872.41 67.5124 875.246 65.73 Q878.081 63.9071 878.081 60.6258 Q878.081 57.5877 876.015 55.9673 Q873.99 54.3469 867.063 52.8481 L864.47 52.2405 Q857.543 50.7821 854.464 47.7845 Q851.386 44.7463 851.386 39.4801 Q851.386 33.0797 855.923 29.5959 Q860.46 26.1121 868.805 26.1121 Q872.937 26.1121 876.582 26.7198 Q880.228 27.3274 883.307 28.5427 Z\" fill=\"#000000\" fill-rule=\"evenodd\" fill-opacity=\"1\" /><path clip-path=\"url(#clip950)\" d=\"M904.979 14.324 L904.979 27.2059 L920.332 27.2059 L920.332 32.9987 L904.979 32.9987 L904.979 57.6282 Q904.979 63.1779 906.478 64.7578 Q908.017 66.3376 912.676 66.3376 L920.332 66.3376 L920.332 72.576 L912.676 72.576 Q904.048 72.576 900.766 69.3758 Q897.485 66.1351 897.485 57.6282 L897.485 32.9987 L892.016 32.9987 L892.016 27.2059 L897.485 27.2059 L897.485 14.324 L904.979 14.324 Z\" fill=\"#000000\" fill-rule=\"evenodd\" fill-opacity=\"1\" /><path clip-path=\"url(#clip950)\" d=\"M930.135 27.2059 L937.589 27.2059 L937.589 72.576 L930.135 72.576 L930.135 27.2059 M930.135 9.54393 L937.589 9.54393 L937.589 18.9825 L930.135 18.9825 L930.135 9.54393 Z\" fill=\"#000000\" fill-rule=\"evenodd\" fill-opacity=\"1\" /><path clip-path=\"url(#clip950)\" d=\"M988.509 35.9153 Q991.304 30.8922 995.193 28.5022 Q999.082 26.1121 1004.35 26.1121 Q1011.44 26.1121 1015.29 31.0947 Q1019.13 36.0368 1019.13 45.1919 L1019.13 72.576 L1011.64 72.576 L1011.64 45.4349 Q1011.64 38.913 1009.33 35.7533 Q1007.02 32.5936 1002.28 32.5936 Q996.489 32.5936 993.127 36.4419 Q989.765 40.2903 989.765 46.9338 L989.765 72.576 L982.27 72.576 L982.27 45.4349 Q982.27 38.8725 979.961 35.7533 Q977.652 32.5936 972.832 32.5936 Q967.12 32.5936 963.758 36.4824 Q960.396 40.3308 960.396 46.9338 L960.396 72.576 L952.901 72.576 L952.901 27.2059 L960.396 27.2059 L960.396 34.2544 Q962.948 30.082 966.512 28.0971 Q970.077 26.1121 974.979 26.1121 Q979.921 26.1121 983.364 28.6237 Q986.848 31.1352 988.509 35.9153 Z\" fill=\"#000000\" fill-rule=\"evenodd\" fill-opacity=\"1\" /><path clip-path=\"url(#clip950)\" d=\"M1054.62 49.7694 Q1045.59 49.7694 1042.1 51.8354 Q1038.62 53.9013 1038.62 58.8839 Q1038.62 62.8538 1041.21 65.2034 Q1043.84 67.5124 1048.34 67.5124 Q1054.54 67.5124 1058.27 63.1374 Q1062.03 58.7219 1062.03 51.4303 L1062.03 49.7694 L1054.62 49.7694 M1069.49 46.6907 L1069.49 72.576 L1062.03 72.576 L1062.03 65.6895 Q1059.48 69.8214 1055.67 71.8063 Q1051.87 73.7508 1046.36 73.7508 Q1039.39 73.7508 1035.26 69.8619 Q1031.16 65.9325 1031.16 59.3701 Q1031.16 51.7138 1036.27 47.825 Q1041.41 43.9361 1051.58 43.9361 L1062.03 43.9361 L1062.03 43.2069 Q1062.03 38.0623 1058.63 35.2672 Q1055.27 32.4315 1049.15 32.4315 Q1045.26 32.4315 1041.58 33.3632 Q1037.89 34.295 1034.49 36.1584 L1034.49 29.2718 Q1038.58 27.692 1042.43 26.9223 Q1046.27 26.1121 1049.92 26.1121 Q1059.76 26.1121 1064.63 31.2163 Q1069.49 36.3204 1069.49 46.6907 Z\" fill=\"#000000\" fill-rule=\"evenodd\" fill-opacity=\"1\" /><path clip-path=\"url(#clip950)\" d=\"M1092.21 14.324 L1092.21 27.2059 L1107.56 27.2059 L1107.56 32.9987 L1092.21 32.9987 L1092.21 57.6282 Q1092.21 63.1779 1093.71 64.7578 Q1095.25 66.3376 1099.91 66.3376 L1107.56 66.3376 L1107.56 72.576 L1099.91 72.576 Q1091.28 72.576 1088 69.3758 Q1084.72 66.1351 1084.72 57.6282 L1084.72 32.9987 L1079.25 32.9987 L1079.25 27.2059 L1084.72 27.2059 L1084.72 14.324 L1092.21 14.324 Z\" fill=\"#000000\" fill-rule=\"evenodd\" fill-opacity=\"1\" /><path clip-path=\"url(#clip950)\" d=\"M1134.95 32.4315 Q1128.95 32.4315 1125.47 37.1306 Q1121.99 41.7891 1121.99 49.9314 Q1121.99 58.0738 1125.43 62.7728 Q1128.91 67.4314 1134.95 67.4314 Q1140.9 67.4314 1144.39 62.7323 Q1147.87 58.0333 1147.87 49.9314 Q1147.87 41.8701 1144.39 37.1711 Q1140.9 32.4315 1134.95 32.4315 M1134.95 26.1121 Q1144.67 26.1121 1150.22 32.4315 Q1155.77 38.7509 1155.77 49.9314 Q1155.77 61.0714 1150.22 67.4314 Q1144.67 73.7508 1134.95 73.7508 Q1125.19 73.7508 1119.64 67.4314 Q1114.13 61.0714 1114.13 49.9314 Q1114.13 38.7509 1119.64 32.4315 Q1125.19 26.1121 1134.95 26.1121 Z\" fill=\"#000000\" fill-rule=\"evenodd\" fill-opacity=\"1\" /><path clip-path=\"url(#clip950)\" d=\"M1194.42 34.1734 Q1193.16 33.4443 1191.66 33.1202 Q1190.2 32.7556 1188.42 32.7556 Q1182.1 32.7556 1178.7 36.8875 Q1175.34 40.9789 1175.34 48.6757 L1175.34 72.576 L1167.84 72.576 L1167.84 27.2059 L1175.34 27.2059 L1175.34 34.2544 Q1177.69 30.1225 1181.45 28.1376 Q1185.22 26.1121 1190.61 26.1121 Q1191.38 26.1121 1192.31 26.2337 Q1193.24 26.3147 1194.38 26.5172 L1194.42 34.1734 Z\" fill=\"#000000\" fill-rule=\"evenodd\" fill-opacity=\"1\" /><path clip-path=\"url(#clip950)\" d=\"M1249.23 49.7694 Q1240.19 49.7694 1236.71 51.8354 Q1233.22 53.9013 1233.22 58.8839 Q1233.22 62.8538 1235.82 65.2034 Q1238.45 67.5124 1242.95 67.5124 Q1249.14 67.5124 1252.87 63.1374 Q1256.64 58.7219 1256.64 51.4303 L1256.64 49.7694 L1249.23 49.7694 M1264.09 46.6907 L1264.09 72.576 L1256.64 72.576 L1256.64 65.6895 Q1254.09 69.8214 1250.28 71.8063 Q1246.47 73.7508 1240.96 73.7508 Q1233.99 73.7508 1229.86 69.8619 Q1225.77 65.9325 1225.77 59.3701 Q1225.77 51.7138 1230.87 47.825 Q1236.02 43.9361 1246.19 43.9361 L1256.64 43.9361 L1256.64 43.2069 Q1256.64 38.0623 1253.24 35.2672 Q1249.87 32.4315 1243.76 32.4315 Q1239.87 32.4315 1236.18 33.3632 Q1232.49 34.295 1229.09 36.1584 L1229.09 29.2718 Q1233.18 27.692 1237.03 26.9223 Q1240.88 26.1121 1244.53 26.1121 Q1254.37 26.1121 1259.23 31.2163 Q1264.09 36.3204 1264.09 46.6907 Z\" fill=\"#000000\" fill-rule=\"evenodd\" fill-opacity=\"1\" /><path clip-path=\"url(#clip950)\" d=\"M1317.16 45.1919 L1317.16 72.576 L1309.71 72.576 L1309.71 45.4349 Q1309.71 38.994 1307.19 35.7938 Q1304.68 32.5936 1299.66 32.5936 Q1293.62 32.5936 1290.14 36.4419 Q1286.66 40.2903 1286.66 46.9338 L1286.66 72.576 L1279.16 72.576 L1279.16 27.2059 L1286.66 27.2059 L1286.66 34.2544 Q1289.33 30.163 1292.93 28.1376 Q1296.58 26.1121 1301.32 26.1121 Q1309.14 26.1121 1313.15 30.9732 Q1317.16 35.7938 1317.16 45.1919 Z\" fill=\"#000000\" fill-rule=\"evenodd\" fill-opacity=\"1\" /><path clip-path=\"url(#clip950)\" d=\"M1361.88 34.0924 L1361.88 9.54393 L1369.33 9.54393 L1369.33 72.576 L1361.88 72.576 L1361.88 65.7705 Q1359.53 69.8214 1355.93 71.8063 Q1352.36 73.7508 1347.34 73.7508 Q1339.11 73.7508 1333.93 67.1883 Q1328.78 60.6258 1328.78 49.9314 Q1328.78 39.2371 1333.93 32.6746 Q1339.11 26.1121 1347.34 26.1121 Q1352.36 26.1121 1355.93 28.0971 Q1359.53 30.0415 1361.88 34.0924 M1336.48 49.9314 Q1336.48 58.1548 1339.84 62.8538 Q1343.25 67.5124 1349.16 67.5124 Q1355.08 67.5124 1358.48 62.8538 Q1361.88 58.1548 1361.88 49.9314 Q1361.88 41.7081 1358.48 37.0496 Q1355.08 32.3505 1349.16 32.3505 Q1343.25 32.3505 1339.84 37.0496 Q1336.48 41.7081 1336.48 49.9314 Z\" fill=\"#000000\" fill-rule=\"evenodd\" fill-opacity=\"1\" /><path clip-path=\"url(#clip950)\" d=\"M1449.87 48.0275 L1449.87 51.6733 L1415.6 51.6733 Q1416.08 59.3701 1420.21 63.421 Q1424.39 67.4314 1431.8 67.4314 Q1436.09 67.4314 1440.1 66.3781 Q1444.15 65.3249 1448.12 63.2184 L1448.12 70.267 Q1444.11 71.9684 1439.9 72.8596 Q1435.69 73.7508 1431.35 73.7508 Q1420.5 73.7508 1414.14 67.4314 Q1407.82 61.1119 1407.82 50.3365 Q1407.82 39.1965 1413.81 32.6746 Q1419.85 26.1121 1430.06 26.1121 Q1439.21 26.1121 1444.52 32.0264 Q1449.87 37.9003 1449.87 48.0275 M1442.41 45.84 Q1442.33 39.7232 1438.97 36.0774 Q1435.65 32.4315 1430.14 32.4315 Q1423.9 32.4315 1420.13 35.9558 Q1416.41 39.4801 1415.84 45.8805 L1442.41 45.84 Z\" fill=\"#000000\" fill-rule=\"evenodd\" fill-opacity=\"1\" /><path clip-path=\"url(#clip950)\" d=\"M1497.42 35.9153 Q1500.22 30.8922 1504.11 28.5022 Q1508 26.1121 1513.26 26.1121 Q1520.35 26.1121 1524.2 31.0947 Q1528.05 36.0368 1528.05 45.1919 L1528.05 72.576 L1520.55 72.576 L1520.55 45.4349 Q1520.55 38.913 1518.25 35.7533 Q1515.94 32.5936 1511.2 32.5936 Q1505.4 32.5936 1502.04 36.4419 Q1498.68 40.2903 1498.68 46.9338 L1498.68 72.576 L1491.19 72.576 L1491.19 45.4349 Q1491.19 38.8725 1488.88 35.7533 Q1486.57 32.5936 1481.75 32.5936 Q1476.04 32.5936 1472.67 36.4824 Q1469.31 40.3308 1469.31 46.9338 L1469.31 72.576 L1461.82 72.576 L1461.82 27.2059 L1469.31 27.2059 L1469.31 34.2544 Q1471.86 30.082 1475.43 28.0971 Q1478.99 26.1121 1483.89 26.1121 Q1488.84 26.1121 1492.28 28.6237 Q1495.76 31.1352 1497.42 35.9153 Z\" fill=\"#000000\" fill-rule=\"evenodd\" fill-opacity=\"1\" /><path clip-path=\"url(#clip950)\" d=\"M1550.13 65.7705 L1550.13 89.8329 L1542.63 89.8329 L1542.63 27.2059 L1550.13 27.2059 L1550.13 34.0924 Q1552.48 30.0415 1556.04 28.0971 Q1559.65 26.1121 1564.63 26.1121 Q1572.89 26.1121 1578.04 32.6746 Q1583.22 39.2371 1583.22 49.9314 Q1583.22 60.6258 1578.04 67.1883 Q1572.89 73.7508 1564.63 73.7508 Q1559.65 73.7508 1556.04 71.8063 Q1552.48 69.8214 1550.13 65.7705 M1575.48 49.9314 Q1575.48 41.7081 1572.08 37.0496 Q1568.72 32.3505 1562.81 32.3505 Q1556.89 32.3505 1553.49 37.0496 Q1550.13 41.7081 1550.13 49.9314 Q1550.13 58.1548 1553.49 62.8538 Q1556.89 67.5124 1562.81 67.5124 Q1568.72 67.5124 1572.08 62.8538 Q1575.48 58.1548 1575.48 49.9314 Z\" fill=\"#000000\" fill-rule=\"evenodd\" fill-opacity=\"1\" /><path clip-path=\"url(#clip950)\" d=\"M1595.58 27.2059 L1603.03 27.2059 L1603.03 72.576 L1595.58 72.576 L1595.58 27.2059 M1595.58 9.54393 L1603.03 9.54393 L1603.03 18.9825 L1595.58 18.9825 L1595.58 9.54393 Z\" fill=\"#000000\" fill-rule=\"evenodd\" fill-opacity=\"1\" /><path clip-path=\"url(#clip950)\" d=\"M1644.92 34.1734 Q1643.66 33.4443 1642.16 33.1202 Q1640.7 32.7556 1638.92 32.7556 Q1632.6 32.7556 1629.2 36.8875 Q1625.84 40.9789 1625.84 48.6757 L1625.84 72.576 L1618.34 72.576 L1618.34 27.2059 L1625.84 27.2059 L1625.84 34.2544 Q1628.19 30.1225 1631.95 28.1376 Q1635.72 26.1121 1641.11 26.1121 Q1641.88 26.1121 1642.81 26.2337 Q1643.74 26.3147 1644.88 26.5172 L1644.92 34.1734 Z\" fill=\"#000000\" fill-rule=\"evenodd\" fill-opacity=\"1\" /><path clip-path=\"url(#clip950)\" d=\"M1652.74 27.2059 L1660.19 27.2059 L1660.19 72.576 L1652.74 72.576 L1652.74 27.2059 M1652.74 9.54393 L1660.19 9.54393 L1660.19 18.9825 L1652.74 18.9825 L1652.74 9.54393 Z\" fill=\"#000000\" fill-rule=\"evenodd\" fill-opacity=\"1\" /><path clip-path=\"url(#clip950)\" d=\"M1708.44 28.9478 L1708.44 35.9153 Q1705.28 34.1734 1702.08 33.3227 Q1698.92 32.4315 1695.68 32.4315 Q1688.42 32.4315 1684.41 37.0496 Q1680.4 41.6271 1680.4 49.9314 Q1680.4 58.2358 1684.41 62.8538 Q1688.42 67.4314 1695.68 67.4314 Q1698.92 67.4314 1702.08 66.5807 Q1705.28 65.6895 1708.44 63.9476 L1708.44 70.8341 Q1705.32 72.2924 1701.95 73.0216 Q1698.63 73.7508 1694.87 73.7508 Q1684.62 73.7508 1678.58 67.3098 Q1672.54 60.8689 1672.54 49.9314 Q1672.54 38.832 1678.62 32.472 Q1684.74 26.1121 1695.35 26.1121 Q1698.79 26.1121 1702.08 26.8413 Q1705.36 27.5299 1708.44 28.9478 Z\" fill=\"#000000\" fill-rule=\"evenodd\" fill-opacity=\"1\" /><path clip-path=\"url(#clip950)\" d=\"M1742.02 49.7694 Q1732.98 49.7694 1729.5 51.8354 Q1726.02 53.9013 1726.02 58.8839 Q1726.02 62.8538 1728.61 65.2034 Q1731.24 67.5124 1735.74 67.5124 Q1741.94 67.5124 1745.66 63.1374 Q1749.43 58.7219 1749.43 51.4303 L1749.43 49.7694 L1742.02 49.7694 M1756.88 46.6907 L1756.88 72.576 L1749.43 72.576 L1749.43 65.6895 Q1746.88 69.8214 1743.07 71.8063 Q1739.26 73.7508 1733.75 73.7508 Q1726.79 73.7508 1722.65 69.8619 Q1718.56 65.9325 1718.56 59.3701 Q1718.56 51.7138 1723.67 47.825 Q1728.81 43.9361 1738.98 43.9361 L1749.43 43.9361 L1749.43 43.2069 Q1749.43 38.0623 1746.03 35.2672 Q1742.67 32.4315 1736.55 32.4315 Q1732.66 32.4315 1728.97 33.3632 Q1725.29 34.295 1721.88 36.1584 L1721.88 29.2718 Q1725.98 27.692 1729.82 26.9223 Q1733.67 26.1121 1737.32 26.1121 Q1747.16 26.1121 1752.02 31.2163 Q1756.88 36.3204 1756.88 46.6907 Z\" fill=\"#000000\" fill-rule=\"evenodd\" fill-opacity=\"1\" /><path clip-path=\"url(#clip950)\" d=\"M1772.24 9.54393 L1779.69 9.54393 L1779.69 72.576 L1772.24 72.576 L1772.24 9.54393 Z\" fill=\"#000000\" fill-rule=\"evenodd\" fill-opacity=\"1\" /><path clip-path=\"url(#clip950)\" d=\"M1851.51 34.0924 L1851.51 9.54393 L1858.97 9.54393 L1858.97 72.576 L1851.51 72.576 L1851.51 65.7705 Q1849.16 69.8214 1845.56 71.8063 Q1841.99 73.7508 1836.97 73.7508 Q1828.75 73.7508 1823.56 67.1883 Q1818.42 60.6258 1818.42 49.9314 Q1818.42 39.2371 1823.56 32.6746 Q1828.75 26.1121 1836.97 26.1121 Q1841.99 26.1121 1845.56 28.0971 Q1849.16 30.0415 1851.51 34.0924 M1826.11 49.9314 Q1826.11 58.1548 1829.48 62.8538 Q1832.88 67.5124 1838.79 67.5124 Q1844.71 67.5124 1848.11 62.8538 Q1851.51 58.1548 1851.51 49.9314 Q1851.51 41.7081 1848.11 37.0496 Q1844.71 32.3505 1838.79 32.3505 Q1832.88 32.3505 1829.48 37.0496 Q1826.11 41.7081 1826.11 49.9314 Z\" fill=\"#000000\" fill-rule=\"evenodd\" fill-opacity=\"1\" /><path clip-path=\"url(#clip950)\" d=\"M1894.94 49.7694 Q1885.91 49.7694 1882.42 51.8354 Q1878.94 53.9013 1878.94 58.8839 Q1878.94 62.8538 1881.53 65.2034 Q1884.16 67.5124 1888.66 67.5124 Q1894.86 67.5124 1898.59 63.1374 Q1902.35 58.7219 1902.35 51.4303 L1902.35 49.7694 L1894.94 49.7694 M1909.81 46.6907 L1909.81 72.576 L1902.35 72.576 L1902.35 65.6895 Q1899.8 69.8214 1895.99 71.8063 Q1892.18 73.7508 1886.68 73.7508 Q1879.71 73.7508 1875.58 69.8619 Q1871.48 65.9325 1871.48 59.3701 Q1871.48 51.7138 1876.59 47.825 Q1881.73 43.9361 1891.9 43.9361 L1902.35 43.9361 L1902.35 43.2069 Q1902.35 38.0623 1898.95 35.2672 Q1895.59 32.4315 1889.47 32.4315 Q1885.58 32.4315 1881.9 33.3632 Q1878.21 34.295 1874.81 36.1584 L1874.81 29.2718 Q1878.9 27.692 1882.75 26.9223 Q1886.59 26.1121 1890.24 26.1121 Q1900.08 26.1121 1904.94 31.2163 Q1909.81 36.3204 1909.81 46.6907 Z\" fill=\"#000000\" fill-rule=\"evenodd\" fill-opacity=\"1\" /><path clip-path=\"url(#clip950)\" d=\"M1932.53 14.324 L1932.53 27.2059 L1947.88 27.2059 L1947.88 32.9987 L1932.53 32.9987 L1932.53 57.6282 Q1932.53 63.1779 1934.03 64.7578 Q1935.57 66.3376 1940.23 66.3376 L1947.88 66.3376 L1947.88 72.576 L1940.23 72.576 Q1931.6 72.576 1928.32 69.3758 Q1925.04 66.1351 1925.04 57.6282 L1925.04 32.9987 L1919.57 32.9987 L1919.57 27.2059 L1925.04 27.2059 L1925.04 14.324 L1932.53 14.324 Z\" fill=\"#000000\" fill-rule=\"evenodd\" fill-opacity=\"1\" /><path clip-path=\"url(#clip950)\" d=\"M1978.31 49.7694 Q1969.27 49.7694 1965.79 51.8354 Q1962.31 53.9013 1962.31 58.8839 Q1962.31 62.8538 1964.9 65.2034 Q1967.53 67.5124 1972.03 67.5124 Q1978.23 67.5124 1981.95 63.1374 Q1985.72 58.7219 1985.72 51.4303 L1985.72 49.7694 L1978.31 49.7694 M1993.17 46.6907 L1993.17 72.576 L1985.72 72.576 L1985.72 65.6895 Q1983.17 69.8214 1979.36 71.8063 Q1975.55 73.7508 1970.04 73.7508 Q1963.08 73.7508 1958.94 69.8619 Q1954.85 65.9325 1954.85 59.3701 Q1954.85 51.7138 1959.96 47.825 Q1965.1 43.9361 1975.27 43.9361 L1985.72 43.9361 L1985.72 43.2069 Q1985.72 38.0623 1982.32 35.2672 Q1978.95 32.4315 1972.84 32.4315 Q1968.95 32.4315 1965.26 33.3632 Q1961.58 34.295 1958.17 36.1584 L1958.17 29.2718 Q1962.27 27.692 1966.11 26.9223 Q1969.96 26.1121 1973.61 26.1121 Q1983.45 26.1121 1988.31 31.2163 Q1993.17 36.3204 1993.17 46.6907 Z\" fill=\"#000000\" fill-rule=\"evenodd\" fill-opacity=\"1\" /><path clip-path=\"url(#clip950)\" d=\"M2052.8 9.62495 Q2047.37 18.942 2044.74 28.0566 Q2042.11 37.1711 2042.11 46.5287 Q2042.11 55.8863 2044.74 65.0818 Q2047.42 74.2369 2052.8 83.5134 L2046.32 83.5134 Q2040.25 73.9938 2037.21 64.7983 Q2034.21 55.6027 2034.21 46.5287 Q2034.21 37.4952 2037.21 28.3401 Q2040.2 19.1851 2046.32 9.62495 L2052.8 9.62495 Z\" fill=\"#000000\" fill-rule=\"evenodd\" fill-opacity=\"1\" /><path clip-path=\"url(#clip950)\" d=\"M2075.77 18.8205 L2075.77 41.5461 L2086.06 41.5461 Q2091.77 41.5461 2094.89 38.5889 Q2098.01 35.6318 2098.01 30.163 Q2098.01 24.7348 2094.89 21.7777 Q2091.77 18.8205 2086.06 18.8205 L2075.77 18.8205 M2067.59 12.096 L2086.06 12.096 Q2096.23 12.096 2101.41 16.714 Q2106.64 21.2916 2106.64 30.163 Q2106.64 39.1155 2101.41 43.6931 Q2096.23 48.2706 2086.06 48.2706 L2075.77 48.2706 L2075.77 72.576 L2067.59 72.576 L2067.59 12.096 Z\" fill=\"#000000\" fill-rule=\"evenodd\" fill-opacity=\"1\" /><path clip-path=\"url(#clip950)\" d=\"M2116.12 9.62495 L2122.6 9.62495 Q2128.68 19.1851 2131.67 28.3401 Q2134.71 37.4952 2134.71 46.5287 Q2134.71 55.6027 2131.67 64.7983 Q2128.68 73.9938 2122.6 83.5134 L2116.12 83.5134 Q2121.51 74.2369 2124.14 65.0818 Q2126.81 55.8863 2126.81 46.5287 Q2126.81 37.1711 2124.14 28.0566 Q2121.51 18.942 2116.12 9.62495 Z\" fill=\"#000000\" fill-rule=\"evenodd\" fill-opacity=\"1\" /><circle clip-path=\"url(#clip952)\" cx=\"651.604\" cy=\"992.376\" r=\"14\" fill=\"#009af9\" fill-rule=\"evenodd\" fill-opacity=\"1\" stroke=\"#000000\" stroke-opacity=\"1\" stroke-width=\"3.2\"/>\n",
       "<circle clip-path=\"url(#clip952)\" cx=\"887.478\" cy=\"718.884\" r=\"14\" fill=\"#009af9\" fill-rule=\"evenodd\" fill-opacity=\"1\" stroke=\"#000000\" stroke-opacity=\"1\" stroke-width=\"3.2\"/>\n",
       "<circle clip-path=\"url(#clip952)\" cx=\"1879.4\" cy=\"293.434\" r=\"14\" fill=\"#009af9\" fill-rule=\"evenodd\" fill-opacity=\"1\" stroke=\"#000000\" stroke-opacity=\"1\" stroke-width=\"3.2\"/>\n",
       "<circle clip-path=\"url(#clip952)\" cx=\"1958.58\" cy=\"232.734\" r=\"14\" fill=\"#009af9\" fill-rule=\"evenodd\" fill-opacity=\"1\" stroke=\"#000000\" stroke-opacity=\"1\" stroke-width=\"3.2\"/>\n",
       "<circle clip-path=\"url(#clip952)\" cx=\"2292.38\" cy=\"160.277\" r=\"14\" fill=\"#009af9\" fill-rule=\"evenodd\" fill-opacity=\"1\" stroke=\"#000000\" stroke-opacity=\"1\" stroke-width=\"3.2\"/>\n",
       "<circle clip-path=\"url(#clip952)\" cx=\"436.61\" cy=\"1189.79\" r=\"14\" fill=\"#009af9\" fill-rule=\"evenodd\" fill-opacity=\"1\" stroke=\"#000000\" stroke-opacity=\"1\" stroke-width=\"3.2\"/>\n",
       "<circle clip-path=\"url(#clip952)\" cx=\"1428.54\" cy=\"347.197\" r=\"14\" fill=\"#009af9\" fill-rule=\"evenodd\" fill-opacity=\"1\" stroke=\"#000000\" stroke-opacity=\"1\" stroke-width=\"3.2\"/>\n",
       "<circle clip-path=\"url(#clip952)\" cx=\"1507.72\" cy=\"449.976\" r=\"14\" fill=\"#009af9\" fill-rule=\"evenodd\" fill-opacity=\"1\" stroke=\"#000000\" stroke-opacity=\"1\" stroke-width=\"3.2\"/>\n",
       "<circle clip-path=\"url(#clip952)\" cx=\"1841.51\" cy=\"319.763\" r=\"14\" fill=\"#009af9\" fill-rule=\"evenodd\" fill-opacity=\"1\" stroke=\"#000000\" stroke-opacity=\"1\" stroke-width=\"3.2\"/>\n",
       "<circle clip-path=\"url(#clip952)\" cx=\"1192.66\" cy=\"639.807\" r=\"14\" fill=\"#009af9\" fill-rule=\"evenodd\" fill-opacity=\"1\" stroke=\"#000000\" stroke-opacity=\"1\" stroke-width=\"3.2\"/>\n",
       "<circle clip-path=\"url(#clip952)\" cx=\"1271.84\" cy=\"387.508\" r=\"14\" fill=\"#009af9\" fill-rule=\"evenodd\" fill-opacity=\"1\" stroke=\"#000000\" stroke-opacity=\"1\" stroke-width=\"3.2\"/>\n",
       "<circle clip-path=\"url(#clip952)\" cx=\"1605.64\" cy=\"423.731\" r=\"14\" fill=\"#009af9\" fill-rule=\"evenodd\" fill-opacity=\"1\" stroke=\"#000000\" stroke-opacity=\"1\" stroke-width=\"3.2\"/>\n",
       "<circle clip-path=\"url(#clip952)\" cx=\"279.916\" cy=\"1386.4\" r=\"14\" fill=\"#009af9\" fill-rule=\"evenodd\" fill-opacity=\"1\" stroke=\"#000000\" stroke-opacity=\"1\" stroke-width=\"3.2\"/>\n",
       "<circle clip-path=\"url(#clip952)\" cx=\"613.714\" cy=\"893.096\" r=\"14\" fill=\"#009af9\" fill-rule=\"evenodd\" fill-opacity=\"1\" stroke=\"#000000\" stroke-opacity=\"1\" stroke-width=\"3.2\"/>\n",
       "<circle clip-path=\"url(#clip952)\" cx=\"534.534\" cy=\"963.534\" r=\"14\" fill=\"#009af9\" fill-rule=\"evenodd\" fill-opacity=\"1\" stroke=\"#000000\" stroke-opacity=\"1\" stroke-width=\"3.2\"/>\n",
       "<polyline clip-path=\"url(#clip952)\" style=\"stroke:#e26f46; stroke-linecap:butt; stroke-linejoin:round; stroke-width:4; stroke-opacity:1; fill:none\" points=\"\n",
       "  281.929,1294.46 283.941,1292.63 285.954,1290.79 287.966,1288.96 289.978,1287.13 291.991,1285.3 294.003,1283.47 296.016,1281.64 298.028,1279.8 300.041,1277.97 \n",
       "  302.053,1276.14 304.066,1274.31 306.078,1272.48 308.091,1270.66 310.103,1268.83 312.116,1267 314.128,1265.17 316.141,1263.34 318.153,1261.52 320.165,1259.69 \n",
       "  322.178,1257.86 324.19,1256.04 326.203,1254.21 328.215,1252.39 330.228,1250.56 332.24,1248.74 334.253,1246.91 336.265,1245.09 338.278,1243.27 340.29,1241.44 \n",
       "  342.303,1239.62 344.315,1237.8 346.328,1235.98 348.34,1234.16 350.352,1232.34 352.365,1230.52 354.377,1228.7 356.39,1226.88 358.402,1225.06 360.415,1223.24 \n",
       "  362.427,1221.42 364.44,1219.61 366.452,1217.79 368.465,1215.98 370.477,1214.16 372.49,1212.35 374.502,1210.53 376.515,1208.72 378.527,1206.91 380.539,1205.09 \n",
       "  382.552,1203.28 384.564,1201.47 386.577,1199.66 388.589,1197.85 390.602,1196.04 392.614,1194.23 394.627,1192.42 396.639,1190.62 398.652,1188.81 400.664,1187 \n",
       "  402.677,1185.2 404.689,1183.39 406.702,1181.59 408.714,1179.79 410.726,1177.98 412.739,1176.18 414.751,1174.38 416.764,1172.58 418.776,1170.78 420.789,1168.98 \n",
       "  422.801,1167.18 424.814,1165.38 426.826,1163.58 428.839,1161.79 430.851,1159.99 432.864,1158.2 434.876,1156.4 436.888,1154.61 438.901,1152.82 440.913,1151.02 \n",
       "  442.926,1149.23 444.938,1147.44 446.951,1145.65 448.963,1143.86 450.976,1142.07 452.988,1140.29 455.001,1138.5 457.013,1136.72 459.026,1134.93 461.038,1133.15 \n",
       "  463.051,1131.36 465.063,1129.58 467.075,1127.8 469.088,1126.02 471.1,1124.24 473.113,1122.46 475.125,1120.68 477.138,1118.9 479.15,1117.13 481.163,1115.35 \n",
       "  483.175,1113.58 485.188,1111.8 487.2,1110.03 489.213,1108.26 491.225,1106.49 493.238,1104.72 495.25,1102.95 497.262,1101.18 499.275,1099.41 501.287,1097.65 \n",
       "  503.3,1095.88 505.312,1094.12 507.325,1092.35 509.337,1090.59 511.35,1088.83 513.362,1087.07 515.375,1085.31 517.387,1083.55 519.4,1081.79 521.412,1080.03 \n",
       "  523.425,1078.28 525.437,1076.52 527.449,1074.77 529.462,1073.02 531.474,1071.27 533.487,1069.52 535.499,1067.77 537.512,1066.02 539.524,1064.27 541.537,1062.52 \n",
       "  543.549,1060.78 545.562,1059.03 547.574,1057.29 549.587,1055.55 551.599,1053.81 553.612,1052.07 555.624,1050.33 557.636,1048.59 559.649,1046.85 561.661,1045.12 \n",
       "  563.674,1043.38 565.686,1041.65 567.699,1039.92 569.711,1038.19 571.724,1036.46 573.736,1034.73 575.749,1033 577.761,1031.27 579.774,1029.55 581.786,1027.82 \n",
       "  583.798,1026.1 585.811,1024.38 587.823,1022.66 589.836,1020.94 591.848,1019.22 593.861,1017.5 595.873,1015.78 597.886,1014.07 599.898,1012.36 601.911,1010.64 \n",
       "  603.923,1008.93 605.936,1007.22 607.948,1005.51 609.961,1003.8 611.973,1002.1 613.985,1000.39 615.998,998.689 618.01,996.986 620.023,995.284 622.035,993.584 \n",
       "  624.048,991.885 626.06,990.188 628.073,988.491 630.085,986.796 632.098,985.102 634.11,983.409 636.123,981.718 638.135,980.028 640.148,978.339 642.16,976.652 \n",
       "  644.172,974.966 646.185,973.281 648.197,971.597 650.21,969.915 652.222,968.234 654.235,966.555 656.247,964.876 658.26,963.199 660.272,961.524 662.285,959.85 \n",
       "  664.297,958.177 666.31,956.505 668.322,954.835 670.335,953.166 672.347,951.499 674.359,949.833 676.372,948.168 678.384,946.505 680.397,944.843 682.409,943.183 \n",
       "  684.422,941.524 686.434,939.866 688.447,938.21 690.459,936.555 692.472,934.901 694.484,933.249 696.497,931.598 698.509,929.949 700.522,928.301 702.534,926.655 \n",
       "  704.546,925.01 706.559,923.367 708.571,921.725 710.584,920.084 712.596,918.445 714.609,916.807 716.621,915.171 718.634,913.536 720.646,911.903 722.659,910.271 \n",
       "  724.671,908.641 726.684,907.012 728.696,905.384 730.708,903.758 732.721,902.134 734.733,900.511 736.746,898.89 738.758,897.27 740.771,895.651 742.783,894.034 \n",
       "  744.796,892.419 746.808,890.805 748.821,889.193 750.833,887.582 752.846,885.973 754.858,884.365 756.871,882.759 758.883,881.154 760.895,879.551 762.908,877.949 \n",
       "  764.92,876.349 766.933,874.751 768.945,873.154 770.958,871.558 772.97,869.965 774.983,868.372 776.995,866.782 779.008,865.193 781.02,863.605 783.033,862.019 \n",
       "  785.045,860.435 787.058,858.852 789.07,857.271 791.082,855.691 793.095,854.113 795.107,852.537 797.12,850.962 799.132,849.389 801.145,847.817 803.157,846.248 \n",
       "  805.17,844.679 807.182,843.112 809.195,841.547 811.207,839.984 813.22,838.422 815.232,836.862 817.245,835.303 819.257,833.747 821.269,832.191 823.282,830.638 \n",
       "  825.294,829.086 827.307,827.535 829.319,825.987 831.332,824.44 833.344,822.894 835.357,821.351 837.369,819.809 839.382,818.268 841.394,816.73 843.407,815.193 \n",
       "  845.419,813.657 847.432,812.124 849.444,810.592 851.456,809.061 853.469,807.533 855.481,806.006 857.494,804.481 859.506,802.957 861.519,801.436 863.531,799.915 \n",
       "  865.544,798.397 867.556,796.88 869.569,795.365 871.581,793.852 873.594,792.341 875.606,790.831 877.618,789.323 879.631,787.816 881.643,786.312 883.656,784.809 \n",
       "  885.668,783.308 887.681,781.808 889.693,780.31 891.706,778.814 893.718,777.32 895.731,775.828 897.743,774.337 899.756,772.848 901.768,771.361 903.781,769.875 \n",
       "  905.793,768.391 907.805,766.909 909.818,765.429 911.83,763.951 913.843,762.474 915.855,760.999 917.868,759.526 919.88,758.054 921.893,756.585 923.905,755.117 \n",
       "  925.918,753.651 927.93,752.187 929.943,750.724 931.955,749.263 933.968,747.804 935.98,746.347 937.992,744.892 940.005,743.438 942.017,741.986 944.03,740.536 \n",
       "  946.042,739.088 948.055,737.642 950.067,736.197 952.08,734.754 954.092,733.313 956.105,731.874 958.117,730.437 960.13,729.001 962.142,727.568 964.155,726.136 \n",
       "  966.167,724.705 968.179,723.277 970.192,721.851 972.204,720.426 974.217,719.003 976.229,717.582 978.242,716.163 980.254,714.745 982.267,713.33 984.279,711.916 \n",
       "  986.292,710.504 988.304,709.094 990.317,707.686 992.329,706.28 994.342,704.875 996.354,703.472 998.366,702.071 1000.38,700.672 1002.39,699.275 1004.4,697.88 \n",
       "  1006.42,696.486 1008.43,695.095 1010.44,693.705 1012.45,692.317 1014.47,690.931 1016.48,689.547 1018.49,688.164 1020.5,686.784 1022.52,685.405 1024.53,684.028 \n",
       "  1026.54,682.653 1028.55,681.28 1030.57,679.909 1032.58,678.539 1034.59,677.172 1036.6,675.806 1038.62,674.443 1040.63,673.081 1042.64,671.721 1044.65,670.362 \n",
       "  1046.67,669.006 1048.68,667.652 1050.69,666.299 1052.7,664.948 1054.72,663.6 1056.73,662.253 1058.74,660.908 1060.75,659.564 1062.77,658.223 1064.78,656.884 \n",
       "  1066.79,655.546 1068.8,654.21 1070.82,652.877 1072.83,651.545 1074.84,650.215 1076.85,648.887 1078.87,647.56 1080.88,646.236 1082.89,644.914 1084.9,643.593 \n",
       "  1086.91,642.274 1088.93,640.957 1090.94,639.643 1092.95,638.33 1094.96,637.018 1096.98,635.709 1098.99,634.402 1101,633.096 1103.01,631.793 1105.03,630.491 \n",
       "  1107.04,629.191 1109.05,627.893 1111.06,626.597 1113.08,625.303 1115.09,624.011 1117.1,622.721 1119.11,621.433 1121.13,620.146 1123.14,618.861 1125.15,617.579 \n",
       "  1127.16,616.298 1129.18,615.019 1131.19,613.742 1133.2,612.467 1135.21,611.194 1137.23,609.923 1139.24,608.653 1141.25,607.386 1143.26,606.12 1145.28,604.856 \n",
       "  1147.29,603.595 1149.3,602.335 1151.31,601.077 1153.33,599.821 1155.34,598.567 1157.35,597.314 1159.36,596.064 1161.38,594.816 1163.39,593.569 1165.4,592.324 \n",
       "  1167.41,591.082 1169.43,589.841 1171.44,588.602 1173.45,587.365 1175.46,586.13 1177.48,584.897 1179.49,583.665 1181.5,582.436 1183.51,581.209 1185.53,579.983 \n",
       "  1187.54,578.759 1189.55,577.538 1191.56,576.318 1193.58,575.1 1195.59,573.884 1197.6,572.67 1199.61,571.457 1201.63,570.247 1203.64,569.039 1205.65,567.832 \n",
       "  1207.66,566.628 1209.68,565.425 1211.69,564.224 1213.7,563.025 1215.71,561.828 1217.73,560.633 1219.74,559.44 1221.75,558.249 1223.76,557.059 1225.78,555.872 \n",
       "  1227.79,554.686 1229.8,553.503 1231.81,552.321 1233.82,551.141 1235.84,549.963 1237.85,548.787 1239.86,547.613 1241.87,546.441 1243.89,545.27 1245.9,544.102 \n",
       "  1247.91,542.936 1249.92,541.771 1251.94,540.608 1253.95,539.447 1255.96,538.288 1257.97,537.131 1259.99,535.976 1262,534.823 1264.01,533.672 1266.02,532.522 \n",
       "  1268.04,531.375 1270.05,530.229 1272.06,529.085 1274.07,527.943 1276.09,526.803 1278.1,525.665 1280.11,524.529 1282.12,523.395 1284.14,522.262 1286.15,521.132 \n",
       "  1288.16,520.003 1290.17,518.876 1292.19,517.752 1294.2,516.629 1296.21,515.507 1298.22,514.388 1300.24,513.271 1302.25,512.156 1304.26,511.042 1306.27,509.93 \n",
       "  1308.29,508.821 1310.3,507.713 1312.31,506.607 1314.32,505.503 1316.34,504.4 1318.35,503.3 1320.36,502.201 1322.37,501.105 1324.39,500.01 1326.4,498.917 \n",
       "  1328.41,497.826 1330.42,496.737 1332.44,495.65 1334.45,494.564 1336.46,493.481 1338.47,492.399 1340.49,491.32 1342.5,490.242 1344.51,489.166 1346.52,488.092 \n",
       "  1348.54,487.019 1350.55,485.949 1352.56,484.88 1354.57,483.814 1356.59,482.749 1358.6,481.686 1360.61,480.625 1362.62,479.565 1364.64,478.508 1366.65,477.452 \n",
       "  1368.66,476.399 1370.67,475.347 1372.69,474.297 1374.7,473.249 1376.71,472.202 1378.72,471.158 1380.73,470.115 1382.75,469.075 1384.76,468.036 1386.77,466.999 \n",
       "  1388.78,465.963 1390.8,464.93 1392.81,463.899 1394.82,462.869 1396.83,461.841 1398.85,460.815 1400.86,459.791 1402.87,458.769 1404.88,457.748 1406.9,456.729 \n",
       "  1408.91,455.713 1410.92,454.698 1412.93,453.684 1414.95,452.673 1416.96,451.664 1418.97,450.656 1420.98,449.65 1423,448.646 1425.01,447.644 1427.02,446.643 \n",
       "  1429.03,445.645 1431.05,444.648 1433.06,443.653 1435.07,442.66 1437.08,441.669 1439.1,440.679 1441.11,439.691 1443.12,438.705 1445.13,437.721 1447.15,436.739 \n",
       "  1449.16,435.759 1451.17,434.78 1453.18,433.803 1455.2,432.828 1457.21,431.855 1459.22,430.883 1461.23,429.914 1463.25,428.946 1465.26,427.98 1467.27,427.015 \n",
       "  1469.28,426.053 1471.3,425.092 1473.31,424.133 1475.32,423.176 1477.33,422.221 1479.35,421.267 1481.36,420.316 1483.37,419.366 1485.38,418.417 1487.4,417.471 \n",
       "  1489.41,416.526 1491.42,415.583 1493.43,414.642 1495.45,413.703 1497.46,412.765 1499.47,411.829 1501.48,410.895 1503.5,409.963 1505.51,409.033 1507.52,408.104 \n",
       "  1509.53,407.177 1511.55,406.252 1513.56,405.328 1515.57,404.406 1517.58,403.486 1519.6,402.568 1521.61,401.652 1523.62,400.737 1525.63,399.824 1527.64,398.913 \n",
       "  1529.66,398.003 1531.67,397.095 1533.68,396.189 1535.69,395.285 1537.71,394.382 1539.72,393.482 1541.73,392.583 1543.74,391.685 1545.76,390.79 1547.77,389.896 \n",
       "  1549.78,389.004 1551.79,388.113 1553.81,387.224 1555.82,386.337 1557.83,385.452 1559.84,384.568 1561.86,383.687 1563.87,382.806 1565.88,381.928 1567.89,381.051 \n",
       "  1569.91,380.176 1571.92,379.303 1573.93,378.431 1575.94,377.561 1577.96,376.693 1579.97,375.827 1581.98,374.962 1583.99,374.099 1586.01,373.237 1588.02,372.378 \n",
       "  1590.03,371.52 1592.04,370.663 1594.06,369.809 1596.07,368.956 1598.08,368.104 1600.09,367.255 1602.11,366.407 1604.12,365.56 1606.13,364.716 1608.14,363.873 \n",
       "  1610.16,363.032 1612.17,362.192 1614.18,361.354 1616.19,360.518 1618.21,359.683 1620.22,358.85 1622.23,358.019 1624.24,357.189 1626.26,356.362 1628.27,355.535 \n",
       "  1630.28,354.711 1632.29,353.888 1634.31,353.066 1636.32,352.246 1638.33,351.428 1640.34,350.612 1642.36,349.797 1644.37,348.984 1646.38,348.172 1648.39,347.363 \n",
       "  1650.41,346.554 1652.42,345.748 1654.43,344.943 1656.44,344.139 1658.46,343.337 1660.47,342.537 1662.48,341.739 1664.49,340.942 1666.51,340.147 1668.52,339.353 \n",
       "  1670.53,338.561 1672.54,337.77 1674.55,336.982 1676.57,336.194 1678.58,335.409 1680.59,334.625 1682.6,333.842 1684.62,333.061 1686.63,332.282 1688.64,331.505 \n",
       "  1690.65,330.728 1692.67,329.954 1694.68,329.181 1696.69,328.41 1698.7,327.64 1700.72,326.872 1702.73,326.105 1704.74,325.34 1706.75,324.577 1708.77,323.815 \n",
       "  1710.78,323.055 1712.79,322.296 1714.8,321.539 1716.82,320.783 1718.83,320.029 1720.84,319.277 1722.85,318.526 1724.87,317.777 1726.88,317.029 1728.89,316.283 \n",
       "  1730.9,315.538 1732.92,314.795 1734.93,314.053 1736.94,313.313 1738.95,312.575 1740.97,311.838 1742.98,311.102 1744.99,310.368 1747,309.636 1749.02,308.905 \n",
       "  1751.03,308.176 1753.04,307.448 1755.05,306.722 1757.07,305.997 1759.08,305.274 1761.09,304.552 1763.1,303.832 1765.12,303.113 1767.13,302.396 1769.14,301.68 \n",
       "  1771.15,300.966 1773.17,300.253 1775.18,299.542 1777.19,298.832 1779.2,298.124 1781.22,297.418 1783.23,296.712 1785.24,296.009 1787.25,295.306 1789.27,294.606 \n",
       "  1791.28,293.907 1793.29,293.209 1795.3,292.513 1797.32,291.818 1799.33,291.124 1801.34,290.433 1803.35,289.742 1805.37,289.053 1807.38,288.366 1809.39,287.68 \n",
       "  1811.4,286.995 1813.42,286.312 1815.43,285.631 1817.44,284.951 1819.45,284.272 1821.46,283.595 1823.48,282.919 1825.49,282.244 1827.5,281.572 1829.51,280.9 \n",
       "  1831.53,280.23 1833.54,279.562 1835.55,278.894 1837.56,278.229 1839.58,277.564 1841.59,276.902 1843.6,276.24 1845.61,275.58 1847.63,274.922 1849.64,274.264 \n",
       "  1851.65,273.609 1853.66,272.954 1855.68,272.301 1857.69,271.65 1859.7,271 1861.71,270.351 1863.73,269.704 1865.74,269.058 1867.75,268.414 1869.76,267.771 \n",
       "  1871.78,267.129 1873.79,266.489 1875.8,265.85 1877.81,265.212 1879.83,264.576 1881.84,263.941 1883.85,263.308 1885.86,262.676 1887.88,262.045 1889.89,261.416 \n",
       "  1891.9,260.788 1893.91,260.162 1895.93,259.537 1897.94,258.913 1899.95,258.291 1901.96,257.67 1903.98,257.05 1905.99,256.432 1908,255.815 1910.01,255.199 \n",
       "  1912.03,254.585 1914.04,253.972 1916.05,253.361 1918.06,252.75 1920.08,252.142 1922.09,251.534 1924.1,250.928 1926.11,250.323 1928.13,249.72 1930.14,249.117 \n",
       "  1932.15,248.517 1934.16,247.917 1936.18,247.319 1938.19,246.722 1940.2,246.127 1942.21,245.532 1944.23,244.939 1946.24,244.348 1948.25,243.758 1950.26,243.169 \n",
       "  1952.28,242.581 1954.29,241.995 1956.3,241.41 1958.31,240.826 1960.33,240.243 1962.34,239.662 1964.35,239.082 1966.36,238.504 1968.37,237.926 1970.39,237.35 \n",
       "  1972.4,236.776 1974.41,236.202 1976.42,235.63 1978.44,235.059 1980.45,234.49 1982.46,233.921 1984.47,233.354 1986.49,232.789 1988.5,232.224 1990.51,231.661 \n",
       "  1992.52,231.099 1994.54,230.538 1996.55,229.979 1998.56,229.42 2000.57,228.863 2002.59,228.308 2004.6,227.753 2006.61,227.2 2008.62,226.648 2010.64,226.097 \n",
       "  2012.65,225.548 2014.66,225 2016.67,224.453 2018.69,223.907 2020.7,223.362 2022.71,222.819 2024.72,222.277 2026.74,221.736 2028.75,221.196 2030.76,220.658 \n",
       "  2032.77,220.121 2034.79,219.585 2036.8,219.05 2038.81,218.517 2040.82,217.984 2042.84,217.453 2044.85,216.923 2046.86,216.394 2048.87,215.867 2050.89,215.341 \n",
       "  2052.9,214.815 2054.91,214.291 2056.92,213.769 2058.94,213.247 2060.95,212.727 2062.96,212.208 2064.97,211.69 2066.99,211.173 2069,210.657 2071.01,210.143 \n",
       "  2073.02,209.629 2075.04,209.117 2077.05,208.606 2079.06,208.097 2081.07,207.588 2083.09,207.081 2085.1,206.574 2087.11,206.069 2089.12,205.565 2091.14,205.062 \n",
       "  2093.15,204.561 2095.16,204.06 2097.17,203.561 2099.19,203.063 2101.2,202.566 2103.21,202.07 2105.22,201.575 2107.24,201.081 2109.25,200.589 2111.26,200.098 \n",
       "  2113.27,199.607 2115.28,199.118 2117.3,198.63 2119.31,198.143 2121.32,197.658 2123.33,197.173 2125.35,196.69 2127.36,196.207 2129.37,195.726 2131.38,195.246 \n",
       "  2133.4,194.767 2135.41,194.289 2137.42,193.812 2139.43,193.336 2141.45,192.862 2143.46,192.388 2145.47,191.916 2147.48,191.445 2149.5,190.974 2151.51,190.505 \n",
       "  2153.52,190.037 2155.53,189.57 2157.55,189.104 2159.56,188.64 2161.57,188.176 2163.58,187.713 2165.6,187.252 2167.61,186.791 2169.62,186.332 2171.63,185.874 \n",
       "  2173.65,185.416 2175.66,184.96 2177.67,184.505 2179.68,184.051 2181.7,183.598 2183.71,183.146 2185.72,182.695 2187.73,182.245 2189.75,181.796 2191.76,181.349 \n",
       "  2193.77,180.902 2195.78,180.456 2197.8,180.012 2199.81,179.568 2201.82,179.126 2203.83,178.684 2205.85,178.244 2207.86,177.804 2209.87,177.366 2211.88,176.929 \n",
       "  2213.9,176.492 2215.91,176.057 2217.92,175.623 2219.93,175.19 2221.95,174.757 2223.96,174.326 2225.97,173.896 2227.98,173.467 2230,173.039 2232.01,172.612 \n",
       "  2234.02,172.185 2236.03,171.76 2238.05,171.336 2240.06,170.913 2242.07,170.491 2244.08,170.07 2246.1,169.65 2248.11,169.23 2250.12,168.812 2252.13,168.395 \n",
       "  2254.15,167.979 2256.16,167.564 2258.17,167.149 2260.18,166.736 2262.19,166.324 2264.21,165.913 2266.22,165.502 2268.23,165.093 2270.24,164.685 2272.26,164.277 \n",
       "  2274.27,163.871 2276.28,163.465 2278.29,163.061 2280.31,162.657 2282.32,162.255 2284.33,161.853 2286.34,161.453 2288.36,161.053 2290.37,160.654 2292.38,160.256 \n",
       "  \n",
       "  \"/>\n",
       "<path clip-path=\"url(#clip950)\" d=\"\n",
       "M290.649 322.316 L1032.83 322.316 L1032.83 166.796 L290.649 166.796  Z\n",
       "  \" fill=\"#ffffff\" fill-rule=\"evenodd\" fill-opacity=\"1\"/>\n",
       "<polyline clip-path=\"url(#clip950)\" style=\"stroke:#000000; stroke-linecap:butt; stroke-linejoin:round; stroke-width:4; stroke-opacity:1; fill:none\" points=\"\n",
       "  290.649,322.316 1032.83,322.316 1032.83,166.796 290.649,166.796 290.649,322.316 \n",
       "  \"/>\n",
       "<circle clip-path=\"url(#clip950)\" cx=\"385.459\" cy=\"218.636\" r=\"23\" fill=\"#009af9\" fill-rule=\"evenodd\" fill-opacity=\"1\" stroke=\"#000000\" stroke-opacity=\"1\" stroke-width=\"5.12\"/>\n",
       "<path clip-path=\"url(#clip950)\" d=\"M492.166 212.976 Q488.74 212.976 486.75 215.661 Q484.759 218.323 484.759 222.976 Q484.759 227.629 486.727 230.314 Q488.717 232.976 492.166 232.976 Q495.569 232.976 497.56 230.291 Q499.551 227.606 499.551 222.976 Q499.551 218.37 497.56 215.684 Q495.569 212.976 492.166 212.976 M492.166 209.365 Q497.722 209.365 500.893 212.976 Q504.064 216.587 504.064 222.976 Q504.064 229.342 500.893 232.976 Q497.722 236.587 492.166 236.587 Q486.588 236.587 483.416 232.976 Q480.268 229.342 480.268 222.976 Q480.268 216.587 483.416 212.976 Q486.588 209.365 492.166 209.365 Z\" fill=\"#000000\" fill-rule=\"evenodd\" fill-opacity=\"1\" /><path clip-path=\"url(#clip950)\" d=\"M529.736 222.976 Q529.736 218.277 527.791 215.615 Q525.87 212.93 522.49 212.93 Q519.111 212.93 517.166 215.615 Q515.245 218.277 515.245 222.976 Q515.245 227.675 517.166 230.36 Q519.111 233.022 522.49 233.022 Q525.87 233.022 527.791 230.36 Q529.736 227.675 529.736 222.976 M515.245 213.925 Q516.588 211.61 518.625 210.499 Q520.685 209.365 523.532 209.365 Q528.254 209.365 531.194 213.115 Q534.157 216.865 534.157 222.976 Q534.157 229.087 531.194 232.837 Q528.254 236.587 523.532 236.587 Q520.685 236.587 518.625 235.476 Q516.588 234.342 515.245 232.027 L515.245 235.916 L510.963 235.916 L510.963 199.897 L515.245 199.897 L515.245 213.925 Z\" fill=\"#000000\" fill-rule=\"evenodd\" fill-opacity=\"1\" /><path clip-path=\"url(#clip950)\" d=\"M557.745 210.754 L557.745 214.782 Q555.939 213.856 553.995 213.393 Q552.05 212.93 549.967 212.93 Q546.796 212.93 545.199 213.902 Q543.624 214.874 543.624 216.819 Q543.624 218.3 544.759 219.157 Q545.893 219.99 549.319 220.754 L550.777 221.078 Q555.314 222.05 557.212 223.832 Q559.134 225.592 559.134 228.763 Q559.134 232.374 556.263 234.481 Q553.416 236.587 548.416 236.587 Q546.333 236.587 544.064 236.17 Q541.819 235.777 539.319 234.967 L539.319 230.569 Q541.68 231.795 543.972 232.42 Q546.263 233.022 548.509 233.022 Q551.518 233.022 553.138 232.004 Q554.759 230.962 554.759 229.087 Q554.759 227.351 553.578 226.425 Q552.421 225.499 548.462 224.643 L546.981 224.295 Q543.023 223.462 541.263 221.749 Q539.504 220.013 539.504 217.004 Q539.504 213.346 542.097 211.356 Q544.689 209.365 549.458 209.365 Q551.819 209.365 553.902 209.712 Q555.986 210.059 557.745 210.754 Z\" fill=\"#000000\" fill-rule=\"evenodd\" fill-opacity=\"1\" /><path clip-path=\"url(#clip950)\" d=\"M588.092 221.888 L588.092 223.971 L568.509 223.971 Q568.786 228.369 571.147 230.684 Q573.532 232.976 577.768 232.976 Q580.221 232.976 582.513 232.374 Q584.828 231.772 587.096 230.569 L587.096 234.596 Q584.805 235.568 582.397 236.078 Q579.99 236.587 577.513 236.587 Q571.309 236.587 567.675 232.976 Q564.064 229.365 564.064 223.207 Q564.064 216.842 567.49 213.115 Q570.939 209.365 576.772 209.365 Q582.004 209.365 585.036 212.745 Q588.092 216.101 588.092 221.888 M583.833 220.638 Q583.786 217.143 581.865 215.059 Q579.967 212.976 576.819 212.976 Q573.254 212.976 571.101 214.99 Q568.972 217.004 568.647 220.661 L583.833 220.638 Z\" fill=\"#000000\" fill-rule=\"evenodd\" fill-opacity=\"1\" /><path clip-path=\"url(#clip950)\" d=\"M610.106 213.971 Q609.388 213.555 608.532 213.37 Q607.698 213.161 606.68 213.161 Q603.069 213.161 601.124 215.522 Q599.203 217.86 599.203 222.258 L599.203 235.916 L594.92 235.916 L594.92 209.99 L599.203 209.99 L599.203 214.018 Q600.545 211.657 602.698 210.522 Q604.851 209.365 607.93 209.365 Q608.369 209.365 608.902 209.434 Q609.434 209.481 610.082 209.596 L610.106 213.971 Z\" fill=\"#000000\" fill-rule=\"evenodd\" fill-opacity=\"1\" /><path clip-path=\"url(#clip950)\" d=\"M611.518 209.99 L616.031 209.99 L624.133 231.749 L632.235 209.99 L636.749 209.99 L627.027 235.916 L621.24 235.916 L611.518 209.99 Z\" fill=\"#000000\" fill-rule=\"evenodd\" fill-opacity=\"1\" /><path clip-path=\"url(#clip950)\" d=\"M664.804 221.888 L664.804 223.971 L645.221 223.971 Q645.499 228.369 647.86 230.684 Q650.244 232.976 654.48 232.976 Q656.934 232.976 659.226 232.374 Q661.54 231.772 663.809 230.569 L663.809 234.596 Q661.517 235.568 659.11 236.078 Q656.703 236.587 654.226 236.587 Q648.022 236.587 644.388 232.976 Q640.777 229.365 640.777 223.207 Q640.777 216.842 644.203 213.115 Q647.652 209.365 653.485 209.365 Q658.716 209.365 661.749 212.745 Q664.804 216.101 664.804 221.888 M660.545 220.638 Q660.499 217.143 658.578 215.059 Q656.679 212.976 653.531 212.976 Q649.966 212.976 647.814 214.99 Q645.684 217.004 645.36 220.661 L660.545 220.638 Z\" fill=\"#000000\" fill-rule=\"evenodd\" fill-opacity=\"1\" /><path clip-path=\"url(#clip950)\" d=\"M688.855 213.925 L688.855 199.897 L693.114 199.897 L693.114 235.916 L688.855 235.916 L688.855 232.027 Q687.513 234.342 685.452 235.476 Q683.415 236.587 680.545 236.587 Q675.846 236.587 672.883 232.837 Q669.943 229.087 669.943 222.976 Q669.943 216.865 672.883 213.115 Q675.846 209.365 680.545 209.365 Q683.415 209.365 685.452 210.499 Q687.513 211.61 688.855 213.925 M674.341 222.976 Q674.341 227.675 676.263 230.36 Q678.207 233.022 681.587 233.022 Q684.966 233.022 686.911 230.36 Q688.855 227.675 688.855 222.976 Q688.855 218.277 686.911 215.615 Q684.966 212.93 681.587 212.93 Q678.207 212.93 676.263 215.615 Q674.341 218.277 674.341 222.976 Z\" fill=\"#000000\" fill-rule=\"evenodd\" fill-opacity=\"1\" /><path clip-path=\"url(#clip950)\" d=\"M735.614 210.985 L735.614 214.967 Q733.809 213.971 731.98 213.485 Q730.174 212.976 728.323 212.976 Q724.179 212.976 721.887 215.615 Q719.596 218.231 719.596 222.976 Q719.596 227.721 721.887 230.36 Q724.179 232.976 728.323 232.976 Q730.174 232.976 731.98 232.49 Q733.809 231.981 735.614 230.985 L735.614 234.92 Q733.832 235.754 731.91 236.17 Q730.012 236.587 727.86 236.587 Q722.003 236.587 718.554 232.906 Q715.105 229.226 715.105 222.976 Q715.105 216.633 718.577 212.999 Q722.073 209.365 728.137 209.365 Q730.105 209.365 731.98 209.782 Q733.855 210.175 735.614 210.985 Z\" fill=\"#000000\" fill-rule=\"evenodd\" fill-opacity=\"1\" /><path clip-path=\"url(#clip950)\" d=\"M764.572 220.268 L764.572 235.916 L760.313 235.916 L760.313 220.407 Q760.313 216.726 758.878 214.897 Q757.443 213.069 754.572 213.069 Q751.123 213.069 749.133 215.268 Q747.142 217.467 747.142 221.263 L747.142 235.916 L742.859 235.916 L742.859 199.897 L747.142 199.897 L747.142 214.018 Q748.67 211.68 750.73 210.522 Q752.813 209.365 755.521 209.365 Q759.989 209.365 762.281 212.143 Q764.572 214.897 764.572 220.268 Z\" fill=\"#000000\" fill-rule=\"evenodd\" fill-opacity=\"1\" /><path clip-path=\"url(#clip950)\" d=\"M783.114 212.976 Q779.688 212.976 777.697 215.661 Q775.707 218.323 775.707 222.976 Q775.707 227.629 777.674 230.314 Q779.665 232.976 783.114 232.976 Q786.517 232.976 788.507 230.291 Q790.498 227.606 790.498 222.976 Q790.498 218.37 788.507 215.684 Q786.517 212.976 783.114 212.976 M783.114 209.365 Q788.669 209.365 791.841 212.976 Q795.012 216.587 795.012 222.976 Q795.012 229.342 791.841 232.976 Q788.669 236.587 783.114 236.587 Q777.535 236.587 774.364 232.976 Q771.216 229.342 771.216 222.976 Q771.216 216.587 774.364 212.976 Q777.535 209.365 783.114 209.365 Z\" fill=\"#000000\" fill-rule=\"evenodd\" fill-opacity=\"1\" /><path clip-path=\"url(#clip950)\" d=\"M802.072 209.99 L806.331 209.99 L806.331 235.916 L802.072 235.916 L802.072 209.99 M802.072 199.897 L806.331 199.897 L806.331 205.291 L802.072 205.291 L802.072 199.897 Z\" fill=\"#000000\" fill-rule=\"evenodd\" fill-opacity=\"1\" /><path clip-path=\"url(#clip950)\" d=\"M833.901 210.985 L833.901 214.967 Q832.095 213.971 830.266 213.485 Q828.461 212.976 826.609 212.976 Q822.466 212.976 820.174 215.615 Q817.882 218.231 817.882 222.976 Q817.882 227.721 820.174 230.36 Q822.466 232.976 826.609 232.976 Q828.461 232.976 830.266 232.49 Q832.095 231.981 833.901 230.985 L833.901 234.92 Q832.118 235.754 830.197 236.17 Q828.299 236.587 826.146 236.587 Q820.29 236.587 816.841 232.906 Q813.392 229.226 813.392 222.976 Q813.392 216.633 816.864 212.999 Q820.359 209.365 826.424 209.365 Q828.391 209.365 830.266 209.782 Q832.141 210.175 833.901 210.985 Z\" fill=\"#000000\" fill-rule=\"evenodd\" fill-opacity=\"1\" /><path clip-path=\"url(#clip950)\" d=\"M863.484 221.888 L863.484 223.971 L843.901 223.971 Q844.178 228.369 846.539 230.684 Q848.924 232.976 853.16 232.976 Q855.614 232.976 857.905 232.374 Q860.22 231.772 862.488 230.569 L862.488 234.596 Q860.197 235.568 857.789 236.078 Q855.382 236.587 852.905 236.587 Q846.702 236.587 843.067 232.976 Q839.456 229.365 839.456 223.207 Q839.456 216.842 842.882 213.115 Q846.331 209.365 852.164 209.365 Q857.396 209.365 860.428 212.745 Q863.484 216.101 863.484 221.888 M859.225 220.638 Q859.178 217.143 857.257 215.059 Q855.359 212.976 852.211 212.976 Q848.646 212.976 846.493 214.99 Q844.364 217.004 844.04 220.661 L859.225 220.638 Z\" fill=\"#000000\" fill-rule=\"evenodd\" fill-opacity=\"1\" /><path clip-path=\"url(#clip950)\" d=\"M898.669 199.897 L898.669 203.439 L894.595 203.439 Q892.303 203.439 891.4 204.365 Q890.521 205.291 890.521 207.698 L890.521 209.99 L897.535 209.99 L897.535 213.3 L890.521 213.3 L890.521 235.916 L886.238 235.916 L886.238 213.3 L882.164 213.3 L882.164 209.99 L886.238 209.99 L886.238 208.184 Q886.238 203.856 888.252 201.888 Q890.266 199.897 894.641 199.897 L898.669 199.897 Z\" fill=\"#000000\" fill-rule=\"evenodd\" fill-opacity=\"1\" /><path clip-path=\"url(#clip950)\" d=\"M917.257 213.971 Q916.539 213.555 915.683 213.37 Q914.849 213.161 913.831 213.161 Q910.22 213.161 908.275 215.522 Q906.354 217.86 906.354 222.258 L906.354 235.916 L902.072 235.916 L902.072 209.99 L906.354 209.99 L906.354 214.018 Q907.697 211.657 909.849 210.522 Q912.002 209.365 915.081 209.365 Q915.521 209.365 916.053 209.434 Q916.585 209.481 917.234 209.596 L917.257 213.971 Z\" fill=\"#000000\" fill-rule=\"evenodd\" fill-opacity=\"1\" /><path clip-path=\"url(#clip950)\" d=\"M942.858 221.888 L942.858 223.971 L923.275 223.971 Q923.553 228.369 925.914 230.684 Q928.298 232.976 932.534 232.976 Q934.988 232.976 937.28 232.374 Q939.595 231.772 941.863 230.569 L941.863 234.596 Q939.571 235.568 937.164 236.078 Q934.757 236.587 932.28 236.587 Q926.076 236.587 922.442 232.976 Q918.831 229.365 918.831 223.207 Q918.831 216.842 922.257 213.115 Q925.706 209.365 931.539 209.365 Q936.77 209.365 939.803 212.745 Q942.858 216.101 942.858 221.888 M938.599 220.638 Q938.553 217.143 936.632 215.059 Q934.733 212.976 931.585 212.976 Q928.021 212.976 925.868 214.99 Q923.738 217.004 923.414 220.661 L938.599 220.638 Z\" fill=\"#000000\" fill-rule=\"evenodd\" fill-opacity=\"1\" /><path clip-path=\"url(#clip950)\" d=\"M952.395 222.976 Q952.395 227.675 954.317 230.36 Q956.261 233.022 959.641 233.022 Q963.02 233.022 964.965 230.36 Q966.909 227.675 966.909 222.976 Q966.909 218.277 964.965 215.615 Q963.02 212.93 959.641 212.93 Q956.261 212.93 954.317 215.615 Q952.395 218.277 952.395 222.976 M966.909 232.027 Q965.567 234.342 963.506 235.476 Q961.469 236.587 958.599 236.587 Q953.9 236.587 950.937 232.837 Q947.997 229.087 947.997 222.976 Q947.997 216.865 950.937 213.115 Q953.9 209.365 958.599 209.365 Q961.469 209.365 963.506 210.499 Q965.567 211.61 966.909 213.925 L966.909 209.99 L971.168 209.99 L971.168 245.777 L966.909 245.777 L966.909 232.027 Z\" fill=\"#000000\" fill-rule=\"evenodd\" fill-opacity=\"1\" /><path clip-path=\"url(#clip950)\" d=\"M980.543 230.036 L985.428 230.036 L985.428 235.916 L980.543 235.916 L980.543 230.036 Z\" fill=\"#000000\" fill-rule=\"evenodd\" fill-opacity=\"1\" /><polyline clip-path=\"url(#clip950)\" style=\"stroke:#e26f46; stroke-linecap:butt; stroke-linejoin:round; stroke-width:4; stroke-opacity:1; fill:none\" points=\"\n",
       "  314.352,270.476 456.566,270.476 \n",
       "  \"/>\n",
       "<path clip-path=\"url(#clip950)\" d=\"M504.296 273.728 L504.296 275.811 L484.713 275.811 Q484.991 280.209 487.352 282.524 Q489.736 284.816 493.972 284.816 Q496.426 284.816 498.717 284.214 Q501.032 283.612 503.301 282.409 L503.301 286.436 Q501.009 287.408 498.602 287.918 Q496.194 288.427 493.717 288.427 Q487.514 288.427 483.879 284.816 Q480.268 281.205 480.268 275.047 Q480.268 268.682 483.694 264.955 Q487.143 261.205 492.977 261.205 Q498.208 261.205 501.24 264.585 Q504.296 267.941 504.296 273.728 M500.037 272.478 Q499.99 268.983 498.069 266.899 Q496.171 264.816 493.023 264.816 Q489.458 264.816 487.305 266.83 Q485.176 268.844 484.852 272.501 L500.037 272.478 Z\" fill=\"#000000\" fill-rule=\"evenodd\" fill-opacity=\"1\" /><path clip-path=\"url(#clip950)\" d=\"M511.287 251.737 L515.546 251.737 L515.546 287.756 L511.287 287.756 L511.287 251.737 Z\" fill=\"#000000\" fill-rule=\"evenodd\" fill-opacity=\"1\" /><path clip-path=\"url(#clip950)\" d=\"M524.458 261.83 L528.717 261.83 L528.717 287.756 L524.458 287.756 L524.458 261.83 M524.458 251.737 L528.717 251.737 L528.717 257.131 L524.458 257.131 L524.458 251.737 Z\" fill=\"#000000\" fill-rule=\"evenodd\" fill-opacity=\"1\" /><path clip-path=\"url(#clip950)\" d=\"M556.286 262.825 L556.286 266.807 Q554.481 265.811 552.652 265.325 Q550.847 264.816 548.995 264.816 Q544.851 264.816 542.56 267.455 Q540.268 270.071 540.268 274.816 Q540.268 279.561 542.56 282.2 Q544.851 284.816 548.995 284.816 Q550.847 284.816 552.652 284.33 Q554.481 283.821 556.286 282.825 L556.286 286.76 Q554.504 287.594 552.583 288.01 Q550.685 288.427 548.532 288.427 Q542.675 288.427 539.226 284.746 Q535.777 281.066 535.777 274.816 Q535.777 268.473 539.249 264.839 Q542.745 261.205 548.81 261.205 Q550.777 261.205 552.652 261.622 Q554.527 262.015 556.286 262.825 Z\" fill=\"#000000\" fill-rule=\"evenodd\" fill-opacity=\"1\" /><path clip-path=\"url(#clip950)\" d=\"M563.694 261.83 L567.953 261.83 L567.953 287.756 L563.694 287.756 L563.694 261.83 M563.694 251.737 L567.953 251.737 L567.953 257.131 L563.694 257.131 L563.694 251.737 Z\" fill=\"#000000\" fill-rule=\"evenodd\" fill-opacity=\"1\" /><path clip-path=\"url(#clip950)\" d=\"M581.078 254.469 L581.078 261.83 L589.851 261.83 L589.851 265.14 L581.078 265.14 L581.078 279.214 Q581.078 282.385 581.934 283.288 Q582.814 284.191 585.476 284.191 L589.851 284.191 L589.851 287.756 L585.476 287.756 Q580.546 287.756 578.671 285.927 Q576.796 284.075 576.796 279.214 L576.796 265.14 L573.671 265.14 L573.671 261.83 L576.796 261.83 L576.796 254.469 L581.078 254.469 Z\" fill=\"#000000\" fill-rule=\"evenodd\" fill-opacity=\"1\" /><path clip-path=\"url(#clip950)\" d=\"M617.629 273.728 L617.629 275.811 L598.045 275.811 Q598.323 280.209 600.684 282.524 Q603.069 284.816 607.305 284.816 Q609.758 284.816 612.05 284.214 Q614.365 283.612 616.633 282.409 L616.633 286.436 Q614.342 287.408 611.934 287.918 Q609.527 288.427 607.05 288.427 Q600.846 288.427 597.212 284.816 Q593.601 281.205 593.601 275.047 Q593.601 268.682 597.027 264.955 Q600.476 261.205 606.309 261.205 Q611.541 261.205 614.573 264.585 Q617.629 267.941 617.629 273.728 M613.369 272.478 Q613.323 268.983 611.402 266.899 Q609.504 264.816 606.356 264.816 Q602.791 264.816 600.638 266.83 Q598.508 268.844 598.184 272.501 L613.369 272.478 Z\" fill=\"#000000\" fill-rule=\"evenodd\" fill-opacity=\"1\" /><path clip-path=\"url(#clip950)\" d=\"M641.679 265.765 L641.679 251.737 L645.939 251.737 L645.939 287.756 L641.679 287.756 L641.679 283.867 Q640.337 286.182 638.277 287.316 Q636.24 288.427 633.369 288.427 Q628.67 288.427 625.707 284.677 Q622.768 280.927 622.768 274.816 Q622.768 268.705 625.707 264.955 Q628.67 261.205 633.369 261.205 Q636.24 261.205 638.277 262.339 Q640.337 263.45 641.679 265.765 M627.166 274.816 Q627.166 279.515 629.087 282.2 Q631.031 284.862 634.411 284.862 Q637.791 284.862 639.735 282.2 Q641.679 279.515 641.679 274.816 Q641.679 270.117 639.735 267.455 Q637.791 264.77 634.411 264.77 Q631.031 264.77 629.087 267.455 Q627.166 270.117 627.166 274.816 Z\" fill=\"#000000\" fill-rule=\"evenodd\" fill-opacity=\"1\" /><path clip-path=\"url(#clip950)\" d=\"M674.642 257.038 L674.642 283.913 L680.29 283.913 Q687.443 283.913 690.753 280.672 Q694.087 277.432 694.087 270.441 Q694.087 263.497 690.753 260.279 Q687.443 257.038 680.29 257.038 L674.642 257.038 M669.966 253.196 L679.573 253.196 Q689.619 253.196 694.318 257.386 Q699.017 261.552 699.017 270.441 Q699.017 279.376 694.295 283.566 Q689.573 287.756 679.573 287.756 L669.966 287.756 L669.966 253.196 Z\" fill=\"#000000\" fill-rule=\"evenodd\" fill-opacity=\"1\" /><path clip-path=\"url(#clip950)\" d=\"M711.147 257.038 L711.147 283.913 L716.795 283.913 Q723.948 283.913 727.258 280.672 Q730.591 277.432 730.591 270.441 Q730.591 263.497 727.258 260.279 Q723.948 257.038 716.795 257.038 L711.147 257.038 M706.471 253.196 L716.077 253.196 Q726.123 253.196 730.823 257.386 Q735.522 261.552 735.522 270.441 Q735.522 279.376 730.799 283.566 Q726.077 287.756 716.077 287.756 L706.471 287.756 L706.471 253.196 Z\" fill=\"#000000\" fill-rule=\"evenodd\" fill-opacity=\"1\" /><path clip-path=\"url(#clip950)\" d=\"M742.975 253.196 L749.943 253.196 L758.762 276.714 L767.628 253.196 L774.595 253.196 L774.595 287.756 L770.035 287.756 L770.035 257.409 L761.123 281.112 L756.424 281.112 L747.512 257.409 L747.512 287.756 L742.975 287.756 L742.975 253.196 Z\" fill=\"#000000\" fill-rule=\"evenodd\" fill-opacity=\"1\" /></svg>\n"
      ]
     },
     "metadata": {},
     "output_type": "display_data"
    }
   ],
   "source": [
    "plot_P(P_c, λ, udiff)\n",
    "savefig(\"P_whole_Cavanagh_21jan\")"
   ]
  },
  {
   "cell_type": "code",
   "execution_count": 92,
   "id": "martial-county",
   "metadata": {},
   "outputs": [
    {
     "data": {
      "image/svg+xml": [
       "<?xml version=\"1.0\" encoding=\"utf-8\"?>\n",
       "<svg xmlns=\"http://www.w3.org/2000/svg\" xmlns:xlink=\"http://www.w3.org/1999/xlink\" width=\"600\" height=\"400\" viewBox=\"0 0 2400 1600\">\n",
       "<defs>\n",
       "  <clipPath id=\"clip000\">\n",
       "    <rect x=\"0\" y=\"0\" width=\"2400\" height=\"1600\"/>\n",
       "  </clipPath>\n",
       "</defs>\n",
       "<path clip-path=\"url(#clip000)\" d=\"\n",
       "M0 1600 L2400 1600 L2400 0 L0 0  Z\n",
       "  \" fill=\"#ffffff\" fill-rule=\"evenodd\" fill-opacity=\"1\"/>\n",
       "<defs>\n",
       "  <clipPath id=\"clip001\">\n",
       "    <rect x=\"480\" y=\"0\" width=\"1681\" height=\"1600\"/>\n",
       "  </clipPath>\n",
       "</defs>\n",
       "<path clip-path=\"url(#clip000)\" d=\"\n",
       "M262.551 1423.18 L2352.76 1423.18 L2352.76 123.472 L262.551 123.472  Z\n",
       "  \" fill=\"#ffffff\" fill-rule=\"evenodd\" fill-opacity=\"1\"/>\n",
       "<defs>\n",
       "  <clipPath id=\"clip002\">\n",
       "    <rect x=\"262\" y=\"123\" width=\"2091\" height=\"1301\"/>\n",
       "  </clipPath>\n",
       "</defs>\n",
       "<polyline clip-path=\"url(#clip002)\" style=\"stroke:#000000; stroke-linecap:butt; stroke-linejoin:round; stroke-width:2; stroke-opacity:0.1; fill:none\" points=\"\n",
       "  620.952,1423.18 620.952,123.472 \n",
       "  \"/>\n",
       "<polyline clip-path=\"url(#clip002)\" style=\"stroke:#000000; stroke-linecap:butt; stroke-linejoin:round; stroke-width:2; stroke-opacity:0.1; fill:none\" points=\"\n",
       "  997.778,1423.18 997.778,123.472 \n",
       "  \"/>\n",
       "<polyline clip-path=\"url(#clip002)\" style=\"stroke:#000000; stroke-linecap:butt; stroke-linejoin:round; stroke-width:2; stroke-opacity:0.1; fill:none\" points=\"\n",
       "  1374.61,1423.18 1374.61,123.472 \n",
       "  \"/>\n",
       "<polyline clip-path=\"url(#clip002)\" style=\"stroke:#000000; stroke-linecap:butt; stroke-linejoin:round; stroke-width:2; stroke-opacity:0.1; fill:none\" points=\"\n",
       "  1751.43,1423.18 1751.43,123.472 \n",
       "  \"/>\n",
       "<polyline clip-path=\"url(#clip002)\" style=\"stroke:#000000; stroke-linecap:butt; stroke-linejoin:round; stroke-width:2; stroke-opacity:0.1; fill:none\" points=\"\n",
       "  2128.26,1423.18 2128.26,123.472 \n",
       "  \"/>\n",
       "<polyline clip-path=\"url(#clip000)\" style=\"stroke:#000000; stroke-linecap:butt; stroke-linejoin:round; stroke-width:4; stroke-opacity:1; fill:none\" points=\"\n",
       "  262.551,1423.18 2352.76,1423.18 \n",
       "  \"/>\n",
       "<polyline clip-path=\"url(#clip000)\" style=\"stroke:#000000; stroke-linecap:butt; stroke-linejoin:round; stroke-width:4; stroke-opacity:1; fill:none\" points=\"\n",
       "  620.952,1423.18 620.952,1404.28 \n",
       "  \"/>\n",
       "<polyline clip-path=\"url(#clip000)\" style=\"stroke:#000000; stroke-linecap:butt; stroke-linejoin:round; stroke-width:4; stroke-opacity:1; fill:none\" points=\"\n",
       "  997.778,1423.18 997.778,1404.28 \n",
       "  \"/>\n",
       "<polyline clip-path=\"url(#clip000)\" style=\"stroke:#000000; stroke-linecap:butt; stroke-linejoin:round; stroke-width:4; stroke-opacity:1; fill:none\" points=\"\n",
       "  1374.61,1423.18 1374.61,1404.28 \n",
       "  \"/>\n",
       "<polyline clip-path=\"url(#clip000)\" style=\"stroke:#000000; stroke-linecap:butt; stroke-linejoin:round; stroke-width:4; stroke-opacity:1; fill:none\" points=\"\n",
       "  1751.43,1423.18 1751.43,1404.28 \n",
       "  \"/>\n",
       "<polyline clip-path=\"url(#clip000)\" style=\"stroke:#000000; stroke-linecap:butt; stroke-linejoin:round; stroke-width:4; stroke-opacity:1; fill:none\" points=\"\n",
       "  2128.26,1423.18 2128.26,1404.28 \n",
       "  \"/>\n",
       "<path clip-path=\"url(#clip000)\" d=\"M583.868 1454.1 Q580.257 1454.1 578.429 1457.66 Q576.623 1461.2 576.623 1468.33 Q576.623 1475.44 578.429 1479.01 Q580.257 1482.55 583.868 1482.55 Q587.503 1482.55 589.308 1479.01 Q591.137 1475.44 591.137 1468.33 Q591.137 1461.2 589.308 1457.66 Q587.503 1454.1 583.868 1454.1 M583.868 1450.39 Q589.679 1450.39 592.734 1455 Q595.813 1459.58 595.813 1468.33 Q595.813 1477.06 592.734 1481.67 Q589.679 1486.25 583.868 1486.25 Q578.058 1486.25 574.98 1481.67 Q571.924 1477.06 571.924 1468.33 Q571.924 1459.58 574.98 1455 Q578.058 1450.39 583.868 1450.39 Z\" fill=\"#000000\" fill-rule=\"evenodd\" fill-opacity=\"1\" /><path clip-path=\"url(#clip000)\" d=\"M604.03 1479.7 L608.915 1479.7 L608.915 1485.58 L604.03 1485.58 L604.03 1479.7 Z\" fill=\"#000000\" fill-rule=\"evenodd\" fill-opacity=\"1\" /><path clip-path=\"url(#clip000)\" d=\"M629.1 1454.1 Q625.489 1454.1 623.66 1457.66 Q621.854 1461.2 621.854 1468.33 Q621.854 1475.44 623.66 1479.01 Q625.489 1482.55 629.1 1482.55 Q632.734 1482.55 634.539 1479.01 Q636.368 1475.44 636.368 1468.33 Q636.368 1461.2 634.539 1457.66 Q632.734 1454.1 629.1 1454.1 M629.1 1450.39 Q634.91 1450.39 637.965 1455 Q641.044 1459.58 641.044 1468.33 Q641.044 1477.06 637.965 1481.67 Q634.91 1486.25 629.1 1486.25 Q623.29 1486.25 620.211 1481.67 Q617.155 1477.06 617.155 1468.33 Q617.155 1459.58 620.211 1455 Q623.29 1450.39 629.1 1450.39 Z\" fill=\"#000000\" fill-rule=\"evenodd\" fill-opacity=\"1\" /><path clip-path=\"url(#clip000)\" d=\"M650.072 1481.64 L657.711 1481.64 L657.711 1455.28 L649.4 1456.95 L649.4 1452.69 L657.664 1451.02 L662.34 1451.02 L662.34 1481.64 L669.979 1481.64 L669.979 1485.58 L650.072 1485.58 L650.072 1481.64 Z\" fill=\"#000000\" fill-rule=\"evenodd\" fill-opacity=\"1\" /><path clip-path=\"url(#clip000)\" d=\"M960.88 1454.1 Q957.269 1454.1 955.441 1457.66 Q953.635 1461.2 953.635 1468.33 Q953.635 1475.44 955.441 1479.01 Q957.269 1482.55 960.88 1482.55 Q964.515 1482.55 966.32 1479.01 Q968.149 1475.44 968.149 1468.33 Q968.149 1461.2 966.32 1457.66 Q964.515 1454.1 960.88 1454.1 M960.88 1450.39 Q966.691 1450.39 969.746 1455 Q972.825 1459.58 972.825 1468.33 Q972.825 1477.06 969.746 1481.67 Q966.691 1486.25 960.88 1486.25 Q955.07 1486.25 951.992 1481.67 Q948.936 1477.06 948.936 1468.33 Q948.936 1459.58 951.992 1455 Q955.07 1450.39 960.88 1450.39 Z\" fill=\"#000000\" fill-rule=\"evenodd\" fill-opacity=\"1\" /><path clip-path=\"url(#clip000)\" d=\"M981.042 1479.7 L985.927 1479.7 L985.927 1485.58 L981.042 1485.58 L981.042 1479.7 Z\" fill=\"#000000\" fill-rule=\"evenodd\" fill-opacity=\"1\" /><path clip-path=\"url(#clip000)\" d=\"M1006.11 1454.1 Q1002.5 1454.1 1000.67 1457.66 Q998.866 1461.2 998.866 1468.33 Q998.866 1475.44 1000.67 1479.01 Q1002.5 1482.55 1006.11 1482.55 Q1009.75 1482.55 1011.55 1479.01 Q1013.38 1475.44 1013.38 1468.33 Q1013.38 1461.2 1011.55 1457.66 Q1009.75 1454.1 1006.11 1454.1 M1006.11 1450.39 Q1011.92 1450.39 1014.98 1455 Q1018.06 1459.58 1018.06 1468.33 Q1018.06 1477.06 1014.98 1481.67 Q1011.92 1486.25 1006.11 1486.25 Q1000.3 1486.25 997.223 1481.67 Q994.167 1477.06 994.167 1468.33 Q994.167 1459.58 997.223 1455 Q1000.3 1450.39 1006.11 1450.39 Z\" fill=\"#000000\" fill-rule=\"evenodd\" fill-opacity=\"1\" /><path clip-path=\"url(#clip000)\" d=\"M1030.3 1481.64 L1046.62 1481.64 L1046.62 1485.58 L1024.68 1485.58 L1024.68 1481.64 Q1027.34 1478.89 1031.92 1474.26 Q1036.53 1469.61 1037.71 1468.27 Q1039.95 1465.74 1040.83 1464.01 Q1041.74 1462.25 1041.74 1460.56 Q1041.74 1457.8 1039.79 1456.07 Q1037.87 1454.33 1034.77 1454.33 Q1032.57 1454.33 1030.12 1455.09 Q1027.69 1455.86 1024.91 1457.41 L1024.91 1452.69 Q1027.73 1451.55 1030.19 1450.97 Q1032.64 1450.39 1034.68 1450.39 Q1040.05 1450.39 1043.24 1453.08 Q1046.44 1455.77 1046.44 1460.26 Q1046.44 1462.39 1045.63 1464.31 Q1044.84 1466.2 1042.73 1468.8 Q1042.15 1469.47 1039.05 1472.69 Q1035.95 1475.88 1030.3 1481.64 Z\" fill=\"#000000\" fill-rule=\"evenodd\" fill-opacity=\"1\" /><path clip-path=\"url(#clip000)\" d=\"M1337.23 1454.1 Q1333.62 1454.1 1331.79 1457.66 Q1329.99 1461.2 1329.99 1468.33 Q1329.99 1475.44 1331.79 1479.01 Q1333.62 1482.55 1337.23 1482.55 Q1340.87 1482.55 1342.67 1479.01 Q1344.5 1475.44 1344.5 1468.33 Q1344.5 1461.2 1342.67 1457.66 Q1340.87 1454.1 1337.23 1454.1 M1337.23 1450.39 Q1343.04 1450.39 1346.1 1455 Q1349.18 1459.58 1349.18 1468.33 Q1349.18 1477.06 1346.1 1481.67 Q1343.04 1486.25 1337.23 1486.25 Q1331.42 1486.25 1328.34 1481.67 Q1325.29 1477.06 1325.29 1468.33 Q1325.29 1459.58 1328.34 1455 Q1331.42 1450.39 1337.23 1450.39 Z\" fill=\"#000000\" fill-rule=\"evenodd\" fill-opacity=\"1\" /><path clip-path=\"url(#clip000)\" d=\"M1357.39 1479.7 L1362.28 1479.7 L1362.28 1485.58 L1357.39 1485.58 L1357.39 1479.7 Z\" fill=\"#000000\" fill-rule=\"evenodd\" fill-opacity=\"1\" /><path clip-path=\"url(#clip000)\" d=\"M1382.46 1454.1 Q1378.85 1454.1 1377.02 1457.66 Q1375.22 1461.2 1375.22 1468.33 Q1375.22 1475.44 1377.02 1479.01 Q1378.85 1482.55 1382.46 1482.55 Q1386.1 1482.55 1387.9 1479.01 Q1389.73 1475.44 1389.73 1468.33 Q1389.73 1461.2 1387.9 1457.66 Q1386.1 1454.1 1382.46 1454.1 M1382.46 1450.39 Q1388.27 1450.39 1391.33 1455 Q1394.41 1459.58 1394.41 1468.33 Q1394.41 1477.06 1391.33 1481.67 Q1388.27 1486.25 1382.46 1486.25 Q1376.65 1486.25 1373.58 1481.67 Q1370.52 1477.06 1370.52 1468.33 Q1370.52 1459.58 1373.58 1455 Q1376.65 1450.39 1382.46 1450.39 Z\" fill=\"#000000\" fill-rule=\"evenodd\" fill-opacity=\"1\" /><path clip-path=\"url(#clip000)\" d=\"M1416.79 1466.95 Q1420.15 1467.66 1422.02 1469.93 Q1423.92 1472.2 1423.92 1475.53 Q1423.92 1480.65 1420.4 1483.45 Q1416.89 1486.25 1410.4 1486.25 Q1408.23 1486.25 1405.91 1485.81 Q1403.62 1485.39 1401.17 1484.54 L1401.17 1480.02 Q1403.11 1481.16 1405.43 1481.74 Q1407.74 1482.32 1410.26 1482.32 Q1414.66 1482.32 1416.95 1480.58 Q1419.27 1478.84 1419.27 1475.53 Q1419.27 1472.48 1417.12 1470.77 Q1414.99 1469.03 1411.17 1469.03 L1407.14 1469.03 L1407.14 1465.19 L1411.35 1465.19 Q1414.8 1465.19 1416.63 1463.82 Q1418.46 1462.43 1418.46 1459.84 Q1418.46 1457.18 1416.56 1455.77 Q1414.69 1454.33 1411.17 1454.33 Q1409.25 1454.33 1407.05 1454.75 Q1404.85 1455.16 1402.21 1456.04 L1402.21 1451.88 Q1404.87 1451.14 1407.19 1450.77 Q1409.52 1450.39 1411.58 1450.39 Q1416.91 1450.39 1420.01 1452.83 Q1423.11 1455.23 1423.11 1459.35 Q1423.11 1462.22 1421.47 1464.21 Q1419.82 1466.18 1416.79 1466.95 Z\" fill=\"#000000\" fill-rule=\"evenodd\" fill-opacity=\"1\" /><path clip-path=\"url(#clip000)\" d=\"M1713.49 1454.1 Q1709.88 1454.1 1708.05 1457.66 Q1706.25 1461.2 1706.25 1468.33 Q1706.25 1475.44 1708.05 1479.01 Q1709.88 1482.55 1713.49 1482.55 Q1717.13 1482.55 1718.93 1479.01 Q1720.76 1475.44 1720.76 1468.33 Q1720.76 1461.2 1718.93 1457.66 Q1717.13 1454.1 1713.49 1454.1 M1713.49 1450.39 Q1719.3 1450.39 1722.36 1455 Q1725.44 1459.58 1725.44 1468.33 Q1725.44 1477.06 1722.36 1481.67 Q1719.3 1486.25 1713.49 1486.25 Q1707.68 1486.25 1704.6 1481.67 Q1701.55 1477.06 1701.55 1468.33 Q1701.55 1459.58 1704.6 1455 Q1707.68 1450.39 1713.49 1450.39 Z\" fill=\"#000000\" fill-rule=\"evenodd\" fill-opacity=\"1\" /><path clip-path=\"url(#clip000)\" d=\"M1733.65 1479.7 L1738.54 1479.7 L1738.54 1485.58 L1733.65 1485.58 L1733.65 1479.7 Z\" fill=\"#000000\" fill-rule=\"evenodd\" fill-opacity=\"1\" /><path clip-path=\"url(#clip000)\" d=\"M1758.72 1454.1 Q1755.11 1454.1 1753.28 1457.66 Q1751.48 1461.2 1751.48 1468.33 Q1751.48 1475.44 1753.28 1479.01 Q1755.11 1482.55 1758.72 1482.55 Q1762.36 1482.55 1764.16 1479.01 Q1765.99 1475.44 1765.99 1468.33 Q1765.99 1461.2 1764.16 1457.66 Q1762.36 1454.1 1758.72 1454.1 M1758.72 1450.39 Q1764.53 1450.39 1767.59 1455 Q1770.67 1459.58 1770.67 1468.33 Q1770.67 1477.06 1767.59 1481.67 Q1764.53 1486.25 1758.72 1486.25 Q1752.91 1486.25 1749.83 1481.67 Q1746.78 1477.06 1746.78 1468.33 Q1746.78 1459.58 1749.83 1455 Q1752.91 1450.39 1758.72 1450.39 Z\" fill=\"#000000\" fill-rule=\"evenodd\" fill-opacity=\"1\" /><path clip-path=\"url(#clip000)\" d=\"M1791.73 1455.09 L1779.93 1473.54 L1791.73 1473.54 L1791.73 1455.09 M1790.51 1451.02 L1796.39 1451.02 L1796.39 1473.54 L1801.32 1473.54 L1801.32 1477.43 L1796.39 1477.43 L1796.39 1485.58 L1791.73 1485.58 L1791.73 1477.43 L1776.13 1477.43 L1776.13 1472.92 L1790.51 1451.02 Z\" fill=\"#000000\" fill-rule=\"evenodd\" fill-opacity=\"1\" /><path clip-path=\"url(#clip000)\" d=\"M2091.06 1454.1 Q2087.45 1454.1 2085.62 1457.66 Q2083.81 1461.2 2083.81 1468.33 Q2083.81 1475.44 2085.62 1479.01 Q2087.45 1482.55 2091.06 1482.55 Q2094.69 1482.55 2096.5 1479.01 Q2098.33 1475.44 2098.33 1468.33 Q2098.33 1461.2 2096.5 1457.66 Q2094.69 1454.1 2091.06 1454.1 M2091.06 1450.39 Q2096.87 1450.39 2099.93 1455 Q2103 1459.58 2103 1468.33 Q2103 1477.06 2099.93 1481.67 Q2096.87 1486.25 2091.06 1486.25 Q2085.25 1486.25 2082.17 1481.67 Q2079.12 1477.06 2079.12 1468.33 Q2079.12 1459.58 2082.17 1455 Q2085.25 1450.39 2091.06 1450.39 Z\" fill=\"#000000\" fill-rule=\"evenodd\" fill-opacity=\"1\" /><path clip-path=\"url(#clip000)\" d=\"M2111.22 1479.7 L2116.11 1479.7 L2116.11 1485.58 L2111.22 1485.58 L2111.22 1479.7 Z\" fill=\"#000000\" fill-rule=\"evenodd\" fill-opacity=\"1\" /><path clip-path=\"url(#clip000)\" d=\"M2136.29 1454.1 Q2132.68 1454.1 2130.85 1457.66 Q2129.05 1461.2 2129.05 1468.33 Q2129.05 1475.44 2130.85 1479.01 Q2132.68 1482.55 2136.29 1482.55 Q2139.93 1482.55 2141.73 1479.01 Q2143.56 1475.44 2143.56 1468.33 Q2143.56 1461.2 2141.73 1457.66 Q2139.93 1454.1 2136.29 1454.1 M2136.29 1450.39 Q2142.1 1450.39 2145.16 1455 Q2148.24 1459.58 2148.24 1468.33 Q2148.24 1477.06 2145.16 1481.67 Q2142.1 1486.25 2136.29 1486.25 Q2130.48 1486.25 2127.4 1481.67 Q2124.35 1477.06 2124.35 1468.33 Q2124.35 1459.58 2127.4 1455 Q2130.48 1450.39 2136.29 1450.39 Z\" fill=\"#000000\" fill-rule=\"evenodd\" fill-opacity=\"1\" /><path clip-path=\"url(#clip000)\" d=\"M2156.5 1451.02 L2174.86 1451.02 L2174.86 1454.96 L2160.78 1454.96 L2160.78 1463.43 Q2161.8 1463.08 2162.82 1462.92 Q2163.84 1462.73 2164.86 1462.73 Q2170.64 1462.73 2174.02 1465.9 Q2177.4 1469.08 2177.4 1474.49 Q2177.4 1480.07 2173.93 1483.17 Q2170.46 1486.25 2164.14 1486.25 Q2161.96 1486.25 2159.69 1485.88 Q2157.45 1485.51 2155.04 1484.77 L2155.04 1480.07 Q2157.12 1481.2 2159.35 1481.76 Q2161.57 1482.32 2164.05 1482.32 Q2168.05 1482.32 2170.39 1480.21 Q2172.73 1478.1 2172.73 1474.49 Q2172.73 1470.88 2170.39 1468.77 Q2168.05 1466.67 2164.05 1466.67 Q2162.17 1466.67 2160.3 1467.08 Q2158.44 1467.5 2156.5 1468.38 L2156.5 1451.02 Z\" fill=\"#000000\" fill-rule=\"evenodd\" fill-opacity=\"1\" /><path clip-path=\"url(#clip000)\" d=\"M1135.08 1526.86 L1122.03 1562.7 L1148.16 1562.7 L1135.08 1526.86 M1113.31 1568.04 L1131.45 1520.52 L1138.74 1520.52 L1156.85 1568.04 L1113.31 1568.04 Z\" fill=\"#000000\" fill-rule=\"evenodd\" fill-opacity=\"1\" /><path clip-path=\"url(#clip000)\" d=\"M1162.93 1553.98 L1162.93 1532.4 L1168.79 1532.4 L1168.79 1553.75 Q1168.79 1558.81 1170.76 1561.36 Q1172.73 1563.87 1176.68 1563.87 Q1181.42 1563.87 1184.16 1560.85 Q1186.93 1557.83 1186.93 1552.61 L1186.93 1532.4 L1192.78 1532.4 L1192.78 1568.04 L1186.93 1568.04 L1186.93 1562.57 Q1184.8 1565.82 1181.96 1567.41 Q1179.16 1568.97 1175.44 1568.97 Q1169.29 1568.97 1166.11 1565.15 Q1162.93 1561.33 1162.93 1553.98 M1177.67 1531.54 L1177.67 1531.54 Z\" fill=\"#000000\" fill-rule=\"evenodd\" fill-opacity=\"1\" /><path clip-path=\"url(#clip000)\" d=\"M1239.64 1518.58 Q1235.37 1525.9 1233.3 1533.06 Q1231.23 1540.23 1231.23 1547.58 Q1231.23 1554.93 1233.3 1562.16 Q1235.4 1569.35 1239.64 1576.64 L1234.54 1576.64 Q1229.77 1569.16 1227.38 1561.93 Q1225.03 1554.71 1225.03 1547.58 Q1225.03 1540.48 1227.38 1533.29 Q1229.74 1526.09 1234.54 1518.58 L1239.64 1518.58 Z\" fill=\"#000000\" fill-rule=\"evenodd\" fill-opacity=\"1\" /><path clip-path=\"url(#clip000)\" d=\"M1281.49 1548.76 L1281.49 1551.62 L1254.56 1551.62 Q1254.95 1557.67 1258.19 1560.85 Q1261.47 1564 1267.29 1564 Q1270.67 1564 1273.82 1563.17 Q1277 1562.35 1280.12 1560.69 L1280.12 1566.23 Q1276.97 1567.57 1273.66 1568.27 Q1270.35 1568.97 1266.94 1568.97 Q1258.41 1568.97 1253.42 1564 Q1248.45 1559.04 1248.45 1550.57 Q1248.45 1541.82 1253.16 1536.69 Q1257.91 1531.54 1265.93 1531.54 Q1273.12 1531.54 1277.29 1536.18 Q1281.49 1540.8 1281.49 1548.76 M1275.63 1547.04 Q1275.57 1542.23 1272.93 1539.37 Q1270.32 1536.5 1265.99 1536.5 Q1261.09 1536.5 1258.13 1539.27 Q1255.2 1542.04 1254.75 1547.07 L1275.63 1547.04 Z\" fill=\"#000000\" fill-rule=\"evenodd\" fill-opacity=\"1\" /><path clip-path=\"url(#clip000)\" d=\"M1291.1 1518.52 L1296.96 1518.52 L1296.96 1568.04 L1291.1 1568.04 L1291.1 1518.52 Z\" fill=\"#000000\" fill-rule=\"evenodd\" fill-opacity=\"1\" /><path clip-path=\"url(#clip000)\" d=\"M1309.21 1532.4 L1315.07 1532.4 L1315.07 1568.04 L1309.21 1568.04 L1309.21 1532.4 M1309.21 1518.52 L1315.07 1518.52 L1315.07 1525.93 L1309.21 1525.93 L1309.21 1518.52 Z\" fill=\"#000000\" fill-rule=\"evenodd\" fill-opacity=\"1\" /><path clip-path=\"url(#clip000)\" d=\"M1352.98 1533.76 L1352.98 1539.24 Q1350.49 1537.87 1347.98 1537.2 Q1345.5 1536.5 1342.95 1536.5 Q1337.25 1536.5 1334.1 1540.13 Q1330.95 1543.73 1330.95 1550.25 Q1330.95 1556.78 1334.1 1560.4 Q1337.25 1564 1342.95 1564 Q1345.5 1564 1347.98 1563.33 Q1350.49 1562.63 1352.98 1561.26 L1352.98 1566.68 Q1350.53 1567.82 1347.88 1568.39 Q1345.27 1568.97 1342.31 1568.97 Q1334.26 1568.97 1329.52 1563.91 Q1324.78 1558.85 1324.78 1550.25 Q1324.78 1541.53 1329.55 1536.53 Q1334.36 1531.54 1342.7 1531.54 Q1345.4 1531.54 1347.98 1532.11 Q1350.56 1532.65 1352.98 1533.76 Z\" fill=\"#000000\" fill-rule=\"evenodd\" fill-opacity=\"1\" /><path clip-path=\"url(#clip000)\" d=\"M1363.16 1532.4 L1369.02 1532.4 L1369.02 1568.04 L1363.16 1568.04 L1363.16 1532.4 M1363.16 1518.52 L1369.02 1518.52 L1369.02 1525.93 L1363.16 1525.93 L1363.16 1518.52 Z\" fill=\"#000000\" fill-rule=\"evenodd\" fill-opacity=\"1\" /><path clip-path=\"url(#clip000)\" d=\"M1387.07 1522.27 L1387.07 1532.4 L1399.13 1532.4 L1399.13 1536.95 L1387.07 1536.95 L1387.07 1556.3 Q1387.07 1560.66 1388.24 1561.9 Q1389.45 1563.14 1393.11 1563.14 L1399.13 1563.14 L1399.13 1568.04 L1393.11 1568.04 Q1386.33 1568.04 1383.76 1565.53 Q1381.18 1562.98 1381.18 1556.3 L1381.18 1536.95 L1376.88 1536.95 L1376.88 1532.4 L1381.18 1532.4 L1381.18 1522.27 L1387.07 1522.27 Z\" fill=\"#000000\" fill-rule=\"evenodd\" fill-opacity=\"1\" /><path clip-path=\"url(#clip000)\" d=\"M1437.32 1548.76 L1437.32 1551.62 L1410.4 1551.62 Q1410.78 1557.67 1414.02 1560.85 Q1417.3 1564 1423.13 1564 Q1426.5 1564 1429.65 1563.17 Q1432.84 1562.35 1435.95 1560.69 L1435.95 1566.23 Q1432.8 1567.57 1429.49 1568.27 Q1426.18 1568.97 1422.78 1568.97 Q1414.25 1568.97 1409.25 1564 Q1404.28 1559.04 1404.28 1550.57 Q1404.28 1541.82 1409 1536.69 Q1413.74 1531.54 1421.76 1531.54 Q1428.95 1531.54 1433.12 1536.18 Q1437.32 1540.8 1437.32 1548.76 M1431.47 1547.04 Q1431.4 1542.23 1428.76 1539.37 Q1426.15 1536.5 1421.82 1536.5 Q1416.92 1536.5 1413.96 1539.27 Q1411.03 1542.04 1410.59 1547.07 L1431.47 1547.04 Z\" fill=\"#000000\" fill-rule=\"evenodd\" fill-opacity=\"1\" /><path clip-path=\"url(#clip000)\" d=\"M1470.39 1537.81 L1470.39 1518.52 L1476.25 1518.52 L1476.25 1568.04 L1470.39 1568.04 L1470.39 1562.7 Q1468.55 1565.88 1465.71 1567.44 Q1462.91 1568.97 1458.97 1568.97 Q1452.51 1568.97 1448.43 1563.81 Q1444.39 1558.65 1444.39 1550.25 Q1444.39 1541.85 1448.43 1536.69 Q1452.51 1531.54 1458.97 1531.54 Q1462.91 1531.54 1465.71 1533.1 Q1468.55 1534.62 1470.39 1537.81 M1450.44 1550.25 Q1450.44 1556.71 1453.08 1560.4 Q1455.75 1564.07 1460.4 1564.07 Q1465.05 1564.07 1467.72 1560.4 Q1470.39 1556.71 1470.39 1550.25 Q1470.39 1543.79 1467.72 1540.13 Q1465.05 1536.44 1460.4 1536.44 Q1455.75 1536.44 1453.08 1540.13 Q1450.44 1543.79 1450.44 1550.25 Z\" fill=\"#000000\" fill-rule=\"evenodd\" fill-opacity=\"1\" /><path clip-path=\"url(#clip000)\" d=\"M1487.39 1518.58 L1492.48 1518.58 Q1497.26 1526.09 1499.61 1533.29 Q1502 1540.48 1502 1547.58 Q1502 1554.71 1499.61 1561.93 Q1497.26 1569.16 1492.48 1576.64 L1487.39 1576.64 Q1491.62 1569.35 1493.69 1562.16 Q1495.79 1554.93 1495.79 1547.58 Q1495.79 1540.23 1493.69 1533.06 Q1491.62 1525.9 1487.39 1518.58 Z\" fill=\"#000000\" fill-rule=\"evenodd\" fill-opacity=\"1\" /><polyline clip-path=\"url(#clip002)\" style=\"stroke:#000000; stroke-linecap:butt; stroke-linejoin:round; stroke-width:2; stroke-opacity:0.1; fill:none\" points=\"\n",
       "  262.551,1233.59 2352.76,1233.59 \n",
       "  \"/>\n",
       "<polyline clip-path=\"url(#clip002)\" style=\"stroke:#000000; stroke-linecap:butt; stroke-linejoin:round; stroke-width:2; stroke-opacity:0.1; fill:none\" points=\"\n",
       "  262.551,986.719 2352.76,986.719 \n",
       "  \"/>\n",
       "<polyline clip-path=\"url(#clip002)\" style=\"stroke:#000000; stroke-linecap:butt; stroke-linejoin:round; stroke-width:2; stroke-opacity:0.1; fill:none\" points=\"\n",
       "  262.551,739.844 2352.76,739.844 \n",
       "  \"/>\n",
       "<polyline clip-path=\"url(#clip002)\" style=\"stroke:#000000; stroke-linecap:butt; stroke-linejoin:round; stroke-width:2; stroke-opacity:0.1; fill:none\" points=\"\n",
       "  262.551,492.969 2352.76,492.969 \n",
       "  \"/>\n",
       "<polyline clip-path=\"url(#clip002)\" style=\"stroke:#000000; stroke-linecap:butt; stroke-linejoin:round; stroke-width:2; stroke-opacity:0.1; fill:none\" points=\"\n",
       "  262.551,246.095 2352.76,246.095 \n",
       "  \"/>\n",
       "<polyline clip-path=\"url(#clip000)\" style=\"stroke:#000000; stroke-linecap:butt; stroke-linejoin:round; stroke-width:4; stroke-opacity:1; fill:none\" points=\"\n",
       "  262.551,1423.18 262.551,123.472 \n",
       "  \"/>\n",
       "<polyline clip-path=\"url(#clip000)\" style=\"stroke:#000000; stroke-linecap:butt; stroke-linejoin:round; stroke-width:4; stroke-opacity:1; fill:none\" points=\"\n",
       "  262.551,1233.59 281.449,1233.59 \n",
       "  \"/>\n",
       "<polyline clip-path=\"url(#clip000)\" style=\"stroke:#000000; stroke-linecap:butt; stroke-linejoin:round; stroke-width:4; stroke-opacity:1; fill:none\" points=\"\n",
       "  262.551,986.719 281.449,986.719 \n",
       "  \"/>\n",
       "<polyline clip-path=\"url(#clip000)\" style=\"stroke:#000000; stroke-linecap:butt; stroke-linejoin:round; stroke-width:4; stroke-opacity:1; fill:none\" points=\"\n",
       "  262.551,739.844 281.449,739.844 \n",
       "  \"/>\n",
       "<polyline clip-path=\"url(#clip000)\" style=\"stroke:#000000; stroke-linecap:butt; stroke-linejoin:round; stroke-width:4; stroke-opacity:1; fill:none\" points=\"\n",
       "  262.551,492.969 281.449,492.969 \n",
       "  \"/>\n",
       "<polyline clip-path=\"url(#clip000)\" style=\"stroke:#000000; stroke-linecap:butt; stroke-linejoin:round; stroke-width:4; stroke-opacity:1; fill:none\" points=\"\n",
       "  262.551,246.095 281.449,246.095 \n",
       "  \"/>\n",
       "<path clip-path=\"url(#clip000)\" d=\"M144.422 1250.16 L144.422 1245.9 Q146.181 1246.73 147.987 1247.17 Q149.792 1247.61 151.528 1247.61 Q156.158 1247.61 158.589 1244.51 Q161.042 1241.38 161.39 1235.04 Q160.047 1237.03 157.987 1238.1 Q155.927 1239.16 153.427 1239.16 Q148.241 1239.16 145.209 1236.04 Q142.2 1232.89 142.2 1227.45 Q142.2 1222.12 145.348 1218.91 Q148.496 1215.69 153.728 1215.69 Q159.723 1215.69 162.871 1220.29 Q166.042 1224.88 166.042 1233.63 Q166.042 1241.8 162.153 1246.68 Q158.288 1251.54 151.737 1251.54 Q149.978 1251.54 148.172 1251.2 Q146.366 1250.85 144.422 1250.16 M153.728 1235.5 Q156.876 1235.5 158.704 1233.35 Q160.556 1231.2 160.556 1227.45 Q160.556 1223.72 158.704 1221.57 Q156.876 1219.39 153.728 1219.39 Q150.579 1219.39 148.728 1221.57 Q146.899 1223.72 146.899 1227.45 Q146.899 1231.2 148.728 1233.35 Q150.579 1235.5 153.728 1235.5 Z\" fill=\"#000000\" fill-rule=\"evenodd\" fill-opacity=\"1\" /><path clip-path=\"url(#clip000)\" d=\"M184.445 1219.39 Q180.834 1219.39 179.005 1222.96 Q177.2 1226.5 177.2 1233.63 Q177.2 1240.73 179.005 1244.3 Q180.834 1247.84 184.445 1247.84 Q188.079 1247.84 189.885 1244.3 Q191.713 1240.73 191.713 1233.63 Q191.713 1226.5 189.885 1222.96 Q188.079 1219.39 184.445 1219.39 M184.445 1215.69 Q190.255 1215.69 193.311 1220.29 Q196.389 1224.88 196.389 1233.63 Q196.389 1242.36 193.311 1246.96 Q190.255 1251.54 184.445 1251.54 Q178.635 1251.54 175.556 1246.96 Q172.501 1242.36 172.501 1233.63 Q172.501 1224.88 175.556 1220.29 Q178.635 1215.69 184.445 1215.69 Z\" fill=\"#000000\" fill-rule=\"evenodd\" fill-opacity=\"1\" /><path clip-path=\"url(#clip000)\" d=\"M214.607 1219.39 Q210.996 1219.39 209.167 1222.96 Q207.362 1226.5 207.362 1233.63 Q207.362 1240.73 209.167 1244.3 Q210.996 1247.84 214.607 1247.84 Q218.241 1247.84 220.047 1244.3 Q221.875 1240.73 221.875 1233.63 Q221.875 1226.5 220.047 1222.96 Q218.241 1219.39 214.607 1219.39 M214.607 1215.69 Q220.417 1215.69 223.473 1220.29 Q226.551 1224.88 226.551 1233.63 Q226.551 1242.36 223.473 1246.96 Q220.417 1251.54 214.607 1251.54 Q208.797 1251.54 205.718 1246.96 Q202.662 1242.36 202.662 1233.63 Q202.662 1224.88 205.718 1220.29 Q208.797 1215.69 214.607 1215.69 Z\" fill=\"#000000\" fill-rule=\"evenodd\" fill-opacity=\"1\" /><path clip-path=\"url(#clip000)\" d=\"M114.931 1000.06 L122.57 1000.06 L122.57 973.698 L114.26 975.365 L114.26 971.105 L122.524 969.439 L127.2 969.439 L127.2 1000.06 L134.839 1000.06 L134.839 1004 L114.931 1004 L114.931 1000.06 Z\" fill=\"#000000\" fill-rule=\"evenodd\" fill-opacity=\"1\" /><path clip-path=\"url(#clip000)\" d=\"M154.283 972.517 Q150.672 972.517 148.843 976.082 Q147.038 979.624 147.038 986.754 Q147.038 993.86 148.843 997.425 Q150.672 1000.97 154.283 1000.97 Q157.917 1000.97 159.723 997.425 Q161.552 993.86 161.552 986.754 Q161.552 979.624 159.723 976.082 Q157.917 972.517 154.283 972.517 M154.283 968.814 Q160.093 968.814 163.149 973.42 Q166.227 978.004 166.227 986.754 Q166.227 995.48 163.149 1000.09 Q160.093 1004.67 154.283 1004.67 Q148.473 1004.67 145.394 1000.09 Q142.339 995.48 142.339 986.754 Q142.339 978.004 145.394 973.42 Q148.473 968.814 154.283 968.814 Z\" fill=\"#000000\" fill-rule=\"evenodd\" fill-opacity=\"1\" /><path clip-path=\"url(#clip000)\" d=\"M184.445 972.517 Q180.834 972.517 179.005 976.082 Q177.2 979.624 177.2 986.754 Q177.2 993.86 179.005 997.425 Q180.834 1000.97 184.445 1000.97 Q188.079 1000.97 189.885 997.425 Q191.713 993.86 191.713 986.754 Q191.713 979.624 189.885 976.082 Q188.079 972.517 184.445 972.517 M184.445 968.814 Q190.255 968.814 193.311 973.42 Q196.389 978.004 196.389 986.754 Q196.389 995.48 193.311 1000.09 Q190.255 1004.67 184.445 1004.67 Q178.635 1004.67 175.556 1000.09 Q172.501 995.48 172.501 986.754 Q172.501 978.004 175.556 973.42 Q178.635 968.814 184.445 968.814 Z\" fill=\"#000000\" fill-rule=\"evenodd\" fill-opacity=\"1\" /><path clip-path=\"url(#clip000)\" d=\"M214.607 972.517 Q210.996 972.517 209.167 976.082 Q207.362 979.624 207.362 986.754 Q207.362 993.86 209.167 997.425 Q210.996 1000.97 214.607 1000.97 Q218.241 1000.97 220.047 997.425 Q221.875 993.86 221.875 986.754 Q221.875 979.624 220.047 976.082 Q218.241 972.517 214.607 972.517 M214.607 968.814 Q220.417 968.814 223.473 973.42 Q226.551 978.004 226.551 986.754 Q226.551 995.48 223.473 1000.09 Q220.417 1004.67 214.607 1004.67 Q208.797 1004.67 205.718 1000.09 Q202.662 995.48 202.662 986.754 Q202.662 978.004 205.718 973.42 Q208.797 968.814 214.607 968.814 Z\" fill=\"#000000\" fill-rule=\"evenodd\" fill-opacity=\"1\" /><path clip-path=\"url(#clip000)\" d=\"M114.931 753.189 L122.57 753.189 L122.57 726.823 L114.26 728.49 L114.26 724.231 L122.524 722.564 L127.2 722.564 L127.2 753.189 L134.839 753.189 L134.839 757.124 L114.931 757.124 L114.931 753.189 Z\" fill=\"#000000\" fill-rule=\"evenodd\" fill-opacity=\"1\" /><path clip-path=\"url(#clip000)\" d=\"M145.093 753.189 L152.732 753.189 L152.732 726.823 L144.422 728.49 L144.422 724.231 L152.686 722.564 L157.362 722.564 L157.362 753.189 L165.001 753.189 L165.001 757.124 L145.093 757.124 L145.093 753.189 Z\" fill=\"#000000\" fill-rule=\"evenodd\" fill-opacity=\"1\" /><path clip-path=\"url(#clip000)\" d=\"M184.445 725.643 Q180.834 725.643 179.005 729.208 Q177.2 732.749 177.2 739.879 Q177.2 746.985 179.005 750.55 Q180.834 754.092 184.445 754.092 Q188.079 754.092 189.885 750.55 Q191.713 746.985 191.713 739.879 Q191.713 732.749 189.885 729.208 Q188.079 725.643 184.445 725.643 M184.445 721.939 Q190.255 721.939 193.311 726.546 Q196.389 731.129 196.389 739.879 Q196.389 748.606 193.311 753.212 Q190.255 757.795 184.445 757.795 Q178.635 757.795 175.556 753.212 Q172.501 748.606 172.501 739.879 Q172.501 731.129 175.556 726.546 Q178.635 721.939 184.445 721.939 Z\" fill=\"#000000\" fill-rule=\"evenodd\" fill-opacity=\"1\" /><path clip-path=\"url(#clip000)\" d=\"M214.607 725.643 Q210.996 725.643 209.167 729.208 Q207.362 732.749 207.362 739.879 Q207.362 746.985 209.167 750.55 Q210.996 754.092 214.607 754.092 Q218.241 754.092 220.047 750.55 Q221.875 746.985 221.875 739.879 Q221.875 732.749 220.047 729.208 Q218.241 725.643 214.607 725.643 M214.607 721.939 Q220.417 721.939 223.473 726.546 Q226.551 731.129 226.551 739.879 Q226.551 748.606 223.473 753.212 Q220.417 757.795 214.607 757.795 Q208.797 757.795 205.718 753.212 Q202.662 748.606 202.662 739.879 Q202.662 731.129 205.718 726.546 Q208.797 721.939 214.607 721.939 Z\" fill=\"#000000\" fill-rule=\"evenodd\" fill-opacity=\"1\" /><path clip-path=\"url(#clip000)\" d=\"M114.931 506.314 L122.57 506.314 L122.57 479.949 L114.26 481.615 L114.26 477.356 L122.524 475.689 L127.2 475.689 L127.2 506.314 L134.839 506.314 L134.839 510.249 L114.931 510.249 L114.931 506.314 Z\" fill=\"#000000\" fill-rule=\"evenodd\" fill-opacity=\"1\" /><path clip-path=\"url(#clip000)\" d=\"M148.311 506.314 L164.63 506.314 L164.63 510.249 L142.686 510.249 L142.686 506.314 Q145.348 503.56 149.931 498.93 Q154.538 494.277 155.718 492.935 Q157.964 490.412 158.843 488.675 Q159.746 486.916 159.746 485.226 Q159.746 482.472 157.802 480.736 Q155.88 479 152.778 479 Q150.579 479 148.126 479.763 Q145.695 480.527 142.917 482.078 L142.917 477.356 Q145.741 476.222 148.195 475.643 Q150.649 475.064 152.686 475.064 Q158.056 475.064 161.251 477.75 Q164.445 480.435 164.445 484.925 Q164.445 487.055 163.635 488.976 Q162.848 490.874 160.741 493.467 Q160.163 494.138 157.061 497.356 Q153.959 500.55 148.311 506.314 Z\" fill=\"#000000\" fill-rule=\"evenodd\" fill-opacity=\"1\" /><path clip-path=\"url(#clip000)\" d=\"M184.445 478.768 Q180.834 478.768 179.005 482.333 Q177.2 485.874 177.2 493.004 Q177.2 500.111 179.005 503.675 Q180.834 507.217 184.445 507.217 Q188.079 507.217 189.885 503.675 Q191.713 500.111 191.713 493.004 Q191.713 485.874 189.885 482.333 Q188.079 478.768 184.445 478.768 M184.445 475.064 Q190.255 475.064 193.311 479.671 Q196.389 484.254 196.389 493.004 Q196.389 501.731 193.311 506.337 Q190.255 510.921 184.445 510.921 Q178.635 510.921 175.556 506.337 Q172.501 501.731 172.501 493.004 Q172.501 484.254 175.556 479.671 Q178.635 475.064 184.445 475.064 Z\" fill=\"#000000\" fill-rule=\"evenodd\" fill-opacity=\"1\" /><path clip-path=\"url(#clip000)\" d=\"M214.607 478.768 Q210.996 478.768 209.167 482.333 Q207.362 485.874 207.362 493.004 Q207.362 500.111 209.167 503.675 Q210.996 507.217 214.607 507.217 Q218.241 507.217 220.047 503.675 Q221.875 500.111 221.875 493.004 Q221.875 485.874 220.047 482.333 Q218.241 478.768 214.607 478.768 M214.607 475.064 Q220.417 475.064 223.473 479.671 Q226.551 484.254 226.551 493.004 Q226.551 501.731 223.473 506.337 Q220.417 510.921 214.607 510.921 Q208.797 510.921 205.718 506.337 Q202.662 501.731 202.662 493.004 Q202.662 484.254 205.718 479.671 Q208.797 475.064 214.607 475.064 Z\" fill=\"#000000\" fill-rule=\"evenodd\" fill-opacity=\"1\" /><path clip-path=\"url(#clip000)\" d=\"M114.931 259.439 L122.57 259.439 L122.57 233.074 L114.26 234.741 L114.26 230.481 L122.524 228.815 L127.2 228.815 L127.2 259.439 L134.839 259.439 L134.839 263.375 L114.931 263.375 L114.931 259.439 Z\" fill=\"#000000\" fill-rule=\"evenodd\" fill-opacity=\"1\" /><path clip-path=\"url(#clip000)\" d=\"M158.45 244.74 Q161.806 245.458 163.681 247.727 Q165.579 249.995 165.579 253.328 Q165.579 258.444 162.061 261.245 Q158.542 264.046 152.061 264.046 Q149.885 264.046 147.57 263.606 Q145.279 263.189 142.825 262.333 L142.825 257.819 Q144.769 258.953 147.084 259.532 Q149.399 260.111 151.922 260.111 Q156.32 260.111 158.612 258.375 Q160.927 256.639 160.927 253.328 Q160.927 250.273 158.774 248.56 Q156.644 246.824 152.825 246.824 L148.797 246.824 L148.797 242.981 L153.01 242.981 Q156.459 242.981 158.288 241.616 Q160.116 240.227 160.116 237.634 Q160.116 234.972 158.218 233.56 Q156.343 232.125 152.825 232.125 Q150.903 232.125 148.704 232.541 Q146.505 232.958 143.866 233.838 L143.866 229.671 Q146.529 228.93 148.843 228.56 Q151.181 228.19 153.241 228.19 Q158.565 228.19 161.667 230.62 Q164.769 233.028 164.769 237.148 Q164.769 240.018 163.126 242.009 Q161.482 243.977 158.45 244.74 Z\" fill=\"#000000\" fill-rule=\"evenodd\" fill-opacity=\"1\" /><path clip-path=\"url(#clip000)\" d=\"M184.445 231.893 Q180.834 231.893 179.005 235.458 Q177.2 239 177.2 246.129 Q177.2 253.236 179.005 256.801 Q180.834 260.342 184.445 260.342 Q188.079 260.342 189.885 256.801 Q191.713 253.236 191.713 246.129 Q191.713 239 189.885 235.458 Q188.079 231.893 184.445 231.893 M184.445 228.19 Q190.255 228.19 193.311 232.796 Q196.389 237.379 196.389 246.129 Q196.389 254.856 193.311 259.463 Q190.255 264.046 184.445 264.046 Q178.635 264.046 175.556 259.463 Q172.501 254.856 172.501 246.129 Q172.501 237.379 175.556 232.796 Q178.635 228.19 184.445 228.19 Z\" fill=\"#000000\" fill-rule=\"evenodd\" fill-opacity=\"1\" /><path clip-path=\"url(#clip000)\" d=\"M214.607 231.893 Q210.996 231.893 209.167 235.458 Q207.362 239 207.362 246.129 Q207.362 253.236 209.167 256.801 Q210.996 260.342 214.607 260.342 Q218.241 260.342 220.047 256.801 Q221.875 253.236 221.875 246.129 Q221.875 239 220.047 235.458 Q218.241 231.893 214.607 231.893 M214.607 228.19 Q220.417 228.19 223.473 232.796 Q226.551 237.379 226.551 246.129 Q226.551 254.856 223.473 259.463 Q220.417 264.046 214.607 264.046 Q208.797 264.046 205.718 259.463 Q202.662 254.856 202.662 246.129 Q202.662 237.379 205.718 232.796 Q208.797 228.19 214.607 228.19 Z\" fill=\"#000000\" fill-rule=\"evenodd\" fill-opacity=\"1\" /><path clip-path=\"url(#clip000)\" d=\"M21.7677 882.355 L58.7206 882.355 L58.7206 874.588 Q58.7206 864.753 54.2646 860.202 Q49.8086 855.619 40.1964 855.619 Q30.6479 855.619 26.2237 860.202 Q21.7677 864.753 21.7677 874.588 L21.7677 882.355 M16.4842 888.784 L16.4842 875.575 Q16.4842 861.762 22.2451 855.3 Q27.9743 848.839 40.1964 848.839 Q52.4822 848.839 58.2432 855.332 Q64.0042 861.825 64.0042 875.575 L64.0042 888.784 L16.4842 888.784 Z\" fill=\"#000000\" fill-rule=\"evenodd\" fill-opacity=\"1\" /><path clip-path=\"url(#clip000)\" d=\"M16.4842 845.179 L16.4842 804.979 L21.895 804.979 L21.895 821.849 L64.0042 821.849 L64.0042 828.31 L21.895 828.31 L21.895 845.179 L16.4842 845.179 Z\" fill=\"#000000\" fill-rule=\"evenodd\" fill-opacity=\"1\" /><path clip-path=\"url(#clip000)\" d=\"M14.5426 784.959 Q21.8632 789.224 29.0246 791.293 Q36.186 793.362 43.5384 793.362 Q50.8908 793.362 58.1159 791.293 Q65.3091 789.193 72.5979 784.959 L72.5979 790.052 Q65.1182 794.826 57.8931 797.213 Q50.668 799.569 43.5384 799.569 Q36.4406 799.569 29.2474 797.213 Q22.0542 794.858 14.5426 790.052 L14.5426 784.959 Z\" fill=\"#000000\" fill-rule=\"evenodd\" fill-opacity=\"1\" /><path clip-path=\"url(#clip000)\" d=\"M46.0847 757.396 Q46.0847 764.494 47.7079 767.231 Q49.3312 769.968 53.2461 769.968 Q56.3653 769.968 58.2114 767.931 Q60.0256 765.862 60.0256 762.329 Q60.0256 757.459 56.5881 754.531 Q53.1188 751.571 47.3897 751.571 L46.0847 751.571 L46.0847 757.396 M43.6657 745.715 L64.0042 745.715 L64.0042 751.571 L58.5933 751.571 Q61.8398 753.576 63.3994 756.568 Q64.9272 759.56 64.9272 763.889 Q64.9272 769.363 61.8716 772.61 Q58.7843 775.825 53.6281 775.825 Q47.6125 775.825 44.5569 771.814 Q41.5014 767.772 41.5014 759.783 L41.5014 751.571 L40.9285 751.571 Q36.8862 751.571 34.6901 754.245 Q32.4621 756.887 32.4621 761.693 Q32.4621 764.748 33.1941 767.645 Q33.9262 770.541 35.3903 773.215 L29.9795 773.215 Q28.7381 770 28.1334 766.976 Q27.4968 763.952 27.4968 761.088 Q27.4968 753.354 31.5072 749.534 Q35.5176 745.715 43.6657 745.715 Z\" fill=\"#000000\" fill-rule=\"evenodd\" fill-opacity=\"1\" /><path clip-path=\"url(#clip000)\" d=\"M55.9197 732.156 L55.9197 725.44 L61.3942 725.44 L71.5793 730.66 L71.5793 734.766 L61.3942 732.156 L55.9197 732.156 Z\" fill=\"#000000\" fill-rule=\"evenodd\" fill-opacity=\"1\" /><path clip-path=\"url(#clip000)\" d=\"M46.212 687.341 Q39.7508 687.341 36.0905 690.015 Q32.3984 692.657 32.3984 697.304 Q32.3984 701.95 36.0905 704.624 Q39.7508 707.266 46.212 707.266 Q52.6732 707.266 56.3653 704.624 Q60.0256 701.95 60.0256 697.304 Q60.0256 692.657 56.3653 690.015 Q52.6732 687.341 46.212 687.341 M33.7671 707.266 Q30.5842 705.42 29.0564 702.619 Q27.4968 699.786 27.4968 695.871 Q27.4968 689.378 32.6531 685.336 Q37.8093 681.262 46.212 681.262 Q54.6147 681.262 59.771 685.336 Q64.9272 689.378 64.9272 695.871 Q64.9272 699.786 63.3994 702.619 Q61.8398 705.42 58.657 707.266 L64.0042 707.266 L64.0042 713.154 L14.479 713.154 L14.479 707.266 L33.7671 707.266 Z\" fill=\"#000000\" fill-rule=\"evenodd\" fill-opacity=\"1\" /><path clip-path=\"url(#clip000)\" d=\"M14.5426 672.477 L14.5426 667.385 Q22.0542 662.61 29.2474 660.255 Q36.4406 657.868 43.5384 657.868 Q50.668 657.868 57.8931 660.255 Q65.1182 662.61 72.5979 667.385 L72.5979 672.477 Q65.3091 668.244 58.1159 666.175 Q50.8908 664.075 43.5384 664.075 Q36.186 664.075 29.0246 666.175 Q21.8632 668.244 14.5426 672.477 Z\" fill=\"#000000\" fill-rule=\"evenodd\" fill-opacity=\"1\" /><path clip-path=\"url(#clip000)\" d=\"M426.825 12.096 L435.089 12.096 L447.809 63.2184 L460.488 12.096 L469.684 12.096 L482.403 63.2184 L495.083 12.096 L503.387 12.096 L488.196 72.576 L477.907 72.576 L465.147 20.0763 L452.265 72.576 L441.975 72.576 L426.825 12.096 Z\" fill=\"#000000\" fill-rule=\"evenodd\" fill-opacity=\"1\" /><path clip-path=\"url(#clip000)\" d=\"M529.232 49.7694 Q520.198 49.7694 516.715 51.8354 Q513.231 53.9013 513.231 58.8839 Q513.231 62.8538 515.823 65.2034 Q518.456 67.5124 522.953 67.5124 Q529.151 67.5124 532.878 63.1374 Q536.645 58.7219 536.645 51.4303 L536.645 49.7694 L529.232 49.7694 M544.099 46.6907 L544.099 72.576 L536.645 72.576 L536.645 65.6895 Q534.093 69.8214 530.285 71.8063 Q526.477 73.7508 520.968 73.7508 Q514 73.7508 509.868 69.8619 Q505.777 65.9325 505.777 59.3701 Q505.777 51.7138 510.881 47.825 Q516.026 43.9361 526.194 43.9361 L536.645 43.9361 L536.645 43.2069 Q536.645 38.0623 533.242 35.2672 Q529.88 32.4315 523.763 32.4315 Q519.874 32.4315 516.188 33.3632 Q512.502 34.295 509.099 36.1584 L509.099 29.2718 Q513.19 27.692 517.039 26.9223 Q520.887 26.1121 524.533 26.1121 Q534.376 26.1121 539.238 31.2163 Q544.099 36.3204 544.099 46.6907 Z\" fill=\"#000000\" fill-rule=\"evenodd\" fill-opacity=\"1\" /><path clip-path=\"url(#clip000)\" d=\"M554.104 27.2059 L562.004 27.2059 L576.182 65.2844 L590.36 27.2059 L598.259 27.2059 L581.245 72.576 L571.118 72.576 L554.104 27.2059 Z\" fill=\"#000000\" fill-rule=\"evenodd\" fill-opacity=\"1\" /><path clip-path=\"url(#clip000)\" d=\"M647.356 48.0275 L647.356 51.6733 L613.086 51.6733 Q613.572 59.3701 617.704 63.421 Q621.876 67.4314 629.289 67.4314 Q633.583 67.4314 637.593 66.3781 Q641.644 65.3249 645.614 63.2184 L645.614 70.267 Q641.604 71.9684 637.391 72.8596 Q633.178 73.7508 628.844 73.7508 Q617.987 73.7508 611.627 67.4314 Q605.308 61.1119 605.308 50.3365 Q605.308 39.1965 611.303 32.6746 Q617.339 26.1121 627.547 26.1121 Q636.702 26.1121 642.009 32.0264 Q647.356 37.9003 647.356 48.0275 M639.903 45.84 Q639.821 39.7232 636.459 36.0774 Q633.138 32.4315 627.628 32.4315 Q621.39 32.4315 617.623 35.9558 Q613.896 39.4801 613.329 45.8805 L639.903 45.84 Z\" fill=\"#000000\" fill-rule=\"evenodd\" fill-opacity=\"1\" /><path clip-path=\"url(#clip000)\" d=\"M659.59 9.54393 L667.044 9.54393 L667.044 72.576 L659.59 72.576 L659.59 9.54393 Z\" fill=\"#000000\" fill-rule=\"evenodd\" fill-opacity=\"1\" /><path clip-path=\"url(#clip000)\" d=\"M721.447 48.0275 L721.447 51.6733 L687.177 51.6733 Q687.663 59.3701 691.795 63.421 Q695.967 67.4314 703.38 67.4314 Q707.674 67.4314 711.685 66.3781 Q715.735 65.3249 719.705 63.2184 L719.705 70.267 Q715.695 71.9684 711.482 72.8596 Q707.269 73.7508 702.935 73.7508 Q692.078 73.7508 685.718 67.4314 Q679.399 61.1119 679.399 50.3365 Q679.399 39.1965 685.394 32.6746 Q691.43 26.1121 701.638 26.1121 Q710.793 26.1121 716.1 32.0264 Q721.447 37.9003 721.447 48.0275 M713.994 45.84 Q713.913 39.7232 710.55 36.0774 Q707.229 32.4315 701.719 32.4315 Q695.481 32.4315 691.714 35.9558 Q687.987 39.4801 687.42 45.8805 L713.994 45.84 Z\" fill=\"#000000\" fill-rule=\"evenodd\" fill-opacity=\"1\" /><path clip-path=\"url(#clip000)\" d=\"M741.054 14.324 L741.054 27.2059 L756.407 27.2059 L756.407 32.9987 L741.054 32.9987 L741.054 57.6282 Q741.054 63.1779 742.552 64.7578 Q744.092 66.3376 748.75 66.3376 L756.407 66.3376 L756.407 72.576 L748.75 72.576 Q740.122 72.576 736.841 69.3758 Q733.559 66.1351 733.559 57.6282 L733.559 32.9987 L728.091 32.9987 L728.091 27.2059 L733.559 27.2059 L733.559 14.324 L741.054 14.324 Z\" fill=\"#000000\" fill-rule=\"evenodd\" fill-opacity=\"1\" /><path clip-path=\"url(#clip000)\" d=\"M831.389 48.0275 L831.389 51.6733 L797.118 51.6733 Q797.604 59.3701 801.736 63.421 Q805.909 67.4314 813.322 67.4314 Q817.616 67.4314 821.626 66.3781 Q825.677 65.3249 829.647 63.2184 L829.647 70.267 Q825.636 71.9684 821.424 72.8596 Q817.211 73.7508 812.876 73.7508 Q802.02 73.7508 795.66 67.4314 Q789.34 61.1119 789.34 50.3365 Q789.34 39.1965 795.336 32.6746 Q801.372 26.1121 811.58 26.1121 Q820.735 26.1121 826.042 32.0264 Q831.389 37.9003 831.389 48.0275 M823.935 45.84 Q823.854 39.7232 820.492 36.0774 Q817.17 32.4315 811.661 32.4315 Q805.422 32.4315 801.655 35.9558 Q797.928 39.4801 797.361 45.8805 L823.935 45.84 Z\" fill=\"#000000\" fill-rule=\"evenodd\" fill-opacity=\"1\" /><path clip-path=\"url(#clip000)\" d=\"M872.546 28.5427 L872.546 35.5912 Q869.386 33.9709 865.983 33.1607 Q862.581 32.3505 858.935 32.3505 Q853.385 32.3505 850.59 34.0519 Q847.835 35.7533 847.835 39.156 Q847.835 41.7486 849.82 43.2475 Q851.805 44.7058 857.801 46.0426 L860.353 46.6097 Q868.292 48.3111 871.614 51.4303 Q874.976 54.509 874.976 60.0587 Q874.976 66.3781 869.953 70.0644 Q864.971 73.7508 856.221 73.7508 Q852.575 73.7508 848.605 73.0216 Q844.676 72.3329 840.301 70.9151 L840.301 63.2184 Q844.433 65.3654 848.443 66.4591 Q852.453 67.5124 856.383 67.5124 Q861.649 67.5124 864.485 65.73 Q867.32 63.9071 867.32 60.6258 Q867.32 57.5877 865.254 55.9673 Q863.229 54.3469 856.302 52.8481 L853.709 52.2405 Q846.782 50.7821 843.704 47.7845 Q840.625 44.7463 840.625 39.4801 Q840.625 33.0797 845.162 29.5959 Q849.699 26.1121 858.044 26.1121 Q862.176 26.1121 865.821 26.7198 Q869.467 27.3274 872.546 28.5427 Z\" fill=\"#000000\" fill-rule=\"evenodd\" fill-opacity=\"1\" /><path clip-path=\"url(#clip000)\" d=\"M894.218 14.324 L894.218 27.2059 L909.571 27.2059 L909.571 32.9987 L894.218 32.9987 L894.218 57.6282 Q894.218 63.1779 895.717 64.7578 Q897.256 66.3376 901.915 66.3376 L909.571 66.3376 L909.571 72.576 L901.915 72.576 Q893.287 72.576 890.005 69.3758 Q886.724 66.1351 886.724 57.6282 L886.724 32.9987 L881.255 32.9987 L881.255 27.2059 L886.724 27.2059 L886.724 14.324 L894.218 14.324 Z\" fill=\"#000000\" fill-rule=\"evenodd\" fill-opacity=\"1\" /><path clip-path=\"url(#clip000)\" d=\"M919.374 27.2059 L926.828 27.2059 L926.828 72.576 L919.374 72.576 L919.374 27.2059 M919.374 9.54393 L926.828 9.54393 L926.828 18.9825 L919.374 18.9825 L919.374 9.54393 Z\" fill=\"#000000\" fill-rule=\"evenodd\" fill-opacity=\"1\" /><path clip-path=\"url(#clip000)\" d=\"M977.748 35.9153 Q980.543 30.8922 984.432 28.5022 Q988.321 26.1121 993.587 26.1121 Q1000.68 26.1121 1004.52 31.0947 Q1008.37 36.0368 1008.37 45.1919 L1008.37 72.576 L1000.88 72.576 L1000.88 45.4349 Q1000.88 38.913 998.57 35.7533 Q996.261 32.5936 991.521 32.5936 Q985.728 32.5936 982.366 36.4419 Q979.004 40.2903 979.004 46.9338 L979.004 72.576 L971.51 72.576 L971.51 45.4349 Q971.51 38.8725 969.201 35.7533 Q966.892 32.5936 962.071 32.5936 Q956.359 32.5936 952.997 36.4824 Q949.635 40.3308 949.635 46.9338 L949.635 72.576 L942.14 72.576 L942.14 27.2059 L949.635 27.2059 L949.635 34.2544 Q952.187 30.082 955.752 28.0971 Q959.316 26.1121 964.218 26.1121 Q969.16 26.1121 972.603 28.6237 Q976.087 31.1352 977.748 35.9153 Z\" fill=\"#000000\" fill-rule=\"evenodd\" fill-opacity=\"1\" /><path clip-path=\"url(#clip000)\" d=\"M1043.86 49.7694 Q1034.83 49.7694 1031.34 51.8354 Q1027.86 53.9013 1027.86 58.8839 Q1027.86 62.8538 1030.45 65.2034 Q1033.08 67.5124 1037.58 67.5124 Q1043.78 67.5124 1047.5 63.1374 Q1051.27 58.7219 1051.27 51.4303 L1051.27 49.7694 L1043.86 49.7694 M1058.73 46.6907 L1058.73 72.576 L1051.27 72.576 L1051.27 65.6895 Q1048.72 69.8214 1044.91 71.8063 Q1041.1 73.7508 1035.59 73.7508 Q1028.63 73.7508 1024.5 69.8619 Q1020.4 65.9325 1020.4 59.3701 Q1020.4 51.7138 1025.51 47.825 Q1030.65 43.9361 1040.82 43.9361 L1051.27 43.9361 L1051.27 43.2069 Q1051.27 38.0623 1047.87 35.2672 Q1044.51 32.4315 1038.39 32.4315 Q1034.5 32.4315 1030.81 33.3632 Q1027.13 34.295 1023.73 36.1584 L1023.73 29.2718 Q1027.82 27.692 1031.67 26.9223 Q1035.51 26.1121 1039.16 26.1121 Q1049 26.1121 1053.86 31.2163 Q1058.73 36.3204 1058.73 46.6907 Z\" fill=\"#000000\" fill-rule=\"evenodd\" fill-opacity=\"1\" /><path clip-path=\"url(#clip000)\" d=\"M1081.45 14.324 L1081.45 27.2059 L1096.8 27.2059 L1096.8 32.9987 L1081.45 32.9987 L1081.45 57.6282 Q1081.45 63.1779 1082.95 64.7578 Q1084.49 66.3376 1089.15 66.3376 L1096.8 66.3376 L1096.8 72.576 L1089.15 72.576 Q1080.52 72.576 1077.24 69.3758 Q1073.96 66.1351 1073.96 57.6282 L1073.96 32.9987 L1068.49 32.9987 L1068.49 27.2059 L1073.96 27.2059 L1073.96 14.324 L1081.45 14.324 Z\" fill=\"#000000\" fill-rule=\"evenodd\" fill-opacity=\"1\" /><path clip-path=\"url(#clip000)\" d=\"M1124.19 32.4315 Q1118.19 32.4315 1114.71 37.1306 Q1111.23 41.7891 1111.23 49.9314 Q1111.23 58.0738 1114.67 62.7728 Q1118.15 67.4314 1124.19 67.4314 Q1130.14 67.4314 1133.63 62.7323 Q1137.11 58.0333 1137.11 49.9314 Q1137.11 41.8701 1133.63 37.1711 Q1130.14 32.4315 1124.19 32.4315 M1124.19 26.1121 Q1133.91 26.1121 1139.46 32.4315 Q1145.01 38.7509 1145.01 49.9314 Q1145.01 61.0714 1139.46 67.4314 Q1133.91 73.7508 1124.19 73.7508 Q1114.43 73.7508 1108.88 67.4314 Q1103.37 61.0714 1103.37 49.9314 Q1103.37 38.7509 1108.88 32.4315 Q1114.43 26.1121 1124.19 26.1121 Z\" fill=\"#000000\" fill-rule=\"evenodd\" fill-opacity=\"1\" /><path clip-path=\"url(#clip000)\" d=\"M1183.66 34.1734 Q1182.4 33.4443 1180.9 33.1202 Q1179.44 32.7556 1177.66 32.7556 Q1171.34 32.7556 1167.94 36.8875 Q1164.58 40.9789 1164.58 48.6757 L1164.58 72.576 L1157.08 72.576 L1157.08 27.2059 L1164.58 27.2059 L1164.58 34.2544 Q1166.93 30.1225 1170.69 28.1376 Q1174.46 26.1121 1179.85 26.1121 Q1180.62 26.1121 1181.55 26.2337 Q1182.48 26.3147 1183.61 26.5172 L1183.66 34.1734 Z\" fill=\"#000000\" fill-rule=\"evenodd\" fill-opacity=\"1\" /><path clip-path=\"url(#clip000)\" d=\"M1238.46 49.7694 Q1229.43 49.7694 1225.95 51.8354 Q1222.46 53.9013 1222.46 58.8839 Q1222.46 62.8538 1225.06 65.2034 Q1227.69 67.5124 1232.19 67.5124 Q1238.38 67.5124 1242.11 63.1374 Q1245.88 58.7219 1245.88 51.4303 L1245.88 49.7694 L1238.46 49.7694 M1253.33 46.6907 L1253.33 72.576 L1245.88 72.576 L1245.88 65.6895 Q1243.33 69.8214 1239.52 71.8063 Q1235.71 73.7508 1230.2 73.7508 Q1223.23 73.7508 1219.1 69.8619 Q1215.01 65.9325 1215.01 59.3701 Q1215.01 51.7138 1220.11 47.825 Q1225.26 43.9361 1235.43 43.9361 L1245.88 43.9361 L1245.88 43.2069 Q1245.88 38.0623 1242.47 35.2672 Q1239.11 32.4315 1233 32.4315 Q1229.11 32.4315 1225.42 33.3632 Q1221.73 34.295 1218.33 36.1584 L1218.33 29.2718 Q1222.42 27.692 1226.27 26.9223 Q1230.12 26.1121 1233.77 26.1121 Q1243.61 26.1121 1248.47 31.2163 Q1253.33 36.3204 1253.33 46.6907 Z\" fill=\"#000000\" fill-rule=\"evenodd\" fill-opacity=\"1\" /><path clip-path=\"url(#clip000)\" d=\"M1306.4 45.1919 L1306.4 72.576 L1298.94 72.576 L1298.94 45.4349 Q1298.94 38.994 1296.43 35.7938 Q1293.92 32.5936 1288.9 32.5936 Q1282.86 32.5936 1279.38 36.4419 Q1275.89 40.2903 1275.89 46.9338 L1275.89 72.576 L1268.4 72.576 L1268.4 27.2059 L1275.89 27.2059 L1275.89 34.2544 Q1278.57 30.163 1282.17 28.1376 Q1285.82 26.1121 1290.56 26.1121 Q1298.38 26.1121 1302.39 30.9732 Q1306.4 35.7938 1306.4 45.1919 Z\" fill=\"#000000\" fill-rule=\"evenodd\" fill-opacity=\"1\" /><path clip-path=\"url(#clip000)\" d=\"M1351.12 34.0924 L1351.12 9.54393 L1358.57 9.54393 L1358.57 72.576 L1351.12 72.576 L1351.12 65.7705 Q1348.77 69.8214 1345.16 71.8063 Q1341.6 73.7508 1336.58 73.7508 Q1328.35 73.7508 1323.17 67.1883 Q1318.02 60.6258 1318.02 49.9314 Q1318.02 39.2371 1323.17 32.6746 Q1328.35 26.1121 1336.58 26.1121 Q1341.6 26.1121 1345.16 28.0971 Q1348.77 30.0415 1351.12 34.0924 M1325.72 49.9314 Q1325.72 58.1548 1329.08 62.8538 Q1332.49 67.5124 1338.4 67.5124 Q1344.31 67.5124 1347.72 62.8538 Q1351.12 58.1548 1351.12 49.9314 Q1351.12 41.7081 1347.72 37.0496 Q1344.31 32.3505 1338.4 32.3505 Q1332.49 32.3505 1329.08 37.0496 Q1325.72 41.7081 1325.72 49.9314 Z\" fill=\"#000000\" fill-rule=\"evenodd\" fill-opacity=\"1\" /><path clip-path=\"url(#clip000)\" d=\"M1439.11 48.0275 L1439.11 51.6733 L1404.83 51.6733 Q1405.32 59.3701 1409.45 63.421 Q1413.63 67.4314 1421.04 67.4314 Q1425.33 67.4314 1429.34 66.3781 Q1433.39 65.3249 1437.36 63.2184 L1437.36 70.267 Q1433.35 71.9684 1429.14 72.8596 Q1424.93 73.7508 1420.59 73.7508 Q1409.74 73.7508 1403.38 67.4314 Q1397.06 61.1119 1397.06 50.3365 Q1397.06 39.1965 1403.05 32.6746 Q1409.09 26.1121 1419.3 26.1121 Q1428.45 26.1121 1433.76 32.0264 Q1439.11 37.9003 1439.11 48.0275 M1431.65 45.84 Q1431.57 39.7232 1428.21 36.0774 Q1424.89 32.4315 1419.38 32.4315 Q1413.14 32.4315 1409.37 35.9558 Q1405.64 39.4801 1405.08 45.8805 L1431.65 45.84 Z\" fill=\"#000000\" fill-rule=\"evenodd\" fill-opacity=\"1\" /><path clip-path=\"url(#clip000)\" d=\"M1486.66 35.9153 Q1489.46 30.8922 1493.35 28.5022 Q1497.24 26.1121 1502.5 26.1121 Q1509.59 26.1121 1513.44 31.0947 Q1517.29 36.0368 1517.29 45.1919 L1517.29 72.576 L1509.79 72.576 L1509.79 45.4349 Q1509.79 38.913 1507.48 35.7533 Q1505.18 32.5936 1500.44 32.5936 Q1494.64 32.5936 1491.28 36.4419 Q1487.92 40.2903 1487.92 46.9338 L1487.92 72.576 L1480.42 72.576 L1480.42 45.4349 Q1480.42 38.8725 1478.12 35.7533 Q1475.81 32.5936 1470.99 32.5936 Q1465.27 32.5936 1461.91 36.4824 Q1458.55 40.3308 1458.55 46.9338 L1458.55 72.576 L1451.06 72.576 L1451.06 27.2059 L1458.55 27.2059 L1458.55 34.2544 Q1461.1 30.082 1464.67 28.0971 Q1468.23 26.1121 1473.13 26.1121 Q1478.08 26.1121 1481.52 28.6237 Q1485 31.1352 1486.66 35.9153 Z\" fill=\"#000000\" fill-rule=\"evenodd\" fill-opacity=\"1\" /><path clip-path=\"url(#clip000)\" d=\"M1539.37 65.7705 L1539.37 89.8329 L1531.87 89.8329 L1531.87 27.2059 L1539.37 27.2059 L1539.37 34.0924 Q1541.71 30.0415 1545.28 28.0971 Q1548.88 26.1121 1553.87 26.1121 Q1562.13 26.1121 1567.28 32.6746 Q1572.46 39.2371 1572.46 49.9314 Q1572.46 60.6258 1567.28 67.1883 Q1562.13 73.7508 1553.87 73.7508 Q1548.88 73.7508 1545.28 71.8063 Q1541.71 69.8214 1539.37 65.7705 M1564.72 49.9314 Q1564.72 41.7081 1561.32 37.0496 Q1557.96 32.3505 1552.04 32.3505 Q1546.13 32.3505 1542.73 37.0496 Q1539.37 41.7081 1539.37 49.9314 Q1539.37 58.1548 1542.73 62.8538 Q1546.13 67.5124 1552.04 67.5124 Q1557.96 67.5124 1561.32 62.8538 Q1564.72 58.1548 1564.72 49.9314 Z\" fill=\"#000000\" fill-rule=\"evenodd\" fill-opacity=\"1\" /><path clip-path=\"url(#clip000)\" d=\"M1584.82 27.2059 L1592.27 27.2059 L1592.27 72.576 L1584.82 72.576 L1584.82 27.2059 M1584.82 9.54393 L1592.27 9.54393 L1592.27 18.9825 L1584.82 18.9825 L1584.82 9.54393 Z\" fill=\"#000000\" fill-rule=\"evenodd\" fill-opacity=\"1\" /><path clip-path=\"url(#clip000)\" d=\"M1634.16 34.1734 Q1632.9 33.4443 1631.4 33.1202 Q1629.94 32.7556 1628.16 32.7556 Q1621.84 32.7556 1618.44 36.8875 Q1615.08 40.9789 1615.08 48.6757 L1615.08 72.576 L1607.58 72.576 L1607.58 27.2059 L1615.08 27.2059 L1615.08 34.2544 Q1617.43 30.1225 1621.19 28.1376 Q1624.96 26.1121 1630.35 26.1121 Q1631.12 26.1121 1632.05 26.2337 Q1632.98 26.3147 1634.12 26.5172 L1634.16 34.1734 Z\" fill=\"#000000\" fill-rule=\"evenodd\" fill-opacity=\"1\" /><path clip-path=\"url(#clip000)\" d=\"M1641.97 27.2059 L1649.43 27.2059 L1649.43 72.576 L1641.97 72.576 L1641.97 27.2059 M1641.97 9.54393 L1649.43 9.54393 L1649.43 18.9825 L1641.97 18.9825 L1641.97 9.54393 Z\" fill=\"#000000\" fill-rule=\"evenodd\" fill-opacity=\"1\" /><path clip-path=\"url(#clip000)\" d=\"M1697.67 28.9478 L1697.67 35.9153 Q1694.51 34.1734 1691.31 33.3227 Q1688.15 32.4315 1684.91 32.4315 Q1677.66 32.4315 1673.65 37.0496 Q1669.64 41.6271 1669.64 49.9314 Q1669.64 58.2358 1673.65 62.8538 Q1677.66 67.4314 1684.91 67.4314 Q1688.15 67.4314 1691.31 66.5807 Q1694.51 65.6895 1697.67 63.9476 L1697.67 70.8341 Q1694.56 72.2924 1691.19 73.0216 Q1687.87 73.7508 1684.1 73.7508 Q1673.86 73.7508 1667.82 67.3098 Q1661.78 60.8689 1661.78 49.9314 Q1661.78 38.832 1667.86 32.472 Q1673.98 26.1121 1684.59 26.1121 Q1688.03 26.1121 1691.31 26.8413 Q1694.6 27.5299 1697.67 28.9478 Z\" fill=\"#000000\" fill-rule=\"evenodd\" fill-opacity=\"1\" /><path clip-path=\"url(#clip000)\" d=\"M1731.26 49.7694 Q1722.22 49.7694 1718.74 51.8354 Q1715.26 53.9013 1715.26 58.8839 Q1715.26 62.8538 1717.85 65.2034 Q1720.48 67.5124 1724.98 67.5124 Q1731.18 67.5124 1734.9 63.1374 Q1738.67 58.7219 1738.67 51.4303 L1738.67 49.7694 L1731.26 49.7694 M1746.12 46.6907 L1746.12 72.576 L1738.67 72.576 L1738.67 65.6895 Q1736.12 69.8214 1732.31 71.8063 Q1728.5 73.7508 1722.99 73.7508 Q1716.03 73.7508 1711.89 69.8619 Q1707.8 65.9325 1707.8 59.3701 Q1707.8 51.7138 1712.91 47.825 Q1718.05 43.9361 1728.22 43.9361 L1738.67 43.9361 L1738.67 43.2069 Q1738.67 38.0623 1735.27 35.2672 Q1731.9 32.4315 1725.79 32.4315 Q1721.9 32.4315 1718.21 33.3632 Q1714.53 34.295 1711.12 36.1584 L1711.12 29.2718 Q1715.22 27.692 1719.06 26.9223 Q1722.91 26.1121 1726.56 26.1121 Q1736.4 26.1121 1741.26 31.2163 Q1746.12 36.3204 1746.12 46.6907 Z\" fill=\"#000000\" fill-rule=\"evenodd\" fill-opacity=\"1\" /><path clip-path=\"url(#clip000)\" d=\"M1761.48 9.54393 L1768.93 9.54393 L1768.93 72.576 L1761.48 72.576 L1761.48 9.54393 Z\" fill=\"#000000\" fill-rule=\"evenodd\" fill-opacity=\"1\" /><path clip-path=\"url(#clip000)\" d=\"M1840.75 34.0924 L1840.75 9.54393 L1848.21 9.54393 L1848.21 72.576 L1840.75 72.576 L1840.75 65.7705 Q1838.4 69.8214 1834.8 71.8063 Q1831.23 73.7508 1826.21 73.7508 Q1817.99 73.7508 1812.8 67.1883 Q1807.66 60.6258 1807.66 49.9314 Q1807.66 39.2371 1812.8 32.6746 Q1817.99 26.1121 1826.21 26.1121 Q1831.23 26.1121 1834.8 28.0971 Q1838.4 30.0415 1840.75 34.0924 M1815.35 49.9314 Q1815.35 58.1548 1818.72 62.8538 Q1822.12 67.5124 1828.03 67.5124 Q1833.95 67.5124 1837.35 62.8538 Q1840.75 58.1548 1840.75 49.9314 Q1840.75 41.7081 1837.35 37.0496 Q1833.95 32.3505 1828.03 32.3505 Q1822.12 32.3505 1818.72 37.0496 Q1815.35 41.7081 1815.35 49.9314 Z\" fill=\"#000000\" fill-rule=\"evenodd\" fill-opacity=\"1\" /><path clip-path=\"url(#clip000)\" d=\"M1884.18 49.7694 Q1875.14 49.7694 1871.66 51.8354 Q1868.18 53.9013 1868.18 58.8839 Q1868.18 62.8538 1870.77 65.2034 Q1873.4 67.5124 1877.9 67.5124 Q1884.1 67.5124 1887.82 63.1374 Q1891.59 58.7219 1891.59 51.4303 L1891.59 49.7694 L1884.18 49.7694 M1899.05 46.6907 L1899.05 72.576 L1891.59 72.576 L1891.59 65.6895 Q1889.04 69.8214 1885.23 71.8063 Q1881.42 73.7508 1875.91 73.7508 Q1868.95 73.7508 1864.81 69.8619 Q1860.72 65.9325 1860.72 59.3701 Q1860.72 51.7138 1865.83 47.825 Q1870.97 43.9361 1881.14 43.9361 L1891.59 43.9361 L1891.59 43.2069 Q1891.59 38.0623 1888.19 35.2672 Q1884.83 32.4315 1878.71 32.4315 Q1874.82 32.4315 1871.13 33.3632 Q1867.45 34.295 1864.05 36.1584 L1864.05 29.2718 Q1868.14 27.692 1871.99 26.9223 Q1875.83 26.1121 1879.48 26.1121 Q1889.32 26.1121 1894.18 31.2163 Q1899.05 36.3204 1899.05 46.6907 Z\" fill=\"#000000\" fill-rule=\"evenodd\" fill-opacity=\"1\" /><path clip-path=\"url(#clip000)\" d=\"M1921.77 14.324 L1921.77 27.2059 L1937.12 27.2059 L1937.12 32.9987 L1921.77 32.9987 L1921.77 57.6282 Q1921.77 63.1779 1923.27 64.7578 Q1924.81 66.3376 1929.47 66.3376 L1937.12 66.3376 L1937.12 72.576 L1929.47 72.576 Q1920.84 72.576 1917.56 69.3758 Q1914.28 66.1351 1914.28 57.6282 L1914.28 32.9987 L1908.81 32.9987 L1908.81 27.2059 L1914.28 27.2059 L1914.28 14.324 L1921.77 14.324 Z\" fill=\"#000000\" fill-rule=\"evenodd\" fill-opacity=\"1\" /><path clip-path=\"url(#clip000)\" d=\"M1967.55 49.7694 Q1958.51 49.7694 1955.03 51.8354 Q1951.54 53.9013 1951.54 58.8839 Q1951.54 62.8538 1954.14 65.2034 Q1956.77 67.5124 1961.27 67.5124 Q1967.46 67.5124 1971.19 63.1374 Q1974.96 58.7219 1974.96 51.4303 L1974.96 49.7694 L1967.55 49.7694 M1982.41 46.6907 L1982.41 72.576 L1974.96 72.576 L1974.96 65.6895 Q1972.41 69.8214 1968.6 71.8063 Q1964.79 73.7508 1959.28 73.7508 Q1952.31 73.7508 1948.18 69.8619 Q1944.09 65.9325 1944.09 59.3701 Q1944.09 51.7138 1949.2 47.825 Q1954.34 43.9361 1964.51 43.9361 L1974.96 43.9361 L1974.96 43.2069 Q1974.96 38.0623 1971.56 35.2672 Q1968.19 32.4315 1962.08 32.4315 Q1958.19 32.4315 1954.5 33.3632 Q1950.82 34.295 1947.41 36.1584 L1947.41 29.2718 Q1951.5 27.692 1955.35 26.9223 Q1959.2 26.1121 1962.85 26.1121 Q1972.69 26.1121 1977.55 31.2163 Q1982.41 36.3204 1982.41 46.6907 Z\" fill=\"#000000\" fill-rule=\"evenodd\" fill-opacity=\"1\" /><path clip-path=\"url(#clip000)\" d=\"M2042.04 9.62495 Q2036.61 18.942 2033.98 28.0566 Q2031.35 37.1711 2031.35 46.5287 Q2031.35 55.8863 2033.98 65.0818 Q2036.65 74.2369 2042.04 83.5134 L2035.56 83.5134 Q2029.48 73.9938 2026.45 64.7983 Q2023.45 55.6027 2023.45 46.5287 Q2023.45 37.4952 2026.45 28.3401 Q2029.44 19.1851 2035.56 9.62495 L2042.04 9.62495 Z\" fill=\"#000000\" fill-rule=\"evenodd\" fill-opacity=\"1\" /><path clip-path=\"url(#clip000)\" d=\"M2065.01 18.8205 L2065.01 65.8515 L2074.89 65.8515 Q2087.41 65.8515 2093.2 60.1802 Q2099.04 54.509 2099.04 42.2752 Q2099.04 30.1225 2093.2 24.4918 Q2087.41 18.8205 2074.89 18.8205 L2065.01 18.8205 M2056.83 12.096 L2073.64 12.096 Q2091.22 12.096 2099.44 19.4281 Q2107.67 26.7198 2107.67 42.2752 Q2107.67 57.9117 2099.4 65.2439 Q2091.14 72.576 2073.64 72.576 L2056.83 72.576 L2056.83 12.096 Z\" fill=\"#000000\" fill-rule=\"evenodd\" fill-opacity=\"1\" /><path clip-path=\"url(#clip000)\" d=\"M2112.33 12.096 L2163.49 12.096 L2163.49 18.9825 L2142.02 18.9825 L2142.02 72.576 L2133.79 72.576 L2133.79 18.9825 L2112.33 18.9825 L2112.33 12.096 Z\" fill=\"#000000\" fill-rule=\"evenodd\" fill-opacity=\"1\" /><path clip-path=\"url(#clip000)\" d=\"M2169.89 9.62495 L2176.37 9.62495 Q2182.45 19.1851 2185.44 28.3401 Q2188.48 37.4952 2188.48 46.5287 Q2188.48 55.6027 2185.44 64.7983 Q2182.45 73.9938 2176.37 83.5134 L2169.89 83.5134 Q2175.28 74.2369 2177.91 65.0818 Q2180.58 55.8863 2180.58 46.5287 Q2180.58 37.1711 2177.91 28.0566 Q2175.28 18.942 2169.89 9.62495 Z\" fill=\"#000000\" fill-rule=\"evenodd\" fill-opacity=\"1\" /><circle clip-path=\"url(#clip002)\" cx=\"685.902\" cy=\"278.56\" r=\"14\" fill=\"#009af9\" fill-rule=\"evenodd\" fill-opacity=\"1\" stroke=\"#000000\" stroke-opacity=\"1\" stroke-width=\"3.2\"/>\n",
       "<circle clip-path=\"url(#clip002)\" cx=\"917.021\" cy=\"281.28\" r=\"14\" fill=\"#009af9\" fill-rule=\"evenodd\" fill-opacity=\"1\" stroke=\"#000000\" stroke-opacity=\"1\" stroke-width=\"3.2\"/>\n",
       "<circle clip-path=\"url(#clip002)\" cx=\"1888.95\" cy=\"1031.3\" r=\"14\" fill=\"#009af9\" fill-rule=\"evenodd\" fill-opacity=\"1\" stroke=\"#000000\" stroke-opacity=\"1\" stroke-width=\"3.2\"/>\n",
       "<circle clip-path=\"url(#clip002)\" cx=\"1966.53\" cy=\"877.767\" r=\"14\" fill=\"#009af9\" fill-rule=\"evenodd\" fill-opacity=\"1\" stroke=\"#000000\" stroke-opacity=\"1\" stroke-width=\"3.2\"/>\n",
       "<circle clip-path=\"url(#clip002)\" cx=\"2293.6\" cy=\"1160.96\" r=\"14\" fill=\"#009af9\" fill-rule=\"evenodd\" fill-opacity=\"1\" stroke=\"#000000\" stroke-opacity=\"1\" stroke-width=\"3.2\"/>\n",
       "<circle clip-path=\"url(#clip002)\" cx=\"475.243\" cy=\"160.256\" r=\"14\" fill=\"#009af9\" fill-rule=\"evenodd\" fill-opacity=\"1\" stroke=\"#000000\" stroke-opacity=\"1\" stroke-width=\"3.2\"/>\n",
       "<circle clip-path=\"url(#clip002)\" cx=\"1447.17\" cy=\"772.098\" r=\"14\" fill=\"#009af9\" fill-rule=\"evenodd\" fill-opacity=\"1\" stroke=\"#000000\" stroke-opacity=\"1\" stroke-width=\"3.2\"/>\n",
       "<circle clip-path=\"url(#clip002)\" cx=\"1524.75\" cy=\"668.124\" r=\"14\" fill=\"#009af9\" fill-rule=\"evenodd\" fill-opacity=\"1\" stroke=\"#000000\" stroke-opacity=\"1\" stroke-width=\"3.2\"/>\n",
       "<circle clip-path=\"url(#clip002)\" cx=\"1851.82\" cy=\"850.866\" r=\"14\" fill=\"#009af9\" fill-rule=\"evenodd\" fill-opacity=\"1\" stroke=\"#000000\" stroke-opacity=\"1\" stroke-width=\"3.2\"/>\n",
       "<circle clip-path=\"url(#clip002)\" cx=\"1216.05\" cy=\"570.547\" r=\"14\" fill=\"#009af9\" fill-rule=\"evenodd\" fill-opacity=\"1\" stroke=\"#000000\" stroke-opacity=\"1\" stroke-width=\"3.2\"/>\n",
       "<circle clip-path=\"url(#clip002)\" cx=\"1293.64\" cy=\"504.163\" r=\"14\" fill=\"#009af9\" fill-rule=\"evenodd\" fill-opacity=\"1\" stroke=\"#000000\" stroke-opacity=\"1\" stroke-width=\"3.2\"/>\n",
       "<circle clip-path=\"url(#clip002)\" cx=\"1620.7\" cy=\"884.764\" r=\"14\" fill=\"#009af9\" fill-rule=\"evenodd\" fill-opacity=\"1\" stroke=\"#000000\" stroke-opacity=\"1\" stroke-width=\"3.2\"/>\n",
       "<circle clip-path=\"url(#clip002)\" cx=\"321.708\" cy=\"668.468\" r=\"14\" fill=\"#009af9\" fill-rule=\"evenodd\" fill-opacity=\"1\" stroke=\"#000000\" stroke-opacity=\"1\" stroke-width=\"3.2\"/>\n",
       "<circle clip-path=\"url(#clip002)\" cx=\"648.776\" cy=\"845.467\" r=\"14\" fill=\"#009af9\" fill-rule=\"evenodd\" fill-opacity=\"1\" stroke=\"#000000\" stroke-opacity=\"1\" stroke-width=\"3.2\"/>\n",
       "<circle clip-path=\"url(#clip002)\" cx=\"571.192\" cy=\"869.231\" r=\"14\" fill=\"#009af9\" fill-rule=\"evenodd\" fill-opacity=\"1\" stroke=\"#000000\" stroke-opacity=\"1\" stroke-width=\"3.2\"/>\n",
       "<polyline clip-path=\"url(#clip002)\" style=\"stroke:#e26f46; stroke-linecap:butt; stroke-linejoin:round; stroke-width:4; stroke-opacity:1; fill:none\" points=\"\n",
       "  323.68,186.781 325.652,186.942 327.624,187.108 329.596,187.277 331.567,187.45 333.539,187.627 335.511,187.808 337.483,187.993 339.455,188.181 341.427,188.374 \n",
       "  343.399,188.571 345.371,188.771 347.343,188.975 349.314,189.184 351.286,189.396 353.258,189.612 355.23,189.832 357.202,190.056 359.174,190.284 361.146,190.516 \n",
       "  363.118,190.751 365.09,190.991 367.061,191.234 369.033,191.482 371.005,191.733 372.977,191.988 374.949,192.247 376.921,192.51 378.893,192.777 380.865,193.047 \n",
       "  382.837,193.322 384.808,193.6 386.78,193.882 388.752,194.168 390.724,194.458 392.696,194.752 394.668,195.05 396.64,195.352 398.612,195.657 400.584,195.966 \n",
       "  402.555,196.279 404.527,196.596 406.499,196.917 408.471,197.242 410.443,197.57 412.415,197.903 414.387,198.239 416.359,198.579 418.331,198.923 420.303,199.27 \n",
       "  422.274,199.622 424.246,199.977 426.218,200.336 428.19,200.699 430.162,201.066 432.134,201.437 434.106,201.811 436.078,202.189 438.05,202.571 440.021,202.957 \n",
       "  441.993,203.346 443.965,203.74 445.937,204.137 447.909,204.538 449.881,204.942 451.853,205.351 453.825,205.763 455.797,206.179 457.768,206.599 459.74,207.022 \n",
       "  461.712,207.449 463.684,207.88 465.656,208.315 467.628,208.754 469.6,209.196 471.572,209.642 473.544,210.092 475.515,210.545 477.487,211.002 479.459,211.463 \n",
       "  481.431,211.928 483.403,212.396 485.375,212.868 487.347,213.344 489.319,213.823 491.291,214.306 493.262,214.793 495.234,215.284 497.206,215.778 499.178,216.276 \n",
       "  501.15,216.778 503.122,217.283 505.094,217.792 507.066,218.304 509.038,218.821 511.01,219.341 512.981,219.864 514.953,220.391 516.925,220.922 518.897,221.457 \n",
       "  520.869,221.995 522.841,222.537 524.813,223.082 526.785,223.631 528.757,224.184 530.728,224.74 532.7,225.3 534.672,225.863 536.644,226.43 538.616,227.001 \n",
       "  540.588,227.575 542.56,228.153 544.532,228.734 546.504,229.319 548.475,229.908 550.447,230.5 552.419,231.096 554.391,231.695 556.363,232.298 558.335,232.904 \n",
       "  560.307,233.514 562.279,234.127 564.251,234.744 566.222,235.365 568.194,235.988 570.166,236.616 572.138,237.247 574.11,237.881 576.082,238.519 578.054,239.161 \n",
       "  580.026,239.806 581.998,240.454 583.969,241.106 585.941,241.762 587.913,242.421 589.885,243.083 591.857,243.749 593.829,244.418 595.801,245.091 597.773,245.767 \n",
       "  599.745,246.446 601.717,247.129 603.688,247.816 605.66,248.506 607.632,249.199 609.604,249.896 611.576,250.596 613.548,251.299 615.52,252.006 617.492,252.716 \n",
       "  619.464,253.43 621.435,254.147 623.407,254.867 625.379,255.591 627.351,256.318 629.323,257.048 631.295,257.782 633.267,258.519 635.239,259.26 637.211,260.003 \n",
       "  639.182,260.751 641.154,261.501 643.126,262.255 645.098,263.012 647.07,263.772 649.042,264.536 651.014,265.302 652.986,266.073 654.958,266.846 656.929,267.623 \n",
       "  658.901,268.403 660.873,269.186 662.845,269.972 664.817,270.762 666.789,271.555 668.761,272.351 670.733,273.151 672.705,273.953 674.676,274.759 676.648,275.568 \n",
       "  678.62,276.38 680.592,277.196 682.564,278.014 684.536,278.836 686.508,279.661 688.48,280.489 690.452,281.32 692.424,282.155 694.395,282.992 696.367,283.833 \n",
       "  698.339,284.677 700.311,285.524 702.283,286.374 704.255,287.227 706.227,288.083 708.199,288.943 710.171,289.805 712.142,290.671 714.114,291.539 716.086,292.411 \n",
       "  718.058,293.286 720.03,294.164 722.002,295.045 723.974,295.929 725.946,296.816 727.918,297.706 729.889,298.599 731.861,299.495 733.833,300.394 735.805,301.296 \n",
       "  737.777,302.201 739.749,303.109 741.721,304.02 743.693,304.934 745.665,305.851 747.636,306.771 749.608,307.694 751.58,308.62 753.552,309.549 755.524,310.481 \n",
       "  757.496,311.416 759.468,312.353 761.44,313.294 763.412,314.237 765.383,315.184 767.355,316.133 769.327,317.085 771.299,318.04 773.271,318.998 775.243,319.959 \n",
       "  777.215,320.922 779.187,321.889 781.159,322.858 783.131,323.83 785.102,324.805 787.074,325.783 789.046,326.764 791.018,327.747 792.99,328.733 794.962,329.722 \n",
       "  796.934,330.714 798.906,331.709 800.878,332.706 802.849,333.706 804.821,334.709 806.793,335.715 808.765,336.723 810.737,337.734 812.709,338.748 814.681,339.765 \n",
       "  816.653,340.784 818.625,341.806 820.596,342.831 822.568,343.858 824.54,344.888 826.512,345.921 828.484,346.956 830.456,347.994 832.428,349.035 834.4,350.078 \n",
       "  836.372,351.124 838.343,352.173 840.315,353.224 842.287,354.278 844.259,355.335 846.231,356.394 848.203,357.455 850.175,358.52 852.147,359.587 854.119,360.656 \n",
       "  856.09,361.728 858.062,362.803 860.034,363.88 862.006,364.959 863.978,366.041 865.95,367.126 867.922,368.213 869.894,369.303 871.866,370.395 873.837,371.49 \n",
       "  875.809,372.587 877.781,373.687 879.753,374.789 881.725,375.894 883.697,377.001 885.669,378.11 887.641,379.222 889.613,380.337 891.585,381.454 893.556,382.573 \n",
       "  895.528,383.695 897.5,384.819 899.472,385.945 901.444,387.074 903.416,388.205 905.388,389.339 907.36,390.475 909.332,391.613 911.303,392.754 913.275,393.897 \n",
       "  915.247,395.042 917.219,396.19 919.191,397.34 921.163,398.492 923.135,399.647 925.107,400.804 927.079,401.963 929.05,403.125 931.022,404.288 932.994,405.454 \n",
       "  934.966,406.623 936.938,407.793 938.91,408.966 940.882,410.141 942.854,411.318 944.826,412.498 946.797,413.679 948.769,414.863 950.741,416.049 952.713,417.238 \n",
       "  954.685,418.428 956.657,419.621 958.629,420.815 960.601,422.012 962.573,423.211 964.544,424.413 966.516,425.616 968.488,426.821 970.46,428.029 972.432,429.239 \n",
       "  974.404,430.45 976.376,431.664 978.348,432.88 980.32,434.098 982.292,435.318 984.263,436.541 986.235,437.765 988.207,438.991 990.179,440.219 992.151,441.45 \n",
       "  994.123,442.682 996.095,443.916 998.067,445.153 1000.04,446.391 1002.01,447.632 1003.98,448.874 1005.95,450.118 1007.93,451.365 1009.9,452.613 1011.87,453.863 \n",
       "  1013.84,455.115 1015.81,456.369 1017.79,457.625 1019.76,458.883 1021.73,460.143 1023.7,461.405 1025.67,462.669 1027.65,463.934 1029.62,465.202 1031.59,466.471 \n",
       "  1033.56,467.742 1035.53,469.015 1037.5,470.29 1039.48,471.567 1041.45,472.845 1043.42,474.126 1045.39,475.408 1047.36,476.692 1049.34,477.978 1051.31,479.265 \n",
       "  1053.28,480.555 1055.25,481.846 1057.22,483.139 1059.2,484.434 1061.17,485.73 1063.14,487.028 1065.11,488.328 1067.08,489.63 1069.05,490.933 1071.03,492.239 \n",
       "  1073,493.545 1074.97,494.854 1076.94,496.164 1078.91,497.476 1080.89,498.79 1082.86,500.105 1084.83,501.422 1086.8,502.741 1088.77,504.061 1090.75,505.383 \n",
       "  1092.72,506.707 1094.69,508.032 1096.66,509.358 1098.63,510.687 1100.6,512.017 1102.58,513.348 1104.55,514.682 1106.52,516.016 1108.49,517.353 1110.46,518.691 \n",
       "  1112.44,520.03 1114.41,521.371 1116.38,522.714 1118.35,524.058 1120.32,525.403 1122.3,526.75 1124.27,528.099 1126.24,529.449 1128.21,530.801 1130.18,532.154 \n",
       "  1132.16,533.509 1134.13,534.865 1136.1,536.222 1138.07,537.581 1140.04,538.942 1142.01,540.304 1143.99,541.667 1145.96,543.032 1147.93,544.398 1149.9,545.765 \n",
       "  1151.87,547.134 1153.85,548.505 1155.82,549.876 1157.79,551.25 1159.76,552.624 1161.73,554 1163.71,555.377 1165.68,556.756 1167.65,558.136 1169.62,559.517 \n",
       "  1171.59,560.9 1173.56,562.284 1175.54,563.669 1177.51,565.056 1179.48,566.443 1181.45,567.833 1183.42,569.223 1185.4,570.615 1187.37,572.008 1189.34,573.402 \n",
       "  1191.31,574.798 1193.28,576.194 1195.26,577.592 1197.23,578.992 1199.2,580.392 1201.17,581.794 1203.14,583.197 1205.12,584.601 1207.09,586.006 1209.06,587.412 \n",
       "  1211.03,588.82 1213,590.229 1214.97,591.639 1216.95,593.05 1218.92,594.462 1220.89,595.876 1222.86,597.291 1224.83,598.706 1226.81,600.123 1228.78,601.541 \n",
       "  1230.75,602.96 1232.72,604.38 1234.69,605.802 1236.67,607.224 1238.64,608.648 1240.61,610.072 1242.58,611.498 1244.55,612.924 1246.52,614.352 1248.5,615.781 \n",
       "  1250.47,617.211 1252.44,618.642 1254.41,620.073 1256.38,621.506 1258.36,622.94 1260.33,624.375 1262.3,625.811 1264.27,627.248 1266.24,628.686 1268.22,630.125 \n",
       "  1270.19,631.564 1272.16,633.005 1274.13,634.447 1276.1,635.89 1278.08,637.333 1280.05,638.778 1282.02,640.223 1283.99,641.67 1285.96,643.117 1287.93,644.565 \n",
       "  1289.91,646.014 1291.88,647.464 1293.85,648.915 1295.82,650.367 1297.79,651.82 1299.77,653.273 1301.74,654.727 1303.71,656.183 1305.68,657.639 1307.65,659.096 \n",
       "  1309.63,660.553 1311.6,662.012 1313.57,663.471 1315.54,664.931 1317.51,666.392 1319.48,667.854 1321.46,669.317 1323.43,670.78 1325.4,672.244 1327.37,673.709 \n",
       "  1329.34,675.175 1331.32,676.641 1333.29,678.109 1335.26,679.577 1337.23,681.045 1339.2,682.515 1341.18,683.985 1343.15,685.456 1345.12,686.927 1347.09,688.399 \n",
       "  1349.06,689.872 1351.04,691.346 1353.01,692.82 1354.98,694.295 1356.95,695.771 1358.92,697.248 1360.89,698.725 1362.87,700.202 1364.84,701.681 1366.81,703.16 \n",
       "  1368.78,704.639 1370.75,706.119 1372.73,707.6 1374.7,709.082 1376.67,710.564 1378.64,712.046 1380.61,713.53 1382.59,715.014 1384.56,716.498 1386.53,717.983 \n",
       "  1388.5,719.469 1390.47,720.955 1392.44,722.442 1394.42,723.929 1396.39,725.417 1398.36,726.905 1400.33,728.394 1402.3,729.883 1404.28,731.373 1406.25,732.864 \n",
       "  1408.22,734.355 1410.19,735.846 1412.16,737.338 1414.14,738.831 1416.11,740.324 1418.08,741.817 1420.05,743.311 1422.02,744.805 1424,746.3 1425.97,747.796 \n",
       "  1427.94,749.291 1429.91,750.787 1431.88,752.284 1433.85,753.781 1435.83,755.279 1437.8,756.776 1439.77,758.275 1441.74,759.774 1443.71,761.273 1445.69,762.772 \n",
       "  1447.66,764.272 1449.63,765.772 1451.6,767.273 1453.57,768.774 1455.55,770.276 1457.52,771.777 1459.49,773.279 1461.46,774.782 1463.43,776.285 1465.4,777.788 \n",
       "  1467.38,779.291 1469.35,780.795 1471.32,782.299 1473.29,783.804 1475.26,785.309 1477.24,786.814 1479.21,788.319 1481.18,789.825 1483.15,791.331 1485.12,792.837 \n",
       "  1487.1,794.343 1489.07,795.85 1491.04,797.357 1493.01,798.865 1494.98,800.372 1496.96,801.88 1498.93,803.388 1500.9,804.896 1502.87,806.405 1504.84,807.914 \n",
       "  1506.81,809.423 1508.79,810.932 1510.76,812.441 1512.73,813.951 1514.7,815.461 1516.67,816.971 1518.65,818.481 1520.62,819.991 1522.59,821.502 1524.56,823.013 \n",
       "  1526.53,824.524 1528.51,826.035 1530.48,827.546 1532.45,829.057 1534.42,830.569 1536.39,832.08 1538.36,833.592 1540.34,835.104 1542.31,836.616 1544.28,838.128 \n",
       "  1546.25,839.641 1548.22,841.153 1550.2,842.666 1552.17,844.178 1554.14,845.691 1556.11,847.204 1558.08,848.717 1560.06,850.23 1562.03,851.743 1564,853.256 \n",
       "  1565.97,854.769 1567.94,856.282 1569.92,857.796 1571.89,859.309 1573.86,860.822 1575.83,862.336 1577.8,863.849 1579.77,865.363 1581.75,866.876 1583.72,868.39 \n",
       "  1585.69,869.904 1587.66,871.417 1589.63,872.931 1591.61,874.444 1593.58,875.958 1595.55,877.472 1597.52,878.985 1599.49,880.499 1601.47,882.012 1603.44,883.526 \n",
       "  1605.41,885.039 1607.38,886.553 1609.35,888.066 1611.32,889.58 1613.3,891.093 1615.27,892.606 1617.24,894.119 1619.21,895.633 1621.18,897.146 1623.16,898.659 \n",
       "  1625.13,900.172 1627.1,901.684 1629.07,903.197 1631.04,904.71 1633.02,906.222 1634.99,907.735 1636.96,909.247 1638.93,910.76 1640.9,912.272 1642.88,913.784 \n",
       "  1644.85,915.296 1646.82,916.808 1648.79,918.319 1650.76,919.831 1652.73,921.342 1654.71,922.853 1656.68,924.364 1658.65,925.875 1660.62,927.386 1662.59,928.897 \n",
       "  1664.57,930.407 1666.54,931.918 1668.51,933.428 1670.48,934.938 1672.45,936.447 1674.43,937.957 1676.4,939.466 1678.37,940.976 1680.34,942.485 1682.31,943.993 \n",
       "  1684.28,945.502 1686.26,947.01 1688.23,948.519 1690.2,950.027 1692.17,951.534 1694.14,953.042 1696.12,954.549 1698.09,956.056 1700.06,957.563 1702.03,959.07 \n",
       "  1704,960.576 1705.98,962.082 1707.95,963.588 1709.92,965.093 1711.89,966.599 1713.86,968.104 1715.84,969.608 1717.81,971.113 1719.78,972.617 1721.75,974.121 \n",
       "  1723.72,975.625 1725.69,977.128 1727.67,978.631 1729.64,980.134 1731.61,981.636 1733.58,983.138 1735.55,984.64 1737.53,986.142 1739.5,987.643 1741.47,989.144 \n",
       "  1743.44,990.644 1745.41,992.145 1747.39,993.644 1749.36,995.144 1751.33,996.643 1753.3,998.142 1755.27,999.641 1757.24,1001.14 1759.22,1002.64 1761.19,1004.13 \n",
       "  1763.16,1005.63 1765.13,1007.13 1767.1,1008.62 1769.08,1010.12 1771.05,1011.62 1773.02,1013.11 1774.99,1014.61 1776.96,1016.1 1778.94,1017.6 1780.91,1019.09 \n",
       "  1782.88,1020.58 1784.85,1022.08 1786.82,1023.57 1788.8,1025.06 1790.77,1026.55 1792.74,1028.04 1794.71,1029.53 1796.68,1031.02 1798.65,1032.51 1800.63,1034 \n",
       "  1802.6,1035.49 1804.57,1036.98 1806.54,1038.47 1808.51,1039.96 1810.49,1041.45 1812.46,1042.93 1814.43,1044.42 1816.4,1045.91 1818.37,1047.39 1820.35,1048.88 \n",
       "  1822.32,1050.36 1824.29,1051.85 1826.26,1053.33 1828.23,1054.81 1830.2,1056.3 1832.18,1057.78 1834.15,1059.26 1836.12,1060.74 1838.09,1062.22 1840.06,1063.7 \n",
       "  1842.04,1065.18 1844.01,1066.66 1845.98,1068.14 1847.95,1069.62 1849.92,1071.1 1851.9,1072.58 1853.87,1074.05 1855.84,1075.53 1857.81,1077 1859.78,1078.48 \n",
       "  1861.75,1079.95 1863.73,1081.43 1865.7,1082.9 1867.67,1084.38 1869.64,1085.85 1871.61,1087.32 1873.59,1088.79 1875.56,1090.26 1877.53,1091.74 1879.5,1093.21 \n",
       "  1881.47,1094.67 1883.45,1096.14 1885.42,1097.61 1887.39,1099.08 1889.36,1100.55 1891.33,1102.01 1893.31,1103.48 1895.28,1104.95 1897.25,1106.41 1899.22,1107.88 \n",
       "  1901.19,1109.34 1903.16,1110.8 1905.14,1112.27 1907.11,1113.73 1909.08,1115.19 1911.05,1116.65 1913.02,1118.11 1915,1119.57 1916.97,1121.03 1918.94,1122.49 \n",
       "  1920.91,1123.95 1922.88,1125.4 1924.86,1126.86 1926.83,1128.32 1928.8,1129.77 1930.77,1131.23 1932.74,1132.68 1934.71,1134.14 1936.69,1135.59 1938.66,1137.04 \n",
       "  1940.63,1138.49 1942.6,1139.94 1944.57,1141.39 1946.55,1142.84 1948.52,1144.29 1950.49,1145.74 1952.46,1147.19 1954.43,1148.64 1956.41,1150.08 1958.38,1151.53 \n",
       "  1960.35,1152.98 1962.32,1154.42 1964.29,1155.87 1966.27,1157.31 1968.24,1158.75 1970.21,1160.19 1972.18,1161.64 1974.15,1163.08 1976.12,1164.52 1978.1,1165.96 \n",
       "  1980.07,1167.39 1982.04,1168.83 1984.01,1170.27 1985.98,1171.71 1987.96,1173.14 1989.93,1174.58 1991.9,1176.01 1993.87,1177.45 1995.84,1178.88 1997.82,1180.31 \n",
       "  1999.79,1181.75 2001.76,1183.18 2003.73,1184.61 2005.7,1186.04 2007.67,1187.47 2009.65,1188.89 2011.62,1190.32 2013.59,1191.75 2015.56,1193.18 2017.53,1194.6 \n",
       "  2019.51,1196.03 2021.48,1197.45 2023.45,1198.87 2025.42,1200.3 2027.39,1201.72 2029.37,1203.14 2031.34,1204.56 2033.31,1205.98 2035.28,1207.4 2037.25,1208.82 \n",
       "  2039.23,1210.24 2041.2,1211.65 2043.17,1213.07 2045.14,1214.48 2047.11,1215.9 2049.08,1217.31 2051.06,1218.73 2053.03,1220.14 2055,1221.55 2056.97,1222.96 \n",
       "  2058.94,1224.37 2060.92,1225.78 2062.89,1227.19 2064.86,1228.6 2066.83,1230.01 2068.8,1231.41 2070.78,1232.82 2072.75,1234.22 2074.72,1235.63 2076.69,1237.03 \n",
       "  2078.66,1238.43 2080.63,1239.83 2082.61,1241.24 2084.58,1242.64 2086.55,1244.04 2088.52,1245.43 2090.49,1246.83 2092.47,1248.23 2094.44,1249.63 2096.41,1251.02 \n",
       "  2098.38,1252.42 2100.35,1253.81 2102.33,1255.2 2104.3,1256.6 2106.27,1257.99 2108.24,1259.38 2110.21,1260.77 2112.19,1262.16 2114.16,1263.55 2116.13,1264.93 \n",
       "  2118.1,1266.32 2120.07,1267.71 2122.04,1269.09 2124.02,1270.48 2125.99,1271.86 2127.96,1273.24 2129.93,1274.63 2131.9,1276.01 2133.88,1277.39 2135.85,1278.77 \n",
       "  2137.82,1280.15 2139.79,1281.52 2141.76,1282.9 2143.74,1284.28 2145.71,1285.65 2147.68,1287.03 2149.65,1288.4 2151.62,1289.77 2153.59,1291.15 2155.57,1292.52 \n",
       "  2157.54,1293.89 2159.51,1295.26 2161.48,1296.63 2163.45,1298 2165.43,1299.36 2167.4,1300.73 2169.37,1302.1 2171.34,1303.46 2173.31,1304.82 2175.29,1306.19 \n",
       "  2177.26,1307.55 2179.23,1308.91 2181.2,1310.27 2183.17,1311.63 2185.15,1312.99 2187.12,1314.35 2189.09,1315.71 2191.06,1317.06 2193.03,1318.42 2195,1319.77 \n",
       "  2196.98,1321.13 2198.95,1322.48 2200.92,1323.83 2202.89,1325.18 2204.86,1326.53 2206.84,1327.88 2208.81,1329.23 2210.78,1330.58 2212.75,1331.92 2214.72,1333.27 \n",
       "  2216.7,1334.62 2218.67,1335.96 2220.64,1337.3 2222.61,1338.65 2224.58,1339.99 2226.55,1341.33 2228.53,1342.67 2230.5,1344.01 2232.47,1345.35 2234.44,1346.68 \n",
       "  2236.41,1348.02 2238.39,1349.36 2240.36,1350.69 2242.33,1352.02 2244.3,1353.36 2246.27,1354.69 2248.25,1356.02 2250.22,1357.35 2252.19,1358.68 2254.16,1360.01 \n",
       "  2256.13,1361.34 2258.11,1362.66 2260.08,1363.99 2262.05,1365.32 2264.02,1366.64 2265.99,1367.96 2267.96,1369.29 2269.94,1370.61 2271.91,1371.93 2273.88,1373.25 \n",
       "  2275.85,1374.57 2277.82,1375.88 2279.8,1377.2 2281.77,1378.52 2283.74,1379.83 2285.71,1381.15 2287.68,1382.46 2289.66,1383.77 2291.63,1385.08 2293.6,1386.4 \n",
       "  \n",
       "  \"/>\n",
       "<path clip-path=\"url(#clip000)\" d=\"\n",
       "M1603.5 322.316 L2283.08 322.316 L2283.08 166.796 L1603.5 166.796  Z\n",
       "  \" fill=\"#ffffff\" fill-rule=\"evenodd\" fill-opacity=\"1\"/>\n",
       "<polyline clip-path=\"url(#clip000)\" style=\"stroke:#000000; stroke-linecap:butt; stroke-linejoin:round; stroke-width:4; stroke-opacity:1; fill:none\" points=\"\n",
       "  1603.5,322.316 2283.08,322.316 2283.08,166.796 1603.5,166.796 1603.5,322.316 \n",
       "  \"/>\n",
       "<circle clip-path=\"url(#clip000)\" cx=\"1696.4\" cy=\"218.636\" r=\"23\" fill=\"#009af9\" fill-rule=\"evenodd\" fill-opacity=\"1\" stroke=\"#000000\" stroke-opacity=\"1\" stroke-width=\"5.12\"/>\n",
       "<path clip-path=\"url(#clip000)\" d=\"M1801.2 212.976 Q1797.77 212.976 1795.78 215.661 Q1793.79 218.323 1793.79 222.976 Q1793.79 227.629 1795.76 230.314 Q1797.75 232.976 1801.2 232.976 Q1804.6 232.976 1806.59 230.291 Q1808.58 227.606 1808.58 222.976 Q1808.58 218.37 1806.59 215.684 Q1804.6 212.976 1801.2 212.976 M1801.2 209.365 Q1806.75 209.365 1809.92 212.976 Q1813.09 216.587 1813.09 222.976 Q1813.09 229.342 1809.92 232.976 Q1806.75 236.587 1801.2 236.587 Q1795.62 236.587 1792.45 232.976 Q1789.3 229.342 1789.3 222.976 Q1789.3 216.587 1792.45 212.976 Q1795.62 209.365 1801.2 209.365 Z\" fill=\"#000000\" fill-rule=\"evenodd\" fill-opacity=\"1\" /><path clip-path=\"url(#clip000)\" d=\"M1838.77 222.976 Q1838.77 218.277 1836.82 215.615 Q1834.9 212.93 1831.52 212.93 Q1828.14 212.93 1826.2 215.615 Q1824.27 218.277 1824.27 222.976 Q1824.27 227.675 1826.2 230.36 Q1828.14 233.022 1831.52 233.022 Q1834.9 233.022 1836.82 230.36 Q1838.77 227.675 1838.77 222.976 M1824.27 213.925 Q1825.62 211.61 1827.65 210.499 Q1829.71 209.365 1832.56 209.365 Q1837.28 209.365 1840.22 213.115 Q1843.19 216.865 1843.19 222.976 Q1843.19 229.087 1840.22 232.837 Q1837.28 236.587 1832.56 236.587 Q1829.71 236.587 1827.65 235.476 Q1825.62 234.342 1824.27 232.027 L1824.27 235.916 L1819.99 235.916 L1819.99 199.897 L1824.27 199.897 L1824.27 213.925 Z\" fill=\"#000000\" fill-rule=\"evenodd\" fill-opacity=\"1\" /><path clip-path=\"url(#clip000)\" d=\"M1866.77 210.754 L1866.77 214.782 Q1864.97 213.856 1863.02 213.393 Q1861.08 212.93 1859 212.93 Q1855.83 212.93 1854.23 213.902 Q1852.65 214.874 1852.65 216.819 Q1852.65 218.3 1853.79 219.157 Q1854.92 219.99 1858.35 220.754 L1859.81 221.078 Q1864.34 222.05 1866.24 223.832 Q1868.16 225.592 1868.16 228.763 Q1868.16 232.374 1865.29 234.481 Q1862.45 236.587 1857.45 236.587 Q1855.36 236.587 1853.09 236.17 Q1850.85 235.777 1848.35 234.967 L1848.35 230.569 Q1850.71 231.795 1853 232.42 Q1855.29 233.022 1857.54 233.022 Q1860.55 233.022 1862.17 232.004 Q1863.79 230.962 1863.79 229.087 Q1863.79 227.351 1862.61 226.425 Q1861.45 225.499 1857.49 224.643 L1856.01 224.295 Q1852.05 223.462 1850.29 221.749 Q1848.53 220.013 1848.53 217.004 Q1848.53 213.346 1851.13 211.356 Q1853.72 209.365 1858.49 209.365 Q1860.85 209.365 1862.93 209.712 Q1865.02 210.059 1866.77 210.754 Z\" fill=\"#000000\" fill-rule=\"evenodd\" fill-opacity=\"1\" /><path clip-path=\"url(#clip000)\" d=\"M1897.12 221.888 L1897.12 223.971 L1877.54 223.971 Q1877.82 228.369 1880.18 230.684 Q1882.56 232.976 1886.8 232.976 Q1889.25 232.976 1891.54 232.374 Q1893.86 231.772 1896.13 230.569 L1896.13 234.596 Q1893.83 235.568 1891.43 236.078 Q1889.02 236.587 1886.54 236.587 Q1880.34 236.587 1876.7 232.976 Q1873.09 229.365 1873.09 223.207 Q1873.09 216.842 1876.52 213.115 Q1879.97 209.365 1885.8 209.365 Q1891.03 209.365 1894.07 212.745 Q1897.12 216.101 1897.12 221.888 M1892.86 220.638 Q1892.82 217.143 1890.89 215.059 Q1889 212.976 1885.85 212.976 Q1882.28 212.976 1880.13 214.99 Q1878 217.004 1877.68 220.661 L1892.86 220.638 Z\" fill=\"#000000\" fill-rule=\"evenodd\" fill-opacity=\"1\" /><path clip-path=\"url(#clip000)\" d=\"M1919.14 213.971 Q1918.42 213.555 1917.56 213.37 Q1916.73 213.161 1915.71 213.161 Q1912.1 213.161 1910.15 215.522 Q1908.23 217.86 1908.23 222.258 L1908.23 235.916 L1903.95 235.916 L1903.95 209.99 L1908.23 209.99 L1908.23 214.018 Q1909.57 211.657 1911.73 210.522 Q1913.88 209.365 1916.96 209.365 Q1917.4 209.365 1917.93 209.434 Q1918.46 209.481 1919.11 209.596 L1919.14 213.971 Z\" fill=\"#000000\" fill-rule=\"evenodd\" fill-opacity=\"1\" /><path clip-path=\"url(#clip000)\" d=\"M1920.55 209.99 L1925.06 209.99 L1933.16 231.749 L1941.26 209.99 L1945.78 209.99 L1936.06 235.916 L1930.27 235.916 L1920.55 209.99 Z\" fill=\"#000000\" fill-rule=\"evenodd\" fill-opacity=\"1\" /><path clip-path=\"url(#clip000)\" d=\"M1973.83 221.888 L1973.83 223.971 L1954.25 223.971 Q1954.53 228.369 1956.89 230.684 Q1959.27 232.976 1963.51 232.976 Q1965.96 232.976 1968.26 232.374 Q1970.57 231.772 1972.84 230.569 L1972.84 234.596 Q1970.55 235.568 1968.14 236.078 Q1965.73 236.587 1963.26 236.587 Q1957.05 236.587 1953.42 232.976 Q1949.81 229.365 1949.81 223.207 Q1949.81 216.842 1953.23 213.115 Q1956.68 209.365 1962.51 209.365 Q1967.75 209.365 1970.78 212.745 Q1973.83 216.101 1973.83 221.888 M1969.57 220.638 Q1969.53 217.143 1967.61 215.059 Q1965.71 212.976 1962.56 212.976 Q1959 212.976 1956.84 214.99 Q1954.71 217.004 1954.39 220.661 L1969.57 220.638 Z\" fill=\"#000000\" fill-rule=\"evenodd\" fill-opacity=\"1\" /><path clip-path=\"url(#clip000)\" d=\"M1997.88 213.925 L1997.88 199.897 L2002.14 199.897 L2002.14 235.916 L1997.88 235.916 L1997.88 232.027 Q1996.54 234.342 1994.48 235.476 Q1992.44 236.587 1989.57 236.587 Q1984.88 236.587 1981.91 232.837 Q1978.97 229.087 1978.97 222.976 Q1978.97 216.865 1981.91 213.115 Q1984.88 209.365 1989.57 209.365 Q1992.44 209.365 1994.48 210.499 Q1996.54 211.61 1997.88 213.925 M1983.37 222.976 Q1983.37 227.675 1985.29 230.36 Q1987.24 233.022 1990.62 233.022 Q1994 233.022 1995.94 230.36 Q1997.88 227.675 1997.88 222.976 Q1997.88 218.277 1995.94 215.615 Q1994 212.93 1990.62 212.93 Q1987.24 212.93 1985.29 215.615 Q1983.37 218.277 1983.37 222.976 Z\" fill=\"#000000\" fill-rule=\"evenodd\" fill-opacity=\"1\" /><path clip-path=\"url(#clip000)\" d=\"M2046.17 214.967 Q2047.77 212.096 2049.99 210.731 Q2052.21 209.365 2055.22 209.365 Q2059.27 209.365 2061.47 212.212 Q2063.67 215.036 2063.67 220.268 L2063.67 235.916 L2059.39 235.916 L2059.39 220.407 Q2059.39 216.68 2058.07 214.874 Q2056.75 213.069 2054.04 213.069 Q2050.73 213.069 2048.81 215.268 Q2046.89 217.467 2046.89 221.263 L2046.89 235.916 L2042.61 235.916 L2042.61 220.407 Q2042.61 216.657 2041.29 214.874 Q2039.97 213.069 2037.21 213.069 Q2033.95 213.069 2032.03 215.291 Q2030.11 217.49 2030.11 221.263 L2030.11 235.916 L2025.82 235.916 L2025.82 209.99 L2030.11 209.99 L2030.11 214.018 Q2031.57 211.633 2033.6 210.499 Q2035.64 209.365 2038.44 209.365 Q2041.26 209.365 2043.23 210.8 Q2045.22 212.235 2046.17 214.967 Z\" fill=\"#000000\" fill-rule=\"evenodd\" fill-opacity=\"1\" /><path clip-path=\"url(#clip000)\" d=\"M2094.34 221.888 L2094.34 223.971 L2074.76 223.971 Q2075.04 228.369 2077.4 230.684 Q2079.78 232.976 2084.02 232.976 Q2086.47 232.976 2088.76 232.374 Q2091.08 231.772 2093.35 230.569 L2093.35 234.596 Q2091.06 235.568 2088.65 236.078 Q2086.24 236.587 2083.76 236.587 Q2077.56 236.587 2073.93 232.976 Q2070.31 229.365 2070.31 223.207 Q2070.31 216.842 2073.74 213.115 Q2077.19 209.365 2083.02 209.365 Q2088.25 209.365 2091.29 212.745 Q2094.34 216.101 2094.34 221.888 M2090.08 220.638 Q2090.04 217.143 2088.12 215.059 Q2086.22 212.976 2083.07 212.976 Q2079.5 212.976 2077.35 214.99 Q2075.22 217.004 2074.9 220.661 L2090.08 220.638 Z\" fill=\"#000000\" fill-rule=\"evenodd\" fill-opacity=\"1\" /><path clip-path=\"url(#clip000)\" d=\"M2113.12 222.883 Q2107.95 222.883 2105.96 224.064 Q2103.97 225.244 2103.97 228.092 Q2103.97 230.36 2105.45 231.703 Q2106.96 233.022 2109.53 233.022 Q2113.07 233.022 2115.2 230.522 Q2117.35 227.999 2117.35 223.832 L2117.35 222.883 L2113.12 222.883 M2121.61 221.124 L2121.61 235.916 L2117.35 235.916 L2117.35 231.981 Q2115.89 234.342 2113.72 235.476 Q2111.54 236.587 2108.39 236.587 Q2104.41 236.587 2102.05 234.365 Q2099.71 232.119 2099.71 228.369 Q2099.71 223.994 2102.63 221.772 Q2105.57 219.55 2111.38 219.55 L2117.35 219.55 L2117.35 219.133 Q2117.35 216.194 2115.41 214.596 Q2113.49 212.976 2109.99 212.976 Q2107.77 212.976 2105.66 213.508 Q2103.56 214.041 2101.61 215.106 L2101.61 211.17 Q2103.95 210.268 2106.15 209.828 Q2108.35 209.365 2110.43 209.365 Q2116.06 209.365 2118.83 212.282 Q2121.61 215.198 2121.61 221.124 Z\" fill=\"#000000\" fill-rule=\"evenodd\" fill-opacity=\"1\" /><path clip-path=\"url(#clip000)\" d=\"M2151.93 220.268 L2151.93 235.916 L2147.68 235.916 L2147.68 220.407 Q2147.68 216.726 2146.24 214.897 Q2144.81 213.069 2141.93 213.069 Q2138.49 213.069 2136.5 215.268 Q2134.5 217.467 2134.5 221.263 L2134.5 235.916 L2130.22 235.916 L2130.22 209.99 L2134.5 209.99 L2134.5 214.018 Q2136.03 211.68 2138.09 210.522 Q2140.18 209.365 2142.88 209.365 Q2147.35 209.365 2149.64 212.143 Q2151.93 214.897 2151.93 220.268 Z\" fill=\"#000000\" fill-rule=\"evenodd\" fill-opacity=\"1\" /><path clip-path=\"url(#clip000)\" d=\"M2180.36 205.198 L2180.36 232.073 L2186.01 232.073 Q2193.16 232.073 2196.47 228.832 Q2199.8 225.592 2199.8 218.601 Q2199.8 211.657 2196.47 208.439 Q2193.16 205.198 2186.01 205.198 L2180.36 205.198 M2175.68 201.356 L2185.29 201.356 Q2195.34 201.356 2200.04 205.546 Q2204.74 209.712 2204.74 218.601 Q2204.74 227.536 2200.01 231.726 Q2195.29 235.916 2185.29 235.916 L2175.68 235.916 L2175.68 201.356 Z\" fill=\"#000000\" fill-rule=\"evenodd\" fill-opacity=\"1\" /><path clip-path=\"url(#clip000)\" d=\"M2207.4 201.356 L2236.63 201.356 L2236.63 205.291 L2224.36 205.291 L2224.36 235.916 L2219.67 235.916 L2219.67 205.291 L2207.4 205.291 L2207.4 201.356 Z\" fill=\"#000000\" fill-rule=\"evenodd\" fill-opacity=\"1\" /><polyline clip-path=\"url(#clip000)\" style=\"stroke:#e26f46; stroke-linecap:butt; stroke-linejoin:round; stroke-width:4; stroke-opacity:1; fill:none\" points=\"\n",
       "  1626.73,270.476 1766.07,270.476 \n",
       "  \"/>\n",
       "<path clip-path=\"url(#clip000)\" d=\"M1813.33 273.728 L1813.33 275.811 L1793.74 275.811 Q1794.02 280.209 1796.38 282.524 Q1798.77 284.816 1803 284.816 Q1805.46 284.816 1807.75 284.214 Q1810.06 283.612 1812.33 282.409 L1812.33 286.436 Q1810.04 287.408 1807.63 287.918 Q1805.22 288.427 1802.75 288.427 Q1796.54 288.427 1792.91 284.816 Q1789.3 281.205 1789.3 275.047 Q1789.3 268.682 1792.72 264.955 Q1796.17 261.205 1802.01 261.205 Q1807.24 261.205 1810.27 264.585 Q1813.33 267.941 1813.33 273.728 M1809.07 272.478 Q1809.02 268.983 1807.1 266.899 Q1805.2 264.816 1802.05 264.816 Q1798.49 264.816 1796.33 266.83 Q1794.21 268.844 1793.88 272.501 L1809.07 272.478 Z\" fill=\"#000000\" fill-rule=\"evenodd\" fill-opacity=\"1\" /><path clip-path=\"url(#clip000)\" d=\"M1820.32 251.737 L1824.58 251.737 L1824.58 287.756 L1820.32 287.756 L1820.32 251.737 Z\" fill=\"#000000\" fill-rule=\"evenodd\" fill-opacity=\"1\" /><path clip-path=\"url(#clip000)\" d=\"M1833.49 261.83 L1837.75 261.83 L1837.75 287.756 L1833.49 287.756 L1833.49 261.83 M1833.49 251.737 L1837.75 251.737 L1837.75 257.131 L1833.49 257.131 L1833.49 251.737 Z\" fill=\"#000000\" fill-rule=\"evenodd\" fill-opacity=\"1\" /><path clip-path=\"url(#clip000)\" d=\"M1865.32 262.825 L1865.32 266.807 Q1863.51 265.811 1861.68 265.325 Q1859.88 264.816 1858.02 264.816 Q1853.88 264.816 1851.59 267.455 Q1849.3 270.071 1849.3 274.816 Q1849.3 279.561 1851.59 282.2 Q1853.88 284.816 1858.02 284.816 Q1859.88 284.816 1861.68 284.33 Q1863.51 283.821 1865.32 282.825 L1865.32 286.76 Q1863.53 287.594 1861.61 288.01 Q1859.71 288.427 1857.56 288.427 Q1851.7 288.427 1848.26 284.746 Q1844.81 281.066 1844.81 274.816 Q1844.81 268.473 1848.28 264.839 Q1851.77 261.205 1857.84 261.205 Q1859.81 261.205 1861.68 261.622 Q1863.56 262.015 1865.32 262.825 Z\" fill=\"#000000\" fill-rule=\"evenodd\" fill-opacity=\"1\" /><path clip-path=\"url(#clip000)\" d=\"M1872.72 261.83 L1876.98 261.83 L1876.98 287.756 L1872.72 287.756 L1872.72 261.83 M1872.72 251.737 L1876.98 251.737 L1876.98 257.131 L1872.72 257.131 L1872.72 251.737 Z\" fill=\"#000000\" fill-rule=\"evenodd\" fill-opacity=\"1\" /><path clip-path=\"url(#clip000)\" d=\"M1890.11 254.469 L1890.11 261.83 L1898.88 261.83 L1898.88 265.14 L1890.11 265.14 L1890.11 279.214 Q1890.11 282.385 1890.96 283.288 Q1891.84 284.191 1894.51 284.191 L1898.88 284.191 L1898.88 287.756 L1894.51 287.756 Q1889.58 287.756 1887.7 285.927 Q1885.83 284.075 1885.83 279.214 L1885.83 265.14 L1882.7 265.14 L1882.7 261.83 L1885.83 261.83 L1885.83 254.469 L1890.11 254.469 Z\" fill=\"#000000\" fill-rule=\"evenodd\" fill-opacity=\"1\" /><path clip-path=\"url(#clip000)\" d=\"M1926.66 273.728 L1926.66 275.811 L1907.08 275.811 Q1907.35 280.209 1909.71 282.524 Q1912.1 284.816 1916.33 284.816 Q1918.79 284.816 1921.08 284.214 Q1923.39 283.612 1925.66 282.409 L1925.66 286.436 Q1923.37 287.408 1920.96 287.918 Q1918.56 288.427 1916.08 288.427 Q1909.88 288.427 1906.24 284.816 Q1902.63 281.205 1902.63 275.047 Q1902.63 268.682 1906.06 264.955 Q1909.51 261.205 1915.34 261.205 Q1920.57 261.205 1923.6 264.585 Q1926.66 267.941 1926.66 273.728 M1922.4 272.478 Q1922.35 268.983 1920.43 266.899 Q1918.53 264.816 1915.39 264.816 Q1911.82 264.816 1909.67 266.83 Q1907.54 268.844 1907.21 272.501 L1922.4 272.478 Z\" fill=\"#000000\" fill-rule=\"evenodd\" fill-opacity=\"1\" /><path clip-path=\"url(#clip000)\" d=\"M1950.71 265.765 L1950.71 251.737 L1954.97 251.737 L1954.97 287.756 L1950.71 287.756 L1950.71 283.867 Q1949.37 286.182 1947.31 287.316 Q1945.27 288.427 1942.4 288.427 Q1937.7 288.427 1934.74 284.677 Q1931.8 280.927 1931.8 274.816 Q1931.8 268.705 1934.74 264.955 Q1937.7 261.205 1942.4 261.205 Q1945.27 261.205 1947.31 262.339 Q1949.37 263.45 1950.71 265.765 M1936.2 274.816 Q1936.2 279.515 1938.12 282.2 Q1940.06 284.862 1943.44 284.862 Q1946.82 284.862 1948.76 282.2 Q1950.71 279.515 1950.71 274.816 Q1950.71 270.117 1948.76 267.455 Q1946.82 264.77 1943.44 264.77 Q1940.06 264.77 1938.12 267.455 Q1936.2 270.117 1936.2 274.816 Z\" fill=\"#000000\" fill-rule=\"evenodd\" fill-opacity=\"1\" /><path clip-path=\"url(#clip000)\" d=\"M1983.67 257.038 L1983.67 283.913 L1989.32 283.913 Q1996.47 283.913 1999.78 280.672 Q2003.12 277.432 2003.12 270.441 Q2003.12 263.497 1999.78 260.279 Q1996.47 257.038 1989.32 257.038 L1983.67 257.038 M1979 253.196 L1988.6 253.196 Q1998.65 253.196 2003.35 257.386 Q2008.05 261.552 2008.05 270.441 Q2008.05 279.376 2003.32 283.566 Q1998.6 287.756 1988.6 287.756 L1979 287.756 L1979 253.196 Z\" fill=\"#000000\" fill-rule=\"evenodd\" fill-opacity=\"1\" /><path clip-path=\"url(#clip000)\" d=\"M2020.18 257.038 L2020.18 283.913 L2025.82 283.913 Q2032.98 283.913 2036.29 280.672 Q2039.62 277.432 2039.62 270.441 Q2039.62 263.497 2036.29 260.279 Q2032.98 257.038 2025.82 257.038 L2020.18 257.038 M2015.5 253.196 L2025.11 253.196 Q2035.15 253.196 2039.85 257.386 Q2044.55 261.552 2044.55 270.441 Q2044.55 279.376 2039.83 283.566 Q2035.11 287.756 2025.11 287.756 L2015.5 287.756 L2015.5 253.196 Z\" fill=\"#000000\" fill-rule=\"evenodd\" fill-opacity=\"1\" /><path clip-path=\"url(#clip000)\" d=\"M2052 253.196 L2058.97 253.196 L2067.79 276.714 L2076.66 253.196 L2083.62 253.196 L2083.62 287.756 L2079.06 287.756 L2079.06 257.409 L2070.15 281.112 L2065.45 281.112 L2056.54 257.409 L2056.54 287.756 L2052 287.756 L2052 253.196 Z\" fill=\"#000000\" fill-rule=\"evenodd\" fill-opacity=\"1\" /></svg>\n"
      ]
     },
     "metadata": {},
     "output_type": "display_data"
    }
   ],
   "source": [
    "plot_DT(DT_c, λ, udiff)\n",
    "savefig(\"DT_whole_Cavanagh_21jan\")"
   ]
  },
  {
   "cell_type": "markdown",
   "id": "former-meeting",
   "metadata": {},
   "source": [
    "## Value vs Utility"
   ]
  },
  {
   "cell_type": "code",
   "execution_count": 96,
   "id": "banned-challenge",
   "metadata": {},
   "outputs": [
    {
     "data": {
      "text/plain": [
       "6×6 Matrix{Float64}:\n",
       " -0.0  -0.1  -0.2  -0.4  -0.5  -0.6\n",
       "  0.1  -0.0  -0.1  -0.3  -0.4  -0.5\n",
       "  0.2   0.1  -0.0  -0.2  -0.3  -0.4\n",
       "  0.4   0.3   0.2  -0.0  -0.1  -0.2\n",
       "  0.5   0.4   0.3   0.1  -0.0  -0.1\n",
       "  0.6   0.5   0.4   0.2   0.1  -0.0"
      ]
     },
     "execution_count": 96,
     "metadata": {},
     "output_type": "execute_result"
    }
   ],
   "source": [
    "vdiff = zeros((6,6))\n",
    "for a in 1:6\n",
    "    for b in a:6\n",
    "        vdiff[a,b] = alt[a] - alt[b]\n",
    "        vdiff[b,a] = -vdiff[a,b]\n",
    "    end\n",
    "end\n",
    "vdiff"
   ]
  },
  {
   "cell_type": "code",
   "execution_count": 97,
   "id": "organizational-velvet",
   "metadata": {},
   "outputs": [
    {
     "data": {
      "image/svg+xml": [
       "<?xml version=\"1.0\" encoding=\"utf-8\"?>\n",
       "<svg xmlns=\"http://www.w3.org/2000/svg\" xmlns:xlink=\"http://www.w3.org/1999/xlink\" width=\"600\" height=\"400\" viewBox=\"0 0 2400 1600\">\n",
       "<defs>\n",
       "  <clipPath id=\"clip090\">\n",
       "    <rect x=\"0\" y=\"0\" width=\"2400\" height=\"1600\"/>\n",
       "  </clipPath>\n",
       "</defs>\n",
       "<path clip-path=\"url(#clip090)\" d=\"\n",
       "M0 1600 L2400 1600 L2400 0 L0 0  Z\n",
       "  \" fill=\"#ffffff\" fill-rule=\"evenodd\" fill-opacity=\"1\"/>\n",
       "<defs>\n",
       "  <clipPath id=\"clip091\">\n",
       "    <rect x=\"480\" y=\"0\" width=\"1681\" height=\"1600\"/>\n",
       "  </clipPath>\n",
       "</defs>\n",
       "<path clip-path=\"url(#clip090)\" d=\"\n",
       "M219.866 1423.18 L2352.76 1423.18 L2352.76 123.472 L219.866 123.472  Z\n",
       "  \" fill=\"#ffffff\" fill-rule=\"evenodd\" fill-opacity=\"1\"/>\n",
       "<defs>\n",
       "  <clipPath id=\"clip092\">\n",
       "    <rect x=\"219\" y=\"123\" width=\"2134\" height=\"1301\"/>\n",
       "  </clipPath>\n",
       "</defs>\n",
       "<polyline clip-path=\"url(#clip092)\" style=\"stroke:#000000; stroke-linecap:butt; stroke-linejoin:round; stroke-width:2; stroke-opacity:0.1; fill:none\" points=\"\n",
       "  585.586,1423.18 585.586,123.472 \n",
       "  \"/>\n",
       "<polyline clip-path=\"url(#clip092)\" style=\"stroke:#000000; stroke-linecap:butt; stroke-linejoin:round; stroke-width:2; stroke-opacity:0.1; fill:none\" points=\"\n",
       "  970.108,1423.18 970.108,123.472 \n",
       "  \"/>\n",
       "<polyline clip-path=\"url(#clip092)\" style=\"stroke:#000000; stroke-linecap:butt; stroke-linejoin:round; stroke-width:2; stroke-opacity:0.1; fill:none\" points=\"\n",
       "  1354.63,1423.18 1354.63,123.472 \n",
       "  \"/>\n",
       "<polyline clip-path=\"url(#clip092)\" style=\"stroke:#000000; stroke-linecap:butt; stroke-linejoin:round; stroke-width:2; stroke-opacity:0.1; fill:none\" points=\"\n",
       "  1739.15,1423.18 1739.15,123.472 \n",
       "  \"/>\n",
       "<polyline clip-path=\"url(#clip092)\" style=\"stroke:#000000; stroke-linecap:butt; stroke-linejoin:round; stroke-width:2; stroke-opacity:0.1; fill:none\" points=\"\n",
       "  2123.67,1423.18 2123.67,123.472 \n",
       "  \"/>\n",
       "<polyline clip-path=\"url(#clip090)\" style=\"stroke:#000000; stroke-linecap:butt; stroke-linejoin:round; stroke-width:4; stroke-opacity:1; fill:none\" points=\"\n",
       "  219.866,1423.18 2352.76,1423.18 \n",
       "  \"/>\n",
       "<polyline clip-path=\"url(#clip090)\" style=\"stroke:#000000; stroke-linecap:butt; stroke-linejoin:round; stroke-width:4; stroke-opacity:1; fill:none\" points=\"\n",
       "  585.586,1423.18 585.586,1404.28 \n",
       "  \"/>\n",
       "<polyline clip-path=\"url(#clip090)\" style=\"stroke:#000000; stroke-linecap:butt; stroke-linejoin:round; stroke-width:4; stroke-opacity:1; fill:none\" points=\"\n",
       "  970.108,1423.18 970.108,1404.28 \n",
       "  \"/>\n",
       "<polyline clip-path=\"url(#clip090)\" style=\"stroke:#000000; stroke-linecap:butt; stroke-linejoin:round; stroke-width:4; stroke-opacity:1; fill:none\" points=\"\n",
       "  1354.63,1423.18 1354.63,1404.28 \n",
       "  \"/>\n",
       "<polyline clip-path=\"url(#clip090)\" style=\"stroke:#000000; stroke-linecap:butt; stroke-linejoin:round; stroke-width:4; stroke-opacity:1; fill:none\" points=\"\n",
       "  1739.15,1423.18 1739.15,1404.28 \n",
       "  \"/>\n",
       "<polyline clip-path=\"url(#clip090)\" style=\"stroke:#000000; stroke-linecap:butt; stroke-linejoin:round; stroke-width:4; stroke-opacity:1; fill:none\" points=\"\n",
       "  2123.67,1423.18 2123.67,1404.28 \n",
       "  \"/>\n",
       "<path clip-path=\"url(#clip090)\" d=\"M548.503 1454.1 Q544.891 1454.1 543.063 1457.66 Q541.257 1461.2 541.257 1468.33 Q541.257 1475.44 543.063 1479.01 Q544.891 1482.55 548.503 1482.55 Q552.137 1482.55 553.942 1479.01 Q555.771 1475.44 555.771 1468.33 Q555.771 1461.2 553.942 1457.66 Q552.137 1454.1 548.503 1454.1 M548.503 1450.39 Q554.313 1450.39 557.368 1455 Q560.447 1459.58 560.447 1468.33 Q560.447 1477.06 557.368 1481.67 Q554.313 1486.25 548.503 1486.25 Q542.692 1486.25 539.614 1481.67 Q536.558 1477.06 536.558 1468.33 Q536.558 1459.58 539.614 1455 Q542.692 1450.39 548.503 1450.39 Z\" fill=\"#000000\" fill-rule=\"evenodd\" fill-opacity=\"1\" /><path clip-path=\"url(#clip090)\" d=\"M568.664 1479.7 L573.549 1479.7 L573.549 1485.58 L568.664 1485.58 L568.664 1479.7 Z\" fill=\"#000000\" fill-rule=\"evenodd\" fill-opacity=\"1\" /><path clip-path=\"url(#clip090)\" d=\"M593.734 1454.1 Q590.123 1454.1 588.294 1457.66 Q586.488 1461.2 586.488 1468.33 Q586.488 1475.44 588.294 1479.01 Q590.123 1482.55 593.734 1482.55 Q597.368 1482.55 599.174 1479.01 Q601.002 1475.44 601.002 1468.33 Q601.002 1461.2 599.174 1457.66 Q597.368 1454.1 593.734 1454.1 M593.734 1450.39 Q599.544 1450.39 602.599 1455 Q605.678 1459.58 605.678 1468.33 Q605.678 1477.06 602.599 1481.67 Q599.544 1486.25 593.734 1486.25 Q587.924 1486.25 584.845 1481.67 Q581.789 1477.06 581.789 1468.33 Q581.789 1459.58 584.845 1455 Q587.924 1450.39 593.734 1450.39 Z\" fill=\"#000000\" fill-rule=\"evenodd\" fill-opacity=\"1\" /><path clip-path=\"url(#clip090)\" d=\"M614.706 1481.64 L622.345 1481.64 L622.345 1455.28 L614.035 1456.95 L614.035 1452.69 L622.298 1451.02 L626.974 1451.02 L626.974 1481.64 L634.613 1481.64 L634.613 1485.58 L614.706 1485.58 L614.706 1481.64 Z\" fill=\"#000000\" fill-rule=\"evenodd\" fill-opacity=\"1\" /><path clip-path=\"url(#clip090)\" d=\"M933.21 1454.1 Q929.599 1454.1 927.77 1457.66 Q925.965 1461.2 925.965 1468.33 Q925.965 1475.44 927.77 1479.01 Q929.599 1482.55 933.21 1482.55 Q936.844 1482.55 938.65 1479.01 Q940.478 1475.44 940.478 1468.33 Q940.478 1461.2 938.65 1457.66 Q936.844 1454.1 933.21 1454.1 M933.21 1450.39 Q939.02 1450.39 942.076 1455 Q945.154 1459.58 945.154 1468.33 Q945.154 1477.06 942.076 1481.67 Q939.02 1486.25 933.21 1486.25 Q927.4 1486.25 924.321 1481.67 Q921.266 1477.06 921.266 1468.33 Q921.266 1459.58 924.321 1455 Q927.4 1450.39 933.21 1450.39 Z\" fill=\"#000000\" fill-rule=\"evenodd\" fill-opacity=\"1\" /><path clip-path=\"url(#clip090)\" d=\"M953.372 1479.7 L958.256 1479.7 L958.256 1485.58 L953.372 1485.58 L953.372 1479.7 Z\" fill=\"#000000\" fill-rule=\"evenodd\" fill-opacity=\"1\" /><path clip-path=\"url(#clip090)\" d=\"M978.441 1454.1 Q974.83 1454.1 973.001 1457.66 Q971.196 1461.2 971.196 1468.33 Q971.196 1475.44 973.001 1479.01 Q974.83 1482.55 978.441 1482.55 Q982.075 1482.55 983.881 1479.01 Q985.71 1475.44 985.71 1468.33 Q985.71 1461.2 983.881 1457.66 Q982.075 1454.1 978.441 1454.1 M978.441 1450.39 Q984.251 1450.39 987.307 1455 Q990.386 1459.58 990.386 1468.33 Q990.386 1477.06 987.307 1481.67 Q984.251 1486.25 978.441 1486.25 Q972.631 1486.25 969.552 1481.67 Q966.497 1477.06 966.497 1468.33 Q966.497 1459.58 969.552 1455 Q972.631 1450.39 978.441 1450.39 Z\" fill=\"#000000\" fill-rule=\"evenodd\" fill-opacity=\"1\" /><path clip-path=\"url(#clip090)\" d=\"M1002.63 1481.64 L1018.95 1481.64 L1018.95 1485.58 L997.006 1485.58 L997.006 1481.64 Q999.668 1478.89 1004.25 1474.26 Q1008.86 1469.61 1010.04 1468.27 Q1012.28 1465.74 1013.16 1464.01 Q1014.07 1462.25 1014.07 1460.56 Q1014.07 1457.8 1012.12 1456.07 Q1010.2 1454.33 1007.1 1454.33 Q1004.9 1454.33 1002.45 1455.09 Q1000.02 1455.86 997.237 1457.41 L997.237 1452.69 Q1000.06 1451.55 1002.52 1450.97 Q1004.97 1450.39 1007.01 1450.39 Q1012.38 1450.39 1015.57 1453.08 Q1018.76 1455.77 1018.76 1460.26 Q1018.76 1462.39 1017.95 1464.31 Q1017.17 1466.2 1015.06 1468.8 Q1014.48 1469.47 1011.38 1472.69 Q1008.28 1475.88 1002.63 1481.64 Z\" fill=\"#000000\" fill-rule=\"evenodd\" fill-opacity=\"1\" /><path clip-path=\"url(#clip090)\" d=\"M1317.26 1454.1 Q1313.65 1454.1 1311.82 1457.66 Q1310.01 1461.2 1310.01 1468.33 Q1310.01 1475.44 1311.82 1479.01 Q1313.65 1482.55 1317.26 1482.55 Q1320.89 1482.55 1322.7 1479.01 Q1324.53 1475.44 1324.53 1468.33 Q1324.53 1461.2 1322.7 1457.66 Q1320.89 1454.1 1317.26 1454.1 M1317.26 1450.39 Q1323.07 1450.39 1326.12 1455 Q1329.2 1459.58 1329.2 1468.33 Q1329.2 1477.06 1326.12 1481.67 Q1323.07 1486.25 1317.26 1486.25 Q1311.45 1486.25 1308.37 1481.67 Q1305.31 1477.06 1305.31 1468.33 Q1305.31 1459.58 1308.37 1455 Q1311.45 1450.39 1317.26 1450.39 Z\" fill=\"#000000\" fill-rule=\"evenodd\" fill-opacity=\"1\" /><path clip-path=\"url(#clip090)\" d=\"M1337.42 1479.7 L1342.3 1479.7 L1342.3 1485.58 L1337.42 1485.58 L1337.42 1479.7 Z\" fill=\"#000000\" fill-rule=\"evenodd\" fill-opacity=\"1\" /><path clip-path=\"url(#clip090)\" d=\"M1362.49 1454.1 Q1358.88 1454.1 1357.05 1457.66 Q1355.24 1461.2 1355.24 1468.33 Q1355.24 1475.44 1357.05 1479.01 Q1358.88 1482.55 1362.49 1482.55 Q1366.12 1482.55 1367.93 1479.01 Q1369.76 1475.44 1369.76 1468.33 Q1369.76 1461.2 1367.93 1457.66 Q1366.12 1454.1 1362.49 1454.1 M1362.49 1450.39 Q1368.3 1450.39 1371.35 1455 Q1374.43 1459.58 1374.43 1468.33 Q1374.43 1477.06 1371.35 1481.67 Q1368.3 1486.25 1362.49 1486.25 Q1356.68 1486.25 1353.6 1481.67 Q1350.54 1477.06 1350.54 1468.33 Q1350.54 1459.58 1353.6 1455 Q1356.68 1450.39 1362.49 1450.39 Z\" fill=\"#000000\" fill-rule=\"evenodd\" fill-opacity=\"1\" /><path clip-path=\"url(#clip090)\" d=\"M1396.82 1466.95 Q1400.17 1467.66 1402.05 1469.93 Q1403.95 1472.2 1403.95 1475.53 Q1403.95 1480.65 1400.43 1483.45 Q1396.91 1486.25 1390.43 1486.25 Q1388.25 1486.25 1385.94 1485.81 Q1383.65 1485.39 1381.19 1484.54 L1381.19 1480.02 Q1383.14 1481.16 1385.45 1481.74 Q1387.77 1482.32 1390.29 1482.32 Q1394.69 1482.32 1396.98 1480.58 Q1399.29 1478.84 1399.29 1475.53 Q1399.29 1472.48 1397.14 1470.77 Q1395.01 1469.03 1391.19 1469.03 L1387.16 1469.03 L1387.16 1465.19 L1391.38 1465.19 Q1394.83 1465.19 1396.66 1463.82 Q1398.48 1462.43 1398.48 1459.84 Q1398.48 1457.18 1396.59 1455.77 Q1394.71 1454.33 1391.19 1454.33 Q1389.27 1454.33 1387.07 1454.75 Q1384.87 1455.16 1382.23 1456.04 L1382.23 1451.88 Q1384.9 1451.14 1387.21 1450.77 Q1389.55 1450.39 1391.61 1450.39 Q1396.93 1450.39 1400.03 1452.83 Q1403.14 1455.23 1403.14 1459.35 Q1403.14 1462.22 1401.49 1464.21 Q1399.85 1466.18 1396.82 1466.95 Z\" fill=\"#000000\" fill-rule=\"evenodd\" fill-opacity=\"1\" /><path clip-path=\"url(#clip090)\" d=\"M1701.21 1454.1 Q1697.6 1454.1 1695.77 1457.66 Q1693.97 1461.2 1693.97 1468.33 Q1693.97 1475.44 1695.77 1479.01 Q1697.6 1482.55 1701.21 1482.55 Q1704.85 1482.55 1706.65 1479.01 Q1708.48 1475.44 1708.48 1468.33 Q1708.48 1461.2 1706.65 1457.66 Q1704.85 1454.1 1701.21 1454.1 M1701.21 1450.39 Q1707.02 1450.39 1710.08 1455 Q1713.16 1459.58 1713.16 1468.33 Q1713.16 1477.06 1710.08 1481.67 Q1707.02 1486.25 1701.21 1486.25 Q1695.4 1486.25 1692.32 1481.67 Q1689.27 1477.06 1689.27 1468.33 Q1689.27 1459.58 1692.32 1455 Q1695.4 1450.39 1701.21 1450.39 Z\" fill=\"#000000\" fill-rule=\"evenodd\" fill-opacity=\"1\" /><path clip-path=\"url(#clip090)\" d=\"M1721.37 1479.7 L1726.26 1479.7 L1726.26 1485.58 L1721.37 1485.58 L1721.37 1479.7 Z\" fill=\"#000000\" fill-rule=\"evenodd\" fill-opacity=\"1\" /><path clip-path=\"url(#clip090)\" d=\"M1746.44 1454.1 Q1742.83 1454.1 1741 1457.66 Q1739.2 1461.2 1739.2 1468.33 Q1739.2 1475.44 1741 1479.01 Q1742.83 1482.55 1746.44 1482.55 Q1750.08 1482.55 1751.88 1479.01 Q1753.71 1475.44 1753.71 1468.33 Q1753.71 1461.2 1751.88 1457.66 Q1750.08 1454.1 1746.44 1454.1 M1746.44 1450.39 Q1752.25 1450.39 1755.31 1455 Q1758.39 1459.58 1758.39 1468.33 Q1758.39 1477.06 1755.31 1481.67 Q1752.25 1486.25 1746.44 1486.25 Q1740.63 1486.25 1737.55 1481.67 Q1734.5 1477.06 1734.5 1468.33 Q1734.5 1459.58 1737.55 1455 Q1740.63 1450.39 1746.44 1450.39 Z\" fill=\"#000000\" fill-rule=\"evenodd\" fill-opacity=\"1\" /><path clip-path=\"url(#clip090)\" d=\"M1779.45 1455.09 L1767.65 1473.54 L1779.45 1473.54 L1779.45 1455.09 M1778.23 1451.02 L1784.11 1451.02 L1784.11 1473.54 L1789.04 1473.54 L1789.04 1477.43 L1784.11 1477.43 L1784.11 1485.58 L1779.45 1485.58 L1779.45 1477.43 L1763.85 1477.43 L1763.85 1472.92 L1778.23 1451.02 Z\" fill=\"#000000\" fill-rule=\"evenodd\" fill-opacity=\"1\" /><path clip-path=\"url(#clip090)\" d=\"M2086.48 1454.1 Q2082.86 1454.1 2081.04 1457.66 Q2079.23 1461.2 2079.23 1468.33 Q2079.23 1475.44 2081.04 1479.01 Q2082.86 1482.55 2086.48 1482.55 Q2090.11 1482.55 2091.92 1479.01 Q2093.74 1475.44 2093.74 1468.33 Q2093.74 1461.2 2091.92 1457.66 Q2090.11 1454.1 2086.48 1454.1 M2086.48 1450.39 Q2092.29 1450.39 2095.34 1455 Q2098.42 1459.58 2098.42 1468.33 Q2098.42 1477.06 2095.34 1481.67 Q2092.29 1486.25 2086.48 1486.25 Q2080.67 1486.25 2077.59 1481.67 Q2074.53 1477.06 2074.53 1468.33 Q2074.53 1459.58 2077.59 1455 Q2080.67 1450.39 2086.48 1450.39 Z\" fill=\"#000000\" fill-rule=\"evenodd\" fill-opacity=\"1\" /><path clip-path=\"url(#clip090)\" d=\"M2106.64 1479.7 L2111.52 1479.7 L2111.52 1485.58 L2106.64 1485.58 L2106.64 1479.7 Z\" fill=\"#000000\" fill-rule=\"evenodd\" fill-opacity=\"1\" /><path clip-path=\"url(#clip090)\" d=\"M2131.71 1454.1 Q2128.1 1454.1 2126.27 1457.66 Q2124.46 1461.2 2124.46 1468.33 Q2124.46 1475.44 2126.27 1479.01 Q2128.1 1482.55 2131.71 1482.55 Q2135.34 1482.55 2137.15 1479.01 Q2138.98 1475.44 2138.98 1468.33 Q2138.98 1461.2 2137.15 1457.66 Q2135.34 1454.1 2131.71 1454.1 M2131.71 1450.39 Q2137.52 1450.39 2140.57 1455 Q2143.65 1459.58 2143.65 1468.33 Q2143.65 1477.06 2140.57 1481.67 Q2137.52 1486.25 2131.71 1486.25 Q2125.9 1486.25 2122.82 1481.67 Q2119.76 1477.06 2119.76 1468.33 Q2119.76 1459.58 2122.82 1455 Q2125.9 1450.39 2131.71 1450.39 Z\" fill=\"#000000\" fill-rule=\"evenodd\" fill-opacity=\"1\" /><path clip-path=\"url(#clip090)\" d=\"M2151.91 1451.02 L2170.27 1451.02 L2170.27 1454.96 L2156.2 1454.96 L2156.2 1463.43 Q2157.22 1463.08 2158.23 1462.92 Q2159.25 1462.73 2160.27 1462.73 Q2166.06 1462.73 2169.44 1465.9 Q2172.82 1469.08 2172.82 1474.49 Q2172.82 1480.07 2169.35 1483.17 Q2165.87 1486.25 2159.55 1486.25 Q2157.38 1486.25 2155.11 1485.88 Q2152.86 1485.51 2150.46 1484.77 L2150.46 1480.07 Q2152.54 1481.2 2154.76 1481.76 Q2156.98 1482.32 2159.46 1482.32 Q2163.47 1482.32 2165.8 1480.21 Q2168.14 1478.1 2168.14 1474.49 Q2168.14 1470.88 2165.8 1468.77 Q2163.47 1466.67 2159.46 1466.67 Q2157.59 1466.67 2155.71 1467.08 Q2153.86 1467.5 2151.91 1468.38 L2151.91 1451.02 Z\" fill=\"#000000\" fill-rule=\"evenodd\" fill-opacity=\"1\" /><path clip-path=\"url(#clip090)\" d=\"M1268.34 1526.86 L1255.29 1562.7 L1281.43 1562.7 L1268.34 1526.86 M1246.57 1568.04 L1264.72 1520.52 L1272 1520.52 L1290.11 1568.04 L1246.57 1568.04 Z\" fill=\"#000000\" fill-rule=\"evenodd\" fill-opacity=\"1\" /><path clip-path=\"url(#clip090)\" d=\"M1296.19 1553.98 L1296.19 1532.4 L1302.05 1532.4 L1302.05 1553.75 Q1302.05 1558.81 1304.02 1561.36 Q1306 1563.87 1309.94 1563.87 Q1314.69 1563.87 1317.42 1560.85 Q1320.19 1557.83 1320.19 1552.61 L1320.19 1532.4 L1326.05 1532.4 L1326.05 1568.04 L1320.19 1568.04 L1320.19 1562.57 Q1318.06 1565.82 1315.23 1567.41 Q1312.43 1568.97 1308.7 1568.97 Q1302.56 1568.97 1299.38 1565.15 Q1296.19 1561.33 1296.19 1553.98 M1310.93 1531.54 L1310.93 1531.54 Z\" fill=\"#000000\" fill-rule=\"evenodd\" fill-opacity=\"1\" /><polyline clip-path=\"url(#clip092)\" style=\"stroke:#000000; stroke-linecap:butt; stroke-linejoin:round; stroke-width:2; stroke-opacity:0.1; fill:none\" points=\"\n",
       "  219.866,1386.4 2352.76,1386.4 \n",
       "  \"/>\n",
       "<polyline clip-path=\"url(#clip092)\" style=\"stroke:#000000; stroke-linecap:butt; stroke-linejoin:round; stroke-width:2; stroke-opacity:0.1; fill:none\" points=\"\n",
       "  219.866,1141.17 2352.76,1141.17 \n",
       "  \"/>\n",
       "<polyline clip-path=\"url(#clip092)\" style=\"stroke:#000000; stroke-linecap:butt; stroke-linejoin:round; stroke-width:2; stroke-opacity:0.1; fill:none\" points=\"\n",
       "  219.866,895.94 2352.76,895.94 \n",
       "  \"/>\n",
       "<polyline clip-path=\"url(#clip092)\" style=\"stroke:#000000; stroke-linecap:butt; stroke-linejoin:round; stroke-width:2; stroke-opacity:0.1; fill:none\" points=\"\n",
       "  219.866,650.712 2352.76,650.712 \n",
       "  \"/>\n",
       "<polyline clip-path=\"url(#clip092)\" style=\"stroke:#000000; stroke-linecap:butt; stroke-linejoin:round; stroke-width:2; stroke-opacity:0.1; fill:none\" points=\"\n",
       "  219.866,405.484 2352.76,405.484 \n",
       "  \"/>\n",
       "<polyline clip-path=\"url(#clip092)\" style=\"stroke:#000000; stroke-linecap:butt; stroke-linejoin:round; stroke-width:2; stroke-opacity:0.1; fill:none\" points=\"\n",
       "  219.866,160.256 2352.76,160.256 \n",
       "  \"/>\n",
       "<polyline clip-path=\"url(#clip090)\" style=\"stroke:#000000; stroke-linecap:butt; stroke-linejoin:round; stroke-width:4; stroke-opacity:1; fill:none\" points=\"\n",
       "  219.866,1423.18 219.866,123.472 \n",
       "  \"/>\n",
       "<polyline clip-path=\"url(#clip090)\" style=\"stroke:#000000; stroke-linecap:butt; stroke-linejoin:round; stroke-width:4; stroke-opacity:1; fill:none\" points=\"\n",
       "  219.866,1386.4 238.764,1386.4 \n",
       "  \"/>\n",
       "<polyline clip-path=\"url(#clip090)\" style=\"stroke:#000000; stroke-linecap:butt; stroke-linejoin:round; stroke-width:4; stroke-opacity:1; fill:none\" points=\"\n",
       "  219.866,1141.17 238.764,1141.17 \n",
       "  \"/>\n",
       "<polyline clip-path=\"url(#clip090)\" style=\"stroke:#000000; stroke-linecap:butt; stroke-linejoin:round; stroke-width:4; stroke-opacity:1; fill:none\" points=\"\n",
       "  219.866,895.94 238.764,895.94 \n",
       "  \"/>\n",
       "<polyline clip-path=\"url(#clip090)\" style=\"stroke:#000000; stroke-linecap:butt; stroke-linejoin:round; stroke-width:4; stroke-opacity:1; fill:none\" points=\"\n",
       "  219.866,650.712 238.764,650.712 \n",
       "  \"/>\n",
       "<polyline clip-path=\"url(#clip090)\" style=\"stroke:#000000; stroke-linecap:butt; stroke-linejoin:round; stroke-width:4; stroke-opacity:1; fill:none\" points=\"\n",
       "  219.866,405.484 238.764,405.484 \n",
       "  \"/>\n",
       "<polyline clip-path=\"url(#clip090)\" style=\"stroke:#000000; stroke-linecap:butt; stroke-linejoin:round; stroke-width:4; stroke-opacity:1; fill:none\" points=\"\n",
       "  219.866,160.256 238.764,160.256 \n",
       "  \"/>\n",
       "<path clip-path=\"url(#clip090)\" d=\"M127.917 1372.19 Q124.306 1372.19 122.478 1375.76 Q120.672 1379.3 120.672 1386.43 Q120.672 1393.54 122.478 1397.1 Q124.306 1400.64 127.917 1400.64 Q131.552 1400.64 133.357 1397.1 Q135.186 1393.54 135.186 1386.43 Q135.186 1379.3 133.357 1375.76 Q131.552 1372.19 127.917 1372.19 M127.917 1368.49 Q133.728 1368.49 136.783 1373.1 Q139.862 1377.68 139.862 1386.43 Q139.862 1395.16 136.783 1399.76 Q133.728 1404.35 127.917 1404.35 Q122.107 1404.35 119.029 1399.76 Q115.973 1395.16 115.973 1386.43 Q115.973 1377.68 119.029 1373.1 Q122.107 1368.49 127.917 1368.49 Z\" fill=\"#000000\" fill-rule=\"evenodd\" fill-opacity=\"1\" /><path clip-path=\"url(#clip090)\" d=\"M148.079 1397.8 L152.964 1397.8 L152.964 1403.68 L148.079 1403.68 L148.079 1397.8 Z\" fill=\"#000000\" fill-rule=\"evenodd\" fill-opacity=\"1\" /><path clip-path=\"url(#clip090)\" d=\"M163.959 1399.74 L171.598 1399.74 L171.598 1373.37 L163.288 1375.04 L163.288 1370.78 L171.552 1369.12 L176.227 1369.12 L176.227 1399.74 L183.866 1399.74 L183.866 1403.68 L163.959 1403.68 L163.959 1399.74 Z\" fill=\"#000000\" fill-rule=\"evenodd\" fill-opacity=\"1\" /><path clip-path=\"url(#clip090)\" d=\"M128.288 1126.97 Q124.677 1126.97 122.848 1130.53 Q121.043 1134.07 121.043 1141.2 Q121.043 1148.31 122.848 1151.87 Q124.677 1155.42 128.288 1155.42 Q131.922 1155.42 133.728 1151.87 Q135.556 1148.31 135.556 1141.2 Q135.556 1134.07 133.728 1130.53 Q131.922 1126.97 128.288 1126.97 M128.288 1123.26 Q134.098 1123.26 137.154 1127.87 Q140.232 1132.45 140.232 1141.2 Q140.232 1149.93 137.154 1154.54 Q134.098 1159.12 128.288 1159.12 Q122.478 1159.12 119.399 1154.54 Q116.343 1149.93 116.343 1141.2 Q116.343 1132.45 119.399 1127.87 Q122.478 1123.26 128.288 1123.26 Z\" fill=\"#000000\" fill-rule=\"evenodd\" fill-opacity=\"1\" /><path clip-path=\"url(#clip090)\" d=\"M148.45 1152.57 L153.334 1152.57 L153.334 1158.45 L148.45 1158.45 L148.45 1152.57 Z\" fill=\"#000000\" fill-rule=\"evenodd\" fill-opacity=\"1\" /><path clip-path=\"url(#clip090)\" d=\"M167.547 1154.51 L183.866 1154.51 L183.866 1158.45 L161.922 1158.45 L161.922 1154.51 Q164.584 1151.76 169.167 1147.13 Q173.774 1142.48 174.954 1141.13 Q177.2 1138.61 178.079 1136.87 Q178.982 1135.11 178.982 1133.42 Q178.982 1130.67 177.038 1128.93 Q175.116 1127.2 172.014 1127.2 Q169.815 1127.2 167.362 1127.96 Q164.931 1128.73 162.153 1130.28 L162.153 1125.55 Q164.977 1124.42 167.431 1123.84 Q169.885 1123.26 171.922 1123.26 Q177.292 1123.26 180.487 1125.95 Q183.681 1128.63 183.681 1133.12 Q183.681 1135.25 182.871 1137.17 Q182.084 1139.07 179.977 1141.67 Q179.399 1142.34 176.297 1145.55 Q173.195 1148.75 167.547 1154.51 Z\" fill=\"#000000\" fill-rule=\"evenodd\" fill-opacity=\"1\" /><path clip-path=\"url(#clip090)\" d=\"M127.339 881.739 Q123.728 881.739 121.899 885.303 Q120.093 888.845 120.093 895.975 Q120.093 903.081 121.899 906.646 Q123.728 910.188 127.339 910.188 Q130.973 910.188 132.779 906.646 Q134.607 903.081 134.607 895.975 Q134.607 888.845 132.779 885.303 Q130.973 881.739 127.339 881.739 M127.339 878.035 Q133.149 878.035 136.204 882.641 Q139.283 887.225 139.283 895.975 Q139.283 904.701 136.204 909.308 Q133.149 913.891 127.339 913.891 Q121.529 913.891 118.45 909.308 Q115.394 904.701 115.394 895.975 Q115.394 887.225 118.45 882.641 Q121.529 878.035 127.339 878.035 Z\" fill=\"#000000\" fill-rule=\"evenodd\" fill-opacity=\"1\" /><path clip-path=\"url(#clip090)\" d=\"M147.501 907.34 L152.385 907.34 L152.385 913.22 L147.501 913.22 L147.501 907.34 Z\" fill=\"#000000\" fill-rule=\"evenodd\" fill-opacity=\"1\" /><path clip-path=\"url(#clip090)\" d=\"M176.737 894.586 Q180.093 895.303 181.968 897.572 Q183.866 899.84 183.866 903.174 Q183.866 908.289 180.348 911.09 Q176.829 913.891 170.348 913.891 Q168.172 913.891 165.857 913.451 Q163.565 913.035 161.112 912.178 L161.112 907.664 Q163.056 908.799 165.371 909.377 Q167.686 909.956 170.209 909.956 Q174.607 909.956 176.899 908.22 Q179.214 906.484 179.214 903.174 Q179.214 900.118 177.061 898.405 Q174.931 896.669 171.112 896.669 L167.084 896.669 L167.084 892.827 L171.297 892.827 Q174.746 892.827 176.575 891.461 Q178.403 890.072 178.403 887.479 Q178.403 884.817 176.505 883.405 Q174.63 881.97 171.112 881.97 Q169.19 881.97 166.991 882.387 Q164.792 882.803 162.153 883.683 L162.153 879.516 Q164.815 878.776 167.13 878.405 Q169.468 878.035 171.528 878.035 Q176.852 878.035 179.954 880.465 Q183.056 882.873 183.056 886.993 Q183.056 889.864 181.413 891.854 Q179.769 893.822 176.737 894.586 Z\" fill=\"#000000\" fill-rule=\"evenodd\" fill-opacity=\"1\" /><path clip-path=\"url(#clip090)\" d=\"M126.205 636.511 Q122.593 636.511 120.765 640.076 Q118.959 643.617 118.959 650.747 Q118.959 657.853 120.765 661.418 Q122.593 664.96 126.205 664.96 Q129.839 664.96 131.644 661.418 Q133.473 657.853 133.473 650.747 Q133.473 643.617 131.644 640.076 Q129.839 636.511 126.205 636.511 M126.205 632.807 Q132.015 632.807 135.07 637.414 Q138.149 641.997 138.149 650.747 Q138.149 659.474 135.07 664.08 Q132.015 668.663 126.205 668.663 Q120.394 668.663 117.316 664.08 Q114.26 659.474 114.26 650.747 Q114.26 641.997 117.316 637.414 Q120.394 632.807 126.205 632.807 Z\" fill=\"#000000\" fill-rule=\"evenodd\" fill-opacity=\"1\" /><path clip-path=\"url(#clip090)\" d=\"M146.366 662.112 L151.251 662.112 L151.251 667.992 L146.366 667.992 L146.366 662.112 Z\" fill=\"#000000\" fill-rule=\"evenodd\" fill-opacity=\"1\" /><path clip-path=\"url(#clip090)\" d=\"M174.283 637.506 L162.477 655.955 L174.283 655.955 L174.283 637.506 M173.056 633.432 L178.936 633.432 L178.936 655.955 L183.866 655.955 L183.866 659.844 L178.936 659.844 L178.936 667.992 L174.283 667.992 L174.283 659.844 L158.681 659.844 L158.681 655.33 L173.056 633.432 Z\" fill=\"#000000\" fill-rule=\"evenodd\" fill-opacity=\"1\" /><path clip-path=\"url(#clip090)\" d=\"M127.686 391.283 Q124.075 391.283 122.246 394.848 Q120.441 398.389 120.441 405.519 Q120.441 412.625 122.246 416.19 Q124.075 419.732 127.686 419.732 Q131.32 419.732 133.126 416.19 Q134.954 412.625 134.954 405.519 Q134.954 398.389 133.126 394.848 Q131.32 391.283 127.686 391.283 M127.686 387.579 Q133.496 387.579 136.552 392.186 Q139.63 396.769 139.63 405.519 Q139.63 414.246 136.552 418.852 Q133.496 423.435 127.686 423.435 Q121.876 423.435 118.797 418.852 Q115.742 414.246 115.742 405.519 Q115.742 396.769 118.797 392.186 Q121.876 387.579 127.686 387.579 Z\" fill=\"#000000\" fill-rule=\"evenodd\" fill-opacity=\"1\" /><path clip-path=\"url(#clip090)\" d=\"M147.848 416.885 L152.732 416.885 L152.732 422.764 L147.848 422.764 L147.848 416.885 Z\" fill=\"#000000\" fill-rule=\"evenodd\" fill-opacity=\"1\" /><path clip-path=\"url(#clip090)\" d=\"M162.964 388.204 L181.32 388.204 L181.32 392.139 L167.246 392.139 L167.246 400.612 Q168.264 400.264 169.283 400.102 Q170.302 399.917 171.32 399.917 Q177.107 399.917 180.487 403.088 Q183.866 406.26 183.866 411.676 Q183.866 417.255 180.394 420.357 Q176.922 423.435 170.602 423.435 Q168.427 423.435 166.158 423.065 Q163.913 422.695 161.505 421.954 L161.505 417.255 Q163.589 418.389 165.811 418.945 Q168.033 419.5 170.51 419.5 Q174.514 419.5 176.852 417.394 Q179.19 415.287 179.19 411.676 Q179.19 408.065 176.852 405.959 Q174.514 403.852 170.51 403.852 Q168.635 403.852 166.76 404.269 Q164.908 404.686 162.964 405.565 L162.964 388.204 Z\" fill=\"#000000\" fill-rule=\"evenodd\" fill-opacity=\"1\" /><path clip-path=\"url(#clip090)\" d=\"M126.529 146.055 Q122.918 146.055 121.089 149.62 Q119.283 153.161 119.283 160.291 Q119.283 167.397 121.089 170.962 Q122.918 174.504 126.529 174.504 Q130.163 174.504 131.968 170.962 Q133.797 167.397 133.797 160.291 Q133.797 153.161 131.968 149.62 Q130.163 146.055 126.529 146.055 M126.529 142.351 Q132.339 142.351 135.394 146.958 Q138.473 151.541 138.473 160.291 Q138.473 169.018 135.394 173.624 Q132.339 178.208 126.529 178.208 Q120.718 178.208 117.64 173.624 Q114.584 169.018 114.584 160.291 Q114.584 151.541 117.64 146.958 Q120.718 142.351 126.529 142.351 Z\" fill=\"#000000\" fill-rule=\"evenodd\" fill-opacity=\"1\" /><path clip-path=\"url(#clip090)\" d=\"M146.691 171.657 L151.575 171.657 L151.575 177.536 L146.691 177.536 L146.691 171.657 Z\" fill=\"#000000\" fill-rule=\"evenodd\" fill-opacity=\"1\" /><path clip-path=\"url(#clip090)\" d=\"M172.339 158.393 Q169.19 158.393 167.339 160.546 Q165.51 162.698 165.51 166.448 Q165.51 170.175 167.339 172.351 Q169.19 174.504 172.339 174.504 Q175.487 174.504 177.315 172.351 Q179.167 170.175 179.167 166.448 Q179.167 162.698 177.315 160.546 Q175.487 158.393 172.339 158.393 M181.621 143.74 L181.621 147.999 Q179.862 147.166 178.056 146.726 Q176.274 146.286 174.514 146.286 Q169.885 146.286 167.431 149.411 Q165.001 152.536 164.653 158.856 Q166.019 156.842 168.079 155.777 Q170.139 154.689 172.616 154.689 Q177.825 154.689 180.834 157.86 Q183.866 161.009 183.866 166.448 Q183.866 171.772 180.718 174.99 Q177.57 178.208 172.339 178.208 Q166.343 178.208 163.172 173.624 Q160.001 169.018 160.001 160.291 Q160.001 152.097 163.89 147.236 Q167.778 142.351 174.329 142.351 Q176.089 142.351 177.871 142.699 Q179.676 143.046 181.621 143.74 Z\" fill=\"#000000\" fill-rule=\"evenodd\" fill-opacity=\"1\" /><path clip-path=\"url(#clip090)\" d=\"M22.818 791.914 L58.657 804.964 L58.657 778.832 L22.818 791.914 M64.0042 813.685 L16.4842 795.542 L16.4842 788.254 L64.0042 770.143 L64.0042 813.685 Z\" fill=\"#000000\" fill-rule=\"evenodd\" fill-opacity=\"1\" /><path clip-path=\"url(#clip090)\" d=\"M28.3562 767.661 L28.3562 761.454 L58.275 750.314 L28.3562 739.174 L28.3562 732.967 L64.0042 746.335 L64.0042 754.293 L28.3562 767.661 Z\" fill=\"#000000\" fill-rule=\"evenodd\" fill-opacity=\"1\" /><path clip-path=\"url(#clip090)\" d=\"M974.695 72.576 L951.605 12.096 L960.153 12.096 L979.313 63.0159 L998.515 12.096 L1007.02 12.096 L983.972 72.576 L974.695 72.576 Z\" fill=\"#000000\" fill-rule=\"evenodd\" fill-opacity=\"1\" /><path clip-path=\"url(#clip090)\" d=\"M1029.71 49.7694 Q1020.67 49.7694 1017.19 51.8354 Q1013.71 53.9013 1013.71 58.8839 Q1013.71 62.8538 1016.3 65.2034 Q1018.93 67.5124 1023.43 67.5124 Q1029.63 67.5124 1033.35 63.1374 Q1037.12 58.7219 1037.12 51.4303 L1037.12 49.7694 L1029.71 49.7694 M1044.57 46.6907 L1044.57 72.576 L1037.12 72.576 L1037.12 65.6895 Q1034.57 69.8214 1030.76 71.8063 Q1026.95 73.7508 1021.44 73.7508 Q1014.48 73.7508 1010.34 69.8619 Q1006.25 65.9325 1006.25 59.3701 Q1006.25 51.7138 1011.36 47.825 Q1016.5 43.9361 1026.67 43.9361 L1037.12 43.9361 L1037.12 43.2069 Q1037.12 38.0623 1033.72 35.2672 Q1030.35 32.4315 1024.24 32.4315 Q1020.35 32.4315 1016.66 33.3632 Q1012.98 34.295 1009.57 36.1584 L1009.57 29.2718 Q1013.66 27.692 1017.51 26.9223 Q1021.36 26.1121 1025.01 26.1121 Q1034.85 26.1121 1039.71 31.2163 Q1044.57 36.3204 1044.57 46.6907 Z\" fill=\"#000000\" fill-rule=\"evenodd\" fill-opacity=\"1\" /><path clip-path=\"url(#clip090)\" d=\"M1059.93 9.54393 L1067.38 9.54393 L1067.38 72.576 L1059.93 72.576 L1059.93 9.54393 Z\" fill=\"#000000\" fill-rule=\"evenodd\" fill-opacity=\"1\" /><path clip-path=\"url(#clip090)\" d=\"M1082.21 54.671 L1082.21 27.2059 L1089.66 27.2059 L1089.66 54.3874 Q1089.66 60.8284 1092.17 64.0691 Q1094.68 67.2693 1099.71 67.2693 Q1105.74 67.2693 1109.23 63.421 Q1112.75 59.5726 1112.75 52.9291 L1112.75 27.2059 L1120.2 27.2059 L1120.2 72.576 L1112.75 72.576 L1112.75 65.6084 Q1110.04 69.7404 1106.43 71.7658 Q1102.87 73.7508 1098.13 73.7508 Q1090.31 73.7508 1086.26 68.8897 Q1082.21 64.0286 1082.21 54.671 M1100.96 26.1121 L1100.96 26.1121 Z\" fill=\"#000000\" fill-rule=\"evenodd\" fill-opacity=\"1\" /><path clip-path=\"url(#clip090)\" d=\"M1174.36 48.0275 L1174.36 51.6733 L1140.09 51.6733 Q1140.58 59.3701 1144.71 63.421 Q1148.88 67.4314 1156.3 67.4314 Q1160.59 67.4314 1164.6 66.3781 Q1168.65 65.3249 1172.62 63.2184 L1172.62 70.267 Q1168.61 71.9684 1164.4 72.8596 Q1160.19 73.7508 1155.85 73.7508 Q1145 73.7508 1138.64 67.4314 Q1132.32 61.1119 1132.32 50.3365 Q1132.32 39.1965 1138.31 32.6746 Q1144.35 26.1121 1154.56 26.1121 Q1163.71 26.1121 1169.02 32.0264 Q1174.36 37.9003 1174.36 48.0275 M1166.91 45.84 Q1166.83 39.7232 1163.47 36.0774 Q1160.15 32.4315 1154.64 32.4315 Q1148.4 32.4315 1144.63 35.9558 Q1140.9 39.4801 1140.34 45.8805 L1166.91 45.84 Z\" fill=\"#000000\" fill-rule=\"evenodd\" fill-opacity=\"1\" /><path clip-path=\"url(#clip090)\" d=\"M1233.59 49.7694 Q1224.56 49.7694 1221.07 51.8354 Q1217.59 53.9013 1217.59 58.8839 Q1217.59 62.8538 1220.18 65.2034 Q1222.81 67.5124 1227.31 67.5124 Q1233.51 67.5124 1237.23 63.1374 Q1241 58.7219 1241 51.4303 L1241 49.7694 L1233.59 49.7694 M1248.46 46.6907 L1248.46 72.576 L1241 72.576 L1241 65.6895 Q1238.45 69.8214 1234.64 71.8063 Q1230.83 73.7508 1225.32 73.7508 Q1218.36 73.7508 1214.23 69.8619 Q1210.13 65.9325 1210.13 59.3701 Q1210.13 51.7138 1215.24 47.825 Q1220.38 43.9361 1230.55 43.9361 L1241 43.9361 L1241 43.2069 Q1241 38.0623 1237.6 35.2672 Q1234.24 32.4315 1228.12 32.4315 Q1224.23 32.4315 1220.54 33.3632 Q1216.86 34.295 1213.46 36.1584 L1213.46 29.2718 Q1217.55 27.692 1221.4 26.9223 Q1225.24 26.1121 1228.89 26.1121 Q1238.73 26.1121 1243.59 31.2163 Q1248.46 36.3204 1248.46 46.6907 Z\" fill=\"#000000\" fill-rule=\"evenodd\" fill-opacity=\"1\" /><path clip-path=\"url(#clip090)\" d=\"M1301.52 45.1919 L1301.52 72.576 L1294.07 72.576 L1294.07 45.4349 Q1294.07 38.994 1291.56 35.7938 Q1289.05 32.5936 1284.02 32.5936 Q1277.99 32.5936 1274.5 36.4419 Q1271.02 40.2903 1271.02 46.9338 L1271.02 72.576 L1263.52 72.576 L1263.52 27.2059 L1271.02 27.2059 L1271.02 34.2544 Q1273.69 30.163 1277.3 28.1376 Q1280.94 26.1121 1285.68 26.1121 Q1293.5 26.1121 1297.51 30.9732 Q1301.52 35.7938 1301.52 45.1919 Z\" fill=\"#000000\" fill-rule=\"evenodd\" fill-opacity=\"1\" /><path clip-path=\"url(#clip090)\" d=\"M1346.24 34.0924 L1346.24 9.54393 L1353.7 9.54393 L1353.7 72.576 L1346.24 72.576 L1346.24 65.7705 Q1343.89 69.8214 1340.29 71.8063 Q1336.72 73.7508 1331.7 73.7508 Q1323.48 73.7508 1318.29 67.1883 Q1313.15 60.6258 1313.15 49.9314 Q1313.15 39.2371 1318.29 32.6746 Q1323.48 26.1121 1331.7 26.1121 Q1336.72 26.1121 1340.29 28.0971 Q1343.89 30.0415 1346.24 34.0924 M1320.85 49.9314 Q1320.85 58.1548 1324.21 62.8538 Q1327.61 67.5124 1333.52 67.5124 Q1339.44 67.5124 1342.84 62.8538 Q1346.24 58.1548 1346.24 49.9314 Q1346.24 41.7081 1342.84 37.0496 Q1339.44 32.3505 1333.52 32.3505 Q1327.61 32.3505 1324.21 37.0496 Q1320.85 41.7081 1320.85 49.9314 Z\" fill=\"#000000\" fill-rule=\"evenodd\" fill-opacity=\"1\" /><path clip-path=\"url(#clip090)\" d=\"M1394.65 54.671 L1394.65 27.2059 L1402.11 27.2059 L1402.11 54.3874 Q1402.11 60.8284 1404.62 64.0691 Q1407.13 67.2693 1412.15 67.2693 Q1418.19 67.2693 1421.67 63.421 Q1425.2 59.5726 1425.2 52.9291 L1425.2 27.2059 L1432.65 27.2059 L1432.65 72.576 L1425.2 72.576 L1425.2 65.6084 Q1422.48 69.7404 1418.88 71.7658 Q1415.31 73.7508 1410.57 73.7508 Q1402.75 73.7508 1398.7 68.8897 Q1394.65 64.0286 1394.65 54.671 M1413.41 26.1121 L1413.41 26.1121 Z\" fill=\"#000000\" fill-rule=\"evenodd\" fill-opacity=\"1\" /><path clip-path=\"url(#clip090)\" d=\"M1455.38 14.324 L1455.38 27.2059 L1470.73 27.2059 L1470.73 32.9987 L1455.38 32.9987 L1455.38 57.6282 Q1455.38 63.1779 1456.87 64.7578 Q1458.41 66.3376 1463.07 66.3376 L1470.73 66.3376 L1470.73 72.576 L1463.07 72.576 Q1454.44 72.576 1451.16 69.3758 Q1447.88 66.1351 1447.88 57.6282 L1447.88 32.9987 L1442.41 32.9987 L1442.41 27.2059 L1447.88 27.2059 L1447.88 14.324 L1455.38 14.324 Z\" fill=\"#000000\" fill-rule=\"evenodd\" fill-opacity=\"1\" /><path clip-path=\"url(#clip090)\" d=\"M1480.53 27.2059 L1487.99 27.2059 L1487.99 72.576 L1480.53 72.576 L1480.53 27.2059 M1480.53 9.54393 L1487.99 9.54393 L1487.99 18.9825 L1480.53 18.9825 L1480.53 9.54393 Z\" fill=\"#000000\" fill-rule=\"evenodd\" fill-opacity=\"1\" /><path clip-path=\"url(#clip090)\" d=\"M1503.58 9.54393 L1511.03 9.54393 L1511.03 72.576 L1503.58 72.576 L1503.58 9.54393 Z\" fill=\"#000000\" fill-rule=\"evenodd\" fill-opacity=\"1\" /><path clip-path=\"url(#clip090)\" d=\"M1526.63 27.2059 L1534.08 27.2059 L1534.08 72.576 L1526.63 72.576 L1526.63 27.2059 M1526.63 9.54393 L1534.08 9.54393 L1534.08 18.9825 L1526.63 18.9825 L1526.63 9.54393 Z\" fill=\"#000000\" fill-rule=\"evenodd\" fill-opacity=\"1\" /><path clip-path=\"url(#clip090)\" d=\"M1557.05 14.324 L1557.05 27.2059 L1572.41 27.2059 L1572.41 32.9987 L1557.05 32.9987 L1557.05 57.6282 Q1557.05 63.1779 1558.55 64.7578 Q1560.09 66.3376 1564.75 66.3376 L1572.41 66.3376 L1572.41 72.576 L1564.75 72.576 Q1556.12 72.576 1552.84 69.3758 Q1549.56 66.1351 1549.56 57.6282 L1549.56 32.9987 L1544.09 32.9987 L1544.09 27.2059 L1549.56 27.2059 L1549.56 14.324 L1557.05 14.324 Z\" fill=\"#000000\" fill-rule=\"evenodd\" fill-opacity=\"1\" /><path clip-path=\"url(#clip090)\" d=\"M1601.09 76.7889 Q1597.93 84.8907 1594.93 87.3618 Q1591.93 89.8329 1586.91 89.8329 L1580.95 89.8329 L1580.95 83.5945 L1585.33 83.5945 Q1588.41 83.5945 1590.11 82.1361 Q1591.81 80.6778 1593.88 75.2496 L1595.21 71.8468 L1576.86 27.2059 L1584.76 27.2059 L1598.94 62.6918 L1613.12 27.2059 L1621.02 27.2059 L1601.09 76.7889 Z\" fill=\"#000000\" fill-rule=\"evenodd\" fill-opacity=\"1\" /><circle clip-path=\"url(#clip092)\" cx=\"651.863\" cy=\"1386.4\" r=\"14\" fill=\"#009af9\" fill-rule=\"evenodd\" fill-opacity=\"1\" stroke=\"#000000\" stroke-opacity=\"1\" stroke-width=\"3.2\"/>\n",
       "<circle clip-path=\"url(#clip092)\" cx=\"887.701\" cy=\"1141.17\" r=\"14\" fill=\"#009af9\" fill-rule=\"evenodd\" fill-opacity=\"1\" stroke=\"#000000\" stroke-opacity=\"1\" stroke-width=\"3.2\"/>\n",
       "<circle clip-path=\"url(#clip092)\" cx=\"1879.48\" cy=\"650.712\" r=\"14\" fill=\"#009af9\" fill-rule=\"evenodd\" fill-opacity=\"1\" stroke=\"#000000\" stroke-opacity=\"1\" stroke-width=\"3.2\"/>\n",
       "<circle clip-path=\"url(#clip092)\" cx=\"1958.64\" cy=\"405.484\" r=\"14\" fill=\"#009af9\" fill-rule=\"evenodd\" fill-opacity=\"1\" stroke=\"#000000\" stroke-opacity=\"1\" stroke-width=\"3.2\"/>\n",
       "<circle clip-path=\"url(#clip092)\" cx=\"2292.39\" cy=\"160.256\" r=\"14\" fill=\"#009af9\" fill-rule=\"evenodd\" fill-opacity=\"1\" stroke=\"#000000\" stroke-opacity=\"1\" stroke-width=\"3.2\"/>\n",
       "<circle clip-path=\"url(#clip092)\" cx=\"436.901\" cy=\"1386.4\" r=\"14\" fill=\"#009af9\" fill-rule=\"evenodd\" fill-opacity=\"1\" stroke=\"#000000\" stroke-opacity=\"1\" stroke-width=\"3.2\"/>\n",
       "<circle clip-path=\"url(#clip092)\" cx=\"1428.68\" cy=\"895.94\" r=\"14\" fill=\"#009af9\" fill-rule=\"evenodd\" fill-opacity=\"1\" stroke=\"#000000\" stroke-opacity=\"1\" stroke-width=\"3.2\"/>\n",
       "<circle clip-path=\"url(#clip092)\" cx=\"1507.84\" cy=\"650.712\" r=\"14\" fill=\"#009af9\" fill-rule=\"evenodd\" fill-opacity=\"1\" stroke=\"#000000\" stroke-opacity=\"1\" stroke-width=\"3.2\"/>\n",
       "<circle clip-path=\"url(#clip092)\" cx=\"1841.59\" cy=\"405.484\" r=\"14\" fill=\"#009af9\" fill-rule=\"evenodd\" fill-opacity=\"1\" stroke=\"#000000\" stroke-opacity=\"1\" stroke-width=\"3.2\"/>\n",
       "<circle clip-path=\"url(#clip092)\" cx=\"1192.84\" cy=\"1141.17\" r=\"14\" fill=\"#009af9\" fill-rule=\"evenodd\" fill-opacity=\"1\" stroke=\"#000000\" stroke-opacity=\"1\" stroke-width=\"3.2\"/>\n",
       "<circle clip-path=\"url(#clip092)\" cx=\"1272.01\" cy=\"895.94\" r=\"14\" fill=\"#009af9\" fill-rule=\"evenodd\" fill-opacity=\"1\" stroke=\"#000000\" stroke-opacity=\"1\" stroke-width=\"3.2\"/>\n",
       "<circle clip-path=\"url(#clip092)\" cx=\"1605.75\" cy=\"650.712\" r=\"14\" fill=\"#009af9\" fill-rule=\"evenodd\" fill-opacity=\"1\" stroke=\"#000000\" stroke-opacity=\"1\" stroke-width=\"3.2\"/>\n",
       "<circle clip-path=\"url(#clip092)\" cx=\"280.231\" cy=\"1386.4\" r=\"14\" fill=\"#009af9\" fill-rule=\"evenodd\" fill-opacity=\"1\" stroke=\"#000000\" stroke-opacity=\"1\" stroke-width=\"3.2\"/>\n",
       "<circle clip-path=\"url(#clip092)\" cx=\"613.978\" cy=\"1141.17\" r=\"14\" fill=\"#009af9\" fill-rule=\"evenodd\" fill-opacity=\"1\" stroke=\"#000000\" stroke-opacity=\"1\" stroke-width=\"3.2\"/>\n",
       "<circle clip-path=\"url(#clip092)\" cx=\"534.81\" cy=\"1386.4\" r=\"14\" fill=\"#009af9\" fill-rule=\"evenodd\" fill-opacity=\"1\" stroke=\"#000000\" stroke-opacity=\"1\" stroke-width=\"3.2\"/>\n",
       "</svg>\n"
      ]
     },
     "metadata": {},
     "output_type": "display_data"
    }
   ],
   "source": [
    "mask = udiff .> 0.0\n",
    "u = udiff[mask]\n",
    "v = vdiff[mask]\n",
    "fig = scatter(u, v, title = \"Value and utility\", label=\"\")#, dpi=500)\n",
    "xlabel!(\"Δu\")\n",
    "ylabel!(\"Δv\")\n",
    "#savefig(fig, \"v_vs_u_cavanagh\")\n",
    "display(fig)"
   ]
  },
  {
   "cell_type": "code",
   "execution_count": 98,
   "id": "possible-symbol",
   "metadata": {},
   "outputs": [
    {
     "data": {
      "text/html": [
       "<div class=\"data-frame\"><p>15 rows × 2 columns</p><table class=\"data-frame\"><thead><tr><th></th><th>u</th><th>v</th></tr><tr><th></th><th title=\"Float64\">Float64</th><th title=\"Float64\">Float64</th></tr></thead><tbody><tr><th>1</th><td>0.0117236</td><td>0.1</td></tr><tr><th>2</th><td>0.0178569</td><td>0.2</td></tr><tr><th>3</th><td>0.0436493</td><td>0.4</td></tr><tr><th>4</th><td>0.0457082</td><td>0.5</td></tr><tr><th>5</th><td>0.0543877</td><td>0.6</td></tr><tr><th>6</th><td>0.00613327</td><td>0.1</td></tr><tr><th>7</th><td>0.0319257</td><td>0.3</td></tr><tr><th>8</th><td>0.0339846</td><td>0.4</td></tr><tr><th>9</th><td>0.0426641</td><td>0.5</td></tr><tr><th>10</th><td>0.0257924</td><td>0.2</td></tr><tr><th>11</th><td>0.0278513</td><td>0.3</td></tr><tr><th>12</th><td>0.0365308</td><td>0.4</td></tr><tr><th>13</th><td>0.00205886</td><td>0.1</td></tr><tr><th>14</th><td>0.0107384</td><td>0.2</td></tr><tr><th>15</th><td>0.00867952</td><td>0.1</td></tr></tbody></table></div>"
      ],
      "text/latex": [
       "\\begin{tabular}{r|cc}\n",
       "\t& u & v\\\\\n",
       "\t\\hline\n",
       "\t& Float64 & Float64\\\\\n",
       "\t\\hline\n",
       "\t1 & 0.0117236 & 0.1 \\\\\n",
       "\t2 & 0.0178569 & 0.2 \\\\\n",
       "\t3 & 0.0436493 & 0.4 \\\\\n",
       "\t4 & 0.0457082 & 0.5 \\\\\n",
       "\t5 & 0.0543877 & 0.6 \\\\\n",
       "\t6 & 0.00613327 & 0.1 \\\\\n",
       "\t7 & 0.0319257 & 0.3 \\\\\n",
       "\t8 & 0.0339846 & 0.4 \\\\\n",
       "\t9 & 0.0426641 & 0.5 \\\\\n",
       "\t10 & 0.0257924 & 0.2 \\\\\n",
       "\t11 & 0.0278513 & 0.3 \\\\\n",
       "\t12 & 0.0365308 & 0.4 \\\\\n",
       "\t13 & 0.00205886 & 0.1 \\\\\n",
       "\t14 & 0.0107384 & 0.2 \\\\\n",
       "\t15 & 0.00867952 & 0.1 \\\\\n",
       "\\end{tabular}\n"
      ],
      "text/plain": [
       "\u001b[1m15×2 DataFrame\u001b[0m\n",
       "\u001b[1m Row \u001b[0m│\u001b[1m u          \u001b[0m\u001b[1m v       \u001b[0m\n",
       "\u001b[1m     \u001b[0m│\u001b[90m Float64    \u001b[0m\u001b[90m Float64 \u001b[0m\n",
       "─────┼─────────────────────\n",
       "   1 │ 0.0117236       0.1\n",
       "   2 │ 0.0178569       0.2\n",
       "   3 │ 0.0436493       0.4\n",
       "   4 │ 0.0457082       0.5\n",
       "   5 │ 0.0543877       0.6\n",
       "   6 │ 0.00613327      0.1\n",
       "   7 │ 0.0319257       0.3\n",
       "   8 │ 0.0339846       0.4\n",
       "   9 │ 0.0426641       0.5\n",
       "  10 │ 0.0257924       0.2\n",
       "  11 │ 0.0278513       0.3\n",
       "  12 │ 0.0365308       0.4\n",
       "  13 │ 0.00205886      0.1\n",
       "  14 │ 0.0107384       0.2\n",
       "  15 │ 0.00867952      0.1"
      ]
     },
     "execution_count": 98,
     "metadata": {},
     "output_type": "execute_result"
    }
   ],
   "source": [
    "data = DataFrame([u,v], :auto);\n",
    "Matrix(data)\n",
    "rename!(data,:x1 => :u)\n",
    "rename!(data,:x2 => :v)"
   ]
  },
  {
   "cell_type": "code",
   "execution_count": 99,
   "id": "every-preliminary",
   "metadata": {},
   "outputs": [
    {
     "data": {
      "text/plain": [
       "StatsModels.TableRegressionModel{LinearModel{GLM.LmResp{Vector{Float64}}, GLM.DensePredChol{Float64, CholeskyPivoted{Float64, Matrix{Float64}}}}, Matrix{Float64}}\n",
       "\n",
       "v ~ 1 + u\n",
       "\n",
       "Coefficients:\n",
       "──────────────────────────────────────────────────────────────────────────\n",
       "                 Coef.  Std. Error      t  Pr(>|t|)   Lower 95%  Upper 95%\n",
       "──────────────────────────────────────────────────────────────────────────\n",
       "(Intercept)  0.0318326   0.0230578   1.38    0.1907  -0.0179807   0.081646\n",
       "u            9.81402     0.743898   13.19    <1e-08   8.20692    11.4211\n",
       "──────────────────────────────────────────────────────────────────────────"
      ]
     },
     "execution_count": 99,
     "metadata": {},
     "output_type": "execute_result"
    }
   ],
   "source": [
    "ols = lm(@formula(v~u), data)"
   ]
  },
  {
   "cell_type": "code",
   "execution_count": 100,
   "id": "fixed-singles",
   "metadata": {},
   "outputs": [],
   "source": [
    "b0, b1 = coef(ols)\n",
    "grid = minimum(u) .+ (maximum(u) - minimum(u)) .* collect(1:1000) ./ 1000\n",
    "line = b0 .+ b1*grid\n",
    "plot!(grid, line, color = \"red\", label=\"\", dpi=500)\n",
    "savefig(\"v_vs_u_cavanagh_whole_21jan\")"
   ]
  },
  {
   "cell_type": "markdown",
   "id": "oriental-emerald",
   "metadata": {},
   "source": [
    "---"
   ]
  },
  {
   "cell_type": "markdown",
   "id": "congressional-feature",
   "metadata": {},
   "source": [
    "## Remove win-win comparisons"
   ]
  },
  {
   "cell_type": "code",
   "execution_count": 101,
   "id": "fifteen-terminal",
   "metadata": {},
   "outputs": [
    {
     "data": {
      "text/plain": [
       "([4, 5], [4, 6], [5, 6])"
      ]
     },
     "execution_count": 101,
     "metadata": {},
     "output_type": "execute_result"
    }
   ],
   "source": [
    "mask = ([4,5],[4,6],[5,6])"
   ]
  },
  {
   "cell_type": "code",
   "execution_count": 102,
   "id": "julian-novel",
   "metadata": {},
   "outputs": [],
   "source": [
    "DT_c1 = copy(DT_c);\n",
    "P_c1 = copy(P_c);"
   ]
  },
  {
   "cell_type": "code",
   "execution_count": 103,
   "id": "median-glenn",
   "metadata": {},
   "outputs": [],
   "source": [
    "for pair in mask\n",
    "    DT_c1[pair[1],pair[2]] = DT_c1[pair[2],pair[1]] = Inf\n",
    "    P_c1[pair[1],pair[2]] = P_c1[pair[2],pair[1]] = 0.0\n",
    "end"
   ]
  },
  {
   "cell_type": "code",
   "execution_count": 104,
   "id": "literary-grass",
   "metadata": {},
   "outputs": [
    {
     "data": {
      "text/plain": [
       "6×6 Matrix{Float64}:\n",
       "    0.0    1286.85  1285.75   981.942  1044.13   929.42\n",
       " 1286.85      0.0   1334.77  1086.93   1129.05  1055.03\n",
       " 1285.75   1334.77     0.0   1168.58   1195.47  1041.3\n",
       "  981.942  1086.93  1168.58     0.0      Inf      Inf\n",
       " 1044.13   1129.05  1195.47    Inf        0.0     Inf\n",
       "  929.42   1055.03  1041.3     Inf       Inf       0.0"
      ]
     },
     "execution_count": 104,
     "metadata": {},
     "output_type": "execute_result"
    }
   ],
   "source": [
    "DT_c1"
   ]
  },
  {
   "cell_type": "code",
   "execution_count": 105,
   "id": "bronze-beast",
   "metadata": {},
   "outputs": [
    {
     "data": {
      "text/plain": [
       "6×6 Matrix{Float64}:\n",
       " 0.5       0.362179  0.261981  0.106109  0.083871  0.0573248\n",
       " 0.637821  0.5       0.434505  0.125807  0.163462  0.115756\n",
       " 0.738019  0.565495  0.5       0.23301   0.140575  0.153846\n",
       " 0.893891  0.874193  0.76699   0.5       0.0       0.0\n",
       " 0.916129  0.836538  0.859425  0.0       0.5       0.0\n",
       " 0.942675  0.884244  0.846154  0.0       0.0       0.5"
      ]
     },
     "execution_count": 105,
     "metadata": {},
     "output_type": "execute_result"
    }
   ],
   "source": [
    "P_c1"
   ]
  },
  {
   "cell_type": "code",
   "execution_count": 106,
   "id": "standard-campbell",
   "metadata": {
    "scrolled": false
   },
   "outputs": [
    {
     "data": {
      "text/plain": [
       "6×6 Matrix{Float64}:\n",
       " 0.0       -0.565917  -1.0357     -2.13111   -2.39088   -2.79999\n",
       " 0.565917   0.0       -0.263495   -1.93856   -1.6327    -2.03325\n",
       " 1.0357     0.263495   0.0        -1.19139   -1.81052   -1.70475\n",
       " 2.13111    1.93856    1.19139     0.0      -Inf       -Inf\n",
       " 2.39088    1.6327     1.81052   -Inf         0.0      -Inf\n",
       " 2.79999    2.03325    1.70475   -Inf       -Inf         0.0"
      ]
     },
     "execution_count": 106,
     "metadata": {},
     "output_type": "execute_result"
    }
   ],
   "source": [
    "l_out = get_l(P_c1)"
   ]
  },
  {
   "cell_type": "code",
   "execution_count": 107,
   "id": "critical-crowd",
   "metadata": {},
   "outputs": [
    {
     "data": {
      "text/plain": [
       "4.6629367034256575e-15"
      ]
     },
     "execution_count": 107,
     "metadata": {},
     "output_type": "execute_result"
    }
   ],
   "source": [
    "l_out_til = l_tilde(l_out, l_out)[1]\n",
    "l_out_til2 = l_tilde(l_out_til, l_out_til)[1]\n",
    "l_out_til3 = l_tilde(l_out_til2, l_out_til2)[1]\n",
    "\n",
    "l_out_diff = abs.(l_out_til3 - l_out_til2)\n",
    "sum(l_out_diff[.!isnan.(l_out_diff)])"
   ]
  },
  {
   "cell_type": "code",
   "execution_count": 108,
   "id": "aggressive-bosnia",
   "metadata": {},
   "outputs": [
    {
     "data": {
      "text/plain": [
       "6×6 Matrix{Float64}:\n",
       "    0.0    1342.89  1293.56   995.83   971.618   874.838\n",
       " 1342.89      0.0   1372.03  1138.04  1112.98   1007.55\n",
       " 1293.56   1372.03     0.0   1210.55  1186.72   1081.86\n",
       "  995.83   1138.04  1210.55     0.0   1382.12   1349.22\n",
       "  971.618  1112.98  1186.72  1382.12     0.0    1360.85\n",
       "  874.838  1007.55  1081.86  1349.22  1360.85      0.0"
      ]
     },
     "execution_count": 108,
     "metadata": {},
     "output_type": "execute_result"
    }
   ],
   "source": [
    "DT_til1 = DT_tilde(l_til, DT_c1)"
   ]
  },
  {
   "cell_type": "code",
   "execution_count": 109,
   "id": "numeric-windows",
   "metadata": {},
   "outputs": [
    {
     "data": {
      "text/plain": [
       "(52.600686099705776, [0.0 -0.011474859950901153 … -0.044738284959669396 -0.0532336347960998; 0.011474859950901153 0.0 … -0.03326342500876825 -0.04175877484519864; … ; 0.044738284959669396 0.03326342500876825 … 0.0 -0.008495349836430395; 0.0532336347960998 0.04175877484519864 … 0.008495349836430395 0.0])"
      ]
     },
     "execution_count": 109,
     "metadata": {},
     "output_type": "execute_result"
    }
   ],
   "source": [
    "λ1, udiff1 = wavelet(l_til, DT_til1)"
   ]
  },
  {
   "cell_type": "code",
   "execution_count": 110,
   "id": "reliable-aggregate",
   "metadata": {},
   "outputs": [
    {
     "data": {
      "image/svg+xml": [
       "<?xml version=\"1.0\" encoding=\"utf-8\"?>\n",
       "<svg xmlns=\"http://www.w3.org/2000/svg\" xmlns:xlink=\"http://www.w3.org/1999/xlink\" width=\"600\" height=\"400\" viewBox=\"0 0 2400 1600\">\n",
       "<defs>\n",
       "  <clipPath id=\"clip140\">\n",
       "    <rect x=\"0\" y=\"0\" width=\"2400\" height=\"1600\"/>\n",
       "  </clipPath>\n",
       "</defs>\n",
       "<path clip-path=\"url(#clip140)\" d=\"\n",
       "M0 1600 L2400 1600 L2400 0 L0 0  Z\n",
       "  \" fill=\"#ffffff\" fill-rule=\"evenodd\" fill-opacity=\"1\"/>\n",
       "<defs>\n",
       "  <clipPath id=\"clip141\">\n",
       "    <rect x=\"480\" y=\"0\" width=\"1681\" height=\"1600\"/>\n",
       "  </clipPath>\n",
       "</defs>\n",
       "<path clip-path=\"url(#clip140)\" d=\"\n",
       "M219.542 1423.18 L2352.76 1423.18 L2352.76 123.472 L219.542 123.472  Z\n",
       "  \" fill=\"#ffffff\" fill-rule=\"evenodd\" fill-opacity=\"1\"/>\n",
       "<defs>\n",
       "  <clipPath id=\"clip142\">\n",
       "    <rect x=\"219\" y=\"123\" width=\"2134\" height=\"1301\"/>\n",
       "  </clipPath>\n",
       "</defs>\n",
       "<polyline clip-path=\"url(#clip142)\" style=\"stroke:#000000; stroke-linecap:butt; stroke-linejoin:round; stroke-width:2; stroke-opacity:0.1; fill:none\" points=\"\n",
       "  450.221,1423.18 450.221,123.472 \n",
       "  \"/>\n",
       "<polyline clip-path=\"url(#clip142)\" style=\"stroke:#000000; stroke-linecap:butt; stroke-linejoin:round; stroke-width:2; stroke-opacity:0.1; fill:none\" points=\"\n",
       "  876.315,1423.18 876.315,123.472 \n",
       "  \"/>\n",
       "<polyline clip-path=\"url(#clip142)\" style=\"stroke:#000000; stroke-linecap:butt; stroke-linejoin:round; stroke-width:2; stroke-opacity:0.1; fill:none\" points=\"\n",
       "  1302.41,1423.18 1302.41,123.472 \n",
       "  \"/>\n",
       "<polyline clip-path=\"url(#clip142)\" style=\"stroke:#000000; stroke-linecap:butt; stroke-linejoin:round; stroke-width:2; stroke-opacity:0.1; fill:none\" points=\"\n",
       "  1728.5,1423.18 1728.5,123.472 \n",
       "  \"/>\n",
       "<polyline clip-path=\"url(#clip142)\" style=\"stroke:#000000; stroke-linecap:butt; stroke-linejoin:round; stroke-width:2; stroke-opacity:0.1; fill:none\" points=\"\n",
       "  2154.6,1423.18 2154.6,123.472 \n",
       "  \"/>\n",
       "<polyline clip-path=\"url(#clip140)\" style=\"stroke:#000000; stroke-linecap:butt; stroke-linejoin:round; stroke-width:4; stroke-opacity:1; fill:none\" points=\"\n",
       "  219.542,1423.18 2352.76,1423.18 \n",
       "  \"/>\n",
       "<polyline clip-path=\"url(#clip140)\" style=\"stroke:#000000; stroke-linecap:butt; stroke-linejoin:round; stroke-width:4; stroke-opacity:1; fill:none\" points=\"\n",
       "  450.221,1423.18 450.221,1404.28 \n",
       "  \"/>\n",
       "<polyline clip-path=\"url(#clip140)\" style=\"stroke:#000000; stroke-linecap:butt; stroke-linejoin:round; stroke-width:4; stroke-opacity:1; fill:none\" points=\"\n",
       "  876.315,1423.18 876.315,1404.28 \n",
       "  \"/>\n",
       "<polyline clip-path=\"url(#clip140)\" style=\"stroke:#000000; stroke-linecap:butt; stroke-linejoin:round; stroke-width:4; stroke-opacity:1; fill:none\" points=\"\n",
       "  1302.41,1423.18 1302.41,1404.28 \n",
       "  \"/>\n",
       "<polyline clip-path=\"url(#clip140)\" style=\"stroke:#000000; stroke-linecap:butt; stroke-linejoin:round; stroke-width:4; stroke-opacity:1; fill:none\" points=\"\n",
       "  1728.5,1423.18 1728.5,1404.28 \n",
       "  \"/>\n",
       "<polyline clip-path=\"url(#clip140)\" style=\"stroke:#000000; stroke-linecap:butt; stroke-linejoin:round; stroke-width:4; stroke-opacity:1; fill:none\" points=\"\n",
       "  2154.6,1423.18 2154.6,1404.28 \n",
       "  \"/>\n",
       "<path clip-path=\"url(#clip140)\" d=\"M413.138 1454.1 Q409.526 1454.1 407.698 1457.66 Q405.892 1461.2 405.892 1468.33 Q405.892 1475.44 407.698 1479.01 Q409.526 1482.55 413.138 1482.55 Q416.772 1482.55 418.577 1479.01 Q420.406 1475.44 420.406 1468.33 Q420.406 1461.2 418.577 1457.66 Q416.772 1454.1 413.138 1454.1 M413.138 1450.39 Q418.948 1450.39 422.003 1455 Q425.082 1459.58 425.082 1468.33 Q425.082 1477.06 422.003 1481.67 Q418.948 1486.25 413.138 1486.25 Q407.327 1486.25 404.249 1481.67 Q401.193 1477.06 401.193 1468.33 Q401.193 1459.58 404.249 1455 Q407.327 1450.39 413.138 1450.39 Z\" fill=\"#000000\" fill-rule=\"evenodd\" fill-opacity=\"1\" /><path clip-path=\"url(#clip140)\" d=\"M433.299 1479.7 L438.184 1479.7 L438.184 1485.58 L433.299 1485.58 L433.299 1479.7 Z\" fill=\"#000000\" fill-rule=\"evenodd\" fill-opacity=\"1\" /><path clip-path=\"url(#clip140)\" d=\"M458.369 1454.1 Q454.758 1454.1 452.929 1457.66 Q451.123 1461.2 451.123 1468.33 Q451.123 1475.44 452.929 1479.01 Q454.758 1482.55 458.369 1482.55 Q462.003 1482.55 463.809 1479.01 Q465.637 1475.44 465.637 1468.33 Q465.637 1461.2 463.809 1457.66 Q462.003 1454.1 458.369 1454.1 M458.369 1450.39 Q464.179 1450.39 467.234 1455 Q470.313 1459.58 470.313 1468.33 Q470.313 1477.06 467.234 1481.67 Q464.179 1486.25 458.369 1486.25 Q452.559 1486.25 449.48 1481.67 Q446.424 1477.06 446.424 1468.33 Q446.424 1459.58 449.48 1455 Q452.559 1450.39 458.369 1450.39 Z\" fill=\"#000000\" fill-rule=\"evenodd\" fill-opacity=\"1\" /><path clip-path=\"url(#clip140)\" d=\"M479.341 1481.64 L486.98 1481.64 L486.98 1455.28 L478.67 1456.95 L478.67 1452.69 L486.933 1451.02 L491.609 1451.02 L491.609 1481.64 L499.248 1481.64 L499.248 1485.58 L479.341 1485.58 L479.341 1481.64 Z\" fill=\"#000000\" fill-rule=\"evenodd\" fill-opacity=\"1\" /><path clip-path=\"url(#clip140)\" d=\"M839.417 1454.1 Q835.806 1454.1 833.977 1457.66 Q832.172 1461.2 832.172 1468.33 Q832.172 1475.44 833.977 1479.01 Q835.806 1482.55 839.417 1482.55 Q843.051 1482.55 844.857 1479.01 Q846.686 1475.44 846.686 1468.33 Q846.686 1461.2 844.857 1457.66 Q843.051 1454.1 839.417 1454.1 M839.417 1450.39 Q845.227 1450.39 848.283 1455 Q851.362 1459.58 851.362 1468.33 Q851.362 1477.06 848.283 1481.67 Q845.227 1486.25 839.417 1486.25 Q833.607 1486.25 830.528 1481.67 Q827.473 1477.06 827.473 1468.33 Q827.473 1459.58 830.528 1455 Q833.607 1450.39 839.417 1450.39 Z\" fill=\"#000000\" fill-rule=\"evenodd\" fill-opacity=\"1\" /><path clip-path=\"url(#clip140)\" d=\"M859.579 1479.7 L864.463 1479.7 L864.463 1485.58 L859.579 1485.58 L859.579 1479.7 Z\" fill=\"#000000\" fill-rule=\"evenodd\" fill-opacity=\"1\" /><path clip-path=\"url(#clip140)\" d=\"M884.648 1454.1 Q881.037 1454.1 879.209 1457.66 Q877.403 1461.2 877.403 1468.33 Q877.403 1475.44 879.209 1479.01 Q881.037 1482.55 884.648 1482.55 Q888.283 1482.55 890.088 1479.01 Q891.917 1475.44 891.917 1468.33 Q891.917 1461.2 890.088 1457.66 Q888.283 1454.1 884.648 1454.1 M884.648 1450.39 Q890.459 1450.39 893.514 1455 Q896.593 1459.58 896.593 1468.33 Q896.593 1477.06 893.514 1481.67 Q890.459 1486.25 884.648 1486.25 Q878.838 1486.25 875.76 1481.67 Q872.704 1477.06 872.704 1468.33 Q872.704 1459.58 875.76 1455 Q878.838 1450.39 884.648 1450.39 Z\" fill=\"#000000\" fill-rule=\"evenodd\" fill-opacity=\"1\" /><path clip-path=\"url(#clip140)\" d=\"M908.838 1481.64 L925.157 1481.64 L925.157 1485.58 L903.213 1485.58 L903.213 1481.64 Q905.875 1478.89 910.458 1474.26 Q915.065 1469.61 916.245 1468.27 Q918.491 1465.74 919.37 1464.01 Q920.273 1462.25 920.273 1460.56 Q920.273 1457.8 918.329 1456.07 Q916.407 1454.33 913.306 1454.33 Q911.107 1454.33 908.653 1455.09 Q906.222 1455.86 903.445 1457.41 L903.445 1452.69 Q906.269 1451.55 908.722 1450.97 Q911.176 1450.39 913.213 1450.39 Q918.583 1450.39 921.778 1453.08 Q924.972 1455.77 924.972 1460.26 Q924.972 1462.39 924.162 1464.31 Q923.375 1466.2 921.269 1468.8 Q920.69 1469.47 917.588 1472.69 Q914.486 1475.88 908.838 1481.64 Z\" fill=\"#000000\" fill-rule=\"evenodd\" fill-opacity=\"1\" /><path clip-path=\"url(#clip140)\" d=\"M1265.04 1454.1 Q1261.43 1454.1 1259.6 1457.66 Q1257.79 1461.2 1257.79 1468.33 Q1257.79 1475.44 1259.6 1479.01 Q1261.43 1482.55 1265.04 1482.55 Q1268.67 1482.55 1270.48 1479.01 Q1272.31 1475.44 1272.31 1468.33 Q1272.31 1461.2 1270.48 1457.66 Q1268.67 1454.1 1265.04 1454.1 M1265.04 1450.39 Q1270.85 1450.39 1273.9 1455 Q1276.98 1459.58 1276.98 1468.33 Q1276.98 1477.06 1273.9 1481.67 Q1270.85 1486.25 1265.04 1486.25 Q1259.23 1486.25 1256.15 1481.67 Q1253.09 1477.06 1253.09 1468.33 Q1253.09 1459.58 1256.15 1455 Q1259.23 1450.39 1265.04 1450.39 Z\" fill=\"#000000\" fill-rule=\"evenodd\" fill-opacity=\"1\" /><path clip-path=\"url(#clip140)\" d=\"M1285.2 1479.7 L1290.08 1479.7 L1290.08 1485.58 L1285.2 1485.58 L1285.2 1479.7 Z\" fill=\"#000000\" fill-rule=\"evenodd\" fill-opacity=\"1\" /><path clip-path=\"url(#clip140)\" d=\"M1310.27 1454.1 Q1306.66 1454.1 1304.83 1457.66 Q1303.02 1461.2 1303.02 1468.33 Q1303.02 1475.44 1304.83 1479.01 Q1306.66 1482.55 1310.27 1482.55 Q1313.9 1482.55 1315.71 1479.01 Q1317.54 1475.44 1317.54 1468.33 Q1317.54 1461.2 1315.71 1457.66 Q1313.9 1454.1 1310.27 1454.1 M1310.27 1450.39 Q1316.08 1450.39 1319.13 1455 Q1322.21 1459.58 1322.21 1468.33 Q1322.21 1477.06 1319.13 1481.67 Q1316.08 1486.25 1310.27 1486.25 Q1304.46 1486.25 1301.38 1481.67 Q1298.32 1477.06 1298.32 1468.33 Q1298.32 1459.58 1301.38 1455 Q1304.46 1450.39 1310.27 1450.39 Z\" fill=\"#000000\" fill-rule=\"evenodd\" fill-opacity=\"1\" /><path clip-path=\"url(#clip140)\" d=\"M1344.6 1466.95 Q1347.95 1467.66 1349.83 1469.93 Q1351.73 1472.2 1351.73 1475.53 Q1351.73 1480.65 1348.21 1483.45 Q1344.69 1486.25 1338.21 1486.25 Q1336.03 1486.25 1333.72 1485.81 Q1331.43 1485.39 1328.97 1484.54 L1328.97 1480.02 Q1330.92 1481.16 1333.23 1481.74 Q1335.55 1482.32 1338.07 1482.32 Q1342.47 1482.32 1344.76 1480.58 Q1347.07 1478.84 1347.07 1475.53 Q1347.07 1472.48 1344.92 1470.77 Q1342.79 1469.03 1338.97 1469.03 L1334.94 1469.03 L1334.94 1465.19 L1339.16 1465.19 Q1342.61 1465.19 1344.43 1463.82 Q1346.26 1462.43 1346.26 1459.84 Q1346.26 1457.18 1344.37 1455.77 Q1342.49 1454.33 1338.97 1454.33 Q1337.05 1454.33 1334.85 1454.75 Q1332.65 1455.16 1330.01 1456.04 L1330.01 1451.88 Q1332.68 1451.14 1334.99 1450.77 Q1337.33 1450.39 1339.39 1450.39 Q1344.71 1450.39 1347.81 1452.83 Q1350.92 1455.23 1350.92 1459.35 Q1350.92 1462.22 1349.27 1464.21 Q1347.63 1466.18 1344.6 1466.95 Z\" fill=\"#000000\" fill-rule=\"evenodd\" fill-opacity=\"1\" /><path clip-path=\"url(#clip140)\" d=\"M1690.56 1454.1 Q1686.95 1454.1 1685.12 1457.66 Q1683.32 1461.2 1683.32 1468.33 Q1683.32 1475.44 1685.12 1479.01 Q1686.95 1482.55 1690.56 1482.55 Q1694.2 1482.55 1696 1479.01 Q1697.83 1475.44 1697.83 1468.33 Q1697.83 1461.2 1696 1457.66 Q1694.2 1454.1 1690.56 1454.1 M1690.56 1450.39 Q1696.37 1450.39 1699.43 1455 Q1702.51 1459.58 1702.51 1468.33 Q1702.51 1477.06 1699.43 1481.67 Q1696.37 1486.25 1690.56 1486.25 Q1684.75 1486.25 1681.68 1481.67 Q1678.62 1477.06 1678.62 1468.33 Q1678.62 1459.58 1681.68 1455 Q1684.75 1450.39 1690.56 1450.39 Z\" fill=\"#000000\" fill-rule=\"evenodd\" fill-opacity=\"1\" /><path clip-path=\"url(#clip140)\" d=\"M1710.73 1479.7 L1715.61 1479.7 L1715.61 1485.58 L1710.73 1485.58 L1710.73 1479.7 Z\" fill=\"#000000\" fill-rule=\"evenodd\" fill-opacity=\"1\" /><path clip-path=\"url(#clip140)\" d=\"M1735.8 1454.1 Q1732.18 1454.1 1730.36 1457.66 Q1728.55 1461.2 1728.55 1468.33 Q1728.55 1475.44 1730.36 1479.01 Q1732.18 1482.55 1735.8 1482.55 Q1739.43 1482.55 1741.24 1479.01 Q1743.06 1475.44 1743.06 1468.33 Q1743.06 1461.2 1741.24 1457.66 Q1739.43 1454.1 1735.8 1454.1 M1735.8 1450.39 Q1741.61 1450.39 1744.66 1455 Q1747.74 1459.58 1747.74 1468.33 Q1747.74 1477.06 1744.66 1481.67 Q1741.61 1486.25 1735.8 1486.25 Q1729.99 1486.25 1726.91 1481.67 Q1723.85 1477.06 1723.85 1468.33 Q1723.85 1459.58 1726.91 1455 Q1729.99 1450.39 1735.8 1450.39 Z\" fill=\"#000000\" fill-rule=\"evenodd\" fill-opacity=\"1\" /><path clip-path=\"url(#clip140)\" d=\"M1768.8 1455.09 L1757 1473.54 L1768.8 1473.54 L1768.8 1455.09 M1767.58 1451.02 L1773.46 1451.02 L1773.46 1473.54 L1778.39 1473.54 L1778.39 1477.43 L1773.46 1477.43 L1773.46 1485.58 L1768.8 1485.58 L1768.8 1477.43 L1753.2 1477.43 L1753.2 1472.92 L1767.58 1451.02 Z\" fill=\"#000000\" fill-rule=\"evenodd\" fill-opacity=\"1\" /><path clip-path=\"url(#clip140)\" d=\"M2117.4 1454.1 Q2113.79 1454.1 2111.96 1457.66 Q2110.15 1461.2 2110.15 1468.33 Q2110.15 1475.44 2111.96 1479.01 Q2113.79 1482.55 2117.4 1482.55 Q2121.03 1482.55 2122.84 1479.01 Q2124.67 1475.44 2124.67 1468.33 Q2124.67 1461.2 2122.84 1457.66 Q2121.03 1454.1 2117.4 1454.1 M2117.4 1450.39 Q2123.21 1450.39 2126.27 1455 Q2129.34 1459.58 2129.34 1468.33 Q2129.34 1477.06 2126.27 1481.67 Q2123.21 1486.25 2117.4 1486.25 Q2111.59 1486.25 2108.51 1481.67 Q2105.46 1477.06 2105.46 1468.33 Q2105.46 1459.58 2108.51 1455 Q2111.59 1450.39 2117.4 1450.39 Z\" fill=\"#000000\" fill-rule=\"evenodd\" fill-opacity=\"1\" /><path clip-path=\"url(#clip140)\" d=\"M2137.56 1479.7 L2142.45 1479.7 L2142.45 1485.58 L2137.56 1485.58 L2137.56 1479.7 Z\" fill=\"#000000\" fill-rule=\"evenodd\" fill-opacity=\"1\" /><path clip-path=\"url(#clip140)\" d=\"M2162.63 1454.1 Q2159.02 1454.1 2157.19 1457.66 Q2155.39 1461.2 2155.39 1468.33 Q2155.39 1475.44 2157.19 1479.01 Q2159.02 1482.55 2162.63 1482.55 Q2166.27 1482.55 2168.07 1479.01 Q2169.9 1475.44 2169.9 1468.33 Q2169.9 1461.2 2168.07 1457.66 Q2166.27 1454.1 2162.63 1454.1 M2162.63 1450.39 Q2168.44 1450.39 2171.5 1455 Q2174.58 1459.58 2174.58 1468.33 Q2174.58 1477.06 2171.5 1481.67 Q2168.44 1486.25 2162.63 1486.25 Q2156.82 1486.25 2153.74 1481.67 Q2150.69 1477.06 2150.69 1468.33 Q2150.69 1459.58 2153.74 1455 Q2156.82 1450.39 2162.63 1450.39 Z\" fill=\"#000000\" fill-rule=\"evenodd\" fill-opacity=\"1\" /><path clip-path=\"url(#clip140)\" d=\"M2182.84 1451.02 L2201.2 1451.02 L2201.2 1454.96 L2187.12 1454.96 L2187.12 1463.43 Q2188.14 1463.08 2189.16 1462.92 Q2190.18 1462.73 2191.2 1462.73 Q2196.98 1462.73 2200.36 1465.9 Q2203.74 1469.08 2203.74 1474.49 Q2203.74 1480.07 2200.27 1483.17 Q2196.8 1486.25 2190.48 1486.25 Q2188.3 1486.25 2186.03 1485.88 Q2183.79 1485.51 2181.38 1484.77 L2181.38 1480.07 Q2183.46 1481.2 2185.69 1481.76 Q2187.91 1482.32 2190.39 1482.32 Q2194.39 1482.32 2196.73 1480.21 Q2199.07 1478.1 2199.07 1474.49 Q2199.07 1470.88 2196.73 1468.77 Q2194.39 1466.67 2190.39 1466.67 Q2188.51 1466.67 2186.64 1467.08 Q2184.78 1467.5 2182.84 1468.38 L2182.84 1451.02 Z\" fill=\"#000000\" fill-rule=\"evenodd\" fill-opacity=\"1\" /><path clip-path=\"url(#clip140)\" d=\"M1113.57 1526.86 L1100.53 1562.7 L1126.66 1562.7 L1113.57 1526.86 M1091.8 1568.04 L1109.95 1520.52 L1117.24 1520.52 L1135.35 1568.04 L1091.8 1568.04 Z\" fill=\"#000000\" fill-rule=\"evenodd\" fill-opacity=\"1\" /><path clip-path=\"url(#clip140)\" d=\"M1141.42 1553.98 L1141.42 1532.4 L1147.28 1532.4 L1147.28 1553.75 Q1147.28 1558.81 1149.25 1561.36 Q1151.23 1563.87 1155.17 1563.87 Q1159.92 1563.87 1162.65 1560.85 Q1165.42 1557.83 1165.42 1552.61 L1165.42 1532.4 L1171.28 1532.4 L1171.28 1568.04 L1165.42 1568.04 L1165.42 1562.57 Q1163.29 1565.82 1160.46 1567.41 Q1157.66 1568.97 1153.93 1568.97 Q1147.79 1568.97 1144.61 1565.15 Q1141.42 1561.33 1141.42 1553.98 M1156.16 1531.54 L1156.16 1531.54 Z\" fill=\"#000000\" fill-rule=\"evenodd\" fill-opacity=\"1\" /><path clip-path=\"url(#clip140)\" d=\"M1218.13 1518.58 Q1213.87 1525.9 1211.8 1533.06 Q1209.73 1540.23 1209.73 1547.58 Q1209.73 1554.93 1211.8 1562.16 Q1213.9 1569.35 1218.13 1576.64 L1213.04 1576.64 Q1208.26 1569.16 1205.88 1561.93 Q1203.52 1554.71 1203.52 1547.58 Q1203.52 1540.48 1205.88 1533.29 Q1208.23 1526.09 1213.04 1518.58 L1218.13 1518.58 Z\" fill=\"#000000\" fill-rule=\"evenodd\" fill-opacity=\"1\" /><path clip-path=\"url(#clip140)\" d=\"M1259.99 1548.76 L1259.99 1551.62 L1233.06 1551.62 Q1233.44 1557.67 1236.69 1560.85 Q1239.97 1564 1245.79 1564 Q1249.16 1564 1252.32 1563.17 Q1255.5 1562.35 1258.62 1560.69 L1258.62 1566.23 Q1255.47 1567.57 1252.16 1568.27 Q1248.85 1568.97 1245.44 1568.97 Q1236.91 1568.97 1231.91 1564 Q1226.95 1559.04 1226.95 1550.57 Q1226.95 1541.82 1231.66 1536.69 Q1236.4 1531.54 1244.42 1531.54 Q1251.62 1531.54 1255.78 1536.18 Q1259.99 1540.8 1259.99 1548.76 M1254.13 1547.04 Q1254.07 1542.23 1251.42 1539.37 Q1248.81 1536.5 1244.49 1536.5 Q1239.58 1536.5 1236.62 1539.27 Q1233.7 1542.04 1233.25 1547.07 L1254.13 1547.04 Z\" fill=\"#000000\" fill-rule=\"evenodd\" fill-opacity=\"1\" /><path clip-path=\"url(#clip140)\" d=\"M1269.6 1518.52 L1275.45 1518.52 L1275.45 1568.04 L1269.6 1568.04 L1269.6 1518.52 Z\" fill=\"#000000\" fill-rule=\"evenodd\" fill-opacity=\"1\" /><path clip-path=\"url(#clip140)\" d=\"M1287.71 1532.4 L1293.57 1532.4 L1293.57 1568.04 L1287.71 1568.04 L1287.71 1532.4 M1287.71 1518.52 L1293.57 1518.52 L1293.57 1525.93 L1287.71 1525.93 L1287.71 1518.52 Z\" fill=\"#000000\" fill-rule=\"evenodd\" fill-opacity=\"1\" /><path clip-path=\"url(#clip140)\" d=\"M1331.47 1533.76 L1331.47 1539.24 Q1328.99 1537.87 1326.48 1537.2 Q1323.99 1536.5 1321.45 1536.5 Q1315.75 1536.5 1312.6 1540.13 Q1309.45 1543.73 1309.45 1550.25 Q1309.45 1556.78 1312.6 1560.4 Q1315.75 1564 1321.45 1564 Q1323.99 1564 1326.48 1563.33 Q1328.99 1562.63 1331.47 1561.26 L1331.47 1566.68 Q1329.02 1567.82 1326.38 1568.39 Q1323.77 1568.97 1320.81 1568.97 Q1312.76 1568.97 1308.02 1563.91 Q1303.27 1558.85 1303.27 1550.25 Q1303.27 1541.53 1308.05 1536.53 Q1312.85 1531.54 1321.19 1531.54 Q1323.9 1531.54 1326.48 1532.11 Q1329.05 1532.65 1331.47 1533.76 Z\" fill=\"#000000\" fill-rule=\"evenodd\" fill-opacity=\"1\" /><path clip-path=\"url(#clip140)\" d=\"M1341.66 1532.4 L1347.51 1532.4 L1347.51 1568.04 L1341.66 1568.04 L1341.66 1532.4 M1341.66 1518.52 L1347.51 1518.52 L1347.51 1525.93 L1341.66 1525.93 L1341.66 1518.52 Z\" fill=\"#000000\" fill-rule=\"evenodd\" fill-opacity=\"1\" /><path clip-path=\"url(#clip140)\" d=\"M1365.56 1522.27 L1365.56 1532.4 L1377.62 1532.4 L1377.62 1536.95 L1365.56 1536.95 L1365.56 1556.3 Q1365.56 1560.66 1366.74 1561.9 Q1367.95 1563.14 1371.61 1563.14 L1377.62 1563.14 L1377.62 1568.04 L1371.61 1568.04 Q1364.83 1568.04 1362.25 1565.53 Q1359.67 1562.98 1359.67 1556.3 L1359.67 1536.95 L1355.38 1536.95 L1355.38 1532.4 L1359.67 1532.4 L1359.67 1522.27 L1365.56 1522.27 Z\" fill=\"#000000\" fill-rule=\"evenodd\" fill-opacity=\"1\" /><path clip-path=\"url(#clip140)\" d=\"M1415.82 1548.76 L1415.82 1551.62 L1388.89 1551.62 Q1389.27 1557.67 1392.52 1560.85 Q1395.8 1564 1401.62 1564 Q1405 1564 1408.15 1563.17 Q1411.33 1562.35 1414.45 1560.69 L1414.45 1566.23 Q1411.3 1567.57 1407.99 1568.27 Q1404.68 1568.97 1401.27 1568.97 Q1392.74 1568.97 1387.75 1564 Q1382.78 1559.04 1382.78 1550.57 Q1382.78 1541.82 1387.49 1536.69 Q1392.23 1531.54 1400.25 1531.54 Q1407.45 1531.54 1411.62 1536.18 Q1415.82 1540.8 1415.82 1548.76 M1409.96 1547.04 Q1409.9 1542.23 1407.26 1539.37 Q1404.65 1536.5 1400.32 1536.5 Q1395.42 1536.5 1392.46 1539.27 Q1389.53 1542.04 1389.08 1547.07 L1409.96 1547.04 Z\" fill=\"#000000\" fill-rule=\"evenodd\" fill-opacity=\"1\" /><path clip-path=\"url(#clip140)\" d=\"M1448.89 1537.81 L1448.89 1518.52 L1454.74 1518.52 L1454.74 1568.04 L1448.89 1568.04 L1448.89 1562.7 Q1447.04 1565.88 1444.21 1567.44 Q1441.41 1568.97 1437.46 1568.97 Q1431 1568.97 1426.93 1563.81 Q1422.88 1558.65 1422.88 1550.25 Q1422.88 1541.85 1426.93 1536.69 Q1431 1531.54 1437.46 1531.54 Q1441.41 1531.54 1444.21 1533.1 Q1447.04 1534.62 1448.89 1537.81 M1428.93 1550.25 Q1428.93 1556.71 1431.57 1560.4 Q1434.25 1564.07 1438.89 1564.07 Q1443.54 1564.07 1446.21 1560.4 Q1448.89 1556.71 1448.89 1550.25 Q1448.89 1543.79 1446.21 1540.13 Q1443.54 1536.44 1438.89 1536.44 Q1434.25 1536.44 1431.57 1540.13 Q1428.93 1543.79 1428.93 1550.25 Z\" fill=\"#000000\" fill-rule=\"evenodd\" fill-opacity=\"1\" /><path clip-path=\"url(#clip140)\" d=\"M1465.88 1518.58 L1470.98 1518.58 Q1475.75 1526.09 1478.11 1533.29 Q1480.49 1540.48 1480.49 1547.58 Q1480.49 1554.71 1478.11 1561.93 Q1475.75 1569.16 1470.98 1576.64 L1465.88 1576.64 Q1470.12 1569.35 1472.19 1562.16 Q1474.29 1554.93 1474.29 1547.58 Q1474.29 1540.23 1472.19 1533.06 Q1470.12 1525.9 1465.88 1518.58 Z\" fill=\"#000000\" fill-rule=\"evenodd\" fill-opacity=\"1\" /><polyline clip-path=\"url(#clip142)\" style=\"stroke:#000000; stroke-linecap:butt; stroke-linejoin:round; stroke-width:2; stroke-opacity:0.1; fill:none\" points=\"\n",
       "  219.542,1274.23 2352.76,1274.23 \n",
       "  \"/>\n",
       "<polyline clip-path=\"url(#clip142)\" style=\"stroke:#000000; stroke-linecap:butt; stroke-linejoin:round; stroke-width:2; stroke-opacity:0.1; fill:none\" points=\"\n",
       "  219.542,949.155 2352.76,949.155 \n",
       "  \"/>\n",
       "<polyline clip-path=\"url(#clip142)\" style=\"stroke:#000000; stroke-linecap:butt; stroke-linejoin:round; stroke-width:2; stroke-opacity:0.1; fill:none\" points=\"\n",
       "  219.542,624.081 2352.76,624.081 \n",
       "  \"/>\n",
       "<polyline clip-path=\"url(#clip142)\" style=\"stroke:#000000; stroke-linecap:butt; stroke-linejoin:round; stroke-width:2; stroke-opacity:0.1; fill:none\" points=\"\n",
       "  219.542,299.007 2352.76,299.007 \n",
       "  \"/>\n",
       "<polyline clip-path=\"url(#clip140)\" style=\"stroke:#000000; stroke-linecap:butt; stroke-linejoin:round; stroke-width:4; stroke-opacity:1; fill:none\" points=\"\n",
       "  219.542,1423.18 219.542,123.472 \n",
       "  \"/>\n",
       "<polyline clip-path=\"url(#clip140)\" style=\"stroke:#000000; stroke-linecap:butt; stroke-linejoin:round; stroke-width:4; stroke-opacity:1; fill:none\" points=\"\n",
       "  219.542,1274.23 238.44,1274.23 \n",
       "  \"/>\n",
       "<polyline clip-path=\"url(#clip140)\" style=\"stroke:#000000; stroke-linecap:butt; stroke-linejoin:round; stroke-width:4; stroke-opacity:1; fill:none\" points=\"\n",
       "  219.542,949.155 238.44,949.155 \n",
       "  \"/>\n",
       "<polyline clip-path=\"url(#clip140)\" style=\"stroke:#000000; stroke-linecap:butt; stroke-linejoin:round; stroke-width:4; stroke-opacity:1; fill:none\" points=\"\n",
       "  219.542,624.081 238.44,624.081 \n",
       "  \"/>\n",
       "<polyline clip-path=\"url(#clip140)\" style=\"stroke:#000000; stroke-linecap:butt; stroke-linejoin:round; stroke-width:4; stroke-opacity:1; fill:none\" points=\"\n",
       "  219.542,299.007 238.44,299.007 \n",
       "  \"/>\n",
       "<path clip-path=\"url(#clip140)\" d=\"M126.205 1260.03 Q122.593 1260.03 120.765 1263.59 Q118.959 1267.13 118.959 1274.26 Q118.959 1281.37 120.765 1284.94 Q122.593 1288.48 126.205 1288.48 Q129.839 1288.48 131.644 1284.94 Q133.473 1281.37 133.473 1274.26 Q133.473 1267.13 131.644 1263.59 Q129.839 1260.03 126.205 1260.03 M126.205 1256.32 Q132.015 1256.32 135.07 1260.93 Q138.149 1265.51 138.149 1274.26 Q138.149 1282.99 135.07 1287.6 Q132.015 1292.18 126.205 1292.18 Q120.394 1292.18 117.316 1287.6 Q114.26 1282.99 114.26 1274.26 Q114.26 1265.51 117.316 1260.93 Q120.394 1256.32 126.205 1256.32 Z\" fill=\"#000000\" fill-rule=\"evenodd\" fill-opacity=\"1\" /><path clip-path=\"url(#clip140)\" d=\"M146.366 1285.63 L151.251 1285.63 L151.251 1291.51 L146.366 1291.51 L146.366 1285.63 Z\" fill=\"#000000\" fill-rule=\"evenodd\" fill-opacity=\"1\" /><path clip-path=\"url(#clip140)\" d=\"M172.014 1272.37 Q168.866 1272.37 167.015 1274.52 Q165.186 1276.67 165.186 1280.42 Q165.186 1284.15 167.015 1286.32 Q168.866 1288.48 172.014 1288.48 Q175.163 1288.48 176.991 1286.32 Q178.843 1284.15 178.843 1280.42 Q178.843 1276.67 176.991 1274.52 Q175.163 1272.37 172.014 1272.37 M181.297 1257.71 L181.297 1261.97 Q179.538 1261.14 177.732 1260.7 Q175.95 1260.26 174.19 1260.26 Q169.561 1260.26 167.107 1263.38 Q164.677 1266.51 164.329 1272.83 Q165.695 1270.82 167.755 1269.75 Q169.815 1268.66 172.292 1268.66 Q177.501 1268.66 180.51 1271.83 Q183.542 1274.98 183.542 1280.42 Q183.542 1285.75 180.394 1288.96 Q177.246 1292.18 172.014 1292.18 Q166.019 1292.18 162.848 1287.6 Q159.677 1282.99 159.677 1274.26 Q159.677 1266.07 163.565 1261.21 Q167.454 1256.32 174.005 1256.32 Q175.764 1256.32 177.547 1256.67 Q179.352 1257.02 181.297 1257.71 Z\" fill=\"#000000\" fill-rule=\"evenodd\" fill-opacity=\"1\" /><path clip-path=\"url(#clip140)\" d=\"M127.269 934.954 Q123.658 934.954 121.83 938.519 Q120.024 942.06 120.024 949.19 Q120.024 956.296 121.83 959.861 Q123.658 963.403 127.269 963.403 Q130.904 963.403 132.709 959.861 Q134.538 956.296 134.538 949.19 Q134.538 942.06 132.709 938.519 Q130.904 934.954 127.269 934.954 M127.269 931.25 Q133.08 931.25 136.135 935.857 Q139.214 940.44 139.214 949.19 Q139.214 957.917 136.135 962.523 Q133.08 967.106 127.269 967.106 Q121.459 967.106 118.381 962.523 Q115.325 957.917 115.325 949.19 Q115.325 940.44 118.381 935.857 Q121.459 931.25 127.269 931.25 Z\" fill=\"#000000\" fill-rule=\"evenodd\" fill-opacity=\"1\" /><path clip-path=\"url(#clip140)\" d=\"M147.431 960.556 L152.316 960.556 L152.316 966.435 L147.431 966.435 L147.431 960.556 Z\" fill=\"#000000\" fill-rule=\"evenodd\" fill-opacity=\"1\" /><path clip-path=\"url(#clip140)\" d=\"M161.32 931.875 L183.542 931.875 L183.542 933.866 L170.996 966.435 L166.112 966.435 L177.917 935.81 L161.32 935.81 L161.32 931.875 Z\" fill=\"#000000\" fill-rule=\"evenodd\" fill-opacity=\"1\" /><path clip-path=\"url(#clip140)\" d=\"M126.459 609.88 Q122.848 609.88 121.019 613.444 Q119.214 616.986 119.214 624.116 Q119.214 631.222 121.019 634.787 Q122.848 638.328 126.459 638.328 Q130.093 638.328 131.899 634.787 Q133.728 631.222 133.728 624.116 Q133.728 616.986 131.899 613.444 Q130.093 609.88 126.459 609.88 M126.459 606.176 Q132.269 606.176 135.325 610.782 Q138.404 615.366 138.404 624.116 Q138.404 632.842 135.325 637.449 Q132.269 642.032 126.459 642.032 Q120.649 642.032 117.57 637.449 Q114.515 632.842 114.515 624.116 Q114.515 615.366 117.57 610.782 Q120.649 606.176 126.459 606.176 Z\" fill=\"#000000\" fill-rule=\"evenodd\" fill-opacity=\"1\" /><path clip-path=\"url(#clip140)\" d=\"M146.621 635.481 L151.505 635.481 L151.505 641.361 L146.621 641.361 L146.621 635.481 Z\" fill=\"#000000\" fill-rule=\"evenodd\" fill-opacity=\"1\" /><path clip-path=\"url(#clip140)\" d=\"M171.69 624.949 Q168.357 624.949 166.436 626.731 Q164.538 628.514 164.538 631.639 Q164.538 634.764 166.436 636.546 Q168.357 638.328 171.69 638.328 Q175.024 638.328 176.945 636.546 Q178.866 634.74 178.866 631.639 Q178.866 628.514 176.945 626.731 Q175.047 624.949 171.69 624.949 M167.015 622.958 Q164.005 622.217 162.315 620.157 Q160.649 618.097 160.649 615.134 Q160.649 610.991 163.589 608.583 Q166.552 606.176 171.69 606.176 Q176.852 606.176 179.792 608.583 Q182.732 610.991 182.732 615.134 Q182.732 618.097 181.042 620.157 Q179.376 622.217 176.389 622.958 Q179.769 623.745 181.644 626.037 Q183.542 628.328 183.542 631.639 Q183.542 636.662 180.464 639.347 Q177.408 642.032 171.69 642.032 Q165.973 642.032 162.894 639.347 Q159.839 636.662 159.839 631.639 Q159.839 628.328 161.737 626.037 Q163.635 623.745 167.015 622.958 M165.302 615.574 Q165.302 618.259 166.968 619.764 Q168.658 621.268 171.69 621.268 Q174.7 621.268 176.389 619.764 Q178.102 618.259 178.102 615.574 Q178.102 612.889 176.389 611.384 Q174.7 609.88 171.69 609.88 Q168.658 609.88 166.968 611.384 Q165.302 612.889 165.302 615.574 Z\" fill=\"#000000\" fill-rule=\"evenodd\" fill-opacity=\"1\" /><path clip-path=\"url(#clip140)\" d=\"M126.552 284.805 Q122.941 284.805 121.112 288.37 Q119.306 291.912 119.306 299.041 Q119.306 306.148 121.112 309.712 Q122.941 313.254 126.552 313.254 Q130.186 313.254 131.992 309.712 Q133.82 306.148 133.82 299.041 Q133.82 291.912 131.992 288.37 Q130.186 284.805 126.552 284.805 M126.552 281.102 Q132.362 281.102 135.417 285.708 Q138.496 290.291 138.496 299.041 Q138.496 307.768 135.417 312.375 Q132.362 316.958 126.552 316.958 Q120.742 316.958 117.663 312.375 Q114.607 307.768 114.607 299.041 Q114.607 290.291 117.663 285.708 Q120.742 281.102 126.552 281.102 Z\" fill=\"#000000\" fill-rule=\"evenodd\" fill-opacity=\"1\" /><path clip-path=\"url(#clip140)\" d=\"M146.714 310.407 L151.598 310.407 L151.598 316.287 L146.714 316.287 L146.714 310.407 Z\" fill=\"#000000\" fill-rule=\"evenodd\" fill-opacity=\"1\" /><path clip-path=\"url(#clip140)\" d=\"M161.922 315.569 L161.922 311.31 Q163.681 312.143 165.487 312.583 Q167.292 313.023 169.028 313.023 Q173.658 313.023 176.089 309.921 Q178.542 306.796 178.889 300.453 Q177.547 302.444 175.487 303.509 Q173.427 304.574 170.927 304.574 Q165.741 304.574 162.709 301.449 Q159.7 298.301 159.7 292.861 Q159.7 287.537 162.848 284.319 Q165.996 281.102 171.227 281.102 Q177.223 281.102 180.371 285.708 Q183.542 290.291 183.542 299.041 Q183.542 307.212 179.653 312.097 Q175.788 316.958 169.237 316.958 Q167.477 316.958 165.672 316.611 Q163.866 316.263 161.922 315.569 M171.227 300.916 Q174.376 300.916 176.204 298.763 Q178.056 296.611 178.056 292.861 Q178.056 289.134 176.204 286.981 Q174.376 284.805 171.227 284.805 Q168.079 284.805 166.227 286.981 Q164.399 289.134 164.399 292.861 Q164.399 296.611 166.227 298.763 Q168.079 300.916 171.227 300.916 Z\" fill=\"#000000\" fill-rule=\"evenodd\" fill-opacity=\"1\" /><path clip-path=\"url(#clip140)\" d=\"M21.7677 857.003 L39.6235 857.003 L39.6235 848.919 Q39.6235 844.431 37.3 841.98 Q34.9765 839.529 30.6797 839.529 Q26.4147 839.529 24.0912 841.98 Q21.7677 844.431 21.7677 848.919 L21.7677 857.003 M16.4842 863.433 L16.4842 848.919 Q16.4842 840.93 20.1126 836.856 Q23.7092 832.75 30.6797 832.75 Q37.7138 832.75 41.3104 836.856 Q44.907 840.93 44.907 848.919 L44.907 857.003 L64.0042 857.003 L64.0042 863.433 L16.4842 863.433 Z\" fill=\"#000000\" fill-rule=\"evenodd\" fill-opacity=\"1\" /><path clip-path=\"url(#clip140)\" d=\"M14.5426 810.311 Q21.8632 814.576 29.0246 816.645 Q36.186 818.713 43.5384 818.713 Q50.8908 818.713 58.1159 816.645 Q65.3091 814.544 72.5979 810.311 L72.5979 815.403 Q65.1182 820.178 57.8931 822.565 Q50.668 824.92 43.5384 824.92 Q36.4406 824.92 29.2474 822.565 Q22.0542 820.209 14.5426 815.403 L14.5426 810.311 Z\" fill=\"#000000\" fill-rule=\"evenodd\" fill-opacity=\"1\" /><path clip-path=\"url(#clip140)\" d=\"M46.0847 782.747 Q46.0847 789.845 47.7079 792.582 Q49.3312 795.32 53.2461 795.32 Q56.3653 795.32 58.2114 793.282 Q60.0256 791.214 60.0256 787.681 Q60.0256 782.811 56.5881 779.883 Q53.1188 776.923 47.3897 776.923 L46.0847 776.923 L46.0847 782.747 M43.6657 771.066 L64.0042 771.066 L64.0042 776.923 L58.5933 776.923 Q61.8398 778.928 63.3994 781.92 Q64.9272 784.912 64.9272 789.24 Q64.9272 794.715 61.8716 797.961 Q58.7843 801.176 53.6281 801.176 Q47.6125 801.176 44.5569 797.166 Q41.5014 793.123 41.5014 785.134 L41.5014 776.923 L40.9285 776.923 Q36.8862 776.923 34.6901 779.596 Q32.4621 782.238 32.4621 787.044 Q32.4621 790.1 33.1941 792.996 Q33.9262 795.892 35.3903 798.566 L29.9795 798.566 Q28.7381 795.351 28.1334 792.328 Q27.4968 789.304 27.4968 786.439 Q27.4968 778.705 31.5072 774.886 Q35.5176 771.066 43.6657 771.066 Z\" fill=\"#000000\" fill-rule=\"evenodd\" fill-opacity=\"1\" /><path clip-path=\"url(#clip140)\" d=\"M55.9197 757.507 L55.9197 750.791 L61.3942 750.791 L71.5793 756.011 L71.5793 760.117 L61.3942 757.507 L55.9197 757.507 Z\" fill=\"#000000\" fill-rule=\"evenodd\" fill-opacity=\"1\" /><path clip-path=\"url(#clip140)\" d=\"M46.212 712.693 Q39.7508 712.693 36.0905 715.366 Q32.3984 718.008 32.3984 722.655 Q32.3984 727.302 36.0905 729.976 Q39.7508 732.617 46.212 732.617 Q52.6732 732.617 56.3653 729.976 Q60.0256 727.302 60.0256 722.655 Q60.0256 718.008 56.3653 715.366 Q52.6732 712.693 46.212 712.693 M33.7671 732.617 Q30.5842 730.771 29.0564 727.97 Q27.4968 725.138 27.4968 721.223 Q27.4968 714.73 32.6531 710.687 Q37.8093 706.613 46.212 706.613 Q54.6147 706.613 59.771 710.687 Q64.9272 714.73 64.9272 721.223 Q64.9272 725.138 63.3994 727.97 Q61.8398 730.771 58.657 732.617 L64.0042 732.617 L64.0042 738.506 L14.479 738.506 L14.479 732.617 L33.7671 732.617 Z\" fill=\"#000000\" fill-rule=\"evenodd\" fill-opacity=\"1\" /><path clip-path=\"url(#clip140)\" d=\"M14.5426 697.829 L14.5426 692.736 Q22.0542 687.962 29.2474 685.607 Q36.4406 683.219 43.5384 683.219 Q50.668 683.219 57.8931 685.607 Q65.1182 687.962 72.5979 692.736 L72.5979 697.829 Q65.3091 693.596 58.1159 691.527 Q50.8908 689.426 43.5384 689.426 Q36.186 689.426 29.0246 691.527 Q21.8632 693.596 14.5426 697.829 Z\" fill=\"#000000\" fill-rule=\"evenodd\" fill-opacity=\"1\" /><path clip-path=\"url(#clip140)\" d=\"M437.586 12.096 L445.85 12.096 L458.57 63.2184 L471.249 12.096 L480.444 12.096 L493.164 63.2184 L505.844 12.096 L514.148 12.096 L498.957 72.576 L488.668 72.576 L475.907 20.0763 L463.026 72.576 L452.736 72.576 L437.586 12.096 Z\" fill=\"#000000\" fill-rule=\"evenodd\" fill-opacity=\"1\" /><path clip-path=\"url(#clip140)\" d=\"M539.993 49.7694 Q530.959 49.7694 527.475 51.8354 Q523.992 53.9013 523.992 58.8839 Q523.992 62.8538 526.584 65.2034 Q529.217 67.5124 533.714 67.5124 Q539.912 67.5124 543.639 63.1374 Q547.406 58.7219 547.406 51.4303 L547.406 49.7694 L539.993 49.7694 M554.86 46.6907 L554.86 72.576 L547.406 72.576 L547.406 65.6895 Q544.854 69.8214 541.046 71.8063 Q537.238 73.7508 531.729 73.7508 Q524.761 73.7508 520.629 69.8619 Q516.538 65.9325 516.538 59.3701 Q516.538 51.7138 521.642 47.825 Q526.787 43.9361 536.955 43.9361 L547.406 43.9361 L547.406 43.2069 Q547.406 38.0623 544.003 35.2672 Q540.641 32.4315 534.524 32.4315 Q530.635 32.4315 526.949 33.3632 Q523.263 34.295 519.86 36.1584 L519.86 29.2718 Q523.951 27.692 527.8 26.9223 Q531.648 26.1121 535.294 26.1121 Q545.137 26.1121 549.998 31.2163 Q554.86 36.3204 554.86 46.6907 Z\" fill=\"#000000\" fill-rule=\"evenodd\" fill-opacity=\"1\" /><path clip-path=\"url(#clip140)\" d=\"M564.865 27.2059 L572.765 27.2059 L586.943 65.2844 L601.121 27.2059 L609.02 27.2059 L592.006 72.576 L581.879 72.576 L564.865 27.2059 Z\" fill=\"#000000\" fill-rule=\"evenodd\" fill-opacity=\"1\" /><path clip-path=\"url(#clip140)\" d=\"M658.117 48.0275 L658.117 51.6733 L623.846 51.6733 Q624.333 59.3701 628.464 63.421 Q632.637 67.4314 640.05 67.4314 Q644.344 67.4314 648.354 66.3781 Q652.405 65.3249 656.375 63.2184 L656.375 70.267 Q652.365 71.9684 648.152 72.8596 Q643.939 73.7508 639.604 73.7508 Q628.748 73.7508 622.388 67.4314 Q616.069 61.1119 616.069 50.3365 Q616.069 39.1965 622.064 32.6746 Q628.1 26.1121 638.308 26.1121 Q647.463 26.1121 652.77 32.0264 Q658.117 37.9003 658.117 48.0275 M650.663 45.84 Q650.582 39.7232 647.22 36.0774 Q643.898 32.4315 638.389 32.4315 Q632.151 32.4315 628.383 35.9558 Q624.657 39.4801 624.09 45.8805 L650.663 45.84 Z\" fill=\"#000000\" fill-rule=\"evenodd\" fill-opacity=\"1\" /><path clip-path=\"url(#clip140)\" d=\"M670.351 9.54393 L677.805 9.54393 L677.805 72.576 L670.351 72.576 L670.351 9.54393 Z\" fill=\"#000000\" fill-rule=\"evenodd\" fill-opacity=\"1\" /><path clip-path=\"url(#clip140)\" d=\"M732.208 48.0275 L732.208 51.6733 L697.938 51.6733 Q698.424 59.3701 702.556 63.421 Q706.728 67.4314 714.141 67.4314 Q718.435 67.4314 722.445 66.3781 Q726.496 65.3249 730.466 63.2184 L730.466 70.267 Q726.456 71.9684 722.243 72.8596 Q718.03 73.7508 713.696 73.7508 Q702.839 73.7508 696.479 67.4314 Q690.16 61.1119 690.16 50.3365 Q690.16 39.1965 696.155 32.6746 Q702.191 26.1121 712.399 26.1121 Q721.554 26.1121 726.861 32.0264 Q732.208 37.9003 732.208 48.0275 M724.754 45.84 Q724.673 39.7232 721.311 36.0774 Q717.989 32.4315 712.48 32.4315 Q706.242 32.4315 702.475 35.9558 Q698.748 39.4801 698.181 45.8805 L724.754 45.84 Z\" fill=\"#000000\" fill-rule=\"evenodd\" fill-opacity=\"1\" /><path clip-path=\"url(#clip140)\" d=\"M751.815 14.324 L751.815 27.2059 L767.167 27.2059 L767.167 32.9987 L751.815 32.9987 L751.815 57.6282 Q751.815 63.1779 753.313 64.7578 Q754.853 66.3376 759.511 66.3376 L767.167 66.3376 L767.167 72.576 L759.511 72.576 Q750.883 72.576 747.602 69.3758 Q744.32 66.1351 744.32 57.6282 L744.32 32.9987 L738.852 32.9987 L738.852 27.2059 L744.32 27.2059 L744.32 14.324 L751.815 14.324 Z\" fill=\"#000000\" fill-rule=\"evenodd\" fill-opacity=\"1\" /><path clip-path=\"url(#clip140)\" d=\"M842.15 48.0275 L842.15 51.6733 L807.879 51.6733 Q808.365 59.3701 812.497 63.421 Q816.67 67.4314 824.083 67.4314 Q828.377 67.4314 832.387 66.3781 Q836.438 65.3249 840.408 63.2184 L840.408 70.267 Q836.397 71.9684 832.184 72.8596 Q827.972 73.7508 823.637 73.7508 Q812.781 73.7508 806.421 67.4314 Q800.101 61.1119 800.101 50.3365 Q800.101 39.1965 806.097 32.6746 Q812.132 26.1121 822.341 26.1121 Q831.496 26.1121 836.802 32.0264 Q842.15 37.9003 842.15 48.0275 M834.696 45.84 Q834.615 39.7232 831.253 36.0774 Q827.931 32.4315 822.422 32.4315 Q816.183 32.4315 812.416 35.9558 Q808.689 39.4801 808.122 45.8805 L834.696 45.84 Z\" fill=\"#000000\" fill-rule=\"evenodd\" fill-opacity=\"1\" /><path clip-path=\"url(#clip140)\" d=\"M883.307 28.5427 L883.307 35.5912 Q880.147 33.9709 876.744 33.1607 Q873.342 32.3505 869.696 32.3505 Q864.146 32.3505 861.351 34.0519 Q858.596 35.7533 858.596 39.156 Q858.596 41.7486 860.581 43.2475 Q862.566 44.7058 868.562 46.0426 L871.114 46.6097 Q879.053 48.3111 882.375 51.4303 Q885.737 54.509 885.737 60.0587 Q885.737 66.3781 880.714 70.0644 Q875.732 73.7508 866.982 73.7508 Q863.336 73.7508 859.366 73.0216 Q855.437 72.3329 851.062 70.9151 L851.062 63.2184 Q855.194 65.3654 859.204 66.4591 Q863.214 67.5124 867.144 67.5124 Q872.41 67.5124 875.246 65.73 Q878.081 63.9071 878.081 60.6258 Q878.081 57.5877 876.015 55.9673 Q873.99 54.3469 867.063 52.8481 L864.47 52.2405 Q857.543 50.7821 854.464 47.7845 Q851.386 44.7463 851.386 39.4801 Q851.386 33.0797 855.923 29.5959 Q860.46 26.1121 868.805 26.1121 Q872.937 26.1121 876.582 26.7198 Q880.228 27.3274 883.307 28.5427 Z\" fill=\"#000000\" fill-rule=\"evenodd\" fill-opacity=\"1\" /><path clip-path=\"url(#clip140)\" d=\"M904.979 14.324 L904.979 27.2059 L920.332 27.2059 L920.332 32.9987 L904.979 32.9987 L904.979 57.6282 Q904.979 63.1779 906.478 64.7578 Q908.017 66.3376 912.676 66.3376 L920.332 66.3376 L920.332 72.576 L912.676 72.576 Q904.048 72.576 900.766 69.3758 Q897.485 66.1351 897.485 57.6282 L897.485 32.9987 L892.016 32.9987 L892.016 27.2059 L897.485 27.2059 L897.485 14.324 L904.979 14.324 Z\" fill=\"#000000\" fill-rule=\"evenodd\" fill-opacity=\"1\" /><path clip-path=\"url(#clip140)\" d=\"M930.135 27.2059 L937.589 27.2059 L937.589 72.576 L930.135 72.576 L930.135 27.2059 M930.135 9.54393 L937.589 9.54393 L937.589 18.9825 L930.135 18.9825 L930.135 9.54393 Z\" fill=\"#000000\" fill-rule=\"evenodd\" fill-opacity=\"1\" /><path clip-path=\"url(#clip140)\" d=\"M988.509 35.9153 Q991.304 30.8922 995.193 28.5022 Q999.082 26.1121 1004.35 26.1121 Q1011.44 26.1121 1015.29 31.0947 Q1019.13 36.0368 1019.13 45.1919 L1019.13 72.576 L1011.64 72.576 L1011.64 45.4349 Q1011.64 38.913 1009.33 35.7533 Q1007.02 32.5936 1002.28 32.5936 Q996.489 32.5936 993.127 36.4419 Q989.765 40.2903 989.765 46.9338 L989.765 72.576 L982.27 72.576 L982.27 45.4349 Q982.27 38.8725 979.961 35.7533 Q977.652 32.5936 972.832 32.5936 Q967.12 32.5936 963.758 36.4824 Q960.396 40.3308 960.396 46.9338 L960.396 72.576 L952.901 72.576 L952.901 27.2059 L960.396 27.2059 L960.396 34.2544 Q962.948 30.082 966.512 28.0971 Q970.077 26.1121 974.979 26.1121 Q979.921 26.1121 983.364 28.6237 Q986.848 31.1352 988.509 35.9153 Z\" fill=\"#000000\" fill-rule=\"evenodd\" fill-opacity=\"1\" /><path clip-path=\"url(#clip140)\" d=\"M1054.62 49.7694 Q1045.59 49.7694 1042.1 51.8354 Q1038.62 53.9013 1038.62 58.8839 Q1038.62 62.8538 1041.21 65.2034 Q1043.84 67.5124 1048.34 67.5124 Q1054.54 67.5124 1058.27 63.1374 Q1062.03 58.7219 1062.03 51.4303 L1062.03 49.7694 L1054.62 49.7694 M1069.49 46.6907 L1069.49 72.576 L1062.03 72.576 L1062.03 65.6895 Q1059.48 69.8214 1055.67 71.8063 Q1051.87 73.7508 1046.36 73.7508 Q1039.39 73.7508 1035.26 69.8619 Q1031.16 65.9325 1031.16 59.3701 Q1031.16 51.7138 1036.27 47.825 Q1041.41 43.9361 1051.58 43.9361 L1062.03 43.9361 L1062.03 43.2069 Q1062.03 38.0623 1058.63 35.2672 Q1055.27 32.4315 1049.15 32.4315 Q1045.26 32.4315 1041.58 33.3632 Q1037.89 34.295 1034.49 36.1584 L1034.49 29.2718 Q1038.58 27.692 1042.43 26.9223 Q1046.27 26.1121 1049.92 26.1121 Q1059.76 26.1121 1064.63 31.2163 Q1069.49 36.3204 1069.49 46.6907 Z\" fill=\"#000000\" fill-rule=\"evenodd\" fill-opacity=\"1\" /><path clip-path=\"url(#clip140)\" d=\"M1092.21 14.324 L1092.21 27.2059 L1107.56 27.2059 L1107.56 32.9987 L1092.21 32.9987 L1092.21 57.6282 Q1092.21 63.1779 1093.71 64.7578 Q1095.25 66.3376 1099.91 66.3376 L1107.56 66.3376 L1107.56 72.576 L1099.91 72.576 Q1091.28 72.576 1088 69.3758 Q1084.72 66.1351 1084.72 57.6282 L1084.72 32.9987 L1079.25 32.9987 L1079.25 27.2059 L1084.72 27.2059 L1084.72 14.324 L1092.21 14.324 Z\" fill=\"#000000\" fill-rule=\"evenodd\" fill-opacity=\"1\" /><path clip-path=\"url(#clip140)\" d=\"M1134.95 32.4315 Q1128.95 32.4315 1125.47 37.1306 Q1121.99 41.7891 1121.99 49.9314 Q1121.99 58.0738 1125.43 62.7728 Q1128.91 67.4314 1134.95 67.4314 Q1140.9 67.4314 1144.39 62.7323 Q1147.87 58.0333 1147.87 49.9314 Q1147.87 41.8701 1144.39 37.1711 Q1140.9 32.4315 1134.95 32.4315 M1134.95 26.1121 Q1144.67 26.1121 1150.22 32.4315 Q1155.77 38.7509 1155.77 49.9314 Q1155.77 61.0714 1150.22 67.4314 Q1144.67 73.7508 1134.95 73.7508 Q1125.19 73.7508 1119.64 67.4314 Q1114.13 61.0714 1114.13 49.9314 Q1114.13 38.7509 1119.64 32.4315 Q1125.19 26.1121 1134.95 26.1121 Z\" fill=\"#000000\" fill-rule=\"evenodd\" fill-opacity=\"1\" /><path clip-path=\"url(#clip140)\" d=\"M1194.42 34.1734 Q1193.16 33.4443 1191.66 33.1202 Q1190.2 32.7556 1188.42 32.7556 Q1182.1 32.7556 1178.7 36.8875 Q1175.34 40.9789 1175.34 48.6757 L1175.34 72.576 L1167.84 72.576 L1167.84 27.2059 L1175.34 27.2059 L1175.34 34.2544 Q1177.69 30.1225 1181.45 28.1376 Q1185.22 26.1121 1190.61 26.1121 Q1191.38 26.1121 1192.31 26.2337 Q1193.24 26.3147 1194.38 26.5172 L1194.42 34.1734 Z\" fill=\"#000000\" fill-rule=\"evenodd\" fill-opacity=\"1\" /><path clip-path=\"url(#clip140)\" d=\"M1249.23 49.7694 Q1240.19 49.7694 1236.71 51.8354 Q1233.22 53.9013 1233.22 58.8839 Q1233.22 62.8538 1235.82 65.2034 Q1238.45 67.5124 1242.95 67.5124 Q1249.14 67.5124 1252.87 63.1374 Q1256.64 58.7219 1256.64 51.4303 L1256.64 49.7694 L1249.23 49.7694 M1264.09 46.6907 L1264.09 72.576 L1256.64 72.576 L1256.64 65.6895 Q1254.09 69.8214 1250.28 71.8063 Q1246.47 73.7508 1240.96 73.7508 Q1233.99 73.7508 1229.86 69.8619 Q1225.77 65.9325 1225.77 59.3701 Q1225.77 51.7138 1230.87 47.825 Q1236.02 43.9361 1246.19 43.9361 L1256.64 43.9361 L1256.64 43.2069 Q1256.64 38.0623 1253.24 35.2672 Q1249.87 32.4315 1243.76 32.4315 Q1239.87 32.4315 1236.18 33.3632 Q1232.49 34.295 1229.09 36.1584 L1229.09 29.2718 Q1233.18 27.692 1237.03 26.9223 Q1240.88 26.1121 1244.53 26.1121 Q1254.37 26.1121 1259.23 31.2163 Q1264.09 36.3204 1264.09 46.6907 Z\" fill=\"#000000\" fill-rule=\"evenodd\" fill-opacity=\"1\" /><path clip-path=\"url(#clip140)\" d=\"M1317.16 45.1919 L1317.16 72.576 L1309.71 72.576 L1309.71 45.4349 Q1309.71 38.994 1307.19 35.7938 Q1304.68 32.5936 1299.66 32.5936 Q1293.62 32.5936 1290.14 36.4419 Q1286.66 40.2903 1286.66 46.9338 L1286.66 72.576 L1279.16 72.576 L1279.16 27.2059 L1286.66 27.2059 L1286.66 34.2544 Q1289.33 30.163 1292.93 28.1376 Q1296.58 26.1121 1301.32 26.1121 Q1309.14 26.1121 1313.15 30.9732 Q1317.16 35.7938 1317.16 45.1919 Z\" fill=\"#000000\" fill-rule=\"evenodd\" fill-opacity=\"1\" /><path clip-path=\"url(#clip140)\" d=\"M1361.88 34.0924 L1361.88 9.54393 L1369.33 9.54393 L1369.33 72.576 L1361.88 72.576 L1361.88 65.7705 Q1359.53 69.8214 1355.93 71.8063 Q1352.36 73.7508 1347.34 73.7508 Q1339.11 73.7508 1333.93 67.1883 Q1328.78 60.6258 1328.78 49.9314 Q1328.78 39.2371 1333.93 32.6746 Q1339.11 26.1121 1347.34 26.1121 Q1352.36 26.1121 1355.93 28.0971 Q1359.53 30.0415 1361.88 34.0924 M1336.48 49.9314 Q1336.48 58.1548 1339.84 62.8538 Q1343.25 67.5124 1349.16 67.5124 Q1355.08 67.5124 1358.48 62.8538 Q1361.88 58.1548 1361.88 49.9314 Q1361.88 41.7081 1358.48 37.0496 Q1355.08 32.3505 1349.16 32.3505 Q1343.25 32.3505 1339.84 37.0496 Q1336.48 41.7081 1336.48 49.9314 Z\" fill=\"#000000\" fill-rule=\"evenodd\" fill-opacity=\"1\" /><path clip-path=\"url(#clip140)\" d=\"M1449.87 48.0275 L1449.87 51.6733 L1415.6 51.6733 Q1416.08 59.3701 1420.21 63.421 Q1424.39 67.4314 1431.8 67.4314 Q1436.09 67.4314 1440.1 66.3781 Q1444.15 65.3249 1448.12 63.2184 L1448.12 70.267 Q1444.11 71.9684 1439.9 72.8596 Q1435.69 73.7508 1431.35 73.7508 Q1420.5 73.7508 1414.14 67.4314 Q1407.82 61.1119 1407.82 50.3365 Q1407.82 39.1965 1413.81 32.6746 Q1419.85 26.1121 1430.06 26.1121 Q1439.21 26.1121 1444.52 32.0264 Q1449.87 37.9003 1449.87 48.0275 M1442.41 45.84 Q1442.33 39.7232 1438.97 36.0774 Q1435.65 32.4315 1430.14 32.4315 Q1423.9 32.4315 1420.13 35.9558 Q1416.41 39.4801 1415.84 45.8805 L1442.41 45.84 Z\" fill=\"#000000\" fill-rule=\"evenodd\" fill-opacity=\"1\" /><path clip-path=\"url(#clip140)\" d=\"M1497.42 35.9153 Q1500.22 30.8922 1504.11 28.5022 Q1508 26.1121 1513.26 26.1121 Q1520.35 26.1121 1524.2 31.0947 Q1528.05 36.0368 1528.05 45.1919 L1528.05 72.576 L1520.55 72.576 L1520.55 45.4349 Q1520.55 38.913 1518.25 35.7533 Q1515.94 32.5936 1511.2 32.5936 Q1505.4 32.5936 1502.04 36.4419 Q1498.68 40.2903 1498.68 46.9338 L1498.68 72.576 L1491.19 72.576 L1491.19 45.4349 Q1491.19 38.8725 1488.88 35.7533 Q1486.57 32.5936 1481.75 32.5936 Q1476.04 32.5936 1472.67 36.4824 Q1469.31 40.3308 1469.31 46.9338 L1469.31 72.576 L1461.82 72.576 L1461.82 27.2059 L1469.31 27.2059 L1469.31 34.2544 Q1471.86 30.082 1475.43 28.0971 Q1478.99 26.1121 1483.89 26.1121 Q1488.84 26.1121 1492.28 28.6237 Q1495.76 31.1352 1497.42 35.9153 Z\" fill=\"#000000\" fill-rule=\"evenodd\" fill-opacity=\"1\" /><path clip-path=\"url(#clip140)\" d=\"M1550.13 65.7705 L1550.13 89.8329 L1542.63 89.8329 L1542.63 27.2059 L1550.13 27.2059 L1550.13 34.0924 Q1552.48 30.0415 1556.04 28.0971 Q1559.65 26.1121 1564.63 26.1121 Q1572.89 26.1121 1578.04 32.6746 Q1583.22 39.2371 1583.22 49.9314 Q1583.22 60.6258 1578.04 67.1883 Q1572.89 73.7508 1564.63 73.7508 Q1559.65 73.7508 1556.04 71.8063 Q1552.48 69.8214 1550.13 65.7705 M1575.48 49.9314 Q1575.48 41.7081 1572.08 37.0496 Q1568.72 32.3505 1562.81 32.3505 Q1556.89 32.3505 1553.49 37.0496 Q1550.13 41.7081 1550.13 49.9314 Q1550.13 58.1548 1553.49 62.8538 Q1556.89 67.5124 1562.81 67.5124 Q1568.72 67.5124 1572.08 62.8538 Q1575.48 58.1548 1575.48 49.9314 Z\" fill=\"#000000\" fill-rule=\"evenodd\" fill-opacity=\"1\" /><path clip-path=\"url(#clip140)\" d=\"M1595.58 27.2059 L1603.03 27.2059 L1603.03 72.576 L1595.58 72.576 L1595.58 27.2059 M1595.58 9.54393 L1603.03 9.54393 L1603.03 18.9825 L1595.58 18.9825 L1595.58 9.54393 Z\" fill=\"#000000\" fill-rule=\"evenodd\" fill-opacity=\"1\" /><path clip-path=\"url(#clip140)\" d=\"M1644.92 34.1734 Q1643.66 33.4443 1642.16 33.1202 Q1640.7 32.7556 1638.92 32.7556 Q1632.6 32.7556 1629.2 36.8875 Q1625.84 40.9789 1625.84 48.6757 L1625.84 72.576 L1618.34 72.576 L1618.34 27.2059 L1625.84 27.2059 L1625.84 34.2544 Q1628.19 30.1225 1631.95 28.1376 Q1635.72 26.1121 1641.11 26.1121 Q1641.88 26.1121 1642.81 26.2337 Q1643.74 26.3147 1644.88 26.5172 L1644.92 34.1734 Z\" fill=\"#000000\" fill-rule=\"evenodd\" fill-opacity=\"1\" /><path clip-path=\"url(#clip140)\" d=\"M1652.74 27.2059 L1660.19 27.2059 L1660.19 72.576 L1652.74 72.576 L1652.74 27.2059 M1652.74 9.54393 L1660.19 9.54393 L1660.19 18.9825 L1652.74 18.9825 L1652.74 9.54393 Z\" fill=\"#000000\" fill-rule=\"evenodd\" fill-opacity=\"1\" /><path clip-path=\"url(#clip140)\" d=\"M1708.44 28.9478 L1708.44 35.9153 Q1705.28 34.1734 1702.08 33.3227 Q1698.92 32.4315 1695.68 32.4315 Q1688.42 32.4315 1684.41 37.0496 Q1680.4 41.6271 1680.4 49.9314 Q1680.4 58.2358 1684.41 62.8538 Q1688.42 67.4314 1695.68 67.4314 Q1698.92 67.4314 1702.08 66.5807 Q1705.28 65.6895 1708.44 63.9476 L1708.44 70.8341 Q1705.32 72.2924 1701.95 73.0216 Q1698.63 73.7508 1694.87 73.7508 Q1684.62 73.7508 1678.58 67.3098 Q1672.54 60.8689 1672.54 49.9314 Q1672.54 38.832 1678.62 32.472 Q1684.74 26.1121 1695.35 26.1121 Q1698.79 26.1121 1702.08 26.8413 Q1705.36 27.5299 1708.44 28.9478 Z\" fill=\"#000000\" fill-rule=\"evenodd\" fill-opacity=\"1\" /><path clip-path=\"url(#clip140)\" d=\"M1742.02 49.7694 Q1732.98 49.7694 1729.5 51.8354 Q1726.02 53.9013 1726.02 58.8839 Q1726.02 62.8538 1728.61 65.2034 Q1731.24 67.5124 1735.74 67.5124 Q1741.94 67.5124 1745.66 63.1374 Q1749.43 58.7219 1749.43 51.4303 L1749.43 49.7694 L1742.02 49.7694 M1756.88 46.6907 L1756.88 72.576 L1749.43 72.576 L1749.43 65.6895 Q1746.88 69.8214 1743.07 71.8063 Q1739.26 73.7508 1733.75 73.7508 Q1726.79 73.7508 1722.65 69.8619 Q1718.56 65.9325 1718.56 59.3701 Q1718.56 51.7138 1723.67 47.825 Q1728.81 43.9361 1738.98 43.9361 L1749.43 43.9361 L1749.43 43.2069 Q1749.43 38.0623 1746.03 35.2672 Q1742.67 32.4315 1736.55 32.4315 Q1732.66 32.4315 1728.97 33.3632 Q1725.29 34.295 1721.88 36.1584 L1721.88 29.2718 Q1725.98 27.692 1729.82 26.9223 Q1733.67 26.1121 1737.32 26.1121 Q1747.16 26.1121 1752.02 31.2163 Q1756.88 36.3204 1756.88 46.6907 Z\" fill=\"#000000\" fill-rule=\"evenodd\" fill-opacity=\"1\" /><path clip-path=\"url(#clip140)\" d=\"M1772.24 9.54393 L1779.69 9.54393 L1779.69 72.576 L1772.24 72.576 L1772.24 9.54393 Z\" fill=\"#000000\" fill-rule=\"evenodd\" fill-opacity=\"1\" /><path clip-path=\"url(#clip140)\" d=\"M1851.51 34.0924 L1851.51 9.54393 L1858.97 9.54393 L1858.97 72.576 L1851.51 72.576 L1851.51 65.7705 Q1849.16 69.8214 1845.56 71.8063 Q1841.99 73.7508 1836.97 73.7508 Q1828.75 73.7508 1823.56 67.1883 Q1818.42 60.6258 1818.42 49.9314 Q1818.42 39.2371 1823.56 32.6746 Q1828.75 26.1121 1836.97 26.1121 Q1841.99 26.1121 1845.56 28.0971 Q1849.16 30.0415 1851.51 34.0924 M1826.11 49.9314 Q1826.11 58.1548 1829.48 62.8538 Q1832.88 67.5124 1838.79 67.5124 Q1844.71 67.5124 1848.11 62.8538 Q1851.51 58.1548 1851.51 49.9314 Q1851.51 41.7081 1848.11 37.0496 Q1844.71 32.3505 1838.79 32.3505 Q1832.88 32.3505 1829.48 37.0496 Q1826.11 41.7081 1826.11 49.9314 Z\" fill=\"#000000\" fill-rule=\"evenodd\" fill-opacity=\"1\" /><path clip-path=\"url(#clip140)\" d=\"M1894.94 49.7694 Q1885.91 49.7694 1882.42 51.8354 Q1878.94 53.9013 1878.94 58.8839 Q1878.94 62.8538 1881.53 65.2034 Q1884.16 67.5124 1888.66 67.5124 Q1894.86 67.5124 1898.59 63.1374 Q1902.35 58.7219 1902.35 51.4303 L1902.35 49.7694 L1894.94 49.7694 M1909.81 46.6907 L1909.81 72.576 L1902.35 72.576 L1902.35 65.6895 Q1899.8 69.8214 1895.99 71.8063 Q1892.18 73.7508 1886.68 73.7508 Q1879.71 73.7508 1875.58 69.8619 Q1871.48 65.9325 1871.48 59.3701 Q1871.48 51.7138 1876.59 47.825 Q1881.73 43.9361 1891.9 43.9361 L1902.35 43.9361 L1902.35 43.2069 Q1902.35 38.0623 1898.95 35.2672 Q1895.59 32.4315 1889.47 32.4315 Q1885.58 32.4315 1881.9 33.3632 Q1878.21 34.295 1874.81 36.1584 L1874.81 29.2718 Q1878.9 27.692 1882.75 26.9223 Q1886.59 26.1121 1890.24 26.1121 Q1900.08 26.1121 1904.94 31.2163 Q1909.81 36.3204 1909.81 46.6907 Z\" fill=\"#000000\" fill-rule=\"evenodd\" fill-opacity=\"1\" /><path clip-path=\"url(#clip140)\" d=\"M1932.53 14.324 L1932.53 27.2059 L1947.88 27.2059 L1947.88 32.9987 L1932.53 32.9987 L1932.53 57.6282 Q1932.53 63.1779 1934.03 64.7578 Q1935.57 66.3376 1940.23 66.3376 L1947.88 66.3376 L1947.88 72.576 L1940.23 72.576 Q1931.6 72.576 1928.32 69.3758 Q1925.04 66.1351 1925.04 57.6282 L1925.04 32.9987 L1919.57 32.9987 L1919.57 27.2059 L1925.04 27.2059 L1925.04 14.324 L1932.53 14.324 Z\" fill=\"#000000\" fill-rule=\"evenodd\" fill-opacity=\"1\" /><path clip-path=\"url(#clip140)\" d=\"M1978.31 49.7694 Q1969.27 49.7694 1965.79 51.8354 Q1962.31 53.9013 1962.31 58.8839 Q1962.31 62.8538 1964.9 65.2034 Q1967.53 67.5124 1972.03 67.5124 Q1978.23 67.5124 1981.95 63.1374 Q1985.72 58.7219 1985.72 51.4303 L1985.72 49.7694 L1978.31 49.7694 M1993.17 46.6907 L1993.17 72.576 L1985.72 72.576 L1985.72 65.6895 Q1983.17 69.8214 1979.36 71.8063 Q1975.55 73.7508 1970.04 73.7508 Q1963.08 73.7508 1958.94 69.8619 Q1954.85 65.9325 1954.85 59.3701 Q1954.85 51.7138 1959.96 47.825 Q1965.1 43.9361 1975.27 43.9361 L1985.72 43.9361 L1985.72 43.2069 Q1985.72 38.0623 1982.32 35.2672 Q1978.95 32.4315 1972.84 32.4315 Q1968.95 32.4315 1965.26 33.3632 Q1961.58 34.295 1958.17 36.1584 L1958.17 29.2718 Q1962.27 27.692 1966.11 26.9223 Q1969.96 26.1121 1973.61 26.1121 Q1983.45 26.1121 1988.31 31.2163 Q1993.17 36.3204 1993.17 46.6907 Z\" fill=\"#000000\" fill-rule=\"evenodd\" fill-opacity=\"1\" /><path clip-path=\"url(#clip140)\" d=\"M2052.8 9.62495 Q2047.37 18.942 2044.74 28.0566 Q2042.11 37.1711 2042.11 46.5287 Q2042.11 55.8863 2044.74 65.0818 Q2047.42 74.2369 2052.8 83.5134 L2046.32 83.5134 Q2040.25 73.9938 2037.21 64.7983 Q2034.21 55.6027 2034.21 46.5287 Q2034.21 37.4952 2037.21 28.3401 Q2040.2 19.1851 2046.32 9.62495 L2052.8 9.62495 Z\" fill=\"#000000\" fill-rule=\"evenodd\" fill-opacity=\"1\" /><path clip-path=\"url(#clip140)\" d=\"M2075.77 18.8205 L2075.77 41.5461 L2086.06 41.5461 Q2091.77 41.5461 2094.89 38.5889 Q2098.01 35.6318 2098.01 30.163 Q2098.01 24.7348 2094.89 21.7777 Q2091.77 18.8205 2086.06 18.8205 L2075.77 18.8205 M2067.59 12.096 L2086.06 12.096 Q2096.23 12.096 2101.41 16.714 Q2106.64 21.2916 2106.64 30.163 Q2106.64 39.1155 2101.41 43.6931 Q2096.23 48.2706 2086.06 48.2706 L2075.77 48.2706 L2075.77 72.576 L2067.59 72.576 L2067.59 12.096 Z\" fill=\"#000000\" fill-rule=\"evenodd\" fill-opacity=\"1\" /><path clip-path=\"url(#clip140)\" d=\"M2116.12 9.62495 L2122.6 9.62495 Q2128.68 19.1851 2131.67 28.3401 Q2134.71 37.4952 2134.71 46.5287 Q2134.71 55.6027 2131.67 64.7983 Q2128.68 73.9938 2122.6 83.5134 L2116.12 83.5134 Q2121.51 74.2369 2124.14 65.0818 Q2126.81 55.8863 2126.81 46.5287 Q2126.81 37.1711 2124.14 28.0566 Q2121.51 18.942 2116.12 9.62495 Z\" fill=\"#000000\" fill-rule=\"evenodd\" fill-opacity=\"1\" /><circle clip-path=\"url(#clip142)\" cx=\"513.064\" cy=\"1151.28\" r=\"14\" fill=\"#009af9\" fill-rule=\"evenodd\" fill-opacity=\"1\" stroke=\"#000000\" stroke-opacity=\"1\" stroke-width=\"3.2\"/>\n",
       "<circle clip-path=\"url(#clip142)\" cx=\"768.854\" cy=\"825.564\" r=\"14\" fill=\"#009af9\" fill-rule=\"evenodd\" fill-opacity=\"1\" stroke=\"#000000\" stroke-opacity=\"1\" stroke-width=\"3.2\"/>\n",
       "<circle clip-path=\"url(#clip142)\" cx=\"1844.53\" cy=\"318.866\" r=\"14\" fill=\"#009af9\" fill-rule=\"evenodd\" fill-opacity=\"1\" stroke=\"#000000\" stroke-opacity=\"1\" stroke-width=\"3.2\"/>\n",
       "<circle clip-path=\"url(#clip142)\" cx=\"1930.4\" cy=\"246.575\" r=\"14\" fill=\"#009af9\" fill-rule=\"evenodd\" fill-opacity=\"1\" stroke=\"#000000\" stroke-opacity=\"1\" stroke-width=\"3.2\"/>\n",
       "<circle clip-path=\"url(#clip142)\" cx=\"2292.38\" cy=\"160.28\" r=\"14\" fill=\"#009af9\" fill-rule=\"evenodd\" fill-opacity=\"1\" stroke=\"#000000\" stroke-opacity=\"1\" stroke-width=\"3.2\"/>\n",
       "<circle clip-path=\"url(#clip142)\" cx=\"279.916\" cy=\"1386.4\" r=\"14\" fill=\"#009af9\" fill-rule=\"evenodd\" fill-opacity=\"1\" stroke=\"#000000\" stroke-opacity=\"1\" stroke-width=\"3.2\"/>\n",
       "<circle clip-path=\"url(#clip142)\" cx=\"1355.6\" cy=\"382.897\" r=\"14\" fill=\"#009af9\" fill-rule=\"evenodd\" fill-opacity=\"1\" stroke=\"#000000\" stroke-opacity=\"1\" stroke-width=\"3.2\"/>\n",
       "<circle clip-path=\"url(#clip142)\" cx=\"1441.46\" cy=\"505.304\" r=\"14\" fill=\"#009af9\" fill-rule=\"evenodd\" fill-opacity=\"1\" stroke=\"#000000\" stroke-opacity=\"1\" stroke-width=\"3.2\"/>\n",
       "<circle clip-path=\"url(#clip142)\" cx=\"1803.44\" cy=\"350.224\" r=\"14\" fill=\"#009af9\" fill-rule=\"evenodd\" fill-opacity=\"1\" stroke=\"#000000\" stroke-opacity=\"1\" stroke-width=\"3.2\"/>\n",
       "<circle clip-path=\"url(#clip142)\" cx=\"1099.81\" cy=\"731.387\" r=\"14\" fill=\"#009af9\" fill-rule=\"evenodd\" fill-opacity=\"1\" stroke=\"#000000\" stroke-opacity=\"1\" stroke-width=\"3.2\"/>\n",
       "<circle clip-path=\"url(#clip142)\" cx=\"1185.67\" cy=\"430.906\" r=\"14\" fill=\"#009af9\" fill-rule=\"evenodd\" fill-opacity=\"1\" stroke=\"#000000\" stroke-opacity=\"1\" stroke-width=\"3.2\"/>\n",
       "<circle clip-path=\"url(#clip142)\" cx=\"1547.65\" cy=\"474.047\" r=\"14\" fill=\"#009af9\" fill-rule=\"evenodd\" fill-opacity=\"1\" stroke=\"#000000\" stroke-opacity=\"1\" stroke-width=\"3.2\"/>\n",
       "<polyline clip-path=\"url(#clip142)\" style=\"stroke:#e26f46; stroke-linecap:butt; stroke-linejoin:round; stroke-width:4; stroke-opacity:1; fill:none\" points=\"\n",
       "  281.929,1342.83 283.941,1340.86 285.954,1338.89 287.966,1336.92 289.978,1334.96 291.991,1332.99 294.003,1331.03 296.016,1329.06 298.028,1327.1 300.041,1325.14 \n",
       "  302.053,1323.18 304.066,1321.22 306.078,1319.26 308.091,1317.3 310.103,1315.34 312.116,1313.38 314.128,1311.43 316.141,1309.47 318.153,1307.52 320.165,1305.56 \n",
       "  322.178,1303.61 324.19,1301.66 326.203,1299.71 328.215,1297.76 330.228,1295.81 332.24,1293.86 334.253,1291.92 336.265,1289.97 338.278,1288.02 340.29,1286.08 \n",
       "  342.303,1284.14 344.315,1282.19 346.328,1280.25 348.34,1278.31 350.352,1276.37 352.365,1274.43 354.377,1272.49 356.39,1270.56 358.402,1268.62 360.415,1266.69 \n",
       "  362.427,1264.75 364.44,1262.82 366.452,1260.89 368.465,1258.96 370.477,1257.03 372.49,1255.1 374.502,1253.17 376.515,1251.24 378.527,1249.32 380.539,1247.39 \n",
       "  382.552,1245.47 384.564,1243.55 386.577,1241.62 388.589,1239.7 390.602,1237.78 392.614,1235.86 394.627,1233.95 396.639,1232.03 398.652,1230.12 400.664,1228.2 \n",
       "  402.677,1226.29 404.689,1224.38 406.702,1222.46 408.714,1220.55 410.726,1218.65 412.739,1216.74 414.751,1214.83 416.764,1212.93 418.776,1211.02 420.789,1209.12 \n",
       "  422.801,1207.22 424.814,1205.32 426.826,1203.42 428.839,1201.52 430.851,1199.62 432.864,1197.72 434.876,1195.83 436.888,1193.93 438.901,1192.04 440.913,1190.15 \n",
       "  442.926,1188.26 444.938,1186.37 446.951,1184.48 448.963,1182.59 450.976,1180.71 452.988,1178.82 455.001,1176.94 457.013,1175.06 459.026,1173.18 461.038,1171.3 \n",
       "  463.051,1169.42 465.063,1167.54 467.075,1165.67 469.088,1163.79 471.1,1161.92 473.113,1160.05 475.125,1158.18 477.138,1156.31 479.15,1154.44 481.163,1152.57 \n",
       "  483.175,1150.71 485.188,1148.84 487.2,1146.98 489.213,1145.12 491.225,1143.25 493.238,1141.4 495.25,1139.54 497.262,1137.68 499.275,1135.82 501.287,1133.97 \n",
       "  503.3,1132.12 505.312,1130.27 507.325,1128.42 509.337,1126.57 511.35,1124.72 513.362,1122.87 515.375,1121.03 517.387,1119.19 519.4,1117.34 521.412,1115.5 \n",
       "  523.425,1113.66 525.437,1111.82 527.449,1109.99 529.462,1108.15 531.474,1106.32 533.487,1104.49 535.499,1102.65 537.512,1100.83 539.524,1099 541.537,1097.17 \n",
       "  543.549,1095.34 545.562,1093.52 547.574,1091.7 549.587,1089.88 551.599,1088.06 553.612,1086.24 555.624,1084.42 557.636,1082.6 559.649,1080.79 561.661,1078.98 \n",
       "  563.674,1077.17 565.686,1075.36 567.699,1073.55 569.711,1071.74 571.724,1069.93 573.736,1068.13 575.749,1066.33 577.761,1064.53 579.774,1062.73 581.786,1060.93 \n",
       "  583.798,1059.13 585.811,1057.34 587.823,1055.54 589.836,1053.75 591.848,1051.96 593.861,1050.17 595.873,1048.38 597.886,1046.6 599.898,1044.81 601.911,1043.03 \n",
       "  603.923,1041.25 605.936,1039.47 607.948,1037.69 609.961,1035.91 611.973,1034.14 613.985,1032.36 615.998,1030.59 618.01,1028.82 620.023,1027.05 622.035,1025.28 \n",
       "  624.048,1023.51 626.06,1021.75 628.073,1019.99 630.085,1018.22 632.098,1016.46 634.11,1014.71 636.123,1012.95 638.135,1011.19 640.148,1009.44 642.16,1007.69 \n",
       "  644.172,1005.94 646.185,1004.19 648.197,1002.44 650.21,1000.69 652.222,998.949 654.235,997.206 656.247,995.465 658.26,993.725 660.272,991.987 662.285,990.251 \n",
       "  664.297,988.516 666.31,986.783 668.322,985.052 670.335,983.322 672.347,981.594 674.359,979.867 676.372,978.142 678.384,976.419 680.397,974.697 682.409,972.977 \n",
       "  684.422,971.259 686.434,969.542 688.447,967.827 690.459,966.114 692.472,964.402 694.484,962.692 696.497,960.983 698.509,959.277 700.522,957.571 702.534,955.868 \n",
       "  704.546,954.166 706.559,952.466 708.571,950.768 710.584,949.071 712.596,947.376 714.609,945.683 716.621,943.991 718.634,942.301 720.646,940.613 722.659,938.926 \n",
       "  724.671,937.241 726.684,935.558 728.696,933.877 730.708,932.197 732.721,930.519 734.733,928.843 736.746,927.168 738.758,925.495 740.771,923.824 742.783,922.155 \n",
       "  744.796,920.487 746.808,918.821 748.821,917.157 750.833,915.494 752.846,913.833 754.858,912.174 756.871,910.517 758.883,908.861 760.895,907.208 762.908,905.556 \n",
       "  764.92,903.905 766.933,902.257 768.945,900.61 770.958,898.965 772.97,897.322 774.983,895.68 776.995,894.04 779.008,892.402 781.02,890.766 783.033,889.132 \n",
       "  785.045,887.499 787.058,885.868 789.07,884.239 791.082,882.612 793.095,880.986 795.107,879.362 797.12,877.74 799.132,876.12 801.145,874.502 803.157,872.885 \n",
       "  805.17,871.27 807.182,869.657 809.195,868.046 811.207,866.437 813.22,864.829 815.232,863.223 817.245,861.619 819.257,860.017 821.269,858.416 823.282,856.818 \n",
       "  825.294,855.221 827.307,853.626 829.319,852.033 831.332,850.442 833.344,848.852 835.357,847.264 837.369,845.679 839.382,844.095 841.394,842.512 843.407,840.932 \n",
       "  845.419,839.353 847.432,837.777 849.444,836.202 851.456,834.629 853.469,833.058 855.481,831.488 857.494,829.921 859.506,828.355 861.519,826.791 863.531,825.229 \n",
       "  865.544,823.669 867.556,822.111 869.569,820.554 871.581,819 873.594,817.447 875.606,815.896 877.618,814.347 879.631,812.8 881.643,811.254 883.656,809.711 \n",
       "  885.668,808.169 887.681,806.63 889.693,805.092 891.706,803.556 893.718,802.022 895.731,800.489 897.743,798.959 899.756,797.43 901.768,795.904 903.781,794.379 \n",
       "  905.793,792.856 907.805,791.335 909.818,789.816 911.83,788.299 913.843,786.783 915.855,785.27 917.868,783.758 919.88,782.248 921.893,780.74 923.905,779.235 \n",
       "  925.918,777.73 927.93,776.228 929.943,774.728 931.955,773.229 933.968,771.733 935.98,770.238 937.992,768.746 940.005,767.255 942.017,765.766 944.03,764.279 \n",
       "  946.042,762.793 948.055,761.31 950.067,759.829 952.08,758.349 954.092,756.872 956.105,755.396 958.117,753.922 960.13,752.45 962.142,750.98 964.155,749.512 \n",
       "  966.167,748.046 968.179,746.582 970.192,745.12 972.204,743.659 974.217,742.201 976.229,740.744 978.242,739.289 980.254,737.837 982.267,736.386 984.279,734.937 \n",
       "  986.292,733.49 988.304,732.045 990.317,730.601 992.329,729.16 994.342,727.721 996.354,726.283 998.366,724.848 1000.38,723.414 1002.39,721.982 1004.4,720.552 \n",
       "  1006.42,719.124 1008.43,717.699 1010.44,716.274 1012.45,714.852 1014.47,713.432 1016.48,712.014 1018.49,710.597 1020.5,709.183 1022.52,707.771 1024.53,706.36 \n",
       "  1026.54,704.951 1028.55,703.545 1030.57,702.14 1032.58,700.737 1034.59,699.336 1036.6,697.937 1038.62,696.54 1040.63,695.144 1042.64,693.751 1044.65,692.36 \n",
       "  1046.67,690.97 1048.68,689.583 1050.69,688.197 1052.7,686.814 1054.72,685.432 1056.73,684.052 1058.74,682.674 1060.75,681.299 1062.77,679.925 1064.78,678.553 \n",
       "  1066.79,677.182 1068.8,675.814 1070.82,674.448 1072.83,673.084 1074.84,671.721 1076.85,670.361 1078.87,669.002 1080.88,667.646 1082.89,666.291 1084.9,664.938 \n",
       "  1086.91,663.587 1088.93,662.238 1090.94,660.891 1092.95,659.546 1094.96,658.203 1096.98,656.862 1098.99,655.523 1101,654.186 1103.01,652.85 1105.03,651.517 \n",
       "  1107.04,650.185 1109.05,648.856 1111.06,647.528 1113.08,646.202 1115.09,644.878 1117.1,643.557 1119.11,642.237 1121.13,640.919 1123.14,639.603 1125.15,638.288 \n",
       "  1127.16,636.976 1129.18,635.666 1131.19,634.358 1133.2,633.051 1135.21,631.747 1137.23,630.444 1139.24,629.143 1141.25,627.845 1143.26,626.548 1145.28,625.253 \n",
       "  1147.29,623.96 1149.3,622.669 1151.31,621.38 1153.33,620.093 1155.34,618.808 1157.35,617.524 1159.36,616.243 1161.38,614.963 1163.39,613.686 1165.4,612.41 \n",
       "  1167.41,611.136 1169.43,609.865 1171.44,608.595 1173.45,607.327 1175.46,606.061 1177.48,604.797 1179.49,603.535 1181.5,602.274 1183.51,601.016 1185.53,599.76 \n",
       "  1187.54,598.505 1189.55,597.253 1191.56,596.002 1193.58,594.753 1195.59,593.506 1197.6,592.261 1199.61,591.018 1201.63,589.777 1203.64,588.538 1205.65,587.301 \n",
       "  1207.66,586.066 1209.68,584.832 1211.69,583.601 1213.7,582.371 1215.71,581.143 1217.73,579.917 1219.74,578.694 1221.75,577.472 1223.76,576.252 1225.78,575.033 \n",
       "  1227.79,573.817 1229.8,572.603 1231.81,571.39 1233.82,570.18 1235.84,568.971 1237.85,567.764 1239.86,566.56 1241.87,565.357 1243.89,564.156 1245.9,562.956 \n",
       "  1247.91,561.759 1249.92,560.564 1251.94,559.37 1253.95,558.179 1255.96,556.989 1257.97,555.801 1259.99,554.616 1262,553.432 1264.01,552.249 1266.02,551.069 \n",
       "  1268.04,549.891 1270.05,548.715 1272.06,547.54 1274.07,546.367 1276.09,545.197 1278.1,544.028 1280.11,542.861 1282.12,541.696 1284.14,540.532 1286.15,539.371 \n",
       "  1288.16,538.212 1290.17,537.054 1292.19,535.898 1294.2,534.744 1296.21,533.592 1298.22,532.442 1300.24,531.294 1302.25,530.148 1304.26,529.003 1306.27,527.861 \n",
       "  1308.29,526.72 1310.3,525.581 1312.31,524.444 1314.32,523.309 1316.34,522.176 1318.35,521.044 1320.36,519.915 1322.37,518.787 1324.39,517.661 1326.4,516.538 \n",
       "  1328.41,515.415 1330.42,514.295 1332.44,513.177 1334.45,512.06 1336.46,510.946 1338.47,509.833 1340.49,508.722 1342.5,507.613 1344.51,506.505 1346.52,505.4 \n",
       "  1348.54,504.297 1350.55,503.195 1352.56,502.095 1354.57,500.997 1356.59,499.901 1358.6,498.806 1360.61,497.714 1362.62,496.623 1364.64,495.534 1366.65,494.447 \n",
       "  1368.66,493.362 1370.67,492.279 1372.69,491.197 1374.7,490.118 1376.71,489.04 1378.72,487.964 1380.73,486.89 1382.75,485.817 1384.76,484.747 1386.77,483.678 \n",
       "  1388.78,482.611 1390.8,481.546 1392.81,480.483 1394.82,479.421 1396.83,478.362 1398.85,477.304 1400.86,476.248 1402.87,475.194 1404.88,474.141 1406.9,473.091 \n",
       "  1408.91,472.042 1410.92,470.995 1412.93,469.95 1414.95,468.906 1416.96,467.865 1418.97,466.825 1420.98,465.787 1423,464.751 1425.01,463.717 1427.02,462.684 \n",
       "  1429.03,461.653 1431.05,460.624 1433.06,459.597 1435.07,458.572 1437.08,457.548 1439.1,456.526 1441.11,455.506 1443.12,454.488 1445.13,453.471 1447.15,452.457 \n",
       "  1449.16,451.444 1451.17,450.433 1453.18,449.423 1455.2,448.416 1457.21,447.41 1459.22,446.406 1461.23,445.403 1463.25,444.403 1465.26,443.404 1467.27,442.407 \n",
       "  1469.28,441.412 1471.3,440.418 1473.31,439.427 1475.32,438.437 1477.33,437.448 1479.35,436.462 1481.36,435.477 1483.37,434.494 1485.38,433.513 1487.4,432.534 \n",
       "  1489.41,431.556 1491.42,430.58 1493.43,429.606 1495.45,428.633 1497.46,427.662 1499.47,426.693 1501.48,425.726 1503.5,424.76 1505.51,423.797 1507.52,422.835 \n",
       "  1509.53,421.874 1511.55,420.916 1513.56,419.959 1515.57,419.003 1517.58,418.05 1519.6,417.098 1521.61,416.148 1523.62,415.2 1525.63,414.253 1527.64,413.308 \n",
       "  1529.66,412.365 1531.67,411.424 1533.68,410.484 1535.69,409.546 1537.71,408.61 1539.72,407.675 1541.73,406.742 1543.74,405.811 1545.76,404.881 1547.77,403.953 \n",
       "  1549.78,403.027 1551.79,402.103 1553.81,401.18 1555.82,400.259 1557.83,399.34 1559.84,398.422 1561.86,397.506 1563.87,396.591 1565.88,395.679 1567.89,394.768 \n",
       "  1569.91,393.858 1571.92,392.951 1573.93,392.045 1575.94,391.141 1577.96,390.238 1579.97,389.337 1581.98,388.438 1583.99,387.54 1586.01,386.644 1588.02,385.75 \n",
       "  1590.03,384.857 1592.04,383.966 1594.06,383.077 1596.07,382.189 1598.08,381.303 1600.09,380.418 1602.11,379.536 1604.12,378.655 1606.13,377.775 1608.14,376.897 \n",
       "  1610.16,376.021 1612.17,375.147 1614.18,374.274 1616.19,373.402 1618.21,372.533 1620.22,371.665 1622.23,370.798 1624.24,369.934 1626.26,369.07 1628.27,368.209 \n",
       "  1630.28,367.349 1632.29,366.491 1634.31,365.634 1636.32,364.779 1638.33,363.925 1640.34,363.074 1642.36,362.223 1644.37,361.375 1646.38,360.528 1648.39,359.682 \n",
       "  1650.41,358.838 1652.42,357.996 1654.43,357.156 1656.44,356.317 1658.46,355.479 1660.47,354.643 1662.48,353.809 1664.49,352.976 1666.51,352.145 1668.52,351.316 \n",
       "  1670.53,350.488 1672.54,349.662 1674.55,348.837 1676.57,348.014 1678.58,347.192 1680.59,346.372 1682.6,345.553 1684.62,344.737 1686.63,343.921 1688.64,343.107 \n",
       "  1690.65,342.295 1692.67,341.484 1694.68,340.675 1696.69,339.868 1698.7,339.062 1700.72,338.257 1702.73,337.454 1704.74,336.653 1706.75,335.853 1708.77,335.055 \n",
       "  1710.78,334.258 1712.79,333.463 1714.8,332.67 1716.82,331.877 1718.83,331.087 1720.84,330.298 1722.85,329.51 1724.87,328.724 1726.88,327.94 1728.89,327.157 \n",
       "  1730.9,326.375 1732.92,325.596 1734.93,324.817 1736.94,324.04 1738.95,323.265 1740.97,322.491 1742.98,321.719 1744.99,320.948 1747,320.179 1749.02,319.411 \n",
       "  1751.03,318.644 1753.04,317.88 1755.05,317.116 1757.07,316.354 1759.08,315.594 1761.09,314.835 1763.1,314.078 1765.12,313.322 1767.13,312.568 1769.14,311.815 \n",
       "  1771.15,311.063 1773.17,310.313 1775.18,309.565 1777.19,308.818 1779.2,308.072 1781.22,307.328 1783.23,306.586 1785.24,305.844 1787.25,305.105 1789.27,304.367 \n",
       "  1791.28,303.63 1793.29,302.895 1795.3,302.161 1797.32,301.428 1799.33,300.697 1801.34,299.968 1803.35,299.24 1805.37,298.513 1807.38,297.788 1809.39,297.065 \n",
       "  1811.4,296.342 1813.42,295.621 1815.43,294.902 1817.44,294.184 1819.45,293.468 1821.46,292.752 1823.48,292.039 1825.49,291.327 1827.5,290.616 1829.51,289.906 \n",
       "  1831.53,289.198 1833.54,288.492 1835.55,287.787 1837.56,287.083 1839.58,286.381 1841.59,285.68 1843.6,284.98 1845.61,284.282 1847.63,283.585 1849.64,282.89 \n",
       "  1851.65,282.196 1853.66,281.504 1855.68,280.812 1857.69,280.123 1859.7,279.434 1861.71,278.747 1863.73,278.062 1865.74,277.378 1867.75,276.695 1869.76,276.013 \n",
       "  1871.78,275.333 1873.79,274.655 1875.8,273.977 1877.81,273.301 1879.83,272.627 1881.84,271.954 1883.85,271.282 1885.86,270.611 1887.88,269.942 1889.89,269.275 \n",
       "  1891.9,268.608 1893.91,267.943 1895.93,267.279 1897.94,266.617 1899.95,265.956 1901.96,265.296 1903.98,264.638 1905.99,263.981 1908,263.326 1910.01,262.671 \n",
       "  1912.03,262.018 1914.04,261.367 1916.05,260.716 1918.06,260.068 1920.08,259.42 1922.09,258.774 1924.1,258.129 1926.11,257.485 1928.13,256.843 1930.14,256.202 \n",
       "  1932.15,255.562 1934.16,254.923 1936.18,254.286 1938.19,253.651 1940.2,253.016 1942.21,252.383 1944.23,251.751 1946.24,251.121 1948.25,250.491 1950.26,249.863 \n",
       "  1952.28,249.237 1954.29,248.611 1956.3,247.987 1958.31,247.364 1960.33,246.743 1962.34,246.123 1964.35,245.504 1966.36,244.886 1968.37,244.27 1970.39,243.654 \n",
       "  1972.4,243.041 1974.41,242.428 1976.42,241.817 1978.44,241.207 1980.45,240.598 1982.46,239.99 1984.47,239.384 1986.49,238.779 1988.5,238.175 1990.51,237.573 \n",
       "  1992.52,236.972 1994.54,236.372 1996.55,235.773 1998.56,235.175 2000.57,234.579 2002.59,233.984 2004.6,233.39 2006.61,232.798 2008.62,232.207 2010.64,231.617 \n",
       "  2012.65,231.028 2014.66,230.44 2016.67,229.854 2018.69,229.269 2020.7,228.685 2022.71,228.102 2024.72,227.521 2026.74,226.94 2028.75,226.361 2030.76,225.784 \n",
       "  2032.77,225.207 2034.79,224.632 2036.8,224.057 2038.81,223.484 2040.82,222.913 2042.84,222.342 2044.85,221.773 2046.86,221.204 2048.87,220.637 2050.89,220.072 \n",
       "  2052.9,219.507 2054.91,218.944 2056.92,218.381 2058.94,217.82 2060.95,217.26 2062.96,216.702 2064.97,216.144 2066.99,215.588 2069,215.033 2071.01,214.479 \n",
       "  2073.02,213.926 2075.04,213.374 2077.05,212.824 2079.06,212.275 2081.07,211.727 2083.09,211.18 2085.1,210.634 2087.11,210.089 2089.12,209.546 2091.14,209.003 \n",
       "  2093.15,208.462 2095.16,207.922 2097.17,207.383 2099.19,206.845 2101.2,206.309 2103.21,205.773 2105.22,205.239 2107.24,204.706 2109.25,204.174 2111.26,203.643 \n",
       "  2113.27,203.113 2115.28,202.584 2117.3,202.057 2119.31,201.53 2121.32,201.005 2123.33,200.481 2125.35,199.958 2127.36,199.436 2129.37,198.915 2131.38,198.396 \n",
       "  2133.4,197.877 2135.41,197.359 2137.42,196.843 2139.43,196.328 2141.45,195.814 2143.46,195.301 2145.47,194.789 2147.48,194.278 2149.5,193.768 2151.51,193.259 \n",
       "  2153.52,192.752 2155.53,192.245 2157.55,191.74 2159.56,191.236 2161.57,190.732 2163.58,190.23 2165.6,189.729 2167.61,189.229 2169.62,188.73 2171.63,188.232 \n",
       "  2173.65,187.736 2175.66,187.24 2177.67,186.745 2179.68,186.252 2181.7,185.759 2183.71,185.268 2185.72,184.777 2187.73,184.288 2189.75,183.8 2191.76,183.313 \n",
       "  2193.77,182.827 2195.78,182.341 2197.8,181.857 2199.81,181.374 2201.82,180.892 2203.83,180.412 2205.85,179.932 2207.86,179.453 2209.87,178.975 2211.88,178.498 \n",
       "  2213.9,178.023 2215.91,177.548 2217.92,177.074 2219.93,176.602 2221.95,176.13 2223.96,175.659 2225.97,175.19 2227.98,174.721 2230,174.254 2232.01,173.787 \n",
       "  2234.02,173.322 2236.03,172.857 2238.05,172.394 2240.06,171.932 2242.07,171.47 2244.08,171.01 2246.1,170.55 2248.11,170.092 2250.12,169.634 2252.13,169.178 \n",
       "  2254.15,168.723 2256.16,168.268 2258.17,167.815 2260.18,167.362 2262.19,166.911 2264.21,166.46 2266.22,166.011 2268.23,165.562 2270.24,165.115 2272.26,164.668 \n",
       "  2274.27,164.223 2276.28,163.778 2278.29,163.334 2280.31,162.892 2282.32,162.45 2284.33,162.009 2286.34,161.57 2288.36,161.131 2290.37,160.693 2292.38,160.256 \n",
       "  \n",
       "  \"/>\n",
       "<path clip-path=\"url(#clip140)\" d=\"\n",
       "M290.649 322.316 L1032.83 322.316 L1032.83 166.796 L290.649 166.796  Z\n",
       "  \" fill=\"#ffffff\" fill-rule=\"evenodd\" fill-opacity=\"1\"/>\n",
       "<polyline clip-path=\"url(#clip140)\" style=\"stroke:#000000; stroke-linecap:butt; stroke-linejoin:round; stroke-width:4; stroke-opacity:1; fill:none\" points=\"\n",
       "  290.649,322.316 1032.83,322.316 1032.83,166.796 290.649,166.796 290.649,322.316 \n",
       "  \"/>\n",
       "<circle clip-path=\"url(#clip140)\" cx=\"385.459\" cy=\"218.636\" r=\"23\" fill=\"#009af9\" fill-rule=\"evenodd\" fill-opacity=\"1\" stroke=\"#000000\" stroke-opacity=\"1\" stroke-width=\"5.12\"/>\n",
       "<path clip-path=\"url(#clip140)\" d=\"M492.166 212.976 Q488.74 212.976 486.75 215.661 Q484.759 218.323 484.759 222.976 Q484.759 227.629 486.727 230.314 Q488.717 232.976 492.166 232.976 Q495.569 232.976 497.56 230.291 Q499.551 227.606 499.551 222.976 Q499.551 218.37 497.56 215.684 Q495.569 212.976 492.166 212.976 M492.166 209.365 Q497.722 209.365 500.893 212.976 Q504.064 216.587 504.064 222.976 Q504.064 229.342 500.893 232.976 Q497.722 236.587 492.166 236.587 Q486.588 236.587 483.416 232.976 Q480.268 229.342 480.268 222.976 Q480.268 216.587 483.416 212.976 Q486.588 209.365 492.166 209.365 Z\" fill=\"#000000\" fill-rule=\"evenodd\" fill-opacity=\"1\" /><path clip-path=\"url(#clip140)\" d=\"M529.736 222.976 Q529.736 218.277 527.791 215.615 Q525.87 212.93 522.49 212.93 Q519.111 212.93 517.166 215.615 Q515.245 218.277 515.245 222.976 Q515.245 227.675 517.166 230.36 Q519.111 233.022 522.49 233.022 Q525.87 233.022 527.791 230.36 Q529.736 227.675 529.736 222.976 M515.245 213.925 Q516.588 211.61 518.625 210.499 Q520.685 209.365 523.532 209.365 Q528.254 209.365 531.194 213.115 Q534.157 216.865 534.157 222.976 Q534.157 229.087 531.194 232.837 Q528.254 236.587 523.532 236.587 Q520.685 236.587 518.625 235.476 Q516.588 234.342 515.245 232.027 L515.245 235.916 L510.963 235.916 L510.963 199.897 L515.245 199.897 L515.245 213.925 Z\" fill=\"#000000\" fill-rule=\"evenodd\" fill-opacity=\"1\" /><path clip-path=\"url(#clip140)\" d=\"M557.745 210.754 L557.745 214.782 Q555.939 213.856 553.995 213.393 Q552.05 212.93 549.967 212.93 Q546.796 212.93 545.199 213.902 Q543.624 214.874 543.624 216.819 Q543.624 218.3 544.759 219.157 Q545.893 219.99 549.319 220.754 L550.777 221.078 Q555.314 222.05 557.212 223.832 Q559.134 225.592 559.134 228.763 Q559.134 232.374 556.263 234.481 Q553.416 236.587 548.416 236.587 Q546.333 236.587 544.064 236.17 Q541.819 235.777 539.319 234.967 L539.319 230.569 Q541.68 231.795 543.972 232.42 Q546.263 233.022 548.509 233.022 Q551.518 233.022 553.138 232.004 Q554.759 230.962 554.759 229.087 Q554.759 227.351 553.578 226.425 Q552.421 225.499 548.462 224.643 L546.981 224.295 Q543.023 223.462 541.263 221.749 Q539.504 220.013 539.504 217.004 Q539.504 213.346 542.097 211.356 Q544.689 209.365 549.458 209.365 Q551.819 209.365 553.902 209.712 Q555.986 210.059 557.745 210.754 Z\" fill=\"#000000\" fill-rule=\"evenodd\" fill-opacity=\"1\" /><path clip-path=\"url(#clip140)\" d=\"M588.092 221.888 L588.092 223.971 L568.509 223.971 Q568.786 228.369 571.147 230.684 Q573.532 232.976 577.768 232.976 Q580.221 232.976 582.513 232.374 Q584.828 231.772 587.096 230.569 L587.096 234.596 Q584.805 235.568 582.397 236.078 Q579.99 236.587 577.513 236.587 Q571.309 236.587 567.675 232.976 Q564.064 229.365 564.064 223.207 Q564.064 216.842 567.49 213.115 Q570.939 209.365 576.772 209.365 Q582.004 209.365 585.036 212.745 Q588.092 216.101 588.092 221.888 M583.833 220.638 Q583.786 217.143 581.865 215.059 Q579.967 212.976 576.819 212.976 Q573.254 212.976 571.101 214.99 Q568.972 217.004 568.647 220.661 L583.833 220.638 Z\" fill=\"#000000\" fill-rule=\"evenodd\" fill-opacity=\"1\" /><path clip-path=\"url(#clip140)\" d=\"M610.106 213.971 Q609.388 213.555 608.532 213.37 Q607.698 213.161 606.68 213.161 Q603.069 213.161 601.124 215.522 Q599.203 217.86 599.203 222.258 L599.203 235.916 L594.92 235.916 L594.92 209.99 L599.203 209.99 L599.203 214.018 Q600.545 211.657 602.698 210.522 Q604.851 209.365 607.93 209.365 Q608.369 209.365 608.902 209.434 Q609.434 209.481 610.082 209.596 L610.106 213.971 Z\" fill=\"#000000\" fill-rule=\"evenodd\" fill-opacity=\"1\" /><path clip-path=\"url(#clip140)\" d=\"M611.518 209.99 L616.031 209.99 L624.133 231.749 L632.235 209.99 L636.749 209.99 L627.027 235.916 L621.24 235.916 L611.518 209.99 Z\" fill=\"#000000\" fill-rule=\"evenodd\" fill-opacity=\"1\" /><path clip-path=\"url(#clip140)\" d=\"M664.804 221.888 L664.804 223.971 L645.221 223.971 Q645.499 228.369 647.86 230.684 Q650.244 232.976 654.48 232.976 Q656.934 232.976 659.226 232.374 Q661.54 231.772 663.809 230.569 L663.809 234.596 Q661.517 235.568 659.11 236.078 Q656.703 236.587 654.226 236.587 Q648.022 236.587 644.388 232.976 Q640.777 229.365 640.777 223.207 Q640.777 216.842 644.203 213.115 Q647.652 209.365 653.485 209.365 Q658.716 209.365 661.749 212.745 Q664.804 216.101 664.804 221.888 M660.545 220.638 Q660.499 217.143 658.578 215.059 Q656.679 212.976 653.531 212.976 Q649.966 212.976 647.814 214.99 Q645.684 217.004 645.36 220.661 L660.545 220.638 Z\" fill=\"#000000\" fill-rule=\"evenodd\" fill-opacity=\"1\" /><path clip-path=\"url(#clip140)\" d=\"M688.855 213.925 L688.855 199.897 L693.114 199.897 L693.114 235.916 L688.855 235.916 L688.855 232.027 Q687.513 234.342 685.452 235.476 Q683.415 236.587 680.545 236.587 Q675.846 236.587 672.883 232.837 Q669.943 229.087 669.943 222.976 Q669.943 216.865 672.883 213.115 Q675.846 209.365 680.545 209.365 Q683.415 209.365 685.452 210.499 Q687.513 211.61 688.855 213.925 M674.341 222.976 Q674.341 227.675 676.263 230.36 Q678.207 233.022 681.587 233.022 Q684.966 233.022 686.911 230.36 Q688.855 227.675 688.855 222.976 Q688.855 218.277 686.911 215.615 Q684.966 212.93 681.587 212.93 Q678.207 212.93 676.263 215.615 Q674.341 218.277 674.341 222.976 Z\" fill=\"#000000\" fill-rule=\"evenodd\" fill-opacity=\"1\" /><path clip-path=\"url(#clip140)\" d=\"M735.614 210.985 L735.614 214.967 Q733.809 213.971 731.98 213.485 Q730.174 212.976 728.323 212.976 Q724.179 212.976 721.887 215.615 Q719.596 218.231 719.596 222.976 Q719.596 227.721 721.887 230.36 Q724.179 232.976 728.323 232.976 Q730.174 232.976 731.98 232.49 Q733.809 231.981 735.614 230.985 L735.614 234.92 Q733.832 235.754 731.91 236.17 Q730.012 236.587 727.86 236.587 Q722.003 236.587 718.554 232.906 Q715.105 229.226 715.105 222.976 Q715.105 216.633 718.577 212.999 Q722.073 209.365 728.137 209.365 Q730.105 209.365 731.98 209.782 Q733.855 210.175 735.614 210.985 Z\" fill=\"#000000\" fill-rule=\"evenodd\" fill-opacity=\"1\" /><path clip-path=\"url(#clip140)\" d=\"M764.572 220.268 L764.572 235.916 L760.313 235.916 L760.313 220.407 Q760.313 216.726 758.878 214.897 Q757.443 213.069 754.572 213.069 Q751.123 213.069 749.133 215.268 Q747.142 217.467 747.142 221.263 L747.142 235.916 L742.859 235.916 L742.859 199.897 L747.142 199.897 L747.142 214.018 Q748.67 211.68 750.73 210.522 Q752.813 209.365 755.521 209.365 Q759.989 209.365 762.281 212.143 Q764.572 214.897 764.572 220.268 Z\" fill=\"#000000\" fill-rule=\"evenodd\" fill-opacity=\"1\" /><path clip-path=\"url(#clip140)\" d=\"M783.114 212.976 Q779.688 212.976 777.697 215.661 Q775.707 218.323 775.707 222.976 Q775.707 227.629 777.674 230.314 Q779.665 232.976 783.114 232.976 Q786.517 232.976 788.507 230.291 Q790.498 227.606 790.498 222.976 Q790.498 218.37 788.507 215.684 Q786.517 212.976 783.114 212.976 M783.114 209.365 Q788.669 209.365 791.841 212.976 Q795.012 216.587 795.012 222.976 Q795.012 229.342 791.841 232.976 Q788.669 236.587 783.114 236.587 Q777.535 236.587 774.364 232.976 Q771.216 229.342 771.216 222.976 Q771.216 216.587 774.364 212.976 Q777.535 209.365 783.114 209.365 Z\" fill=\"#000000\" fill-rule=\"evenodd\" fill-opacity=\"1\" /><path clip-path=\"url(#clip140)\" d=\"M802.072 209.99 L806.331 209.99 L806.331 235.916 L802.072 235.916 L802.072 209.99 M802.072 199.897 L806.331 199.897 L806.331 205.291 L802.072 205.291 L802.072 199.897 Z\" fill=\"#000000\" fill-rule=\"evenodd\" fill-opacity=\"1\" /><path clip-path=\"url(#clip140)\" d=\"M833.901 210.985 L833.901 214.967 Q832.095 213.971 830.266 213.485 Q828.461 212.976 826.609 212.976 Q822.466 212.976 820.174 215.615 Q817.882 218.231 817.882 222.976 Q817.882 227.721 820.174 230.36 Q822.466 232.976 826.609 232.976 Q828.461 232.976 830.266 232.49 Q832.095 231.981 833.901 230.985 L833.901 234.92 Q832.118 235.754 830.197 236.17 Q828.299 236.587 826.146 236.587 Q820.29 236.587 816.841 232.906 Q813.392 229.226 813.392 222.976 Q813.392 216.633 816.864 212.999 Q820.359 209.365 826.424 209.365 Q828.391 209.365 830.266 209.782 Q832.141 210.175 833.901 210.985 Z\" fill=\"#000000\" fill-rule=\"evenodd\" fill-opacity=\"1\" /><path clip-path=\"url(#clip140)\" d=\"M863.484 221.888 L863.484 223.971 L843.901 223.971 Q844.178 228.369 846.539 230.684 Q848.924 232.976 853.16 232.976 Q855.614 232.976 857.905 232.374 Q860.22 231.772 862.488 230.569 L862.488 234.596 Q860.197 235.568 857.789 236.078 Q855.382 236.587 852.905 236.587 Q846.702 236.587 843.067 232.976 Q839.456 229.365 839.456 223.207 Q839.456 216.842 842.882 213.115 Q846.331 209.365 852.164 209.365 Q857.396 209.365 860.428 212.745 Q863.484 216.101 863.484 221.888 M859.225 220.638 Q859.178 217.143 857.257 215.059 Q855.359 212.976 852.211 212.976 Q848.646 212.976 846.493 214.99 Q844.364 217.004 844.04 220.661 L859.225 220.638 Z\" fill=\"#000000\" fill-rule=\"evenodd\" fill-opacity=\"1\" /><path clip-path=\"url(#clip140)\" d=\"M898.669 199.897 L898.669 203.439 L894.595 203.439 Q892.303 203.439 891.4 204.365 Q890.521 205.291 890.521 207.698 L890.521 209.99 L897.535 209.99 L897.535 213.3 L890.521 213.3 L890.521 235.916 L886.238 235.916 L886.238 213.3 L882.164 213.3 L882.164 209.99 L886.238 209.99 L886.238 208.184 Q886.238 203.856 888.252 201.888 Q890.266 199.897 894.641 199.897 L898.669 199.897 Z\" fill=\"#000000\" fill-rule=\"evenodd\" fill-opacity=\"1\" /><path clip-path=\"url(#clip140)\" d=\"M917.257 213.971 Q916.539 213.555 915.683 213.37 Q914.849 213.161 913.831 213.161 Q910.22 213.161 908.275 215.522 Q906.354 217.86 906.354 222.258 L906.354 235.916 L902.072 235.916 L902.072 209.99 L906.354 209.99 L906.354 214.018 Q907.697 211.657 909.849 210.522 Q912.002 209.365 915.081 209.365 Q915.521 209.365 916.053 209.434 Q916.585 209.481 917.234 209.596 L917.257 213.971 Z\" fill=\"#000000\" fill-rule=\"evenodd\" fill-opacity=\"1\" /><path clip-path=\"url(#clip140)\" d=\"M942.858 221.888 L942.858 223.971 L923.275 223.971 Q923.553 228.369 925.914 230.684 Q928.298 232.976 932.534 232.976 Q934.988 232.976 937.28 232.374 Q939.595 231.772 941.863 230.569 L941.863 234.596 Q939.571 235.568 937.164 236.078 Q934.757 236.587 932.28 236.587 Q926.076 236.587 922.442 232.976 Q918.831 229.365 918.831 223.207 Q918.831 216.842 922.257 213.115 Q925.706 209.365 931.539 209.365 Q936.77 209.365 939.803 212.745 Q942.858 216.101 942.858 221.888 M938.599 220.638 Q938.553 217.143 936.632 215.059 Q934.733 212.976 931.585 212.976 Q928.021 212.976 925.868 214.99 Q923.738 217.004 923.414 220.661 L938.599 220.638 Z\" fill=\"#000000\" fill-rule=\"evenodd\" fill-opacity=\"1\" /><path clip-path=\"url(#clip140)\" d=\"M952.395 222.976 Q952.395 227.675 954.317 230.36 Q956.261 233.022 959.641 233.022 Q963.02 233.022 964.965 230.36 Q966.909 227.675 966.909 222.976 Q966.909 218.277 964.965 215.615 Q963.02 212.93 959.641 212.93 Q956.261 212.93 954.317 215.615 Q952.395 218.277 952.395 222.976 M966.909 232.027 Q965.567 234.342 963.506 235.476 Q961.469 236.587 958.599 236.587 Q953.9 236.587 950.937 232.837 Q947.997 229.087 947.997 222.976 Q947.997 216.865 950.937 213.115 Q953.9 209.365 958.599 209.365 Q961.469 209.365 963.506 210.499 Q965.567 211.61 966.909 213.925 L966.909 209.99 L971.168 209.99 L971.168 245.777 L966.909 245.777 L966.909 232.027 Z\" fill=\"#000000\" fill-rule=\"evenodd\" fill-opacity=\"1\" /><path clip-path=\"url(#clip140)\" d=\"M980.543 230.036 L985.428 230.036 L985.428 235.916 L980.543 235.916 L980.543 230.036 Z\" fill=\"#000000\" fill-rule=\"evenodd\" fill-opacity=\"1\" /><polyline clip-path=\"url(#clip140)\" style=\"stroke:#e26f46; stroke-linecap:butt; stroke-linejoin:round; stroke-width:4; stroke-opacity:1; fill:none\" points=\"\n",
       "  314.352,270.476 456.566,270.476 \n",
       "  \"/>\n",
       "<path clip-path=\"url(#clip140)\" d=\"M504.296 273.728 L504.296 275.811 L484.713 275.811 Q484.991 280.209 487.352 282.524 Q489.736 284.816 493.972 284.816 Q496.426 284.816 498.717 284.214 Q501.032 283.612 503.301 282.409 L503.301 286.436 Q501.009 287.408 498.602 287.918 Q496.194 288.427 493.717 288.427 Q487.514 288.427 483.879 284.816 Q480.268 281.205 480.268 275.047 Q480.268 268.682 483.694 264.955 Q487.143 261.205 492.977 261.205 Q498.208 261.205 501.24 264.585 Q504.296 267.941 504.296 273.728 M500.037 272.478 Q499.99 268.983 498.069 266.899 Q496.171 264.816 493.023 264.816 Q489.458 264.816 487.305 266.83 Q485.176 268.844 484.852 272.501 L500.037 272.478 Z\" fill=\"#000000\" fill-rule=\"evenodd\" fill-opacity=\"1\" /><path clip-path=\"url(#clip140)\" d=\"M511.287 251.737 L515.546 251.737 L515.546 287.756 L511.287 287.756 L511.287 251.737 Z\" fill=\"#000000\" fill-rule=\"evenodd\" fill-opacity=\"1\" /><path clip-path=\"url(#clip140)\" d=\"M524.458 261.83 L528.717 261.83 L528.717 287.756 L524.458 287.756 L524.458 261.83 M524.458 251.737 L528.717 251.737 L528.717 257.131 L524.458 257.131 L524.458 251.737 Z\" fill=\"#000000\" fill-rule=\"evenodd\" fill-opacity=\"1\" /><path clip-path=\"url(#clip140)\" d=\"M556.286 262.825 L556.286 266.807 Q554.481 265.811 552.652 265.325 Q550.847 264.816 548.995 264.816 Q544.851 264.816 542.56 267.455 Q540.268 270.071 540.268 274.816 Q540.268 279.561 542.56 282.2 Q544.851 284.816 548.995 284.816 Q550.847 284.816 552.652 284.33 Q554.481 283.821 556.286 282.825 L556.286 286.76 Q554.504 287.594 552.583 288.01 Q550.685 288.427 548.532 288.427 Q542.675 288.427 539.226 284.746 Q535.777 281.066 535.777 274.816 Q535.777 268.473 539.249 264.839 Q542.745 261.205 548.81 261.205 Q550.777 261.205 552.652 261.622 Q554.527 262.015 556.286 262.825 Z\" fill=\"#000000\" fill-rule=\"evenodd\" fill-opacity=\"1\" /><path clip-path=\"url(#clip140)\" d=\"M563.694 261.83 L567.953 261.83 L567.953 287.756 L563.694 287.756 L563.694 261.83 M563.694 251.737 L567.953 251.737 L567.953 257.131 L563.694 257.131 L563.694 251.737 Z\" fill=\"#000000\" fill-rule=\"evenodd\" fill-opacity=\"1\" /><path clip-path=\"url(#clip140)\" d=\"M581.078 254.469 L581.078 261.83 L589.851 261.83 L589.851 265.14 L581.078 265.14 L581.078 279.214 Q581.078 282.385 581.934 283.288 Q582.814 284.191 585.476 284.191 L589.851 284.191 L589.851 287.756 L585.476 287.756 Q580.546 287.756 578.671 285.927 Q576.796 284.075 576.796 279.214 L576.796 265.14 L573.671 265.14 L573.671 261.83 L576.796 261.83 L576.796 254.469 L581.078 254.469 Z\" fill=\"#000000\" fill-rule=\"evenodd\" fill-opacity=\"1\" /><path clip-path=\"url(#clip140)\" d=\"M617.629 273.728 L617.629 275.811 L598.045 275.811 Q598.323 280.209 600.684 282.524 Q603.069 284.816 607.305 284.816 Q609.758 284.816 612.05 284.214 Q614.365 283.612 616.633 282.409 L616.633 286.436 Q614.342 287.408 611.934 287.918 Q609.527 288.427 607.05 288.427 Q600.846 288.427 597.212 284.816 Q593.601 281.205 593.601 275.047 Q593.601 268.682 597.027 264.955 Q600.476 261.205 606.309 261.205 Q611.541 261.205 614.573 264.585 Q617.629 267.941 617.629 273.728 M613.369 272.478 Q613.323 268.983 611.402 266.899 Q609.504 264.816 606.356 264.816 Q602.791 264.816 600.638 266.83 Q598.508 268.844 598.184 272.501 L613.369 272.478 Z\" fill=\"#000000\" fill-rule=\"evenodd\" fill-opacity=\"1\" /><path clip-path=\"url(#clip140)\" d=\"M641.679 265.765 L641.679 251.737 L645.939 251.737 L645.939 287.756 L641.679 287.756 L641.679 283.867 Q640.337 286.182 638.277 287.316 Q636.24 288.427 633.369 288.427 Q628.67 288.427 625.707 284.677 Q622.768 280.927 622.768 274.816 Q622.768 268.705 625.707 264.955 Q628.67 261.205 633.369 261.205 Q636.24 261.205 638.277 262.339 Q640.337 263.45 641.679 265.765 M627.166 274.816 Q627.166 279.515 629.087 282.2 Q631.031 284.862 634.411 284.862 Q637.791 284.862 639.735 282.2 Q641.679 279.515 641.679 274.816 Q641.679 270.117 639.735 267.455 Q637.791 264.77 634.411 264.77 Q631.031 264.77 629.087 267.455 Q627.166 270.117 627.166 274.816 Z\" fill=\"#000000\" fill-rule=\"evenodd\" fill-opacity=\"1\" /><path clip-path=\"url(#clip140)\" d=\"M674.642 257.038 L674.642 283.913 L680.29 283.913 Q687.443 283.913 690.753 280.672 Q694.087 277.432 694.087 270.441 Q694.087 263.497 690.753 260.279 Q687.443 257.038 680.29 257.038 L674.642 257.038 M669.966 253.196 L679.573 253.196 Q689.619 253.196 694.318 257.386 Q699.017 261.552 699.017 270.441 Q699.017 279.376 694.295 283.566 Q689.573 287.756 679.573 287.756 L669.966 287.756 L669.966 253.196 Z\" fill=\"#000000\" fill-rule=\"evenodd\" fill-opacity=\"1\" /><path clip-path=\"url(#clip140)\" d=\"M711.147 257.038 L711.147 283.913 L716.795 283.913 Q723.948 283.913 727.258 280.672 Q730.591 277.432 730.591 270.441 Q730.591 263.497 727.258 260.279 Q723.948 257.038 716.795 257.038 L711.147 257.038 M706.471 253.196 L716.077 253.196 Q726.123 253.196 730.823 257.386 Q735.522 261.552 735.522 270.441 Q735.522 279.376 730.799 283.566 Q726.077 287.756 716.077 287.756 L706.471 287.756 L706.471 253.196 Z\" fill=\"#000000\" fill-rule=\"evenodd\" fill-opacity=\"1\" /><path clip-path=\"url(#clip140)\" d=\"M742.975 253.196 L749.943 253.196 L758.762 276.714 L767.628 253.196 L774.595 253.196 L774.595 287.756 L770.035 287.756 L770.035 257.409 L761.123 281.112 L756.424 281.112 L747.512 257.409 L747.512 287.756 L742.975 287.756 L742.975 253.196 Z\" fill=\"#000000\" fill-rule=\"evenodd\" fill-opacity=\"1\" /></svg>\n"
      ]
     },
     "metadata": {},
     "output_type": "display_data"
    }
   ],
   "source": [
    "plot_P(P_c1, λ1, udiff1) \n",
    "savefig(\"P_nowinwin_Cavanagh_21jan\")"
   ]
  },
  {
   "cell_type": "code",
   "execution_count": 111,
   "id": "instrumental-visitor",
   "metadata": {},
   "outputs": [
    {
     "data": {
      "image/svg+xml": [
       "<?xml version=\"1.0\" encoding=\"utf-8\"?>\n",
       "<svg xmlns=\"http://www.w3.org/2000/svg\" xmlns:xlink=\"http://www.w3.org/1999/xlink\" width=\"600\" height=\"400\" viewBox=\"0 0 2400 1600\">\n",
       "<defs>\n",
       "  <clipPath id=\"clip190\">\n",
       "    <rect x=\"0\" y=\"0\" width=\"2400\" height=\"1600\"/>\n",
       "  </clipPath>\n",
       "</defs>\n",
       "<path clip-path=\"url(#clip190)\" d=\"\n",
       "M0 1600 L2400 1600 L2400 0 L0 0  Z\n",
       "  \" fill=\"#ffffff\" fill-rule=\"evenodd\" fill-opacity=\"1\"/>\n",
       "<defs>\n",
       "  <clipPath id=\"clip191\">\n",
       "    <rect x=\"480\" y=\"0\" width=\"1681\" height=\"1600\"/>\n",
       "  </clipPath>\n",
       "</defs>\n",
       "<path clip-path=\"url(#clip190)\" d=\"\n",
       "M262.551 1423.18 L2352.76 1423.18 L2352.76 123.472 L262.551 123.472  Z\n",
       "  \" fill=\"#ffffff\" fill-rule=\"evenodd\" fill-opacity=\"1\"/>\n",
       "<defs>\n",
       "  <clipPath id=\"clip192\">\n",
       "    <rect x=\"262\" y=\"123\" width=\"2091\" height=\"1301\"/>\n",
       "  </clipPath>\n",
       "</defs>\n",
       "<polyline clip-path=\"url(#clip192)\" style=\"stroke:#000000; stroke-linecap:butt; stroke-linejoin:round; stroke-width:2; stroke-opacity:0.1; fill:none\" points=\"\n",
       "  488.579,1423.18 488.579,123.472 \n",
       "  \"/>\n",
       "<polyline clip-path=\"url(#clip192)\" style=\"stroke:#000000; stroke-linecap:butt; stroke-linejoin:round; stroke-width:2; stroke-opacity:0.1; fill:none\" points=\"\n",
       "  906.083,1423.18 906.083,123.472 \n",
       "  \"/>\n",
       "<polyline clip-path=\"url(#clip192)\" style=\"stroke:#000000; stroke-linecap:butt; stroke-linejoin:round; stroke-width:2; stroke-opacity:0.1; fill:none\" points=\"\n",
       "  1323.59,1423.18 1323.59,123.472 \n",
       "  \"/>\n",
       "<polyline clip-path=\"url(#clip192)\" style=\"stroke:#000000; stroke-linecap:butt; stroke-linejoin:round; stroke-width:2; stroke-opacity:0.1; fill:none\" points=\"\n",
       "  1741.09,1423.18 1741.09,123.472 \n",
       "  \"/>\n",
       "<polyline clip-path=\"url(#clip192)\" style=\"stroke:#000000; stroke-linecap:butt; stroke-linejoin:round; stroke-width:2; stroke-opacity:0.1; fill:none\" points=\"\n",
       "  2158.59,1423.18 2158.59,123.472 \n",
       "  \"/>\n",
       "<polyline clip-path=\"url(#clip190)\" style=\"stroke:#000000; stroke-linecap:butt; stroke-linejoin:round; stroke-width:4; stroke-opacity:1; fill:none\" points=\"\n",
       "  262.551,1423.18 2352.76,1423.18 \n",
       "  \"/>\n",
       "<polyline clip-path=\"url(#clip190)\" style=\"stroke:#000000; stroke-linecap:butt; stroke-linejoin:round; stroke-width:4; stroke-opacity:1; fill:none\" points=\"\n",
       "  488.579,1423.18 488.579,1404.28 \n",
       "  \"/>\n",
       "<polyline clip-path=\"url(#clip190)\" style=\"stroke:#000000; stroke-linecap:butt; stroke-linejoin:round; stroke-width:4; stroke-opacity:1; fill:none\" points=\"\n",
       "  906.083,1423.18 906.083,1404.28 \n",
       "  \"/>\n",
       "<polyline clip-path=\"url(#clip190)\" style=\"stroke:#000000; stroke-linecap:butt; stroke-linejoin:round; stroke-width:4; stroke-opacity:1; fill:none\" points=\"\n",
       "  1323.59,1423.18 1323.59,1404.28 \n",
       "  \"/>\n",
       "<polyline clip-path=\"url(#clip190)\" style=\"stroke:#000000; stroke-linecap:butt; stroke-linejoin:round; stroke-width:4; stroke-opacity:1; fill:none\" points=\"\n",
       "  1741.09,1423.18 1741.09,1404.28 \n",
       "  \"/>\n",
       "<polyline clip-path=\"url(#clip190)\" style=\"stroke:#000000; stroke-linecap:butt; stroke-linejoin:round; stroke-width:4; stroke-opacity:1; fill:none\" points=\"\n",
       "  2158.59,1423.18 2158.59,1404.28 \n",
       "  \"/>\n",
       "<path clip-path=\"url(#clip190)\" d=\"M451.496 1454.1 Q447.885 1454.1 446.056 1457.66 Q444.25 1461.2 444.25 1468.33 Q444.25 1475.44 446.056 1479.01 Q447.885 1482.55 451.496 1482.55 Q455.13 1482.55 456.935 1479.01 Q458.764 1475.44 458.764 1468.33 Q458.764 1461.2 456.935 1457.66 Q455.13 1454.1 451.496 1454.1 M451.496 1450.39 Q457.306 1450.39 460.361 1455 Q463.44 1459.58 463.44 1468.33 Q463.44 1477.06 460.361 1481.67 Q457.306 1486.25 451.496 1486.25 Q445.686 1486.25 442.607 1481.67 Q439.551 1477.06 439.551 1468.33 Q439.551 1459.58 442.607 1455 Q445.686 1450.39 451.496 1450.39 Z\" fill=\"#000000\" fill-rule=\"evenodd\" fill-opacity=\"1\" /><path clip-path=\"url(#clip190)\" d=\"M471.658 1479.7 L476.542 1479.7 L476.542 1485.58 L471.658 1485.58 L471.658 1479.7 Z\" fill=\"#000000\" fill-rule=\"evenodd\" fill-opacity=\"1\" /><path clip-path=\"url(#clip190)\" d=\"M496.727 1454.1 Q493.116 1454.1 491.287 1457.66 Q489.482 1461.2 489.482 1468.33 Q489.482 1475.44 491.287 1479.01 Q493.116 1482.55 496.727 1482.55 Q500.361 1482.55 502.167 1479.01 Q503.995 1475.44 503.995 1468.33 Q503.995 1461.2 502.167 1457.66 Q500.361 1454.1 496.727 1454.1 M496.727 1450.39 Q502.537 1450.39 505.593 1455 Q508.671 1459.58 508.671 1468.33 Q508.671 1477.06 505.593 1481.67 Q502.537 1486.25 496.727 1486.25 Q490.917 1486.25 487.838 1481.67 Q484.783 1477.06 484.783 1468.33 Q484.783 1459.58 487.838 1455 Q490.917 1450.39 496.727 1450.39 Z\" fill=\"#000000\" fill-rule=\"evenodd\" fill-opacity=\"1\" /><path clip-path=\"url(#clip190)\" d=\"M517.699 1481.64 L525.338 1481.64 L525.338 1455.28 L517.028 1456.95 L517.028 1452.69 L525.292 1451.02 L529.967 1451.02 L529.967 1481.64 L537.606 1481.64 L537.606 1485.58 L517.699 1485.58 L517.699 1481.64 Z\" fill=\"#000000\" fill-rule=\"evenodd\" fill-opacity=\"1\" /><path clip-path=\"url(#clip190)\" d=\"M869.185 1454.1 Q865.574 1454.1 863.745 1457.66 Q861.939 1461.2 861.939 1468.33 Q861.939 1475.44 863.745 1479.01 Q865.574 1482.55 869.185 1482.55 Q872.819 1482.55 874.624 1479.01 Q876.453 1475.44 876.453 1468.33 Q876.453 1461.2 874.624 1457.66 Q872.819 1454.1 869.185 1454.1 M869.185 1450.39 Q874.995 1450.39 878.05 1455 Q881.129 1459.58 881.129 1468.33 Q881.129 1477.06 878.05 1481.67 Q874.995 1486.25 869.185 1486.25 Q863.374 1486.25 860.296 1481.67 Q857.24 1477.06 857.24 1468.33 Q857.24 1459.58 860.296 1455 Q863.374 1450.39 869.185 1450.39 Z\" fill=\"#000000\" fill-rule=\"evenodd\" fill-opacity=\"1\" /><path clip-path=\"url(#clip190)\" d=\"M889.347 1479.7 L894.231 1479.7 L894.231 1485.58 L889.347 1485.58 L889.347 1479.7 Z\" fill=\"#000000\" fill-rule=\"evenodd\" fill-opacity=\"1\" /><path clip-path=\"url(#clip190)\" d=\"M914.416 1454.1 Q910.805 1454.1 908.976 1457.66 Q907.171 1461.2 907.171 1468.33 Q907.171 1475.44 908.976 1479.01 Q910.805 1482.55 914.416 1482.55 Q918.05 1482.55 919.856 1479.01 Q921.684 1475.44 921.684 1468.33 Q921.684 1461.2 919.856 1457.66 Q918.05 1454.1 914.416 1454.1 M914.416 1450.39 Q920.226 1450.39 923.282 1455 Q926.36 1459.58 926.36 1468.33 Q926.36 1477.06 923.282 1481.67 Q920.226 1486.25 914.416 1486.25 Q908.606 1486.25 905.527 1481.67 Q902.471 1477.06 902.471 1468.33 Q902.471 1459.58 905.527 1455 Q908.606 1450.39 914.416 1450.39 Z\" fill=\"#000000\" fill-rule=\"evenodd\" fill-opacity=\"1\" /><path clip-path=\"url(#clip190)\" d=\"M938.606 1481.64 L954.925 1481.64 L954.925 1485.58 L932.981 1485.58 L932.981 1481.64 Q935.643 1478.89 940.226 1474.26 Q944.832 1469.61 946.013 1468.27 Q948.258 1465.74 949.138 1464.01 Q950.041 1462.25 950.041 1460.56 Q950.041 1457.8 948.096 1456.07 Q946.175 1454.33 943.073 1454.33 Q940.874 1454.33 938.42 1455.09 Q935.99 1455.86 933.212 1457.41 L933.212 1452.69 Q936.036 1451.55 938.49 1450.97 Q940.943 1450.39 942.98 1450.39 Q948.351 1450.39 951.545 1453.08 Q954.74 1455.77 954.74 1460.26 Q954.74 1462.39 953.93 1464.31 Q953.142 1466.2 951.036 1468.8 Q950.457 1469.47 947.355 1472.69 Q944.254 1475.88 938.606 1481.64 Z\" fill=\"#000000\" fill-rule=\"evenodd\" fill-opacity=\"1\" /><path clip-path=\"url(#clip190)\" d=\"M1286.21 1454.1 Q1282.6 1454.1 1280.77 1457.66 Q1278.97 1461.2 1278.97 1468.33 Q1278.97 1475.44 1280.77 1479.01 Q1282.6 1482.55 1286.21 1482.55 Q1289.85 1482.55 1291.65 1479.01 Q1293.48 1475.44 1293.48 1468.33 Q1293.48 1461.2 1291.65 1457.66 Q1289.85 1454.1 1286.21 1454.1 M1286.21 1450.39 Q1292.02 1450.39 1295.08 1455 Q1298.16 1459.58 1298.16 1468.33 Q1298.16 1477.06 1295.08 1481.67 Q1292.02 1486.25 1286.21 1486.25 Q1280.4 1486.25 1277.32 1481.67 Q1274.27 1477.06 1274.27 1468.33 Q1274.27 1459.58 1277.32 1455 Q1280.4 1450.39 1286.21 1450.39 Z\" fill=\"#000000\" fill-rule=\"evenodd\" fill-opacity=\"1\" /><path clip-path=\"url(#clip190)\" d=\"M1306.38 1479.7 L1311.26 1479.7 L1311.26 1485.58 L1306.38 1485.58 L1306.38 1479.7 Z\" fill=\"#000000\" fill-rule=\"evenodd\" fill-opacity=\"1\" /><path clip-path=\"url(#clip190)\" d=\"M1331.45 1454.1 Q1327.83 1454.1 1326.01 1457.66 Q1324.2 1461.2 1324.2 1468.33 Q1324.2 1475.44 1326.01 1479.01 Q1327.83 1482.55 1331.45 1482.55 Q1335.08 1482.55 1336.88 1479.01 Q1338.71 1475.44 1338.71 1468.33 Q1338.71 1461.2 1336.88 1457.66 Q1335.08 1454.1 1331.45 1454.1 M1331.45 1450.39 Q1337.26 1450.39 1340.31 1455 Q1343.39 1459.58 1343.39 1468.33 Q1343.39 1477.06 1340.31 1481.67 Q1337.26 1486.25 1331.45 1486.25 Q1325.63 1486.25 1322.56 1481.67 Q1319.5 1477.06 1319.5 1468.33 Q1319.5 1459.58 1322.56 1455 Q1325.63 1450.39 1331.45 1450.39 Z\" fill=\"#000000\" fill-rule=\"evenodd\" fill-opacity=\"1\" /><path clip-path=\"url(#clip190)\" d=\"M1365.77 1466.95 Q1369.13 1467.66 1371 1469.93 Q1372.9 1472.2 1372.9 1475.53 Q1372.9 1480.65 1369.38 1483.45 Q1365.87 1486.25 1359.38 1486.25 Q1357.21 1486.25 1354.89 1485.81 Q1352.6 1485.39 1350.15 1484.54 L1350.15 1480.02 Q1352.09 1481.16 1354.41 1481.74 Q1356.72 1482.32 1359.25 1482.32 Q1363.64 1482.32 1365.94 1480.58 Q1368.25 1478.84 1368.25 1475.53 Q1368.25 1472.48 1366.1 1470.77 Q1363.97 1469.03 1360.15 1469.03 L1356.12 1469.03 L1356.12 1465.19 L1360.33 1465.19 Q1363.78 1465.19 1365.61 1463.82 Q1367.44 1462.43 1367.44 1459.84 Q1367.44 1457.18 1365.54 1455.77 Q1363.67 1454.33 1360.15 1454.33 Q1358.23 1454.33 1356.03 1454.75 Q1353.83 1455.16 1351.19 1456.04 L1351.19 1451.88 Q1353.85 1451.14 1356.17 1450.77 Q1358.51 1450.39 1360.57 1450.39 Q1365.89 1450.39 1368.99 1452.83 Q1372.09 1455.23 1372.09 1459.35 Q1372.09 1462.22 1370.45 1464.21 Q1368.81 1466.18 1365.77 1466.95 Z\" fill=\"#000000\" fill-rule=\"evenodd\" fill-opacity=\"1\" /><path clip-path=\"url(#clip190)\" d=\"M1703.15 1454.1 Q1699.54 1454.1 1697.71 1457.66 Q1695.91 1461.2 1695.91 1468.33 Q1695.91 1475.44 1697.71 1479.01 Q1699.54 1482.55 1703.15 1482.55 Q1706.78 1482.55 1708.59 1479.01 Q1710.42 1475.44 1710.42 1468.33 Q1710.42 1461.2 1708.59 1457.66 Q1706.78 1454.1 1703.15 1454.1 M1703.15 1450.39 Q1708.96 1450.39 1712.02 1455 Q1715.09 1459.58 1715.09 1468.33 Q1715.09 1477.06 1712.02 1481.67 Q1708.96 1486.25 1703.15 1486.25 Q1697.34 1486.25 1694.26 1481.67 Q1691.21 1477.06 1691.21 1468.33 Q1691.21 1459.58 1694.26 1455 Q1697.34 1450.39 1703.15 1450.39 Z\" fill=\"#000000\" fill-rule=\"evenodd\" fill-opacity=\"1\" /><path clip-path=\"url(#clip190)\" d=\"M1723.31 1479.7 L1728.2 1479.7 L1728.2 1485.58 L1723.31 1485.58 L1723.31 1479.7 Z\" fill=\"#000000\" fill-rule=\"evenodd\" fill-opacity=\"1\" /><path clip-path=\"url(#clip190)\" d=\"M1748.38 1454.1 Q1744.77 1454.1 1742.94 1457.66 Q1741.14 1461.2 1741.14 1468.33 Q1741.14 1475.44 1742.94 1479.01 Q1744.77 1482.55 1748.38 1482.55 Q1752.02 1482.55 1753.82 1479.01 Q1755.65 1475.44 1755.65 1468.33 Q1755.65 1461.2 1753.82 1457.66 Q1752.02 1454.1 1748.38 1454.1 M1748.38 1450.39 Q1754.19 1450.39 1757.25 1455 Q1760.33 1459.58 1760.33 1468.33 Q1760.33 1477.06 1757.25 1481.67 Q1754.19 1486.25 1748.38 1486.25 Q1742.57 1486.25 1739.49 1481.67 Q1736.44 1477.06 1736.44 1468.33 Q1736.44 1459.58 1739.49 1455 Q1742.57 1450.39 1748.38 1450.39 Z\" fill=\"#000000\" fill-rule=\"evenodd\" fill-opacity=\"1\" /><path clip-path=\"url(#clip190)\" d=\"M1781.39 1455.09 L1769.59 1473.54 L1781.39 1473.54 L1781.39 1455.09 M1780.16 1451.02 L1786.04 1451.02 L1786.04 1473.54 L1790.97 1473.54 L1790.97 1477.43 L1786.04 1477.43 L1786.04 1485.58 L1781.39 1485.58 L1781.39 1477.43 L1765.79 1477.43 L1765.79 1472.92 L1780.16 1451.02 Z\" fill=\"#000000\" fill-rule=\"evenodd\" fill-opacity=\"1\" /><path clip-path=\"url(#clip190)\" d=\"M2121.39 1454.1 Q2117.78 1454.1 2115.96 1457.66 Q2114.15 1461.2 2114.15 1468.33 Q2114.15 1475.44 2115.96 1479.01 Q2117.78 1482.55 2121.39 1482.55 Q2125.03 1482.55 2126.83 1479.01 Q2128.66 1475.44 2128.66 1468.33 Q2128.66 1461.2 2126.83 1457.66 Q2125.03 1454.1 2121.39 1454.1 M2121.39 1450.39 Q2127.2 1450.39 2130.26 1455 Q2133.34 1459.58 2133.34 1468.33 Q2133.34 1477.06 2130.26 1481.67 Q2127.2 1486.25 2121.39 1486.25 Q2115.58 1486.25 2112.51 1481.67 Q2109.45 1477.06 2109.45 1468.33 Q2109.45 1459.58 2112.51 1455 Q2115.58 1450.39 2121.39 1450.39 Z\" fill=\"#000000\" fill-rule=\"evenodd\" fill-opacity=\"1\" /><path clip-path=\"url(#clip190)\" d=\"M2141.56 1479.7 L2146.44 1479.7 L2146.44 1485.58 L2141.56 1485.58 L2141.56 1479.7 Z\" fill=\"#000000\" fill-rule=\"evenodd\" fill-opacity=\"1\" /><path clip-path=\"url(#clip190)\" d=\"M2166.63 1454.1 Q2163.01 1454.1 2161.19 1457.66 Q2159.38 1461.2 2159.38 1468.33 Q2159.38 1475.44 2161.19 1479.01 Q2163.01 1482.55 2166.63 1482.55 Q2170.26 1482.55 2172.07 1479.01 Q2173.89 1475.44 2173.89 1468.33 Q2173.89 1461.2 2172.07 1457.66 Q2170.26 1454.1 2166.63 1454.1 M2166.63 1450.39 Q2172.44 1450.39 2175.49 1455 Q2178.57 1459.58 2178.57 1468.33 Q2178.57 1477.06 2175.49 1481.67 Q2172.44 1486.25 2166.63 1486.25 Q2160.82 1486.25 2157.74 1481.67 Q2154.68 1477.06 2154.68 1468.33 Q2154.68 1459.58 2157.74 1455 Q2160.82 1450.39 2166.63 1450.39 Z\" fill=\"#000000\" fill-rule=\"evenodd\" fill-opacity=\"1\" /><path clip-path=\"url(#clip190)\" d=\"M2186.83 1451.02 L2205.19 1451.02 L2205.19 1454.96 L2191.12 1454.96 L2191.12 1463.43 Q2192.14 1463.08 2193.15 1462.92 Q2194.17 1462.73 2195.19 1462.73 Q2200.98 1462.73 2204.36 1465.9 Q2207.74 1469.08 2207.74 1474.49 Q2207.74 1480.07 2204.26 1483.17 Q2200.79 1486.25 2194.47 1486.25 Q2192.3 1486.25 2190.03 1485.88 Q2187.78 1485.51 2185.38 1484.77 L2185.38 1480.07 Q2187.46 1481.2 2189.68 1481.76 Q2191.9 1482.32 2194.38 1482.32 Q2198.39 1482.32 2200.72 1480.21 Q2203.06 1478.1 2203.06 1474.49 Q2203.06 1470.88 2200.72 1468.77 Q2198.39 1466.67 2194.38 1466.67 Q2192.51 1466.67 2190.63 1467.08 Q2188.78 1467.5 2186.83 1468.38 L2186.83 1451.02 Z\" fill=\"#000000\" fill-rule=\"evenodd\" fill-opacity=\"1\" /><path clip-path=\"url(#clip190)\" d=\"M1135.08 1526.86 L1122.03 1562.7 L1148.16 1562.7 L1135.08 1526.86 M1113.31 1568.04 L1131.45 1520.52 L1138.74 1520.52 L1156.85 1568.04 L1113.31 1568.04 Z\" fill=\"#000000\" fill-rule=\"evenodd\" fill-opacity=\"1\" /><path clip-path=\"url(#clip190)\" d=\"M1162.93 1553.98 L1162.93 1532.4 L1168.79 1532.4 L1168.79 1553.75 Q1168.79 1558.81 1170.76 1561.36 Q1172.73 1563.87 1176.68 1563.87 Q1181.42 1563.87 1184.16 1560.85 Q1186.93 1557.83 1186.93 1552.61 L1186.93 1532.4 L1192.78 1532.4 L1192.78 1568.04 L1186.93 1568.04 L1186.93 1562.57 Q1184.8 1565.82 1181.96 1567.41 Q1179.16 1568.97 1175.44 1568.97 Q1169.29 1568.97 1166.11 1565.15 Q1162.93 1561.33 1162.93 1553.98 M1177.67 1531.54 L1177.67 1531.54 Z\" fill=\"#000000\" fill-rule=\"evenodd\" fill-opacity=\"1\" /><path clip-path=\"url(#clip190)\" d=\"M1239.64 1518.58 Q1235.37 1525.9 1233.3 1533.06 Q1231.23 1540.23 1231.23 1547.58 Q1231.23 1554.93 1233.3 1562.16 Q1235.4 1569.35 1239.64 1576.64 L1234.54 1576.64 Q1229.77 1569.16 1227.38 1561.93 Q1225.03 1554.71 1225.03 1547.58 Q1225.03 1540.48 1227.38 1533.29 Q1229.74 1526.09 1234.54 1518.58 L1239.64 1518.58 Z\" fill=\"#000000\" fill-rule=\"evenodd\" fill-opacity=\"1\" /><path clip-path=\"url(#clip190)\" d=\"M1281.49 1548.76 L1281.49 1551.62 L1254.56 1551.62 Q1254.95 1557.67 1258.19 1560.85 Q1261.47 1564 1267.29 1564 Q1270.67 1564 1273.82 1563.17 Q1277 1562.35 1280.12 1560.69 L1280.12 1566.23 Q1276.97 1567.57 1273.66 1568.27 Q1270.35 1568.97 1266.94 1568.97 Q1258.41 1568.97 1253.42 1564 Q1248.45 1559.04 1248.45 1550.57 Q1248.45 1541.82 1253.16 1536.69 Q1257.91 1531.54 1265.93 1531.54 Q1273.12 1531.54 1277.29 1536.18 Q1281.49 1540.8 1281.49 1548.76 M1275.63 1547.04 Q1275.57 1542.23 1272.93 1539.37 Q1270.32 1536.5 1265.99 1536.5 Q1261.09 1536.5 1258.13 1539.27 Q1255.2 1542.04 1254.75 1547.07 L1275.63 1547.04 Z\" fill=\"#000000\" fill-rule=\"evenodd\" fill-opacity=\"1\" /><path clip-path=\"url(#clip190)\" d=\"M1291.1 1518.52 L1296.96 1518.52 L1296.96 1568.04 L1291.1 1568.04 L1291.1 1518.52 Z\" fill=\"#000000\" fill-rule=\"evenodd\" fill-opacity=\"1\" /><path clip-path=\"url(#clip190)\" d=\"M1309.21 1532.4 L1315.07 1532.4 L1315.07 1568.04 L1309.21 1568.04 L1309.21 1532.4 M1309.21 1518.52 L1315.07 1518.52 L1315.07 1525.93 L1309.21 1525.93 L1309.21 1518.52 Z\" fill=\"#000000\" fill-rule=\"evenodd\" fill-opacity=\"1\" /><path clip-path=\"url(#clip190)\" d=\"M1352.98 1533.76 L1352.98 1539.24 Q1350.49 1537.87 1347.98 1537.2 Q1345.5 1536.5 1342.95 1536.5 Q1337.25 1536.5 1334.1 1540.13 Q1330.95 1543.73 1330.95 1550.25 Q1330.95 1556.78 1334.1 1560.4 Q1337.25 1564 1342.95 1564 Q1345.5 1564 1347.98 1563.33 Q1350.49 1562.63 1352.98 1561.26 L1352.98 1566.68 Q1350.53 1567.82 1347.88 1568.39 Q1345.27 1568.97 1342.31 1568.97 Q1334.26 1568.97 1329.52 1563.91 Q1324.78 1558.85 1324.78 1550.25 Q1324.78 1541.53 1329.55 1536.53 Q1334.36 1531.54 1342.7 1531.54 Q1345.4 1531.54 1347.98 1532.11 Q1350.56 1532.65 1352.98 1533.76 Z\" fill=\"#000000\" fill-rule=\"evenodd\" fill-opacity=\"1\" /><path clip-path=\"url(#clip190)\" d=\"M1363.16 1532.4 L1369.02 1532.4 L1369.02 1568.04 L1363.16 1568.04 L1363.16 1532.4 M1363.16 1518.52 L1369.02 1518.52 L1369.02 1525.93 L1363.16 1525.93 L1363.16 1518.52 Z\" fill=\"#000000\" fill-rule=\"evenodd\" fill-opacity=\"1\" /><path clip-path=\"url(#clip190)\" d=\"M1387.07 1522.27 L1387.07 1532.4 L1399.13 1532.4 L1399.13 1536.95 L1387.07 1536.95 L1387.07 1556.3 Q1387.07 1560.66 1388.24 1561.9 Q1389.45 1563.14 1393.11 1563.14 L1399.13 1563.14 L1399.13 1568.04 L1393.11 1568.04 Q1386.33 1568.04 1383.76 1565.53 Q1381.18 1562.98 1381.18 1556.3 L1381.18 1536.95 L1376.88 1536.95 L1376.88 1532.4 L1381.18 1532.4 L1381.18 1522.27 L1387.07 1522.27 Z\" fill=\"#000000\" fill-rule=\"evenodd\" fill-opacity=\"1\" /><path clip-path=\"url(#clip190)\" d=\"M1437.32 1548.76 L1437.32 1551.62 L1410.4 1551.62 Q1410.78 1557.67 1414.02 1560.85 Q1417.3 1564 1423.13 1564 Q1426.5 1564 1429.65 1563.17 Q1432.84 1562.35 1435.95 1560.69 L1435.95 1566.23 Q1432.8 1567.57 1429.49 1568.27 Q1426.18 1568.97 1422.78 1568.97 Q1414.25 1568.97 1409.25 1564 Q1404.28 1559.04 1404.28 1550.57 Q1404.28 1541.82 1409 1536.69 Q1413.74 1531.54 1421.76 1531.54 Q1428.95 1531.54 1433.12 1536.18 Q1437.32 1540.8 1437.32 1548.76 M1431.47 1547.04 Q1431.4 1542.23 1428.76 1539.37 Q1426.15 1536.5 1421.82 1536.5 Q1416.92 1536.5 1413.96 1539.27 Q1411.03 1542.04 1410.59 1547.07 L1431.47 1547.04 Z\" fill=\"#000000\" fill-rule=\"evenodd\" fill-opacity=\"1\" /><path clip-path=\"url(#clip190)\" d=\"M1470.39 1537.81 L1470.39 1518.52 L1476.25 1518.52 L1476.25 1568.04 L1470.39 1568.04 L1470.39 1562.7 Q1468.55 1565.88 1465.71 1567.44 Q1462.91 1568.97 1458.97 1568.97 Q1452.51 1568.97 1448.43 1563.81 Q1444.39 1558.65 1444.39 1550.25 Q1444.39 1541.85 1448.43 1536.69 Q1452.51 1531.54 1458.97 1531.54 Q1462.91 1531.54 1465.71 1533.1 Q1468.55 1534.62 1470.39 1537.81 M1450.44 1550.25 Q1450.44 1556.71 1453.08 1560.4 Q1455.75 1564.07 1460.4 1564.07 Q1465.05 1564.07 1467.72 1560.4 Q1470.39 1556.71 1470.39 1550.25 Q1470.39 1543.79 1467.72 1540.13 Q1465.05 1536.44 1460.4 1536.44 Q1455.75 1536.44 1453.08 1540.13 Q1450.44 1543.79 1450.44 1550.25 Z\" fill=\"#000000\" fill-rule=\"evenodd\" fill-opacity=\"1\" /><path clip-path=\"url(#clip190)\" d=\"M1487.39 1518.58 L1492.48 1518.58 Q1497.26 1526.09 1499.61 1533.29 Q1502 1540.48 1502 1547.58 Q1502 1554.71 1499.61 1561.93 Q1497.26 1569.16 1492.48 1576.64 L1487.39 1576.64 Q1491.62 1569.35 1493.69 1562.16 Q1495.79 1554.93 1495.79 1547.58 Q1495.79 1540.23 1493.69 1533.06 Q1491.62 1525.9 1487.39 1518.58 Z\" fill=\"#000000\" fill-rule=\"evenodd\" fill-opacity=\"1\" /><polyline clip-path=\"url(#clip192)\" style=\"stroke:#000000; stroke-linecap:butt; stroke-linejoin:round; stroke-width:2; stroke-opacity:0.1; fill:none\" points=\"\n",
       "  262.551,1324.32 2352.76,1324.32 \n",
       "  \"/>\n",
       "<polyline clip-path=\"url(#clip192)\" style=\"stroke:#000000; stroke-linecap:butt; stroke-linejoin:round; stroke-width:2; stroke-opacity:0.1; fill:none\" points=\"\n",
       "  262.551,1077.62 2352.76,1077.62 \n",
       "  \"/>\n",
       "<polyline clip-path=\"url(#clip192)\" style=\"stroke:#000000; stroke-linecap:butt; stroke-linejoin:round; stroke-width:2; stroke-opacity:0.1; fill:none\" points=\"\n",
       "  262.551,830.924 2352.76,830.924 \n",
       "  \"/>\n",
       "<polyline clip-path=\"url(#clip192)\" style=\"stroke:#000000; stroke-linecap:butt; stroke-linejoin:round; stroke-width:2; stroke-opacity:0.1; fill:none\" points=\"\n",
       "  262.551,584.225 2352.76,584.225 \n",
       "  \"/>\n",
       "<polyline clip-path=\"url(#clip192)\" style=\"stroke:#000000; stroke-linecap:butt; stroke-linejoin:round; stroke-width:2; stroke-opacity:0.1; fill:none\" points=\"\n",
       "  262.551,337.526 2352.76,337.526 \n",
       "  \"/>\n",
       "<polyline clip-path=\"url(#clip190)\" style=\"stroke:#000000; stroke-linecap:butt; stroke-linejoin:round; stroke-width:4; stroke-opacity:1; fill:none\" points=\"\n",
       "  262.551,1423.18 262.551,123.472 \n",
       "  \"/>\n",
       "<polyline clip-path=\"url(#clip190)\" style=\"stroke:#000000; stroke-linecap:butt; stroke-linejoin:round; stroke-width:4; stroke-opacity:1; fill:none\" points=\"\n",
       "  262.551,1324.32 281.449,1324.32 \n",
       "  \"/>\n",
       "<polyline clip-path=\"url(#clip190)\" style=\"stroke:#000000; stroke-linecap:butt; stroke-linejoin:round; stroke-width:4; stroke-opacity:1; fill:none\" points=\"\n",
       "  262.551,1077.62 281.449,1077.62 \n",
       "  \"/>\n",
       "<polyline clip-path=\"url(#clip190)\" style=\"stroke:#000000; stroke-linecap:butt; stroke-linejoin:round; stroke-width:4; stroke-opacity:1; fill:none\" points=\"\n",
       "  262.551,830.924 281.449,830.924 \n",
       "  \"/>\n",
       "<polyline clip-path=\"url(#clip190)\" style=\"stroke:#000000; stroke-linecap:butt; stroke-linejoin:round; stroke-width:4; stroke-opacity:1; fill:none\" points=\"\n",
       "  262.551,584.225 281.449,584.225 \n",
       "  \"/>\n",
       "<polyline clip-path=\"url(#clip190)\" style=\"stroke:#000000; stroke-linecap:butt; stroke-linejoin:round; stroke-width:4; stroke-opacity:1; fill:none\" points=\"\n",
       "  262.551,337.526 281.449,337.526 \n",
       "  \"/>\n",
       "<path clip-path=\"url(#clip190)\" d=\"M144.422 1340.88 L144.422 1336.62 Q146.181 1337.46 147.987 1337.9 Q149.792 1338.34 151.528 1338.34 Q156.158 1338.34 158.589 1335.24 Q161.042 1332.11 161.39 1325.77 Q160.047 1327.76 157.987 1328.82 Q155.927 1329.89 153.427 1329.89 Q148.241 1329.89 145.209 1326.76 Q142.2 1323.62 142.2 1318.18 Q142.2 1312.85 145.348 1309.63 Q148.496 1306.42 153.728 1306.42 Q159.723 1306.42 162.871 1311.02 Q166.042 1315.61 166.042 1324.36 Q166.042 1332.53 162.153 1337.41 Q158.288 1342.27 151.737 1342.27 Q149.978 1342.27 148.172 1341.93 Q146.366 1341.58 144.422 1340.88 M153.728 1326.23 Q156.876 1326.23 158.704 1324.08 Q160.556 1321.93 160.556 1318.18 Q160.556 1314.45 158.704 1312.3 Q156.876 1310.12 153.728 1310.12 Q150.579 1310.12 148.728 1312.3 Q146.899 1314.45 146.899 1318.18 Q146.899 1321.93 148.728 1324.08 Q150.579 1326.23 153.728 1326.23 Z\" fill=\"#000000\" fill-rule=\"evenodd\" fill-opacity=\"1\" /><path clip-path=\"url(#clip190)\" d=\"M184.445 1310.12 Q180.834 1310.12 179.005 1313.69 Q177.2 1317.23 177.2 1324.36 Q177.2 1331.46 179.005 1335.03 Q180.834 1338.57 184.445 1338.57 Q188.079 1338.57 189.885 1335.03 Q191.713 1331.46 191.713 1324.36 Q191.713 1317.23 189.885 1313.69 Q188.079 1310.12 184.445 1310.12 M184.445 1306.42 Q190.255 1306.42 193.311 1311.02 Q196.389 1315.61 196.389 1324.36 Q196.389 1333.08 193.311 1337.69 Q190.255 1342.27 184.445 1342.27 Q178.635 1342.27 175.556 1337.69 Q172.501 1333.08 172.501 1324.36 Q172.501 1315.61 175.556 1311.02 Q178.635 1306.42 184.445 1306.42 Z\" fill=\"#000000\" fill-rule=\"evenodd\" fill-opacity=\"1\" /><path clip-path=\"url(#clip190)\" d=\"M214.607 1310.12 Q210.996 1310.12 209.167 1313.69 Q207.362 1317.23 207.362 1324.36 Q207.362 1331.46 209.167 1335.03 Q210.996 1338.57 214.607 1338.57 Q218.241 1338.57 220.047 1335.03 Q221.875 1331.46 221.875 1324.36 Q221.875 1317.23 220.047 1313.69 Q218.241 1310.12 214.607 1310.12 M214.607 1306.42 Q220.417 1306.42 223.473 1311.02 Q226.551 1315.61 226.551 1324.36 Q226.551 1333.08 223.473 1337.69 Q220.417 1342.27 214.607 1342.27 Q208.797 1342.27 205.718 1337.69 Q202.662 1333.08 202.662 1324.36 Q202.662 1315.61 205.718 1311.02 Q208.797 1306.42 214.607 1306.42 Z\" fill=\"#000000\" fill-rule=\"evenodd\" fill-opacity=\"1\" /><path clip-path=\"url(#clip190)\" d=\"M114.931 1090.97 L122.57 1090.97 L122.57 1064.6 L114.26 1066.27 L114.26 1062.01 L122.524 1060.34 L127.2 1060.34 L127.2 1090.97 L134.839 1090.97 L134.839 1094.9 L114.931 1094.9 L114.931 1090.97 Z\" fill=\"#000000\" fill-rule=\"evenodd\" fill-opacity=\"1\" /><path clip-path=\"url(#clip190)\" d=\"M154.283 1063.42 Q150.672 1063.42 148.843 1066.99 Q147.038 1070.53 147.038 1077.66 Q147.038 1084.76 148.843 1088.33 Q150.672 1091.87 154.283 1091.87 Q157.917 1091.87 159.723 1088.33 Q161.552 1084.76 161.552 1077.66 Q161.552 1070.53 159.723 1066.99 Q157.917 1063.42 154.283 1063.42 M154.283 1059.72 Q160.093 1059.72 163.149 1064.32 Q166.227 1068.91 166.227 1077.66 Q166.227 1086.38 163.149 1090.99 Q160.093 1095.57 154.283 1095.57 Q148.473 1095.57 145.394 1090.99 Q142.339 1086.38 142.339 1077.66 Q142.339 1068.91 145.394 1064.32 Q148.473 1059.72 154.283 1059.72 Z\" fill=\"#000000\" fill-rule=\"evenodd\" fill-opacity=\"1\" /><path clip-path=\"url(#clip190)\" d=\"M184.445 1063.42 Q180.834 1063.42 179.005 1066.99 Q177.2 1070.53 177.2 1077.66 Q177.2 1084.76 179.005 1088.33 Q180.834 1091.87 184.445 1091.87 Q188.079 1091.87 189.885 1088.33 Q191.713 1084.76 191.713 1077.66 Q191.713 1070.53 189.885 1066.99 Q188.079 1063.42 184.445 1063.42 M184.445 1059.72 Q190.255 1059.72 193.311 1064.32 Q196.389 1068.91 196.389 1077.66 Q196.389 1086.38 193.311 1090.99 Q190.255 1095.57 184.445 1095.57 Q178.635 1095.57 175.556 1090.99 Q172.501 1086.38 172.501 1077.66 Q172.501 1068.91 175.556 1064.32 Q178.635 1059.72 184.445 1059.72 Z\" fill=\"#000000\" fill-rule=\"evenodd\" fill-opacity=\"1\" /><path clip-path=\"url(#clip190)\" d=\"M214.607 1063.42 Q210.996 1063.42 209.167 1066.99 Q207.362 1070.53 207.362 1077.66 Q207.362 1084.76 209.167 1088.33 Q210.996 1091.87 214.607 1091.87 Q218.241 1091.87 220.047 1088.33 Q221.875 1084.76 221.875 1077.66 Q221.875 1070.53 220.047 1066.99 Q218.241 1063.42 214.607 1063.42 M214.607 1059.72 Q220.417 1059.72 223.473 1064.32 Q226.551 1068.91 226.551 1077.66 Q226.551 1086.38 223.473 1090.99 Q220.417 1095.57 214.607 1095.57 Q208.797 1095.57 205.718 1090.99 Q202.662 1086.38 202.662 1077.66 Q202.662 1068.91 205.718 1064.32 Q208.797 1059.72 214.607 1059.72 Z\" fill=\"#000000\" fill-rule=\"evenodd\" fill-opacity=\"1\" /><path clip-path=\"url(#clip190)\" d=\"M114.931 844.269 L122.57 844.269 L122.57 817.903 L114.26 819.57 L114.26 815.31 L122.524 813.644 L127.2 813.644 L127.2 844.269 L134.839 844.269 L134.839 848.204 L114.931 848.204 L114.931 844.269 Z\" fill=\"#000000\" fill-rule=\"evenodd\" fill-opacity=\"1\" /><path clip-path=\"url(#clip190)\" d=\"M145.093 844.269 L152.732 844.269 L152.732 817.903 L144.422 819.57 L144.422 815.31 L152.686 813.644 L157.362 813.644 L157.362 844.269 L165.001 844.269 L165.001 848.204 L145.093 848.204 L145.093 844.269 Z\" fill=\"#000000\" fill-rule=\"evenodd\" fill-opacity=\"1\" /><path clip-path=\"url(#clip190)\" d=\"M184.445 816.722 Q180.834 816.722 179.005 820.287 Q177.2 823.829 177.2 830.958 Q177.2 838.065 179.005 841.63 Q180.834 845.171 184.445 845.171 Q188.079 845.171 189.885 841.63 Q191.713 838.065 191.713 830.958 Q191.713 823.829 189.885 820.287 Q188.079 816.722 184.445 816.722 M184.445 813.019 Q190.255 813.019 193.311 817.625 Q196.389 822.209 196.389 830.958 Q196.389 839.685 193.311 844.292 Q190.255 848.875 184.445 848.875 Q178.635 848.875 175.556 844.292 Q172.501 839.685 172.501 830.958 Q172.501 822.209 175.556 817.625 Q178.635 813.019 184.445 813.019 Z\" fill=\"#000000\" fill-rule=\"evenodd\" fill-opacity=\"1\" /><path clip-path=\"url(#clip190)\" d=\"M214.607 816.722 Q210.996 816.722 209.167 820.287 Q207.362 823.829 207.362 830.958 Q207.362 838.065 209.167 841.63 Q210.996 845.171 214.607 845.171 Q218.241 845.171 220.047 841.63 Q221.875 838.065 221.875 830.958 Q221.875 823.829 220.047 820.287 Q218.241 816.722 214.607 816.722 M214.607 813.019 Q220.417 813.019 223.473 817.625 Q226.551 822.209 226.551 830.958 Q226.551 839.685 223.473 844.292 Q220.417 848.875 214.607 848.875 Q208.797 848.875 205.718 844.292 Q202.662 839.685 202.662 830.958 Q202.662 822.209 205.718 817.625 Q208.797 813.019 214.607 813.019 Z\" fill=\"#000000\" fill-rule=\"evenodd\" fill-opacity=\"1\" /><path clip-path=\"url(#clip190)\" d=\"M114.931 597.57 L122.57 597.57 L122.57 571.204 L114.26 572.871 L114.26 568.611 L122.524 566.945 L127.2 566.945 L127.2 597.57 L134.839 597.57 L134.839 601.505 L114.931 601.505 L114.931 597.57 Z\" fill=\"#000000\" fill-rule=\"evenodd\" fill-opacity=\"1\" /><path clip-path=\"url(#clip190)\" d=\"M148.311 597.57 L164.63 597.57 L164.63 601.505 L142.686 601.505 L142.686 597.57 Q145.348 594.815 149.931 590.185 Q154.538 585.533 155.718 584.19 Q157.964 581.667 158.843 579.931 Q159.746 578.172 159.746 576.482 Q159.746 573.727 157.802 571.991 Q155.88 570.255 152.778 570.255 Q150.579 570.255 148.126 571.019 Q145.695 571.783 142.917 573.334 L142.917 568.611 Q145.741 567.477 148.195 566.898 Q150.649 566.32 152.686 566.32 Q158.056 566.32 161.251 569.005 Q164.445 571.69 164.445 576.181 Q164.445 578.31 163.635 580.232 Q162.848 582.13 160.741 584.722 Q160.163 585.394 157.061 588.611 Q153.959 591.806 148.311 597.57 Z\" fill=\"#000000\" fill-rule=\"evenodd\" fill-opacity=\"1\" /><path clip-path=\"url(#clip190)\" d=\"M184.445 570.023 Q180.834 570.023 179.005 573.588 Q177.2 577.13 177.2 584.259 Q177.2 591.366 179.005 594.931 Q180.834 598.472 184.445 598.472 Q188.079 598.472 189.885 594.931 Q191.713 591.366 191.713 584.259 Q191.713 577.13 189.885 573.588 Q188.079 570.023 184.445 570.023 M184.445 566.32 Q190.255 566.32 193.311 570.926 Q196.389 575.51 196.389 584.259 Q196.389 592.986 193.311 597.593 Q190.255 602.176 184.445 602.176 Q178.635 602.176 175.556 597.593 Q172.501 592.986 172.501 584.259 Q172.501 575.51 175.556 570.926 Q178.635 566.32 184.445 566.32 Z\" fill=\"#000000\" fill-rule=\"evenodd\" fill-opacity=\"1\" /><path clip-path=\"url(#clip190)\" d=\"M214.607 570.023 Q210.996 570.023 209.167 573.588 Q207.362 577.13 207.362 584.259 Q207.362 591.366 209.167 594.931 Q210.996 598.472 214.607 598.472 Q218.241 598.472 220.047 594.931 Q221.875 591.366 221.875 584.259 Q221.875 577.13 220.047 573.588 Q218.241 570.023 214.607 570.023 M214.607 566.32 Q220.417 566.32 223.473 570.926 Q226.551 575.51 226.551 584.259 Q226.551 592.986 223.473 597.593 Q220.417 602.176 214.607 602.176 Q208.797 602.176 205.718 597.593 Q202.662 592.986 202.662 584.259 Q202.662 575.51 205.718 570.926 Q208.797 566.32 214.607 566.32 Z\" fill=\"#000000\" fill-rule=\"evenodd\" fill-opacity=\"1\" /><path clip-path=\"url(#clip190)\" d=\"M114.931 350.871 L122.57 350.871 L122.57 324.505 L114.26 326.172 L114.26 321.912 L122.524 320.246 L127.2 320.246 L127.2 350.871 L134.839 350.871 L134.839 354.806 L114.931 354.806 L114.931 350.871 Z\" fill=\"#000000\" fill-rule=\"evenodd\" fill-opacity=\"1\" /><path clip-path=\"url(#clip190)\" d=\"M158.45 336.172 Q161.806 336.889 163.681 339.158 Q165.579 341.426 165.579 344.759 Q165.579 349.875 162.061 352.676 Q158.542 355.477 152.061 355.477 Q149.885 355.477 147.57 355.037 Q145.279 354.621 142.825 353.764 L142.825 349.25 Q144.769 350.384 147.084 350.963 Q149.399 351.542 151.922 351.542 Q156.32 351.542 158.612 349.806 Q160.927 348.07 160.927 344.759 Q160.927 341.704 158.774 339.991 Q156.644 338.255 152.825 338.255 L148.797 338.255 L148.797 334.412 L153.01 334.412 Q156.459 334.412 158.288 333.047 Q160.116 331.658 160.116 329.065 Q160.116 326.403 158.218 324.991 Q156.343 323.556 152.825 323.556 Q150.903 323.556 148.704 323.973 Q146.505 324.389 143.866 325.269 L143.866 321.102 Q146.529 320.361 148.843 319.991 Q151.181 319.621 153.241 319.621 Q158.565 319.621 161.667 322.051 Q164.769 324.459 164.769 328.579 Q164.769 331.449 163.126 333.44 Q161.482 335.408 158.45 336.172 Z\" fill=\"#000000\" fill-rule=\"evenodd\" fill-opacity=\"1\" /><path clip-path=\"url(#clip190)\" d=\"M184.445 323.324 Q180.834 323.324 179.005 326.889 Q177.2 330.431 177.2 337.56 Q177.2 344.667 179.005 348.232 Q180.834 351.773 184.445 351.773 Q188.079 351.773 189.885 348.232 Q191.713 344.667 191.713 337.56 Q191.713 330.431 189.885 326.889 Q188.079 323.324 184.445 323.324 M184.445 319.621 Q190.255 319.621 193.311 324.227 Q196.389 328.81 196.389 337.56 Q196.389 346.287 193.311 350.894 Q190.255 355.477 184.445 355.477 Q178.635 355.477 175.556 350.894 Q172.501 346.287 172.501 337.56 Q172.501 328.81 175.556 324.227 Q178.635 319.621 184.445 319.621 Z\" fill=\"#000000\" fill-rule=\"evenodd\" fill-opacity=\"1\" /><path clip-path=\"url(#clip190)\" d=\"M214.607 323.324 Q210.996 323.324 209.167 326.889 Q207.362 330.431 207.362 337.56 Q207.362 344.667 209.167 348.232 Q210.996 351.773 214.607 351.773 Q218.241 351.773 220.047 348.232 Q221.875 344.667 221.875 337.56 Q221.875 330.431 220.047 326.889 Q218.241 323.324 214.607 323.324 M214.607 319.621 Q220.417 319.621 223.473 324.227 Q226.551 328.81 226.551 337.56 Q226.551 346.287 223.473 350.894 Q220.417 355.477 214.607 355.477 Q208.797 355.477 205.718 350.894 Q202.662 346.287 202.662 337.56 Q202.662 328.81 205.718 324.227 Q208.797 319.621 214.607 319.621 Z\" fill=\"#000000\" fill-rule=\"evenodd\" fill-opacity=\"1\" /><path clip-path=\"url(#clip190)\" d=\"M21.7677 882.355 L58.7206 882.355 L58.7206 874.588 Q58.7206 864.753 54.2646 860.202 Q49.8086 855.619 40.1964 855.619 Q30.6479 855.619 26.2237 860.202 Q21.7677 864.753 21.7677 874.588 L21.7677 882.355 M16.4842 888.784 L16.4842 875.575 Q16.4842 861.762 22.2451 855.3 Q27.9743 848.839 40.1964 848.839 Q52.4822 848.839 58.2432 855.332 Q64.0042 861.825 64.0042 875.575 L64.0042 888.784 L16.4842 888.784 Z\" fill=\"#000000\" fill-rule=\"evenodd\" fill-opacity=\"1\" /><path clip-path=\"url(#clip190)\" d=\"M16.4842 845.179 L16.4842 804.979 L21.895 804.979 L21.895 821.849 L64.0042 821.849 L64.0042 828.31 L21.895 828.31 L21.895 845.179 L16.4842 845.179 Z\" fill=\"#000000\" fill-rule=\"evenodd\" fill-opacity=\"1\" /><path clip-path=\"url(#clip190)\" d=\"M14.5426 784.959 Q21.8632 789.224 29.0246 791.293 Q36.186 793.362 43.5384 793.362 Q50.8908 793.362 58.1159 791.293 Q65.3091 789.193 72.5979 784.959 L72.5979 790.052 Q65.1182 794.826 57.8931 797.213 Q50.668 799.569 43.5384 799.569 Q36.4406 799.569 29.2474 797.213 Q22.0542 794.858 14.5426 790.052 L14.5426 784.959 Z\" fill=\"#000000\" fill-rule=\"evenodd\" fill-opacity=\"1\" /><path clip-path=\"url(#clip190)\" d=\"M46.0847 757.396 Q46.0847 764.494 47.7079 767.231 Q49.3312 769.968 53.2461 769.968 Q56.3653 769.968 58.2114 767.931 Q60.0256 765.862 60.0256 762.329 Q60.0256 757.459 56.5881 754.531 Q53.1188 751.571 47.3897 751.571 L46.0847 751.571 L46.0847 757.396 M43.6657 745.715 L64.0042 745.715 L64.0042 751.571 L58.5933 751.571 Q61.8398 753.576 63.3994 756.568 Q64.9272 759.56 64.9272 763.889 Q64.9272 769.363 61.8716 772.61 Q58.7843 775.825 53.6281 775.825 Q47.6125 775.825 44.5569 771.814 Q41.5014 767.772 41.5014 759.783 L41.5014 751.571 L40.9285 751.571 Q36.8862 751.571 34.6901 754.245 Q32.4621 756.887 32.4621 761.693 Q32.4621 764.748 33.1941 767.645 Q33.9262 770.541 35.3903 773.215 L29.9795 773.215 Q28.7381 770 28.1334 766.976 Q27.4968 763.952 27.4968 761.088 Q27.4968 753.354 31.5072 749.534 Q35.5176 745.715 43.6657 745.715 Z\" fill=\"#000000\" fill-rule=\"evenodd\" fill-opacity=\"1\" /><path clip-path=\"url(#clip190)\" d=\"M55.9197 732.156 L55.9197 725.44 L61.3942 725.44 L71.5793 730.66 L71.5793 734.766 L61.3942 732.156 L55.9197 732.156 Z\" fill=\"#000000\" fill-rule=\"evenodd\" fill-opacity=\"1\" /><path clip-path=\"url(#clip190)\" d=\"M46.212 687.341 Q39.7508 687.341 36.0905 690.015 Q32.3984 692.657 32.3984 697.304 Q32.3984 701.95 36.0905 704.624 Q39.7508 707.266 46.212 707.266 Q52.6732 707.266 56.3653 704.624 Q60.0256 701.95 60.0256 697.304 Q60.0256 692.657 56.3653 690.015 Q52.6732 687.341 46.212 687.341 M33.7671 707.266 Q30.5842 705.42 29.0564 702.619 Q27.4968 699.786 27.4968 695.871 Q27.4968 689.378 32.6531 685.336 Q37.8093 681.262 46.212 681.262 Q54.6147 681.262 59.771 685.336 Q64.9272 689.378 64.9272 695.871 Q64.9272 699.786 63.3994 702.619 Q61.8398 705.42 58.657 707.266 L64.0042 707.266 L64.0042 713.154 L14.479 713.154 L14.479 707.266 L33.7671 707.266 Z\" fill=\"#000000\" fill-rule=\"evenodd\" fill-opacity=\"1\" /><path clip-path=\"url(#clip190)\" d=\"M14.5426 672.477 L14.5426 667.385 Q22.0542 662.61 29.2474 660.255 Q36.4406 657.868 43.5384 657.868 Q50.668 657.868 57.8931 660.255 Q65.1182 662.61 72.5979 667.385 L72.5979 672.477 Q65.3091 668.244 58.1159 666.175 Q50.8908 664.075 43.5384 664.075 Q36.186 664.075 29.0246 666.175 Q21.8632 668.244 14.5426 672.477 Z\" fill=\"#000000\" fill-rule=\"evenodd\" fill-opacity=\"1\" /><path clip-path=\"url(#clip190)\" d=\"M426.825 12.096 L435.089 12.096 L447.809 63.2184 L460.488 12.096 L469.684 12.096 L482.403 63.2184 L495.083 12.096 L503.387 12.096 L488.196 72.576 L477.907 72.576 L465.147 20.0763 L452.265 72.576 L441.975 72.576 L426.825 12.096 Z\" fill=\"#000000\" fill-rule=\"evenodd\" fill-opacity=\"1\" /><path clip-path=\"url(#clip190)\" d=\"M529.232 49.7694 Q520.198 49.7694 516.715 51.8354 Q513.231 53.9013 513.231 58.8839 Q513.231 62.8538 515.823 65.2034 Q518.456 67.5124 522.953 67.5124 Q529.151 67.5124 532.878 63.1374 Q536.645 58.7219 536.645 51.4303 L536.645 49.7694 L529.232 49.7694 M544.099 46.6907 L544.099 72.576 L536.645 72.576 L536.645 65.6895 Q534.093 69.8214 530.285 71.8063 Q526.477 73.7508 520.968 73.7508 Q514 73.7508 509.868 69.8619 Q505.777 65.9325 505.777 59.3701 Q505.777 51.7138 510.881 47.825 Q516.026 43.9361 526.194 43.9361 L536.645 43.9361 L536.645 43.2069 Q536.645 38.0623 533.242 35.2672 Q529.88 32.4315 523.763 32.4315 Q519.874 32.4315 516.188 33.3632 Q512.502 34.295 509.099 36.1584 L509.099 29.2718 Q513.19 27.692 517.039 26.9223 Q520.887 26.1121 524.533 26.1121 Q534.376 26.1121 539.238 31.2163 Q544.099 36.3204 544.099 46.6907 Z\" fill=\"#000000\" fill-rule=\"evenodd\" fill-opacity=\"1\" /><path clip-path=\"url(#clip190)\" d=\"M554.104 27.2059 L562.004 27.2059 L576.182 65.2844 L590.36 27.2059 L598.259 27.2059 L581.245 72.576 L571.118 72.576 L554.104 27.2059 Z\" fill=\"#000000\" fill-rule=\"evenodd\" fill-opacity=\"1\" /><path clip-path=\"url(#clip190)\" d=\"M647.356 48.0275 L647.356 51.6733 L613.086 51.6733 Q613.572 59.3701 617.704 63.421 Q621.876 67.4314 629.289 67.4314 Q633.583 67.4314 637.593 66.3781 Q641.644 65.3249 645.614 63.2184 L645.614 70.267 Q641.604 71.9684 637.391 72.8596 Q633.178 73.7508 628.844 73.7508 Q617.987 73.7508 611.627 67.4314 Q605.308 61.1119 605.308 50.3365 Q605.308 39.1965 611.303 32.6746 Q617.339 26.1121 627.547 26.1121 Q636.702 26.1121 642.009 32.0264 Q647.356 37.9003 647.356 48.0275 M639.903 45.84 Q639.821 39.7232 636.459 36.0774 Q633.138 32.4315 627.628 32.4315 Q621.39 32.4315 617.623 35.9558 Q613.896 39.4801 613.329 45.8805 L639.903 45.84 Z\" fill=\"#000000\" fill-rule=\"evenodd\" fill-opacity=\"1\" /><path clip-path=\"url(#clip190)\" d=\"M659.59 9.54393 L667.044 9.54393 L667.044 72.576 L659.59 72.576 L659.59 9.54393 Z\" fill=\"#000000\" fill-rule=\"evenodd\" fill-opacity=\"1\" /><path clip-path=\"url(#clip190)\" d=\"M721.447 48.0275 L721.447 51.6733 L687.177 51.6733 Q687.663 59.3701 691.795 63.421 Q695.967 67.4314 703.38 67.4314 Q707.674 67.4314 711.685 66.3781 Q715.735 65.3249 719.705 63.2184 L719.705 70.267 Q715.695 71.9684 711.482 72.8596 Q707.269 73.7508 702.935 73.7508 Q692.078 73.7508 685.718 67.4314 Q679.399 61.1119 679.399 50.3365 Q679.399 39.1965 685.394 32.6746 Q691.43 26.1121 701.638 26.1121 Q710.793 26.1121 716.1 32.0264 Q721.447 37.9003 721.447 48.0275 M713.994 45.84 Q713.913 39.7232 710.55 36.0774 Q707.229 32.4315 701.719 32.4315 Q695.481 32.4315 691.714 35.9558 Q687.987 39.4801 687.42 45.8805 L713.994 45.84 Z\" fill=\"#000000\" fill-rule=\"evenodd\" fill-opacity=\"1\" /><path clip-path=\"url(#clip190)\" d=\"M741.054 14.324 L741.054 27.2059 L756.407 27.2059 L756.407 32.9987 L741.054 32.9987 L741.054 57.6282 Q741.054 63.1779 742.552 64.7578 Q744.092 66.3376 748.75 66.3376 L756.407 66.3376 L756.407 72.576 L748.75 72.576 Q740.122 72.576 736.841 69.3758 Q733.559 66.1351 733.559 57.6282 L733.559 32.9987 L728.091 32.9987 L728.091 27.2059 L733.559 27.2059 L733.559 14.324 L741.054 14.324 Z\" fill=\"#000000\" fill-rule=\"evenodd\" fill-opacity=\"1\" /><path clip-path=\"url(#clip190)\" d=\"M831.389 48.0275 L831.389 51.6733 L797.118 51.6733 Q797.604 59.3701 801.736 63.421 Q805.909 67.4314 813.322 67.4314 Q817.616 67.4314 821.626 66.3781 Q825.677 65.3249 829.647 63.2184 L829.647 70.267 Q825.636 71.9684 821.424 72.8596 Q817.211 73.7508 812.876 73.7508 Q802.02 73.7508 795.66 67.4314 Q789.34 61.1119 789.34 50.3365 Q789.34 39.1965 795.336 32.6746 Q801.372 26.1121 811.58 26.1121 Q820.735 26.1121 826.042 32.0264 Q831.389 37.9003 831.389 48.0275 M823.935 45.84 Q823.854 39.7232 820.492 36.0774 Q817.17 32.4315 811.661 32.4315 Q805.422 32.4315 801.655 35.9558 Q797.928 39.4801 797.361 45.8805 L823.935 45.84 Z\" fill=\"#000000\" fill-rule=\"evenodd\" fill-opacity=\"1\" /><path clip-path=\"url(#clip190)\" d=\"M872.546 28.5427 L872.546 35.5912 Q869.386 33.9709 865.983 33.1607 Q862.581 32.3505 858.935 32.3505 Q853.385 32.3505 850.59 34.0519 Q847.835 35.7533 847.835 39.156 Q847.835 41.7486 849.82 43.2475 Q851.805 44.7058 857.801 46.0426 L860.353 46.6097 Q868.292 48.3111 871.614 51.4303 Q874.976 54.509 874.976 60.0587 Q874.976 66.3781 869.953 70.0644 Q864.971 73.7508 856.221 73.7508 Q852.575 73.7508 848.605 73.0216 Q844.676 72.3329 840.301 70.9151 L840.301 63.2184 Q844.433 65.3654 848.443 66.4591 Q852.453 67.5124 856.383 67.5124 Q861.649 67.5124 864.485 65.73 Q867.32 63.9071 867.32 60.6258 Q867.32 57.5877 865.254 55.9673 Q863.229 54.3469 856.302 52.8481 L853.709 52.2405 Q846.782 50.7821 843.704 47.7845 Q840.625 44.7463 840.625 39.4801 Q840.625 33.0797 845.162 29.5959 Q849.699 26.1121 858.044 26.1121 Q862.176 26.1121 865.821 26.7198 Q869.467 27.3274 872.546 28.5427 Z\" fill=\"#000000\" fill-rule=\"evenodd\" fill-opacity=\"1\" /><path clip-path=\"url(#clip190)\" d=\"M894.218 14.324 L894.218 27.2059 L909.571 27.2059 L909.571 32.9987 L894.218 32.9987 L894.218 57.6282 Q894.218 63.1779 895.717 64.7578 Q897.256 66.3376 901.915 66.3376 L909.571 66.3376 L909.571 72.576 L901.915 72.576 Q893.287 72.576 890.005 69.3758 Q886.724 66.1351 886.724 57.6282 L886.724 32.9987 L881.255 32.9987 L881.255 27.2059 L886.724 27.2059 L886.724 14.324 L894.218 14.324 Z\" fill=\"#000000\" fill-rule=\"evenodd\" fill-opacity=\"1\" /><path clip-path=\"url(#clip190)\" d=\"M919.374 27.2059 L926.828 27.2059 L926.828 72.576 L919.374 72.576 L919.374 27.2059 M919.374 9.54393 L926.828 9.54393 L926.828 18.9825 L919.374 18.9825 L919.374 9.54393 Z\" fill=\"#000000\" fill-rule=\"evenodd\" fill-opacity=\"1\" /><path clip-path=\"url(#clip190)\" d=\"M977.748 35.9153 Q980.543 30.8922 984.432 28.5022 Q988.321 26.1121 993.587 26.1121 Q1000.68 26.1121 1004.52 31.0947 Q1008.37 36.0368 1008.37 45.1919 L1008.37 72.576 L1000.88 72.576 L1000.88 45.4349 Q1000.88 38.913 998.57 35.7533 Q996.261 32.5936 991.521 32.5936 Q985.728 32.5936 982.366 36.4419 Q979.004 40.2903 979.004 46.9338 L979.004 72.576 L971.51 72.576 L971.51 45.4349 Q971.51 38.8725 969.201 35.7533 Q966.892 32.5936 962.071 32.5936 Q956.359 32.5936 952.997 36.4824 Q949.635 40.3308 949.635 46.9338 L949.635 72.576 L942.14 72.576 L942.14 27.2059 L949.635 27.2059 L949.635 34.2544 Q952.187 30.082 955.752 28.0971 Q959.316 26.1121 964.218 26.1121 Q969.16 26.1121 972.603 28.6237 Q976.087 31.1352 977.748 35.9153 Z\" fill=\"#000000\" fill-rule=\"evenodd\" fill-opacity=\"1\" /><path clip-path=\"url(#clip190)\" d=\"M1043.86 49.7694 Q1034.83 49.7694 1031.34 51.8354 Q1027.86 53.9013 1027.86 58.8839 Q1027.86 62.8538 1030.45 65.2034 Q1033.08 67.5124 1037.58 67.5124 Q1043.78 67.5124 1047.5 63.1374 Q1051.27 58.7219 1051.27 51.4303 L1051.27 49.7694 L1043.86 49.7694 M1058.73 46.6907 L1058.73 72.576 L1051.27 72.576 L1051.27 65.6895 Q1048.72 69.8214 1044.91 71.8063 Q1041.1 73.7508 1035.59 73.7508 Q1028.63 73.7508 1024.5 69.8619 Q1020.4 65.9325 1020.4 59.3701 Q1020.4 51.7138 1025.51 47.825 Q1030.65 43.9361 1040.82 43.9361 L1051.27 43.9361 L1051.27 43.2069 Q1051.27 38.0623 1047.87 35.2672 Q1044.51 32.4315 1038.39 32.4315 Q1034.5 32.4315 1030.81 33.3632 Q1027.13 34.295 1023.73 36.1584 L1023.73 29.2718 Q1027.82 27.692 1031.67 26.9223 Q1035.51 26.1121 1039.16 26.1121 Q1049 26.1121 1053.86 31.2163 Q1058.73 36.3204 1058.73 46.6907 Z\" fill=\"#000000\" fill-rule=\"evenodd\" fill-opacity=\"1\" /><path clip-path=\"url(#clip190)\" d=\"M1081.45 14.324 L1081.45 27.2059 L1096.8 27.2059 L1096.8 32.9987 L1081.45 32.9987 L1081.45 57.6282 Q1081.45 63.1779 1082.95 64.7578 Q1084.49 66.3376 1089.15 66.3376 L1096.8 66.3376 L1096.8 72.576 L1089.15 72.576 Q1080.52 72.576 1077.24 69.3758 Q1073.96 66.1351 1073.96 57.6282 L1073.96 32.9987 L1068.49 32.9987 L1068.49 27.2059 L1073.96 27.2059 L1073.96 14.324 L1081.45 14.324 Z\" fill=\"#000000\" fill-rule=\"evenodd\" fill-opacity=\"1\" /><path clip-path=\"url(#clip190)\" d=\"M1124.19 32.4315 Q1118.19 32.4315 1114.71 37.1306 Q1111.23 41.7891 1111.23 49.9314 Q1111.23 58.0738 1114.67 62.7728 Q1118.15 67.4314 1124.19 67.4314 Q1130.14 67.4314 1133.63 62.7323 Q1137.11 58.0333 1137.11 49.9314 Q1137.11 41.8701 1133.63 37.1711 Q1130.14 32.4315 1124.19 32.4315 M1124.19 26.1121 Q1133.91 26.1121 1139.46 32.4315 Q1145.01 38.7509 1145.01 49.9314 Q1145.01 61.0714 1139.46 67.4314 Q1133.91 73.7508 1124.19 73.7508 Q1114.43 73.7508 1108.88 67.4314 Q1103.37 61.0714 1103.37 49.9314 Q1103.37 38.7509 1108.88 32.4315 Q1114.43 26.1121 1124.19 26.1121 Z\" fill=\"#000000\" fill-rule=\"evenodd\" fill-opacity=\"1\" /><path clip-path=\"url(#clip190)\" d=\"M1183.66 34.1734 Q1182.4 33.4443 1180.9 33.1202 Q1179.44 32.7556 1177.66 32.7556 Q1171.34 32.7556 1167.94 36.8875 Q1164.58 40.9789 1164.58 48.6757 L1164.58 72.576 L1157.08 72.576 L1157.08 27.2059 L1164.58 27.2059 L1164.58 34.2544 Q1166.93 30.1225 1170.69 28.1376 Q1174.46 26.1121 1179.85 26.1121 Q1180.62 26.1121 1181.55 26.2337 Q1182.48 26.3147 1183.61 26.5172 L1183.66 34.1734 Z\" fill=\"#000000\" fill-rule=\"evenodd\" fill-opacity=\"1\" /><path clip-path=\"url(#clip190)\" d=\"M1238.46 49.7694 Q1229.43 49.7694 1225.95 51.8354 Q1222.46 53.9013 1222.46 58.8839 Q1222.46 62.8538 1225.06 65.2034 Q1227.69 67.5124 1232.19 67.5124 Q1238.38 67.5124 1242.11 63.1374 Q1245.88 58.7219 1245.88 51.4303 L1245.88 49.7694 L1238.46 49.7694 M1253.33 46.6907 L1253.33 72.576 L1245.88 72.576 L1245.88 65.6895 Q1243.33 69.8214 1239.52 71.8063 Q1235.71 73.7508 1230.2 73.7508 Q1223.23 73.7508 1219.1 69.8619 Q1215.01 65.9325 1215.01 59.3701 Q1215.01 51.7138 1220.11 47.825 Q1225.26 43.9361 1235.43 43.9361 L1245.88 43.9361 L1245.88 43.2069 Q1245.88 38.0623 1242.47 35.2672 Q1239.11 32.4315 1233 32.4315 Q1229.11 32.4315 1225.42 33.3632 Q1221.73 34.295 1218.33 36.1584 L1218.33 29.2718 Q1222.42 27.692 1226.27 26.9223 Q1230.12 26.1121 1233.77 26.1121 Q1243.61 26.1121 1248.47 31.2163 Q1253.33 36.3204 1253.33 46.6907 Z\" fill=\"#000000\" fill-rule=\"evenodd\" fill-opacity=\"1\" /><path clip-path=\"url(#clip190)\" d=\"M1306.4 45.1919 L1306.4 72.576 L1298.94 72.576 L1298.94 45.4349 Q1298.94 38.994 1296.43 35.7938 Q1293.92 32.5936 1288.9 32.5936 Q1282.86 32.5936 1279.38 36.4419 Q1275.89 40.2903 1275.89 46.9338 L1275.89 72.576 L1268.4 72.576 L1268.4 27.2059 L1275.89 27.2059 L1275.89 34.2544 Q1278.57 30.163 1282.17 28.1376 Q1285.82 26.1121 1290.56 26.1121 Q1298.38 26.1121 1302.39 30.9732 Q1306.4 35.7938 1306.4 45.1919 Z\" fill=\"#000000\" fill-rule=\"evenodd\" fill-opacity=\"1\" /><path clip-path=\"url(#clip190)\" d=\"M1351.12 34.0924 L1351.12 9.54393 L1358.57 9.54393 L1358.57 72.576 L1351.12 72.576 L1351.12 65.7705 Q1348.77 69.8214 1345.16 71.8063 Q1341.6 73.7508 1336.58 73.7508 Q1328.35 73.7508 1323.17 67.1883 Q1318.02 60.6258 1318.02 49.9314 Q1318.02 39.2371 1323.17 32.6746 Q1328.35 26.1121 1336.58 26.1121 Q1341.6 26.1121 1345.16 28.0971 Q1348.77 30.0415 1351.12 34.0924 M1325.72 49.9314 Q1325.72 58.1548 1329.08 62.8538 Q1332.49 67.5124 1338.4 67.5124 Q1344.31 67.5124 1347.72 62.8538 Q1351.12 58.1548 1351.12 49.9314 Q1351.12 41.7081 1347.72 37.0496 Q1344.31 32.3505 1338.4 32.3505 Q1332.49 32.3505 1329.08 37.0496 Q1325.72 41.7081 1325.72 49.9314 Z\" fill=\"#000000\" fill-rule=\"evenodd\" fill-opacity=\"1\" /><path clip-path=\"url(#clip190)\" d=\"M1439.11 48.0275 L1439.11 51.6733 L1404.83 51.6733 Q1405.32 59.3701 1409.45 63.421 Q1413.63 67.4314 1421.04 67.4314 Q1425.33 67.4314 1429.34 66.3781 Q1433.39 65.3249 1437.36 63.2184 L1437.36 70.267 Q1433.35 71.9684 1429.14 72.8596 Q1424.93 73.7508 1420.59 73.7508 Q1409.74 73.7508 1403.38 67.4314 Q1397.06 61.1119 1397.06 50.3365 Q1397.06 39.1965 1403.05 32.6746 Q1409.09 26.1121 1419.3 26.1121 Q1428.45 26.1121 1433.76 32.0264 Q1439.11 37.9003 1439.11 48.0275 M1431.65 45.84 Q1431.57 39.7232 1428.21 36.0774 Q1424.89 32.4315 1419.38 32.4315 Q1413.14 32.4315 1409.37 35.9558 Q1405.64 39.4801 1405.08 45.8805 L1431.65 45.84 Z\" fill=\"#000000\" fill-rule=\"evenodd\" fill-opacity=\"1\" /><path clip-path=\"url(#clip190)\" d=\"M1486.66 35.9153 Q1489.46 30.8922 1493.35 28.5022 Q1497.24 26.1121 1502.5 26.1121 Q1509.59 26.1121 1513.44 31.0947 Q1517.29 36.0368 1517.29 45.1919 L1517.29 72.576 L1509.79 72.576 L1509.79 45.4349 Q1509.79 38.913 1507.48 35.7533 Q1505.18 32.5936 1500.44 32.5936 Q1494.64 32.5936 1491.28 36.4419 Q1487.92 40.2903 1487.92 46.9338 L1487.92 72.576 L1480.42 72.576 L1480.42 45.4349 Q1480.42 38.8725 1478.12 35.7533 Q1475.81 32.5936 1470.99 32.5936 Q1465.27 32.5936 1461.91 36.4824 Q1458.55 40.3308 1458.55 46.9338 L1458.55 72.576 L1451.06 72.576 L1451.06 27.2059 L1458.55 27.2059 L1458.55 34.2544 Q1461.1 30.082 1464.67 28.0971 Q1468.23 26.1121 1473.13 26.1121 Q1478.08 26.1121 1481.52 28.6237 Q1485 31.1352 1486.66 35.9153 Z\" fill=\"#000000\" fill-rule=\"evenodd\" fill-opacity=\"1\" /><path clip-path=\"url(#clip190)\" d=\"M1539.37 65.7705 L1539.37 89.8329 L1531.87 89.8329 L1531.87 27.2059 L1539.37 27.2059 L1539.37 34.0924 Q1541.71 30.0415 1545.28 28.0971 Q1548.88 26.1121 1553.87 26.1121 Q1562.13 26.1121 1567.28 32.6746 Q1572.46 39.2371 1572.46 49.9314 Q1572.46 60.6258 1567.28 67.1883 Q1562.13 73.7508 1553.87 73.7508 Q1548.88 73.7508 1545.28 71.8063 Q1541.71 69.8214 1539.37 65.7705 M1564.72 49.9314 Q1564.72 41.7081 1561.32 37.0496 Q1557.96 32.3505 1552.04 32.3505 Q1546.13 32.3505 1542.73 37.0496 Q1539.37 41.7081 1539.37 49.9314 Q1539.37 58.1548 1542.73 62.8538 Q1546.13 67.5124 1552.04 67.5124 Q1557.96 67.5124 1561.32 62.8538 Q1564.72 58.1548 1564.72 49.9314 Z\" fill=\"#000000\" fill-rule=\"evenodd\" fill-opacity=\"1\" /><path clip-path=\"url(#clip190)\" d=\"M1584.82 27.2059 L1592.27 27.2059 L1592.27 72.576 L1584.82 72.576 L1584.82 27.2059 M1584.82 9.54393 L1592.27 9.54393 L1592.27 18.9825 L1584.82 18.9825 L1584.82 9.54393 Z\" fill=\"#000000\" fill-rule=\"evenodd\" fill-opacity=\"1\" /><path clip-path=\"url(#clip190)\" d=\"M1634.16 34.1734 Q1632.9 33.4443 1631.4 33.1202 Q1629.94 32.7556 1628.16 32.7556 Q1621.84 32.7556 1618.44 36.8875 Q1615.08 40.9789 1615.08 48.6757 L1615.08 72.576 L1607.58 72.576 L1607.58 27.2059 L1615.08 27.2059 L1615.08 34.2544 Q1617.43 30.1225 1621.19 28.1376 Q1624.96 26.1121 1630.35 26.1121 Q1631.12 26.1121 1632.05 26.2337 Q1632.98 26.3147 1634.12 26.5172 L1634.16 34.1734 Z\" fill=\"#000000\" fill-rule=\"evenodd\" fill-opacity=\"1\" /><path clip-path=\"url(#clip190)\" d=\"M1641.97 27.2059 L1649.43 27.2059 L1649.43 72.576 L1641.97 72.576 L1641.97 27.2059 M1641.97 9.54393 L1649.43 9.54393 L1649.43 18.9825 L1641.97 18.9825 L1641.97 9.54393 Z\" fill=\"#000000\" fill-rule=\"evenodd\" fill-opacity=\"1\" /><path clip-path=\"url(#clip190)\" d=\"M1697.67 28.9478 L1697.67 35.9153 Q1694.51 34.1734 1691.31 33.3227 Q1688.15 32.4315 1684.91 32.4315 Q1677.66 32.4315 1673.65 37.0496 Q1669.64 41.6271 1669.64 49.9314 Q1669.64 58.2358 1673.65 62.8538 Q1677.66 67.4314 1684.91 67.4314 Q1688.15 67.4314 1691.31 66.5807 Q1694.51 65.6895 1697.67 63.9476 L1697.67 70.8341 Q1694.56 72.2924 1691.19 73.0216 Q1687.87 73.7508 1684.1 73.7508 Q1673.86 73.7508 1667.82 67.3098 Q1661.78 60.8689 1661.78 49.9314 Q1661.78 38.832 1667.86 32.472 Q1673.98 26.1121 1684.59 26.1121 Q1688.03 26.1121 1691.31 26.8413 Q1694.6 27.5299 1697.67 28.9478 Z\" fill=\"#000000\" fill-rule=\"evenodd\" fill-opacity=\"1\" /><path clip-path=\"url(#clip190)\" d=\"M1731.26 49.7694 Q1722.22 49.7694 1718.74 51.8354 Q1715.26 53.9013 1715.26 58.8839 Q1715.26 62.8538 1717.85 65.2034 Q1720.48 67.5124 1724.98 67.5124 Q1731.18 67.5124 1734.9 63.1374 Q1738.67 58.7219 1738.67 51.4303 L1738.67 49.7694 L1731.26 49.7694 M1746.12 46.6907 L1746.12 72.576 L1738.67 72.576 L1738.67 65.6895 Q1736.12 69.8214 1732.31 71.8063 Q1728.5 73.7508 1722.99 73.7508 Q1716.03 73.7508 1711.89 69.8619 Q1707.8 65.9325 1707.8 59.3701 Q1707.8 51.7138 1712.91 47.825 Q1718.05 43.9361 1728.22 43.9361 L1738.67 43.9361 L1738.67 43.2069 Q1738.67 38.0623 1735.27 35.2672 Q1731.9 32.4315 1725.79 32.4315 Q1721.9 32.4315 1718.21 33.3632 Q1714.53 34.295 1711.12 36.1584 L1711.12 29.2718 Q1715.22 27.692 1719.06 26.9223 Q1722.91 26.1121 1726.56 26.1121 Q1736.4 26.1121 1741.26 31.2163 Q1746.12 36.3204 1746.12 46.6907 Z\" fill=\"#000000\" fill-rule=\"evenodd\" fill-opacity=\"1\" /><path clip-path=\"url(#clip190)\" d=\"M1761.48 9.54393 L1768.93 9.54393 L1768.93 72.576 L1761.48 72.576 L1761.48 9.54393 Z\" fill=\"#000000\" fill-rule=\"evenodd\" fill-opacity=\"1\" /><path clip-path=\"url(#clip190)\" d=\"M1840.75 34.0924 L1840.75 9.54393 L1848.21 9.54393 L1848.21 72.576 L1840.75 72.576 L1840.75 65.7705 Q1838.4 69.8214 1834.8 71.8063 Q1831.23 73.7508 1826.21 73.7508 Q1817.99 73.7508 1812.8 67.1883 Q1807.66 60.6258 1807.66 49.9314 Q1807.66 39.2371 1812.8 32.6746 Q1817.99 26.1121 1826.21 26.1121 Q1831.23 26.1121 1834.8 28.0971 Q1838.4 30.0415 1840.75 34.0924 M1815.35 49.9314 Q1815.35 58.1548 1818.72 62.8538 Q1822.12 67.5124 1828.03 67.5124 Q1833.95 67.5124 1837.35 62.8538 Q1840.75 58.1548 1840.75 49.9314 Q1840.75 41.7081 1837.35 37.0496 Q1833.95 32.3505 1828.03 32.3505 Q1822.12 32.3505 1818.72 37.0496 Q1815.35 41.7081 1815.35 49.9314 Z\" fill=\"#000000\" fill-rule=\"evenodd\" fill-opacity=\"1\" /><path clip-path=\"url(#clip190)\" d=\"M1884.18 49.7694 Q1875.14 49.7694 1871.66 51.8354 Q1868.18 53.9013 1868.18 58.8839 Q1868.18 62.8538 1870.77 65.2034 Q1873.4 67.5124 1877.9 67.5124 Q1884.1 67.5124 1887.82 63.1374 Q1891.59 58.7219 1891.59 51.4303 L1891.59 49.7694 L1884.18 49.7694 M1899.05 46.6907 L1899.05 72.576 L1891.59 72.576 L1891.59 65.6895 Q1889.04 69.8214 1885.23 71.8063 Q1881.42 73.7508 1875.91 73.7508 Q1868.95 73.7508 1864.81 69.8619 Q1860.72 65.9325 1860.72 59.3701 Q1860.72 51.7138 1865.83 47.825 Q1870.97 43.9361 1881.14 43.9361 L1891.59 43.9361 L1891.59 43.2069 Q1891.59 38.0623 1888.19 35.2672 Q1884.83 32.4315 1878.71 32.4315 Q1874.82 32.4315 1871.13 33.3632 Q1867.45 34.295 1864.05 36.1584 L1864.05 29.2718 Q1868.14 27.692 1871.99 26.9223 Q1875.83 26.1121 1879.48 26.1121 Q1889.32 26.1121 1894.18 31.2163 Q1899.05 36.3204 1899.05 46.6907 Z\" fill=\"#000000\" fill-rule=\"evenodd\" fill-opacity=\"1\" /><path clip-path=\"url(#clip190)\" d=\"M1921.77 14.324 L1921.77 27.2059 L1937.12 27.2059 L1937.12 32.9987 L1921.77 32.9987 L1921.77 57.6282 Q1921.77 63.1779 1923.27 64.7578 Q1924.81 66.3376 1929.47 66.3376 L1937.12 66.3376 L1937.12 72.576 L1929.47 72.576 Q1920.84 72.576 1917.56 69.3758 Q1914.28 66.1351 1914.28 57.6282 L1914.28 32.9987 L1908.81 32.9987 L1908.81 27.2059 L1914.28 27.2059 L1914.28 14.324 L1921.77 14.324 Z\" fill=\"#000000\" fill-rule=\"evenodd\" fill-opacity=\"1\" /><path clip-path=\"url(#clip190)\" d=\"M1967.55 49.7694 Q1958.51 49.7694 1955.03 51.8354 Q1951.54 53.9013 1951.54 58.8839 Q1951.54 62.8538 1954.14 65.2034 Q1956.77 67.5124 1961.27 67.5124 Q1967.46 67.5124 1971.19 63.1374 Q1974.96 58.7219 1974.96 51.4303 L1974.96 49.7694 L1967.55 49.7694 M1982.41 46.6907 L1982.41 72.576 L1974.96 72.576 L1974.96 65.6895 Q1972.41 69.8214 1968.6 71.8063 Q1964.79 73.7508 1959.28 73.7508 Q1952.31 73.7508 1948.18 69.8619 Q1944.09 65.9325 1944.09 59.3701 Q1944.09 51.7138 1949.2 47.825 Q1954.34 43.9361 1964.51 43.9361 L1974.96 43.9361 L1974.96 43.2069 Q1974.96 38.0623 1971.56 35.2672 Q1968.19 32.4315 1962.08 32.4315 Q1958.19 32.4315 1954.5 33.3632 Q1950.82 34.295 1947.41 36.1584 L1947.41 29.2718 Q1951.5 27.692 1955.35 26.9223 Q1959.2 26.1121 1962.85 26.1121 Q1972.69 26.1121 1977.55 31.2163 Q1982.41 36.3204 1982.41 46.6907 Z\" fill=\"#000000\" fill-rule=\"evenodd\" fill-opacity=\"1\" /><path clip-path=\"url(#clip190)\" d=\"M2042.04 9.62495 Q2036.61 18.942 2033.98 28.0566 Q2031.35 37.1711 2031.35 46.5287 Q2031.35 55.8863 2033.98 65.0818 Q2036.65 74.2369 2042.04 83.5134 L2035.56 83.5134 Q2029.48 73.9938 2026.45 64.7983 Q2023.45 55.6027 2023.45 46.5287 Q2023.45 37.4952 2026.45 28.3401 Q2029.44 19.1851 2035.56 9.62495 L2042.04 9.62495 Z\" fill=\"#000000\" fill-rule=\"evenodd\" fill-opacity=\"1\" /><path clip-path=\"url(#clip190)\" d=\"M2065.01 18.8205 L2065.01 65.8515 L2074.89 65.8515 Q2087.41 65.8515 2093.2 60.1802 Q2099.04 54.509 2099.04 42.2752 Q2099.04 30.1225 2093.2 24.4918 Q2087.41 18.8205 2074.89 18.8205 L2065.01 18.8205 M2056.83 12.096 L2073.64 12.096 Q2091.22 12.096 2099.44 19.4281 Q2107.67 26.7198 2107.67 42.2752 Q2107.67 57.9117 2099.4 65.2439 Q2091.14 72.576 2073.64 72.576 L2056.83 72.576 L2056.83 12.096 Z\" fill=\"#000000\" fill-rule=\"evenodd\" fill-opacity=\"1\" /><path clip-path=\"url(#clip190)\" d=\"M2112.33 12.096 L2163.49 12.096 L2163.49 18.9825 L2142.02 18.9825 L2142.02 72.576 L2133.79 72.576 L2133.79 18.9825 L2112.33 18.9825 L2112.33 12.096 Z\" fill=\"#000000\" fill-rule=\"evenodd\" fill-opacity=\"1\" /><path clip-path=\"url(#clip190)\" d=\"M2169.89 9.62495 L2176.37 9.62495 Q2182.45 19.1851 2185.44 28.3401 Q2188.48 37.4952 2188.48 46.5287 Q2188.48 55.6027 2185.44 64.7983 Q2182.45 73.9938 2176.37 83.5134 L2169.89 83.5134 Q2175.28 74.2369 2177.91 65.0818 Q2180.58 55.8863 2180.58 46.5287 Q2180.58 37.1711 2177.91 28.0566 Q2175.28 18.942 2169.89 9.62495 Z\" fill=\"#000000\" fill-rule=\"evenodd\" fill-opacity=\"1\" /><circle clip-path=\"url(#clip192)\" cx=\"550.155\" cy=\"369.968\" r=\"14\" fill=\"#009af9\" fill-rule=\"evenodd\" fill-opacity=\"1\" stroke=\"#000000\" stroke-opacity=\"1\" stroke-width=\"3.2\"/>\n",
       "<circle clip-path=\"url(#clip192)\" cx=\"800.788\" cy=\"372.686\" r=\"14\" fill=\"#009af9\" fill-rule=\"evenodd\" fill-opacity=\"1\" stroke=\"#000000\" stroke-opacity=\"1\" stroke-width=\"3.2\"/>\n",
       "<circle clip-path=\"url(#clip192)\" cx=\"1854.78\" cy=\"1122.17\" r=\"14\" fill=\"#009af9\" fill-rule=\"evenodd\" fill-opacity=\"1\" stroke=\"#000000\" stroke-opacity=\"1\" stroke-width=\"3.2\"/>\n",
       "<circle clip-path=\"url(#clip192)\" cx=\"1938.92\" cy=\"968.749\" r=\"14\" fill=\"#009af9\" fill-rule=\"evenodd\" fill-opacity=\"1\" stroke=\"#000000\" stroke-opacity=\"1\" stroke-width=\"3.2\"/>\n",
       "<circle clip-path=\"url(#clip192)\" cx=\"2293.6\" cy=\"1251.74\" r=\"14\" fill=\"#009af9\" fill-rule=\"evenodd\" fill-opacity=\"1\" stroke=\"#000000\" stroke-opacity=\"1\" stroke-width=\"3.2\"/>\n",
       "<circle clip-path=\"url(#clip192)\" cx=\"321.708\" cy=\"251.748\" r=\"14\" fill=\"#009af9\" fill-rule=\"evenodd\" fill-opacity=\"1\" stroke=\"#000000\" stroke-opacity=\"1\" stroke-width=\"3.2\"/>\n",
       "<circle clip-path=\"url(#clip192)\" cx=\"1375.7\" cy=\"863.155\" r=\"14\" fill=\"#009af9\" fill-rule=\"evenodd\" fill-opacity=\"1\" stroke=\"#000000\" stroke-opacity=\"1\" stroke-width=\"3.2\"/>\n",
       "<circle clip-path=\"url(#clip192)\" cx=\"1459.84\" cy=\"759.255\" r=\"14\" fill=\"#009af9\" fill-rule=\"evenodd\" fill-opacity=\"1\" stroke=\"#000000\" stroke-opacity=\"1\" stroke-width=\"3.2\"/>\n",
       "<circle clip-path=\"url(#clip192)\" cx=\"1814.52\" cy=\"941.867\" r=\"14\" fill=\"#009af9\" fill-rule=\"evenodd\" fill-opacity=\"1\" stroke=\"#000000\" stroke-opacity=\"1\" stroke-width=\"3.2\"/>\n",
       "<circle clip-path=\"url(#clip192)\" cx=\"1125.07\" cy=\"661.747\" r=\"14\" fill=\"#009af9\" fill-rule=\"evenodd\" fill-opacity=\"1\" stroke=\"#000000\" stroke-opacity=\"1\" stroke-width=\"3.2\"/>\n",
       "<circle clip-path=\"url(#clip192)\" cx=\"1209.2\" cy=\"595.41\" r=\"14\" fill=\"#009af9\" fill-rule=\"evenodd\" fill-opacity=\"1\" stroke=\"#000000\" stroke-opacity=\"1\" stroke-width=\"3.2\"/>\n",
       "<circle clip-path=\"url(#clip192)\" cx=\"1563.89\" cy=\"975.741\" r=\"14\" fill=\"#009af9\" fill-rule=\"evenodd\" fill-opacity=\"1\" stroke=\"#000000\" stroke-opacity=\"1\" stroke-width=\"3.2\"/>\n",
       "<polyline clip-path=\"url(#clip192)\" style=\"stroke:#e26f46; stroke-linecap:butt; stroke-linejoin:round; stroke-width:4; stroke-opacity:1; fill:none\" points=\"\n",
       "  323.68,160.256 325.652,160.699 327.624,161.144 329.596,161.593 331.567,162.046 333.539,162.501 335.511,162.96 337.483,163.422 339.455,163.888 341.427,164.357 \n",
       "  343.399,164.829 345.371,165.304 347.343,165.782 349.314,166.264 351.286,166.749 353.258,167.237 355.23,167.729 357.202,168.224 359.174,168.722 361.146,169.223 \n",
       "  363.118,169.728 365.09,170.235 367.061,170.746 369.033,171.261 371.005,171.778 372.977,172.299 374.949,172.823 376.921,173.35 378.893,173.88 380.865,174.414 \n",
       "  382.837,174.95 384.808,175.49 386.78,176.033 388.752,176.58 390.724,177.129 392.696,177.682 394.668,178.238 396.64,178.797 398.612,179.359 400.584,179.924 \n",
       "  402.555,180.493 404.527,181.065 406.499,181.639 408.471,182.217 410.443,182.799 412.415,183.383 414.387,183.97 416.359,184.561 418.331,185.155 420.303,185.751 \n",
       "  422.274,186.351 424.246,186.954 426.218,187.56 428.19,188.17 430.162,188.782 432.134,189.398 434.106,190.016 436.078,190.638 438.05,191.263 440.021,191.89 \n",
       "  441.993,192.521 443.965,193.155 445.937,193.792 447.909,194.433 449.881,195.076 451.853,195.722 453.825,196.371 455.797,197.024 457.768,197.679 459.74,198.338 \n",
       "  461.712,198.999 463.684,199.664 465.656,200.331 467.628,201.002 469.6,201.675 471.572,202.352 473.544,203.031 475.515,203.714 477.487,204.4 479.459,205.088 \n",
       "  481.431,205.78 483.403,206.474 485.375,207.172 487.347,207.872 489.319,208.576 491.291,209.282 493.262,209.992 495.234,210.704 497.206,211.419 499.178,212.138 \n",
       "  501.15,212.859 503.122,213.583 505.094,214.31 507.066,215.04 509.038,215.773 511.01,216.509 512.981,217.247 514.953,217.989 516.925,218.734 518.897,219.481 \n",
       "  520.869,220.231 522.841,220.985 524.813,221.741 526.785,222.5 528.757,223.262 530.728,224.026 532.7,224.794 534.672,225.564 536.644,226.338 538.616,227.114 \n",
       "  540.588,227.893 542.56,228.674 544.532,229.459 546.504,230.246 548.475,231.037 550.447,231.83 552.419,232.626 554.391,233.424 556.363,234.226 558.335,235.03 \n",
       "  560.307,235.837 562.279,236.647 564.251,237.46 566.222,238.275 568.194,239.093 570.166,239.914 572.138,240.738 574.11,241.564 576.082,242.394 578.054,243.226 \n",
       "  580.026,244.06 581.998,244.898 583.969,245.738 585.941,246.58 587.913,247.426 589.885,248.274 591.857,249.125 593.829,249.979 595.801,250.835 597.773,251.694 \n",
       "  599.745,252.556 601.717,253.42 603.688,254.287 605.66,255.157 607.632,256.029 609.604,256.904 611.576,257.782 613.548,258.662 615.52,259.545 617.492,260.431 \n",
       "  619.464,261.319 621.435,262.21 623.407,263.103 625.379,263.999 627.351,264.898 629.323,265.799 631.295,266.703 633.267,267.609 635.239,268.518 637.211,269.429 \n",
       "  639.182,270.343 641.154,271.26 643.126,272.179 645.098,273.101 647.07,274.025 649.042,274.952 651.014,275.881 652.986,276.813 654.958,277.748 656.929,278.685 \n",
       "  658.901,279.624 660.873,280.566 662.845,281.51 664.817,282.457 666.789,283.406 668.761,284.358 670.733,285.313 672.705,286.269 674.676,287.229 676.648,288.19 \n",
       "  678.62,289.154 680.592,290.121 682.564,291.09 684.536,292.062 686.508,293.035 688.48,294.012 690.452,294.99 692.424,295.971 694.395,296.955 696.367,297.941 \n",
       "  698.339,298.929 700.311,299.92 702.283,300.913 704.255,301.908 706.227,302.906 708.199,303.906 710.171,304.909 712.142,305.913 714.114,306.921 716.086,307.93 \n",
       "  718.058,308.942 720.03,309.956 722.002,310.972 723.974,311.991 725.946,313.012 727.918,314.036 729.889,315.061 731.861,316.089 733.833,317.119 735.805,318.152 \n",
       "  737.777,319.186 739.749,320.223 741.721,321.263 743.693,322.304 745.665,323.348 747.636,324.394 749.608,325.442 751.58,326.492 753.552,327.545 755.524,328.6 \n",
       "  757.496,329.657 759.468,330.716 761.44,331.778 763.412,332.841 765.383,333.907 767.355,334.975 769.327,336.045 771.299,337.117 773.271,338.192 775.243,339.268 \n",
       "  777.215,340.347 779.187,341.428 781.159,342.511 783.131,343.596 785.102,344.683 787.074,345.772 789.046,346.864 791.018,347.957 792.99,349.053 794.962,350.151 \n",
       "  796.934,351.25 798.906,352.352 800.878,353.456 802.849,354.562 804.821,355.67 806.793,356.78 808.765,357.892 810.737,359.006 812.709,360.122 814.681,361.241 \n",
       "  816.653,362.361 818.625,363.483 820.596,364.607 822.568,365.733 824.54,366.861 826.512,367.992 828.484,369.124 830.456,370.258 832.428,371.394 834.4,372.532 \n",
       "  836.372,373.672 838.343,374.814 840.315,375.957 842.287,377.103 844.259,378.251 846.231,379.4 848.203,380.552 850.175,381.705 852.147,382.861 854.119,384.018 \n",
       "  856.09,385.177 858.062,386.338 860.034,387.501 862.006,388.666 863.978,389.832 865.95,391.001 867.922,392.171 869.894,393.343 871.866,394.517 873.837,395.693 \n",
       "  875.809,396.87 877.781,398.05 879.753,399.231 881.725,400.414 883.697,401.599 885.669,402.785 887.641,403.974 889.613,405.164 891.585,406.356 893.556,407.549 \n",
       "  895.528,408.745 897.5,409.942 899.472,411.141 901.444,412.342 903.416,413.544 905.388,414.748 907.36,415.954 909.332,417.162 911.303,418.371 913.275,419.582 \n",
       "  915.247,420.795 917.219,422.009 919.191,423.225 921.163,424.443 923.135,425.662 925.107,426.883 927.079,428.106 929.05,429.33 931.022,430.556 932.994,431.784 \n",
       "  934.966,433.013 936.938,434.244 938.91,435.476 940.882,436.711 942.854,437.946 944.826,439.184 946.797,440.422 948.769,441.663 950.741,442.905 952.713,444.149 \n",
       "  954.685,445.394 956.657,446.641 958.629,447.889 960.601,449.139 962.573,450.39 964.544,451.643 966.516,452.898 968.488,454.154 970.46,455.411 972.432,456.67 \n",
       "  974.404,457.931 976.376,459.193 978.348,460.456 980.32,461.721 982.292,462.988 984.263,464.255 986.235,465.525 988.207,466.796 990.179,468.068 992.151,469.342 \n",
       "  994.123,470.617 996.095,471.894 998.067,473.172 1000.04,474.451 1002.01,475.732 1003.98,477.014 1005.95,478.298 1007.93,479.583 1009.9,480.869 1011.87,482.157 \n",
       "  1013.84,483.447 1015.81,484.737 1017.79,486.029 1019.76,487.322 1021.73,488.617 1023.7,489.913 1025.67,491.21 1027.65,492.509 1029.62,493.809 1031.59,495.111 \n",
       "  1033.56,496.413 1035.53,497.717 1037.5,499.022 1039.48,500.329 1041.45,501.637 1043.42,502.946 1045.39,504.256 1047.36,505.568 1049.34,506.881 1051.31,508.195 \n",
       "  1053.28,509.511 1055.25,510.827 1057.22,512.145 1059.2,513.464 1061.17,514.785 1063.14,516.106 1065.11,517.429 1067.08,518.753 1069.05,520.079 1071.03,521.405 \n",
       "  1073,522.733 1074.97,524.062 1076.94,525.392 1078.91,526.723 1080.89,528.055 1082.86,529.389 1084.83,530.723 1086.8,532.059 1088.77,533.396 1090.75,534.734 \n",
       "  1092.72,536.073 1094.69,537.414 1096.66,538.755 1098.63,540.098 1100.6,541.441 1102.58,542.786 1104.55,544.132 1106.52,545.479 1108.49,546.827 1110.46,548.176 \n",
       "  1112.44,549.526 1114.41,550.878 1116.38,552.23 1118.35,553.583 1120.32,554.938 1122.3,556.293 1124.27,557.65 1126.24,559.007 1128.21,560.366 1130.18,561.725 \n",
       "  1132.16,563.086 1134.13,564.447 1136.1,565.81 1138.07,567.173 1140.04,568.538 1142.01,569.903 1143.99,571.27 1145.96,572.637 1147.93,574.006 1149.9,575.375 \n",
       "  1151.87,576.746 1153.85,578.117 1155.82,579.489 1157.79,580.862 1159.76,582.236 1161.73,583.611 1163.71,584.987 1165.68,586.364 1167.65,587.742 1169.62,589.121 \n",
       "  1171.59,590.5 1173.56,591.881 1175.54,593.262 1177.51,594.644 1179.48,596.027 1181.45,597.411 1183.42,598.796 1185.4,600.182 1187.37,601.568 1189.34,602.955 \n",
       "  1191.31,604.344 1193.28,605.733 1195.26,607.122 1197.23,608.513 1199.2,609.905 1201.17,611.297 1203.14,612.69 1205.12,614.084 1207.09,615.478 1209.06,616.874 \n",
       "  1211.03,618.27 1213,619.667 1214.97,621.065 1216.95,622.463 1218.92,623.863 1220.89,625.263 1222.86,626.664 1224.83,628.065 1226.81,629.467 1228.78,630.87 \n",
       "  1230.75,632.274 1232.72,633.679 1234.69,635.084 1236.67,636.49 1238.64,637.896 1240.61,639.304 1242.58,640.712 1244.55,642.12 1246.52,643.53 1248.5,644.94 \n",
       "  1250.47,646.35 1252.44,647.762 1254.41,649.174 1256.38,650.586 1258.36,652 1260.33,653.414 1262.3,654.828 1264.27,656.243 1266.24,657.659 1268.22,659.076 \n",
       "  1270.19,660.493 1272.16,661.911 1274.13,663.329 1276.1,664.748 1278.08,666.167 1280.05,667.587 1282.02,669.008 1283.99,670.429 1285.96,671.851 1287.93,673.274 \n",
       "  1289.91,674.697 1291.88,676.12 1293.85,677.544 1295.82,678.969 1297.79,680.394 1299.77,681.82 1301.74,683.246 1303.71,684.673 1305.68,686.1 1307.65,687.528 \n",
       "  1309.63,688.956 1311.6,690.385 1313.57,691.815 1315.54,693.244 1317.51,694.675 1319.48,696.106 1321.46,697.537 1323.43,698.969 1325.4,700.401 1327.37,701.834 \n",
       "  1329.34,703.267 1331.32,704.701 1333.29,706.135 1335.26,707.569 1337.23,709.004 1339.2,710.44 1341.18,711.876 1343.15,713.312 1345.12,714.749 1347.09,716.186 \n",
       "  1349.06,717.623 1351.04,719.061 1353.01,720.5 1354.98,721.938 1356.95,723.377 1358.92,724.817 1360.89,726.257 1362.87,727.697 1364.84,729.138 1366.81,730.579 \n",
       "  1368.78,732.02 1370.75,733.462 1372.73,734.904 1374.7,736.347 1376.67,737.789 1378.64,739.233 1380.61,740.676 1382.59,742.12 1384.56,743.564 1386.53,745.008 \n",
       "  1388.5,746.453 1390.47,747.898 1392.44,749.344 1394.42,750.789 1396.39,752.235 1398.36,753.682 1400.33,755.128 1402.3,756.575 1404.28,758.022 1406.25,759.47 \n",
       "  1408.22,760.917 1410.19,762.365 1412.16,763.814 1414.14,765.262 1416.11,766.711 1418.08,768.16 1420.05,769.609 1422.02,771.058 1424,772.508 1425.97,773.958 \n",
       "  1427.94,775.408 1429.91,776.859 1431.88,778.309 1433.85,779.76 1435.83,781.211 1437.8,782.662 1439.77,784.113 1441.74,785.565 1443.71,787.017 1445.69,788.469 \n",
       "  1447.66,789.921 1449.63,791.373 1451.6,792.826 1453.57,794.278 1455.55,795.731 1457.52,797.184 1459.49,798.637 1461.46,800.091 1463.43,801.544 1465.4,802.998 \n",
       "  1467.38,804.451 1469.35,805.905 1471.32,807.359 1473.29,808.813 1475.26,810.267 1477.24,811.722 1479.21,813.176 1481.18,814.631 1483.15,816.085 1485.12,817.54 \n",
       "  1487.1,818.995 1489.07,820.45 1491.04,821.905 1493.01,823.36 1494.98,824.815 1496.96,826.27 1498.93,827.726 1500.9,829.181 1502.87,830.637 1504.84,832.092 \n",
       "  1506.81,833.548 1508.79,835.003 1510.76,836.459 1512.73,837.915 1514.7,839.37 1516.67,840.826 1518.65,842.282 1520.62,843.738 1522.59,845.194 1524.56,846.649 \n",
       "  1526.53,848.105 1528.51,849.561 1530.48,851.017 1532.45,852.473 1534.42,853.929 1536.39,855.385 1538.36,856.841 1540.34,858.296 1542.31,859.752 1544.28,861.208 \n",
       "  1546.25,862.664 1548.22,864.12 1550.2,865.575 1552.17,867.031 1554.14,868.487 1556.11,869.942 1558.08,871.398 1560.06,872.853 1562.03,874.309 1564,875.764 \n",
       "  1565.97,877.22 1567.94,878.675 1569.92,880.13 1571.89,881.585 1573.86,883.04 1575.83,884.495 1577.8,885.95 1579.77,887.405 1581.75,888.86 1583.72,890.314 \n",
       "  1585.69,891.769 1587.66,893.223 1589.63,894.677 1591.61,896.132 1593.58,897.586 1595.55,899.04 1597.52,900.493 1599.49,901.947 1601.47,903.401 1603.44,904.854 \n",
       "  1605.41,906.307 1607.38,907.761 1609.35,909.214 1611.32,910.667 1613.3,912.119 1615.27,913.572 1617.24,915.024 1619.21,916.477 1621.18,917.929 1623.16,919.381 \n",
       "  1625.13,920.832 1627.1,922.284 1629.07,923.735 1631.04,925.187 1633.02,926.638 1634.99,928.088 1636.96,929.539 1638.93,930.99 1640.9,932.44 1642.88,933.89 \n",
       "  1644.85,935.34 1646.82,936.79 1648.79,938.239 1650.76,939.688 1652.73,941.137 1654.71,942.586 1656.68,944.035 1658.65,945.483 1660.62,946.931 1662.59,948.379 \n",
       "  1664.57,949.827 1666.54,951.274 1668.51,952.721 1670.48,954.168 1672.45,955.615 1674.43,957.061 1676.4,958.508 1678.37,959.953 1680.34,961.399 1682.31,962.845 \n",
       "  1684.28,964.29 1686.26,965.735 1688.23,967.179 1690.2,968.623 1692.17,970.067 1694.14,971.511 1696.12,972.955 1698.09,974.398 1700.06,975.841 1702.03,977.283 \n",
       "  1704,978.726 1705.98,980.168 1707.95,981.609 1709.92,983.051 1711.89,984.492 1713.86,985.933 1715.84,987.373 1717.81,988.813 1719.78,990.253 1721.75,991.692 \n",
       "  1723.72,993.132 1725.69,994.57 1727.67,996.009 1729.64,997.447 1731.61,998.885 1733.58,1000.32 1735.55,1001.76 1737.53,1003.2 1739.5,1004.63 1741.47,1006.07 \n",
       "  1743.44,1007.5 1745.41,1008.94 1747.39,1010.37 1749.36,1011.81 1751.33,1013.24 1753.3,1014.68 1755.27,1016.11 1757.24,1017.54 1759.22,1018.98 1761.19,1020.41 \n",
       "  1763.16,1021.84 1765.13,1023.27 1767.1,1024.7 1769.08,1026.14 1771.05,1027.57 1773.02,1029 1774.99,1030.43 1776.96,1031.85 1778.94,1033.28 1780.91,1034.71 \n",
       "  1782.88,1036.14 1784.85,1037.57 1786.82,1039 1788.8,1040.42 1790.77,1041.85 1792.74,1043.27 1794.71,1044.7 1796.68,1046.12 1798.65,1047.55 1800.63,1048.97 \n",
       "  1802.6,1050.4 1804.57,1051.82 1806.54,1053.24 1808.51,1054.67 1810.49,1056.09 1812.46,1057.51 1814.43,1058.93 1816.4,1060.35 1818.37,1061.77 1820.35,1063.19 \n",
       "  1822.32,1064.61 1824.29,1066.03 1826.26,1067.45 1828.23,1068.87 1830.2,1070.28 1832.18,1071.7 1834.15,1073.12 1836.12,1074.53 1838.09,1075.95 1840.06,1077.36 \n",
       "  1842.04,1078.78 1844.01,1080.19 1845.98,1081.61 1847.95,1083.02 1849.92,1084.43 1851.9,1085.85 1853.87,1087.26 1855.84,1088.67 1857.81,1090.08 1859.78,1091.49 \n",
       "  1861.75,1092.9 1863.73,1094.31 1865.7,1095.72 1867.67,1097.12 1869.64,1098.53 1871.61,1099.94 1873.59,1101.35 1875.56,1102.75 1877.53,1104.16 1879.5,1105.56 \n",
       "  1881.47,1106.97 1883.45,1108.37 1885.42,1109.78 1887.39,1111.18 1889.36,1112.58 1891.33,1113.98 1893.31,1115.38 1895.28,1116.78 1897.25,1118.18 1899.22,1119.58 \n",
       "  1901.19,1120.98 1903.16,1122.38 1905.14,1123.78 1907.11,1125.18 1909.08,1126.57 1911.05,1127.97 1913.02,1129.37 1915,1130.76 1916.97,1132.16 1918.94,1133.55 \n",
       "  1920.91,1134.94 1922.88,1136.34 1924.86,1137.73 1926.83,1139.12 1928.8,1140.51 1930.77,1141.9 1932.74,1143.29 1934.71,1144.68 1936.69,1146.07 1938.66,1147.46 \n",
       "  1940.63,1148.85 1942.6,1150.24 1944.57,1151.62 1946.55,1153.01 1948.52,1154.39 1950.49,1155.78 1952.46,1157.16 1954.43,1158.55 1956.41,1159.93 1958.38,1161.31 \n",
       "  1960.35,1162.69 1962.32,1164.08 1964.29,1165.46 1966.27,1166.84 1968.24,1168.22 1970.21,1169.6 1972.18,1170.97 1974.15,1172.35 1976.12,1173.73 1978.1,1175.1 \n",
       "  1980.07,1176.48 1982.04,1177.86 1984.01,1179.23 1985.98,1180.6 1987.96,1181.98 1989.93,1183.35 1991.9,1184.72 1993.87,1186.09 1995.84,1187.46 1997.82,1188.83 \n",
       "  1999.79,1190.2 2001.76,1191.57 2003.73,1192.94 2005.7,1194.31 2007.67,1195.67 2009.65,1197.04 2011.62,1198.41 2013.59,1199.77 2015.56,1201.14 2017.53,1202.5 \n",
       "  2019.51,1203.86 2021.48,1205.22 2023.45,1206.59 2025.42,1207.95 2027.39,1209.31 2029.37,1210.67 2031.34,1212.03 2033.31,1213.38 2035.28,1214.74 2037.25,1216.1 \n",
       "  2039.23,1217.46 2041.2,1218.81 2043.17,1220.17 2045.14,1221.52 2047.11,1222.88 2049.08,1224.23 2051.06,1225.58 2053.03,1226.93 2055,1228.28 2056.97,1229.63 \n",
       "  2058.94,1230.98 2060.92,1232.33 2062.89,1233.68 2064.86,1235.03 2066.83,1236.37 2068.8,1237.72 2070.78,1239.07 2072.75,1240.41 2074.72,1241.76 2076.69,1243.1 \n",
       "  2078.66,1244.44 2080.63,1245.78 2082.61,1247.13 2084.58,1248.47 2086.55,1249.81 2088.52,1251.15 2090.49,1252.48 2092.47,1253.82 2094.44,1255.16 2096.41,1256.5 \n",
       "  2098.38,1257.83 2100.35,1259.17 2102.33,1260.5 2104.3,1261.83 2106.27,1263.17 2108.24,1264.5 2110.21,1265.83 2112.19,1267.16 2114.16,1268.49 2116.13,1269.82 \n",
       "  2118.1,1271.15 2120.07,1272.48 2122.04,1273.8 2124.02,1275.13 2125.99,1276.46 2127.96,1277.78 2129.93,1279.11 2131.9,1280.43 2133.88,1281.75 2135.85,1283.07 \n",
       "  2137.82,1284.4 2139.79,1285.72 2141.76,1287.04 2143.74,1288.36 2145.71,1289.67 2147.68,1290.99 2149.65,1292.31 2151.62,1293.63 2153.59,1294.94 2155.57,1296.26 \n",
       "  2157.54,1297.57 2159.51,1298.88 2161.48,1300.2 2163.45,1301.51 2165.43,1302.82 2167.4,1304.13 2169.37,1305.44 2171.34,1306.75 2173.31,1308.05 2175.29,1309.36 \n",
       "  2177.26,1310.67 2179.23,1311.97 2181.2,1313.28 2183.17,1314.58 2185.15,1315.89 2187.12,1317.19 2189.09,1318.49 2191.06,1319.79 2193.03,1321.09 2195,1322.39 \n",
       "  2196.98,1323.69 2198.95,1324.99 2200.92,1326.29 2202.89,1327.58 2204.86,1328.88 2206.84,1330.18 2208.81,1331.47 2210.78,1332.76 2212.75,1334.06 2214.72,1335.35 \n",
       "  2216.7,1336.64 2218.67,1337.93 2220.64,1339.22 2222.61,1340.51 2224.58,1341.8 2226.55,1343.09 2228.53,1344.37 2230.5,1345.66 2232.47,1346.94 2234.44,1348.23 \n",
       "  2236.41,1349.51 2238.39,1350.79 2240.36,1352.08 2242.33,1353.36 2244.3,1354.64 2246.27,1355.92 2248.25,1357.2 2250.22,1358.48 2252.19,1359.75 2254.16,1361.03 \n",
       "  2256.13,1362.3 2258.11,1363.58 2260.08,1364.85 2262.05,1366.13 2264.02,1367.4 2265.99,1368.67 2267.96,1369.94 2269.94,1371.21 2271.91,1372.48 2273.88,1373.75 \n",
       "  2275.85,1375.02 2277.82,1376.29 2279.8,1377.55 2281.77,1378.82 2283.74,1380.08 2285.71,1381.35 2287.68,1382.61 2289.66,1383.87 2291.63,1385.13 2293.6,1386.4 \n",
       "  \n",
       "  \"/>\n",
       "<path clip-path=\"url(#clip190)\" d=\"\n",
       "M1603.5 322.316 L2283.08 322.316 L2283.08 166.796 L1603.5 166.796  Z\n",
       "  \" fill=\"#ffffff\" fill-rule=\"evenodd\" fill-opacity=\"1\"/>\n",
       "<polyline clip-path=\"url(#clip190)\" style=\"stroke:#000000; stroke-linecap:butt; stroke-linejoin:round; stroke-width:4; stroke-opacity:1; fill:none\" points=\"\n",
       "  1603.5,322.316 2283.08,322.316 2283.08,166.796 1603.5,166.796 1603.5,322.316 \n",
       "  \"/>\n",
       "<circle clip-path=\"url(#clip190)\" cx=\"1696.4\" cy=\"218.636\" r=\"23\" fill=\"#009af9\" fill-rule=\"evenodd\" fill-opacity=\"1\" stroke=\"#000000\" stroke-opacity=\"1\" stroke-width=\"5.12\"/>\n",
       "<path clip-path=\"url(#clip190)\" d=\"M1801.2 212.976 Q1797.77 212.976 1795.78 215.661 Q1793.79 218.323 1793.79 222.976 Q1793.79 227.629 1795.76 230.314 Q1797.75 232.976 1801.2 232.976 Q1804.6 232.976 1806.59 230.291 Q1808.58 227.606 1808.58 222.976 Q1808.58 218.37 1806.59 215.684 Q1804.6 212.976 1801.2 212.976 M1801.2 209.365 Q1806.75 209.365 1809.92 212.976 Q1813.09 216.587 1813.09 222.976 Q1813.09 229.342 1809.92 232.976 Q1806.75 236.587 1801.2 236.587 Q1795.62 236.587 1792.45 232.976 Q1789.3 229.342 1789.3 222.976 Q1789.3 216.587 1792.45 212.976 Q1795.62 209.365 1801.2 209.365 Z\" fill=\"#000000\" fill-rule=\"evenodd\" fill-opacity=\"1\" /><path clip-path=\"url(#clip190)\" d=\"M1838.77 222.976 Q1838.77 218.277 1836.82 215.615 Q1834.9 212.93 1831.52 212.93 Q1828.14 212.93 1826.2 215.615 Q1824.27 218.277 1824.27 222.976 Q1824.27 227.675 1826.2 230.36 Q1828.14 233.022 1831.52 233.022 Q1834.9 233.022 1836.82 230.36 Q1838.77 227.675 1838.77 222.976 M1824.27 213.925 Q1825.62 211.61 1827.65 210.499 Q1829.71 209.365 1832.56 209.365 Q1837.28 209.365 1840.22 213.115 Q1843.19 216.865 1843.19 222.976 Q1843.19 229.087 1840.22 232.837 Q1837.28 236.587 1832.56 236.587 Q1829.71 236.587 1827.65 235.476 Q1825.62 234.342 1824.27 232.027 L1824.27 235.916 L1819.99 235.916 L1819.99 199.897 L1824.27 199.897 L1824.27 213.925 Z\" fill=\"#000000\" fill-rule=\"evenodd\" fill-opacity=\"1\" /><path clip-path=\"url(#clip190)\" d=\"M1866.77 210.754 L1866.77 214.782 Q1864.97 213.856 1863.02 213.393 Q1861.08 212.93 1859 212.93 Q1855.83 212.93 1854.23 213.902 Q1852.65 214.874 1852.65 216.819 Q1852.65 218.3 1853.79 219.157 Q1854.92 219.99 1858.35 220.754 L1859.81 221.078 Q1864.34 222.05 1866.24 223.832 Q1868.16 225.592 1868.16 228.763 Q1868.16 232.374 1865.29 234.481 Q1862.45 236.587 1857.45 236.587 Q1855.36 236.587 1853.09 236.17 Q1850.85 235.777 1848.35 234.967 L1848.35 230.569 Q1850.71 231.795 1853 232.42 Q1855.29 233.022 1857.54 233.022 Q1860.55 233.022 1862.17 232.004 Q1863.79 230.962 1863.79 229.087 Q1863.79 227.351 1862.61 226.425 Q1861.45 225.499 1857.49 224.643 L1856.01 224.295 Q1852.05 223.462 1850.29 221.749 Q1848.53 220.013 1848.53 217.004 Q1848.53 213.346 1851.13 211.356 Q1853.72 209.365 1858.49 209.365 Q1860.85 209.365 1862.93 209.712 Q1865.02 210.059 1866.77 210.754 Z\" fill=\"#000000\" fill-rule=\"evenodd\" fill-opacity=\"1\" /><path clip-path=\"url(#clip190)\" d=\"M1897.12 221.888 L1897.12 223.971 L1877.54 223.971 Q1877.82 228.369 1880.18 230.684 Q1882.56 232.976 1886.8 232.976 Q1889.25 232.976 1891.54 232.374 Q1893.86 231.772 1896.13 230.569 L1896.13 234.596 Q1893.83 235.568 1891.43 236.078 Q1889.02 236.587 1886.54 236.587 Q1880.34 236.587 1876.7 232.976 Q1873.09 229.365 1873.09 223.207 Q1873.09 216.842 1876.52 213.115 Q1879.97 209.365 1885.8 209.365 Q1891.03 209.365 1894.07 212.745 Q1897.12 216.101 1897.12 221.888 M1892.86 220.638 Q1892.82 217.143 1890.89 215.059 Q1889 212.976 1885.85 212.976 Q1882.28 212.976 1880.13 214.99 Q1878 217.004 1877.68 220.661 L1892.86 220.638 Z\" fill=\"#000000\" fill-rule=\"evenodd\" fill-opacity=\"1\" /><path clip-path=\"url(#clip190)\" d=\"M1919.14 213.971 Q1918.42 213.555 1917.56 213.37 Q1916.73 213.161 1915.71 213.161 Q1912.1 213.161 1910.15 215.522 Q1908.23 217.86 1908.23 222.258 L1908.23 235.916 L1903.95 235.916 L1903.95 209.99 L1908.23 209.99 L1908.23 214.018 Q1909.57 211.657 1911.73 210.522 Q1913.88 209.365 1916.96 209.365 Q1917.4 209.365 1917.93 209.434 Q1918.46 209.481 1919.11 209.596 L1919.14 213.971 Z\" fill=\"#000000\" fill-rule=\"evenodd\" fill-opacity=\"1\" /><path clip-path=\"url(#clip190)\" d=\"M1920.55 209.99 L1925.06 209.99 L1933.16 231.749 L1941.26 209.99 L1945.78 209.99 L1936.06 235.916 L1930.27 235.916 L1920.55 209.99 Z\" fill=\"#000000\" fill-rule=\"evenodd\" fill-opacity=\"1\" /><path clip-path=\"url(#clip190)\" d=\"M1973.83 221.888 L1973.83 223.971 L1954.25 223.971 Q1954.53 228.369 1956.89 230.684 Q1959.27 232.976 1963.51 232.976 Q1965.96 232.976 1968.26 232.374 Q1970.57 231.772 1972.84 230.569 L1972.84 234.596 Q1970.55 235.568 1968.14 236.078 Q1965.73 236.587 1963.26 236.587 Q1957.05 236.587 1953.42 232.976 Q1949.81 229.365 1949.81 223.207 Q1949.81 216.842 1953.23 213.115 Q1956.68 209.365 1962.51 209.365 Q1967.75 209.365 1970.78 212.745 Q1973.83 216.101 1973.83 221.888 M1969.57 220.638 Q1969.53 217.143 1967.61 215.059 Q1965.71 212.976 1962.56 212.976 Q1959 212.976 1956.84 214.99 Q1954.71 217.004 1954.39 220.661 L1969.57 220.638 Z\" fill=\"#000000\" fill-rule=\"evenodd\" fill-opacity=\"1\" /><path clip-path=\"url(#clip190)\" d=\"M1997.88 213.925 L1997.88 199.897 L2002.14 199.897 L2002.14 235.916 L1997.88 235.916 L1997.88 232.027 Q1996.54 234.342 1994.48 235.476 Q1992.44 236.587 1989.57 236.587 Q1984.88 236.587 1981.91 232.837 Q1978.97 229.087 1978.97 222.976 Q1978.97 216.865 1981.91 213.115 Q1984.88 209.365 1989.57 209.365 Q1992.44 209.365 1994.48 210.499 Q1996.54 211.61 1997.88 213.925 M1983.37 222.976 Q1983.37 227.675 1985.29 230.36 Q1987.24 233.022 1990.62 233.022 Q1994 233.022 1995.94 230.36 Q1997.88 227.675 1997.88 222.976 Q1997.88 218.277 1995.94 215.615 Q1994 212.93 1990.62 212.93 Q1987.24 212.93 1985.29 215.615 Q1983.37 218.277 1983.37 222.976 Z\" fill=\"#000000\" fill-rule=\"evenodd\" fill-opacity=\"1\" /><path clip-path=\"url(#clip190)\" d=\"M2046.17 214.967 Q2047.77 212.096 2049.99 210.731 Q2052.21 209.365 2055.22 209.365 Q2059.27 209.365 2061.47 212.212 Q2063.67 215.036 2063.67 220.268 L2063.67 235.916 L2059.39 235.916 L2059.39 220.407 Q2059.39 216.68 2058.07 214.874 Q2056.75 213.069 2054.04 213.069 Q2050.73 213.069 2048.81 215.268 Q2046.89 217.467 2046.89 221.263 L2046.89 235.916 L2042.61 235.916 L2042.61 220.407 Q2042.61 216.657 2041.29 214.874 Q2039.97 213.069 2037.21 213.069 Q2033.95 213.069 2032.03 215.291 Q2030.11 217.49 2030.11 221.263 L2030.11 235.916 L2025.82 235.916 L2025.82 209.99 L2030.11 209.99 L2030.11 214.018 Q2031.57 211.633 2033.6 210.499 Q2035.64 209.365 2038.44 209.365 Q2041.26 209.365 2043.23 210.8 Q2045.22 212.235 2046.17 214.967 Z\" fill=\"#000000\" fill-rule=\"evenodd\" fill-opacity=\"1\" /><path clip-path=\"url(#clip190)\" d=\"M2094.34 221.888 L2094.34 223.971 L2074.76 223.971 Q2075.04 228.369 2077.4 230.684 Q2079.78 232.976 2084.02 232.976 Q2086.47 232.976 2088.76 232.374 Q2091.08 231.772 2093.35 230.569 L2093.35 234.596 Q2091.06 235.568 2088.65 236.078 Q2086.24 236.587 2083.76 236.587 Q2077.56 236.587 2073.93 232.976 Q2070.31 229.365 2070.31 223.207 Q2070.31 216.842 2073.74 213.115 Q2077.19 209.365 2083.02 209.365 Q2088.25 209.365 2091.29 212.745 Q2094.34 216.101 2094.34 221.888 M2090.08 220.638 Q2090.04 217.143 2088.12 215.059 Q2086.22 212.976 2083.07 212.976 Q2079.5 212.976 2077.35 214.99 Q2075.22 217.004 2074.9 220.661 L2090.08 220.638 Z\" fill=\"#000000\" fill-rule=\"evenodd\" fill-opacity=\"1\" /><path clip-path=\"url(#clip190)\" d=\"M2113.12 222.883 Q2107.95 222.883 2105.96 224.064 Q2103.97 225.244 2103.97 228.092 Q2103.97 230.36 2105.45 231.703 Q2106.96 233.022 2109.53 233.022 Q2113.07 233.022 2115.2 230.522 Q2117.35 227.999 2117.35 223.832 L2117.35 222.883 L2113.12 222.883 M2121.61 221.124 L2121.61 235.916 L2117.35 235.916 L2117.35 231.981 Q2115.89 234.342 2113.72 235.476 Q2111.54 236.587 2108.39 236.587 Q2104.41 236.587 2102.05 234.365 Q2099.71 232.119 2099.71 228.369 Q2099.71 223.994 2102.63 221.772 Q2105.57 219.55 2111.38 219.55 L2117.35 219.55 L2117.35 219.133 Q2117.35 216.194 2115.41 214.596 Q2113.49 212.976 2109.99 212.976 Q2107.77 212.976 2105.66 213.508 Q2103.56 214.041 2101.61 215.106 L2101.61 211.17 Q2103.95 210.268 2106.15 209.828 Q2108.35 209.365 2110.43 209.365 Q2116.06 209.365 2118.83 212.282 Q2121.61 215.198 2121.61 221.124 Z\" fill=\"#000000\" fill-rule=\"evenodd\" fill-opacity=\"1\" /><path clip-path=\"url(#clip190)\" d=\"M2151.93 220.268 L2151.93 235.916 L2147.68 235.916 L2147.68 220.407 Q2147.68 216.726 2146.24 214.897 Q2144.81 213.069 2141.93 213.069 Q2138.49 213.069 2136.5 215.268 Q2134.5 217.467 2134.5 221.263 L2134.5 235.916 L2130.22 235.916 L2130.22 209.99 L2134.5 209.99 L2134.5 214.018 Q2136.03 211.68 2138.09 210.522 Q2140.18 209.365 2142.88 209.365 Q2147.35 209.365 2149.64 212.143 Q2151.93 214.897 2151.93 220.268 Z\" fill=\"#000000\" fill-rule=\"evenodd\" fill-opacity=\"1\" /><path clip-path=\"url(#clip190)\" d=\"M2180.36 205.198 L2180.36 232.073 L2186.01 232.073 Q2193.16 232.073 2196.47 228.832 Q2199.8 225.592 2199.8 218.601 Q2199.8 211.657 2196.47 208.439 Q2193.16 205.198 2186.01 205.198 L2180.36 205.198 M2175.68 201.356 L2185.29 201.356 Q2195.34 201.356 2200.04 205.546 Q2204.74 209.712 2204.74 218.601 Q2204.74 227.536 2200.01 231.726 Q2195.29 235.916 2185.29 235.916 L2175.68 235.916 L2175.68 201.356 Z\" fill=\"#000000\" fill-rule=\"evenodd\" fill-opacity=\"1\" /><path clip-path=\"url(#clip190)\" d=\"M2207.4 201.356 L2236.63 201.356 L2236.63 205.291 L2224.36 205.291 L2224.36 235.916 L2219.67 235.916 L2219.67 205.291 L2207.4 205.291 L2207.4 201.356 Z\" fill=\"#000000\" fill-rule=\"evenodd\" fill-opacity=\"1\" /><polyline clip-path=\"url(#clip190)\" style=\"stroke:#e26f46; stroke-linecap:butt; stroke-linejoin:round; stroke-width:4; stroke-opacity:1; fill:none\" points=\"\n",
       "  1626.73,270.476 1766.07,270.476 \n",
       "  \"/>\n",
       "<path clip-path=\"url(#clip190)\" d=\"M1813.33 273.728 L1813.33 275.811 L1793.74 275.811 Q1794.02 280.209 1796.38 282.524 Q1798.77 284.816 1803 284.816 Q1805.46 284.816 1807.75 284.214 Q1810.06 283.612 1812.33 282.409 L1812.33 286.436 Q1810.04 287.408 1807.63 287.918 Q1805.22 288.427 1802.75 288.427 Q1796.54 288.427 1792.91 284.816 Q1789.3 281.205 1789.3 275.047 Q1789.3 268.682 1792.72 264.955 Q1796.17 261.205 1802.01 261.205 Q1807.24 261.205 1810.27 264.585 Q1813.33 267.941 1813.33 273.728 M1809.07 272.478 Q1809.02 268.983 1807.1 266.899 Q1805.2 264.816 1802.05 264.816 Q1798.49 264.816 1796.33 266.83 Q1794.21 268.844 1793.88 272.501 L1809.07 272.478 Z\" fill=\"#000000\" fill-rule=\"evenodd\" fill-opacity=\"1\" /><path clip-path=\"url(#clip190)\" d=\"M1820.32 251.737 L1824.58 251.737 L1824.58 287.756 L1820.32 287.756 L1820.32 251.737 Z\" fill=\"#000000\" fill-rule=\"evenodd\" fill-opacity=\"1\" /><path clip-path=\"url(#clip190)\" d=\"M1833.49 261.83 L1837.75 261.83 L1837.75 287.756 L1833.49 287.756 L1833.49 261.83 M1833.49 251.737 L1837.75 251.737 L1837.75 257.131 L1833.49 257.131 L1833.49 251.737 Z\" fill=\"#000000\" fill-rule=\"evenodd\" fill-opacity=\"1\" /><path clip-path=\"url(#clip190)\" d=\"M1865.32 262.825 L1865.32 266.807 Q1863.51 265.811 1861.68 265.325 Q1859.88 264.816 1858.02 264.816 Q1853.88 264.816 1851.59 267.455 Q1849.3 270.071 1849.3 274.816 Q1849.3 279.561 1851.59 282.2 Q1853.88 284.816 1858.02 284.816 Q1859.88 284.816 1861.68 284.33 Q1863.51 283.821 1865.32 282.825 L1865.32 286.76 Q1863.53 287.594 1861.61 288.01 Q1859.71 288.427 1857.56 288.427 Q1851.7 288.427 1848.26 284.746 Q1844.81 281.066 1844.81 274.816 Q1844.81 268.473 1848.28 264.839 Q1851.77 261.205 1857.84 261.205 Q1859.81 261.205 1861.68 261.622 Q1863.56 262.015 1865.32 262.825 Z\" fill=\"#000000\" fill-rule=\"evenodd\" fill-opacity=\"1\" /><path clip-path=\"url(#clip190)\" d=\"M1872.72 261.83 L1876.98 261.83 L1876.98 287.756 L1872.72 287.756 L1872.72 261.83 M1872.72 251.737 L1876.98 251.737 L1876.98 257.131 L1872.72 257.131 L1872.72 251.737 Z\" fill=\"#000000\" fill-rule=\"evenodd\" fill-opacity=\"1\" /><path clip-path=\"url(#clip190)\" d=\"M1890.11 254.469 L1890.11 261.83 L1898.88 261.83 L1898.88 265.14 L1890.11 265.14 L1890.11 279.214 Q1890.11 282.385 1890.96 283.288 Q1891.84 284.191 1894.51 284.191 L1898.88 284.191 L1898.88 287.756 L1894.51 287.756 Q1889.58 287.756 1887.7 285.927 Q1885.83 284.075 1885.83 279.214 L1885.83 265.14 L1882.7 265.14 L1882.7 261.83 L1885.83 261.83 L1885.83 254.469 L1890.11 254.469 Z\" fill=\"#000000\" fill-rule=\"evenodd\" fill-opacity=\"1\" /><path clip-path=\"url(#clip190)\" d=\"M1926.66 273.728 L1926.66 275.811 L1907.08 275.811 Q1907.35 280.209 1909.71 282.524 Q1912.1 284.816 1916.33 284.816 Q1918.79 284.816 1921.08 284.214 Q1923.39 283.612 1925.66 282.409 L1925.66 286.436 Q1923.37 287.408 1920.96 287.918 Q1918.56 288.427 1916.08 288.427 Q1909.88 288.427 1906.24 284.816 Q1902.63 281.205 1902.63 275.047 Q1902.63 268.682 1906.06 264.955 Q1909.51 261.205 1915.34 261.205 Q1920.57 261.205 1923.6 264.585 Q1926.66 267.941 1926.66 273.728 M1922.4 272.478 Q1922.35 268.983 1920.43 266.899 Q1918.53 264.816 1915.39 264.816 Q1911.82 264.816 1909.67 266.83 Q1907.54 268.844 1907.21 272.501 L1922.4 272.478 Z\" fill=\"#000000\" fill-rule=\"evenodd\" fill-opacity=\"1\" /><path clip-path=\"url(#clip190)\" d=\"M1950.71 265.765 L1950.71 251.737 L1954.97 251.737 L1954.97 287.756 L1950.71 287.756 L1950.71 283.867 Q1949.37 286.182 1947.31 287.316 Q1945.27 288.427 1942.4 288.427 Q1937.7 288.427 1934.74 284.677 Q1931.8 280.927 1931.8 274.816 Q1931.8 268.705 1934.74 264.955 Q1937.7 261.205 1942.4 261.205 Q1945.27 261.205 1947.31 262.339 Q1949.37 263.45 1950.71 265.765 M1936.2 274.816 Q1936.2 279.515 1938.12 282.2 Q1940.06 284.862 1943.44 284.862 Q1946.82 284.862 1948.76 282.2 Q1950.71 279.515 1950.71 274.816 Q1950.71 270.117 1948.76 267.455 Q1946.82 264.77 1943.44 264.77 Q1940.06 264.77 1938.12 267.455 Q1936.2 270.117 1936.2 274.816 Z\" fill=\"#000000\" fill-rule=\"evenodd\" fill-opacity=\"1\" /><path clip-path=\"url(#clip190)\" d=\"M1983.67 257.038 L1983.67 283.913 L1989.32 283.913 Q1996.47 283.913 1999.78 280.672 Q2003.12 277.432 2003.12 270.441 Q2003.12 263.497 1999.78 260.279 Q1996.47 257.038 1989.32 257.038 L1983.67 257.038 M1979 253.196 L1988.6 253.196 Q1998.65 253.196 2003.35 257.386 Q2008.05 261.552 2008.05 270.441 Q2008.05 279.376 2003.32 283.566 Q1998.6 287.756 1988.6 287.756 L1979 287.756 L1979 253.196 Z\" fill=\"#000000\" fill-rule=\"evenodd\" fill-opacity=\"1\" /><path clip-path=\"url(#clip190)\" d=\"M2020.18 257.038 L2020.18 283.913 L2025.82 283.913 Q2032.98 283.913 2036.29 280.672 Q2039.62 277.432 2039.62 270.441 Q2039.62 263.497 2036.29 260.279 Q2032.98 257.038 2025.82 257.038 L2020.18 257.038 M2015.5 253.196 L2025.11 253.196 Q2035.15 253.196 2039.85 257.386 Q2044.55 261.552 2044.55 270.441 Q2044.55 279.376 2039.83 283.566 Q2035.11 287.756 2025.11 287.756 L2015.5 287.756 L2015.5 253.196 Z\" fill=\"#000000\" fill-rule=\"evenodd\" fill-opacity=\"1\" /><path clip-path=\"url(#clip190)\" d=\"M2052 253.196 L2058.97 253.196 L2067.79 276.714 L2076.66 253.196 L2083.62 253.196 L2083.62 287.756 L2079.06 287.756 L2079.06 257.409 L2070.15 281.112 L2065.45 281.112 L2056.54 257.409 L2056.54 287.756 L2052 287.756 L2052 253.196 Z\" fill=\"#000000\" fill-rule=\"evenodd\" fill-opacity=\"1\" /></svg>\n"
      ]
     },
     "metadata": {},
     "output_type": "display_data"
    }
   ],
   "source": [
    "plot_DT(DT_c1, λ1, udiff1)\n",
    "savefig(\"DT_nowinwin_Cavanagh_21jan\")"
   ]
  },
  {
   "cell_type": "code",
   "execution_count": 112,
   "id": "0ea4479c",
   "metadata": {},
   "outputs": [
    {
     "data": {
      "text/plain": [
       "6×6 Matrix{Float64}:\n",
       " -0.0  -0.1  -0.2  -0.4  -0.5  -0.6\n",
       "  0.1  -0.0  -0.1  -0.3  -0.4  -0.5\n",
       "  0.2   0.1  -0.0  -0.2  -0.3  -0.4\n",
       "  0.4   0.3   0.2  -0.0  -0.1  -0.2\n",
       "  0.5   0.4   0.3   0.1  -0.0  -0.1\n",
       "  0.6   0.5   0.4   0.2   0.1  -0.0"
      ]
     },
     "execution_count": 112,
     "metadata": {},
     "output_type": "execute_result"
    }
   ],
   "source": [
    "vdiff = zeros((6,6))\n",
    "for a in 1:6\n",
    "    for b in a:6\n",
    "        vdiff[a,b] = alt[a] - alt[b]\n",
    "        vdiff[b,a] = -vdiff[a,b]\n",
    "    end\n",
    "end\n",
    "vdiff"
   ]
  },
  {
   "cell_type": "code",
   "execution_count": 113,
   "id": "b5c75479",
   "metadata": {},
   "outputs": [
    {
     "data": {
      "image/svg+xml": [
       "<?xml version=\"1.0\" encoding=\"utf-8\"?>\n",
       "<svg xmlns=\"http://www.w3.org/2000/svg\" xmlns:xlink=\"http://www.w3.org/1999/xlink\" width=\"600\" height=\"400\" viewBox=\"0 0 2400 1600\">\n",
       "<defs>\n",
       "  <clipPath id=\"clip240\">\n",
       "    <rect x=\"0\" y=\"0\" width=\"2400\" height=\"1600\"/>\n",
       "  </clipPath>\n",
       "</defs>\n",
       "<path clip-path=\"url(#clip240)\" d=\"\n",
       "M0 1600 L2400 1600 L2400 0 L0 0  Z\n",
       "  \" fill=\"#ffffff\" fill-rule=\"evenodd\" fill-opacity=\"1\"/>\n",
       "<defs>\n",
       "  <clipPath id=\"clip241\">\n",
       "    <rect x=\"480\" y=\"0\" width=\"1681\" height=\"1600\"/>\n",
       "  </clipPath>\n",
       "</defs>\n",
       "<path clip-path=\"url(#clip240)\" d=\"\n",
       "M219.866 1423.18 L2352.76 1423.18 L2352.76 123.472 L219.866 123.472  Z\n",
       "  \" fill=\"#ffffff\" fill-rule=\"evenodd\" fill-opacity=\"1\"/>\n",
       "<defs>\n",
       "  <clipPath id=\"clip242\">\n",
       "    <rect x=\"219\" y=\"123\" width=\"2134\" height=\"1301\"/>\n",
       "  </clipPath>\n",
       "</defs>\n",
       "<polyline clip-path=\"url(#clip242)\" style=\"stroke:#000000; stroke-linecap:butt; stroke-linejoin:round; stroke-width:2; stroke-opacity:0.1; fill:none\" points=\"\n",
       "  450.51,1423.18 450.51,123.472 \n",
       "  \"/>\n",
       "<polyline clip-path=\"url(#clip242)\" style=\"stroke:#000000; stroke-linecap:butt; stroke-linejoin:round; stroke-width:2; stroke-opacity:0.1; fill:none\" points=\"\n",
       "  876.539,1423.18 876.539,123.472 \n",
       "  \"/>\n",
       "<polyline clip-path=\"url(#clip242)\" style=\"stroke:#000000; stroke-linecap:butt; stroke-linejoin:round; stroke-width:2; stroke-opacity:0.1; fill:none\" points=\"\n",
       "  1302.57,1423.18 1302.57,123.472 \n",
       "  \"/>\n",
       "<polyline clip-path=\"url(#clip242)\" style=\"stroke:#000000; stroke-linecap:butt; stroke-linejoin:round; stroke-width:2; stroke-opacity:0.1; fill:none\" points=\"\n",
       "  1728.6,1423.18 1728.6,123.472 \n",
       "  \"/>\n",
       "<polyline clip-path=\"url(#clip242)\" style=\"stroke:#000000; stroke-linecap:butt; stroke-linejoin:round; stroke-width:2; stroke-opacity:0.1; fill:none\" points=\"\n",
       "  2154.63,1423.18 2154.63,123.472 \n",
       "  \"/>\n",
       "<polyline clip-path=\"url(#clip240)\" style=\"stroke:#000000; stroke-linecap:butt; stroke-linejoin:round; stroke-width:4; stroke-opacity:1; fill:none\" points=\"\n",
       "  219.866,1423.18 2352.76,1423.18 \n",
       "  \"/>\n",
       "<polyline clip-path=\"url(#clip240)\" style=\"stroke:#000000; stroke-linecap:butt; stroke-linejoin:round; stroke-width:4; stroke-opacity:1; fill:none\" points=\"\n",
       "  450.51,1423.18 450.51,1404.28 \n",
       "  \"/>\n",
       "<polyline clip-path=\"url(#clip240)\" style=\"stroke:#000000; stroke-linecap:butt; stroke-linejoin:round; stroke-width:4; stroke-opacity:1; fill:none\" points=\"\n",
       "  876.539,1423.18 876.539,1404.28 \n",
       "  \"/>\n",
       "<polyline clip-path=\"url(#clip240)\" style=\"stroke:#000000; stroke-linecap:butt; stroke-linejoin:round; stroke-width:4; stroke-opacity:1; fill:none\" points=\"\n",
       "  1302.57,1423.18 1302.57,1404.28 \n",
       "  \"/>\n",
       "<polyline clip-path=\"url(#clip240)\" style=\"stroke:#000000; stroke-linecap:butt; stroke-linejoin:round; stroke-width:4; stroke-opacity:1; fill:none\" points=\"\n",
       "  1728.6,1423.18 1728.6,1404.28 \n",
       "  \"/>\n",
       "<polyline clip-path=\"url(#clip240)\" style=\"stroke:#000000; stroke-linecap:butt; stroke-linejoin:round; stroke-width:4; stroke-opacity:1; fill:none\" points=\"\n",
       "  2154.63,1423.18 2154.63,1404.28 \n",
       "  \"/>\n",
       "<path clip-path=\"url(#clip240)\" d=\"M413.427 1454.1 Q409.815 1454.1 407.987 1457.66 Q406.181 1461.2 406.181 1468.33 Q406.181 1475.44 407.987 1479.01 Q409.815 1482.55 413.427 1482.55 Q417.061 1482.55 418.866 1479.01 Q420.695 1475.44 420.695 1468.33 Q420.695 1461.2 418.866 1457.66 Q417.061 1454.1 413.427 1454.1 M413.427 1450.39 Q419.237 1450.39 422.292 1455 Q425.371 1459.58 425.371 1468.33 Q425.371 1477.06 422.292 1481.67 Q419.237 1486.25 413.427 1486.25 Q407.616 1486.25 404.538 1481.67 Q401.482 1477.06 401.482 1468.33 Q401.482 1459.58 404.538 1455 Q407.616 1450.39 413.427 1450.39 Z\" fill=\"#000000\" fill-rule=\"evenodd\" fill-opacity=\"1\" /><path clip-path=\"url(#clip240)\" d=\"M433.588 1479.7 L438.473 1479.7 L438.473 1485.58 L433.588 1485.58 L433.588 1479.7 Z\" fill=\"#000000\" fill-rule=\"evenodd\" fill-opacity=\"1\" /><path clip-path=\"url(#clip240)\" d=\"M458.658 1454.1 Q455.047 1454.1 453.218 1457.66 Q451.412 1461.2 451.412 1468.33 Q451.412 1475.44 453.218 1479.01 Q455.047 1482.55 458.658 1482.55 Q462.292 1482.55 464.098 1479.01 Q465.926 1475.44 465.926 1468.33 Q465.926 1461.2 464.098 1457.66 Q462.292 1454.1 458.658 1454.1 M458.658 1450.39 Q464.468 1450.39 467.523 1455 Q470.602 1459.58 470.602 1468.33 Q470.602 1477.06 467.523 1481.67 Q464.468 1486.25 458.658 1486.25 Q452.848 1486.25 449.769 1481.67 Q446.713 1477.06 446.713 1468.33 Q446.713 1459.58 449.769 1455 Q452.848 1450.39 458.658 1450.39 Z\" fill=\"#000000\" fill-rule=\"evenodd\" fill-opacity=\"1\" /><path clip-path=\"url(#clip240)\" d=\"M479.63 1481.64 L487.269 1481.64 L487.269 1455.28 L478.959 1456.95 L478.959 1452.69 L487.222 1451.02 L491.898 1451.02 L491.898 1481.64 L499.537 1481.64 L499.537 1485.58 L479.63 1485.58 L479.63 1481.64 Z\" fill=\"#000000\" fill-rule=\"evenodd\" fill-opacity=\"1\" /><path clip-path=\"url(#clip240)\" d=\"M839.641 1454.1 Q836.03 1454.1 834.202 1457.66 Q832.396 1461.2 832.396 1468.33 Q832.396 1475.44 834.202 1479.01 Q836.03 1482.55 839.641 1482.55 Q843.276 1482.55 845.081 1479.01 Q846.91 1475.44 846.91 1468.33 Q846.91 1461.2 845.081 1457.66 Q843.276 1454.1 839.641 1454.1 M839.641 1450.39 Q845.452 1450.39 848.507 1455 Q851.586 1459.58 851.586 1468.33 Q851.586 1477.06 848.507 1481.67 Q845.452 1486.25 839.641 1486.25 Q833.831 1486.25 830.753 1481.67 Q827.697 1477.06 827.697 1468.33 Q827.697 1459.58 830.753 1455 Q833.831 1450.39 839.641 1450.39 Z\" fill=\"#000000\" fill-rule=\"evenodd\" fill-opacity=\"1\" /><path clip-path=\"url(#clip240)\" d=\"M859.803 1479.7 L864.688 1479.7 L864.688 1485.58 L859.803 1485.58 L859.803 1479.7 Z\" fill=\"#000000\" fill-rule=\"evenodd\" fill-opacity=\"1\" /><path clip-path=\"url(#clip240)\" d=\"M884.873 1454.1 Q881.262 1454.1 879.433 1457.66 Q877.627 1461.2 877.627 1468.33 Q877.627 1475.44 879.433 1479.01 Q881.262 1482.55 884.873 1482.55 Q888.507 1482.55 890.312 1479.01 Q892.141 1475.44 892.141 1468.33 Q892.141 1461.2 890.312 1457.66 Q888.507 1454.1 884.873 1454.1 M884.873 1450.39 Q890.683 1450.39 893.738 1455 Q896.817 1459.58 896.817 1468.33 Q896.817 1477.06 893.738 1481.67 Q890.683 1486.25 884.873 1486.25 Q879.063 1486.25 875.984 1481.67 Q872.928 1477.06 872.928 1468.33 Q872.928 1459.58 875.984 1455 Q879.063 1450.39 884.873 1450.39 Z\" fill=\"#000000\" fill-rule=\"evenodd\" fill-opacity=\"1\" /><path clip-path=\"url(#clip240)\" d=\"M909.062 1481.64 L925.382 1481.64 L925.382 1485.58 L903.437 1485.58 L903.437 1481.64 Q906.099 1478.89 910.683 1474.26 Q915.289 1469.61 916.47 1468.27 Q918.715 1465.74 919.595 1464.01 Q920.498 1462.25 920.498 1460.56 Q920.498 1457.8 918.553 1456.07 Q916.632 1454.33 913.53 1454.33 Q911.331 1454.33 908.877 1455.09 Q906.447 1455.86 903.669 1457.41 L903.669 1452.69 Q906.493 1451.55 908.947 1450.97 Q911.4 1450.39 913.437 1450.39 Q918.808 1450.39 922.002 1453.08 Q925.197 1455.77 925.197 1460.26 Q925.197 1462.39 924.386 1464.31 Q923.599 1466.2 921.493 1468.8 Q920.914 1469.47 917.812 1472.69 Q914.711 1475.88 909.062 1481.64 Z\" fill=\"#000000\" fill-rule=\"evenodd\" fill-opacity=\"1\" /><path clip-path=\"url(#clip240)\" d=\"M1265.2 1454.1 Q1261.59 1454.1 1259.76 1457.66 Q1257.95 1461.2 1257.95 1468.33 Q1257.95 1475.44 1259.76 1479.01 Q1261.59 1482.55 1265.2 1482.55 Q1268.83 1482.55 1270.64 1479.01 Q1272.47 1475.44 1272.47 1468.33 Q1272.47 1461.2 1270.64 1457.66 Q1268.83 1454.1 1265.2 1454.1 M1265.2 1450.39 Q1271.01 1450.39 1274.06 1455 Q1277.14 1459.58 1277.14 1468.33 Q1277.14 1477.06 1274.06 1481.67 Q1271.01 1486.25 1265.2 1486.25 Q1259.39 1486.25 1256.31 1481.67 Q1253.25 1477.06 1253.25 1468.33 Q1253.25 1459.58 1256.31 1455 Q1259.39 1450.39 1265.2 1450.39 Z\" fill=\"#000000\" fill-rule=\"evenodd\" fill-opacity=\"1\" /><path clip-path=\"url(#clip240)\" d=\"M1285.36 1479.7 L1290.24 1479.7 L1290.24 1485.58 L1285.36 1485.58 L1285.36 1479.7 Z\" fill=\"#000000\" fill-rule=\"evenodd\" fill-opacity=\"1\" /><path clip-path=\"url(#clip240)\" d=\"M1310.43 1454.1 Q1306.82 1454.1 1304.99 1457.66 Q1303.18 1461.2 1303.18 1468.33 Q1303.18 1475.44 1304.99 1479.01 Q1306.82 1482.55 1310.43 1482.55 Q1314.06 1482.55 1315.87 1479.01 Q1317.7 1475.44 1317.7 1468.33 Q1317.7 1461.2 1315.87 1457.66 Q1314.06 1454.1 1310.43 1454.1 M1310.43 1450.39 Q1316.24 1450.39 1319.29 1455 Q1322.37 1459.58 1322.37 1468.33 Q1322.37 1477.06 1319.29 1481.67 Q1316.24 1486.25 1310.43 1486.25 Q1304.62 1486.25 1301.54 1481.67 Q1298.48 1477.06 1298.48 1468.33 Q1298.48 1459.58 1301.54 1455 Q1304.62 1450.39 1310.43 1450.39 Z\" fill=\"#000000\" fill-rule=\"evenodd\" fill-opacity=\"1\" /><path clip-path=\"url(#clip240)\" d=\"M1344.76 1466.95 Q1348.11 1467.66 1349.99 1469.93 Q1351.89 1472.2 1351.89 1475.53 Q1351.89 1480.65 1348.37 1483.45 Q1344.85 1486.25 1338.37 1486.25 Q1336.19 1486.25 1333.88 1485.81 Q1331.59 1485.39 1329.13 1484.54 L1329.13 1480.02 Q1331.08 1481.16 1333.39 1481.74 Q1335.71 1482.32 1338.23 1482.32 Q1342.63 1482.32 1344.92 1480.58 Q1347.23 1478.84 1347.23 1475.53 Q1347.23 1472.48 1345.08 1470.77 Q1342.95 1469.03 1339.13 1469.03 L1335.1 1469.03 L1335.1 1465.19 L1339.32 1465.19 Q1342.77 1465.19 1344.59 1463.82 Q1346.42 1462.43 1346.42 1459.84 Q1346.42 1457.18 1344.52 1455.77 Q1342.65 1454.33 1339.13 1454.33 Q1337.21 1454.33 1335.01 1454.75 Q1332.81 1455.16 1330.17 1456.04 L1330.17 1451.88 Q1332.84 1451.14 1335.15 1450.77 Q1337.49 1450.39 1339.55 1450.39 Q1344.87 1450.39 1347.97 1452.83 Q1351.08 1455.23 1351.08 1459.35 Q1351.08 1462.22 1349.43 1464.21 Q1347.79 1466.18 1344.76 1466.95 Z\" fill=\"#000000\" fill-rule=\"evenodd\" fill-opacity=\"1\" /><path clip-path=\"url(#clip240)\" d=\"M1690.66 1454.1 Q1687.05 1454.1 1685.22 1457.66 Q1683.41 1461.2 1683.41 1468.33 Q1683.41 1475.44 1685.22 1479.01 Q1687.05 1482.55 1690.66 1482.55 Q1694.29 1482.55 1696.1 1479.01 Q1697.93 1475.44 1697.93 1468.33 Q1697.93 1461.2 1696.1 1457.66 Q1694.29 1454.1 1690.66 1454.1 M1690.66 1450.39 Q1696.47 1450.39 1699.52 1455 Q1702.6 1459.58 1702.6 1468.33 Q1702.6 1477.06 1699.52 1481.67 Q1696.47 1486.25 1690.66 1486.25 Q1684.85 1486.25 1681.77 1481.67 Q1678.71 1477.06 1678.71 1468.33 Q1678.71 1459.58 1681.77 1455 Q1684.85 1450.39 1690.66 1450.39 Z\" fill=\"#000000\" fill-rule=\"evenodd\" fill-opacity=\"1\" /><path clip-path=\"url(#clip240)\" d=\"M1710.82 1479.7 L1715.71 1479.7 L1715.71 1485.58 L1710.82 1485.58 L1710.82 1479.7 Z\" fill=\"#000000\" fill-rule=\"evenodd\" fill-opacity=\"1\" /><path clip-path=\"url(#clip240)\" d=\"M1735.89 1454.1 Q1732.28 1454.1 1730.45 1457.66 Q1728.65 1461.2 1728.65 1468.33 Q1728.65 1475.44 1730.45 1479.01 Q1732.28 1482.55 1735.89 1482.55 Q1739.52 1482.55 1741.33 1479.01 Q1743.16 1475.44 1743.16 1468.33 Q1743.16 1461.2 1741.33 1457.66 Q1739.52 1454.1 1735.89 1454.1 M1735.89 1450.39 Q1741.7 1450.39 1744.76 1455 Q1747.83 1459.58 1747.83 1468.33 Q1747.83 1477.06 1744.76 1481.67 Q1741.7 1486.25 1735.89 1486.25 Q1730.08 1486.25 1727 1481.67 Q1723.95 1477.06 1723.95 1468.33 Q1723.95 1459.58 1727 1455 Q1730.08 1450.39 1735.89 1450.39 Z\" fill=\"#000000\" fill-rule=\"evenodd\" fill-opacity=\"1\" /><path clip-path=\"url(#clip240)\" d=\"M1768.9 1455.09 L1757.09 1473.54 L1768.9 1473.54 L1768.9 1455.09 M1767.67 1451.02 L1773.55 1451.02 L1773.55 1473.54 L1778.48 1473.54 L1778.48 1477.43 L1773.55 1477.43 L1773.55 1485.58 L1768.9 1485.58 L1768.9 1477.43 L1753.3 1477.43 L1753.3 1472.92 L1767.67 1451.02 Z\" fill=\"#000000\" fill-rule=\"evenodd\" fill-opacity=\"1\" /><path clip-path=\"url(#clip240)\" d=\"M2117.43 1454.1 Q2113.82 1454.1 2111.99 1457.66 Q2110.18 1461.2 2110.18 1468.33 Q2110.18 1475.44 2111.99 1479.01 Q2113.82 1482.55 2117.43 1482.55 Q2121.06 1482.55 2122.87 1479.01 Q2124.7 1475.44 2124.7 1468.33 Q2124.7 1461.2 2122.87 1457.66 Q2121.06 1454.1 2117.43 1454.1 M2117.43 1450.39 Q2123.24 1450.39 2126.3 1455 Q2129.37 1459.58 2129.37 1468.33 Q2129.37 1477.06 2126.3 1481.67 Q2123.24 1486.25 2117.43 1486.25 Q2111.62 1486.25 2108.54 1481.67 Q2105.49 1477.06 2105.49 1468.33 Q2105.49 1459.58 2108.54 1455 Q2111.62 1450.39 2117.43 1450.39 Z\" fill=\"#000000\" fill-rule=\"evenodd\" fill-opacity=\"1\" /><path clip-path=\"url(#clip240)\" d=\"M2137.59 1479.7 L2142.48 1479.7 L2142.48 1485.58 L2137.59 1485.58 L2137.59 1479.7 Z\" fill=\"#000000\" fill-rule=\"evenodd\" fill-opacity=\"1\" /><path clip-path=\"url(#clip240)\" d=\"M2162.66 1454.1 Q2159.05 1454.1 2157.22 1457.66 Q2155.42 1461.2 2155.42 1468.33 Q2155.42 1475.44 2157.22 1479.01 Q2159.05 1482.55 2162.66 1482.55 Q2166.3 1482.55 2168.1 1479.01 Q2169.93 1475.44 2169.93 1468.33 Q2169.93 1461.2 2168.1 1457.66 Q2166.3 1454.1 2162.66 1454.1 M2162.66 1450.39 Q2168.47 1450.39 2171.53 1455 Q2174.61 1459.58 2174.61 1468.33 Q2174.61 1477.06 2171.53 1481.67 Q2168.47 1486.25 2162.66 1486.25 Q2156.85 1486.25 2153.77 1481.67 Q2150.72 1477.06 2150.72 1468.33 Q2150.72 1459.58 2153.77 1455 Q2156.85 1450.39 2162.66 1450.39 Z\" fill=\"#000000\" fill-rule=\"evenodd\" fill-opacity=\"1\" /><path clip-path=\"url(#clip240)\" d=\"M2182.87 1451.02 L2201.23 1451.02 L2201.23 1454.96 L2187.15 1454.96 L2187.15 1463.43 Q2188.17 1463.08 2189.19 1462.92 Q2190.21 1462.73 2191.23 1462.73 Q2197.01 1462.73 2200.39 1465.9 Q2203.77 1469.08 2203.77 1474.49 Q2203.77 1480.07 2200.3 1483.17 Q2196.83 1486.25 2190.51 1486.25 Q2188.33 1486.25 2186.06 1485.88 Q2183.82 1485.51 2181.41 1484.77 L2181.41 1480.07 Q2183.49 1481.2 2185.72 1481.76 Q2187.94 1482.32 2190.42 1482.32 Q2194.42 1482.32 2196.76 1480.21 Q2199.1 1478.1 2199.1 1474.49 Q2199.1 1470.88 2196.76 1468.77 Q2194.42 1466.67 2190.42 1466.67 Q2188.54 1466.67 2186.67 1467.08 Q2184.81 1467.5 2182.87 1468.38 L2182.87 1451.02 Z\" fill=\"#000000\" fill-rule=\"evenodd\" fill-opacity=\"1\" /><path clip-path=\"url(#clip240)\" d=\"M1268.34 1526.86 L1255.29 1562.7 L1281.43 1562.7 L1268.34 1526.86 M1246.57 1568.04 L1264.72 1520.52 L1272 1520.52 L1290.11 1568.04 L1246.57 1568.04 Z\" fill=\"#000000\" fill-rule=\"evenodd\" fill-opacity=\"1\" /><path clip-path=\"url(#clip240)\" d=\"M1296.19 1553.98 L1296.19 1532.4 L1302.05 1532.4 L1302.05 1553.75 Q1302.05 1558.81 1304.02 1561.36 Q1306 1563.87 1309.94 1563.87 Q1314.69 1563.87 1317.42 1560.85 Q1320.19 1557.83 1320.19 1552.61 L1320.19 1532.4 L1326.05 1532.4 L1326.05 1568.04 L1320.19 1568.04 L1320.19 1562.57 Q1318.06 1565.82 1315.23 1567.41 Q1312.43 1568.97 1308.7 1568.97 Q1302.56 1568.97 1299.38 1565.15 Q1296.19 1561.33 1296.19 1553.98 M1310.93 1531.54 L1310.93 1531.54 Z\" fill=\"#000000\" fill-rule=\"evenodd\" fill-opacity=\"1\" /><polyline clip-path=\"url(#clip242)\" style=\"stroke:#000000; stroke-linecap:butt; stroke-linejoin:round; stroke-width:2; stroke-opacity:0.1; fill:none\" points=\"\n",
       "  219.866,1386.4 2352.76,1386.4 \n",
       "  \"/>\n",
       "<polyline clip-path=\"url(#clip242)\" style=\"stroke:#000000; stroke-linecap:butt; stroke-linejoin:round; stroke-width:2; stroke-opacity:0.1; fill:none\" points=\"\n",
       "  219.866,1141.17 2352.76,1141.17 \n",
       "  \"/>\n",
       "<polyline clip-path=\"url(#clip242)\" style=\"stroke:#000000; stroke-linecap:butt; stroke-linejoin:round; stroke-width:2; stroke-opacity:0.1; fill:none\" points=\"\n",
       "  219.866,895.94 2352.76,895.94 \n",
       "  \"/>\n",
       "<polyline clip-path=\"url(#clip242)\" style=\"stroke:#000000; stroke-linecap:butt; stroke-linejoin:round; stroke-width:2; stroke-opacity:0.1; fill:none\" points=\"\n",
       "  219.866,650.712 2352.76,650.712 \n",
       "  \"/>\n",
       "<polyline clip-path=\"url(#clip242)\" style=\"stroke:#000000; stroke-linecap:butt; stroke-linejoin:round; stroke-width:2; stroke-opacity:0.1; fill:none\" points=\"\n",
       "  219.866,405.484 2352.76,405.484 \n",
       "  \"/>\n",
       "<polyline clip-path=\"url(#clip242)\" style=\"stroke:#000000; stroke-linecap:butt; stroke-linejoin:round; stroke-width:2; stroke-opacity:0.1; fill:none\" points=\"\n",
       "  219.866,160.256 2352.76,160.256 \n",
       "  \"/>\n",
       "<polyline clip-path=\"url(#clip240)\" style=\"stroke:#000000; stroke-linecap:butt; stroke-linejoin:round; stroke-width:4; stroke-opacity:1; fill:none\" points=\"\n",
       "  219.866,1423.18 219.866,123.472 \n",
       "  \"/>\n",
       "<polyline clip-path=\"url(#clip240)\" style=\"stroke:#000000; stroke-linecap:butt; stroke-linejoin:round; stroke-width:4; stroke-opacity:1; fill:none\" points=\"\n",
       "  219.866,1386.4 238.764,1386.4 \n",
       "  \"/>\n",
       "<polyline clip-path=\"url(#clip240)\" style=\"stroke:#000000; stroke-linecap:butt; stroke-linejoin:round; stroke-width:4; stroke-opacity:1; fill:none\" points=\"\n",
       "  219.866,1141.17 238.764,1141.17 \n",
       "  \"/>\n",
       "<polyline clip-path=\"url(#clip240)\" style=\"stroke:#000000; stroke-linecap:butt; stroke-linejoin:round; stroke-width:4; stroke-opacity:1; fill:none\" points=\"\n",
       "  219.866,895.94 238.764,895.94 \n",
       "  \"/>\n",
       "<polyline clip-path=\"url(#clip240)\" style=\"stroke:#000000; stroke-linecap:butt; stroke-linejoin:round; stroke-width:4; stroke-opacity:1; fill:none\" points=\"\n",
       "  219.866,650.712 238.764,650.712 \n",
       "  \"/>\n",
       "<polyline clip-path=\"url(#clip240)\" style=\"stroke:#000000; stroke-linecap:butt; stroke-linejoin:round; stroke-width:4; stroke-opacity:1; fill:none\" points=\"\n",
       "  219.866,405.484 238.764,405.484 \n",
       "  \"/>\n",
       "<polyline clip-path=\"url(#clip240)\" style=\"stroke:#000000; stroke-linecap:butt; stroke-linejoin:round; stroke-width:4; stroke-opacity:1; fill:none\" points=\"\n",
       "  219.866,160.256 238.764,160.256 \n",
       "  \"/>\n",
       "<path clip-path=\"url(#clip240)\" d=\"M127.917 1372.19 Q124.306 1372.19 122.478 1375.76 Q120.672 1379.3 120.672 1386.43 Q120.672 1393.54 122.478 1397.1 Q124.306 1400.64 127.917 1400.64 Q131.552 1400.64 133.357 1397.1 Q135.186 1393.54 135.186 1386.43 Q135.186 1379.3 133.357 1375.76 Q131.552 1372.19 127.917 1372.19 M127.917 1368.49 Q133.728 1368.49 136.783 1373.1 Q139.862 1377.68 139.862 1386.43 Q139.862 1395.16 136.783 1399.76 Q133.728 1404.35 127.917 1404.35 Q122.107 1404.35 119.029 1399.76 Q115.973 1395.16 115.973 1386.43 Q115.973 1377.68 119.029 1373.1 Q122.107 1368.49 127.917 1368.49 Z\" fill=\"#000000\" fill-rule=\"evenodd\" fill-opacity=\"1\" /><path clip-path=\"url(#clip240)\" d=\"M148.079 1397.8 L152.964 1397.8 L152.964 1403.68 L148.079 1403.68 L148.079 1397.8 Z\" fill=\"#000000\" fill-rule=\"evenodd\" fill-opacity=\"1\" /><path clip-path=\"url(#clip240)\" d=\"M163.959 1399.74 L171.598 1399.74 L171.598 1373.37 L163.288 1375.04 L163.288 1370.78 L171.552 1369.12 L176.227 1369.12 L176.227 1399.74 L183.866 1399.74 L183.866 1403.68 L163.959 1403.68 L163.959 1399.74 Z\" fill=\"#000000\" fill-rule=\"evenodd\" fill-opacity=\"1\" /><path clip-path=\"url(#clip240)\" d=\"M128.288 1126.97 Q124.677 1126.97 122.848 1130.53 Q121.043 1134.07 121.043 1141.2 Q121.043 1148.31 122.848 1151.87 Q124.677 1155.42 128.288 1155.42 Q131.922 1155.42 133.728 1151.87 Q135.556 1148.31 135.556 1141.2 Q135.556 1134.07 133.728 1130.53 Q131.922 1126.97 128.288 1126.97 M128.288 1123.26 Q134.098 1123.26 137.154 1127.87 Q140.232 1132.45 140.232 1141.2 Q140.232 1149.93 137.154 1154.54 Q134.098 1159.12 128.288 1159.12 Q122.478 1159.12 119.399 1154.54 Q116.343 1149.93 116.343 1141.2 Q116.343 1132.45 119.399 1127.87 Q122.478 1123.26 128.288 1123.26 Z\" fill=\"#000000\" fill-rule=\"evenodd\" fill-opacity=\"1\" /><path clip-path=\"url(#clip240)\" d=\"M148.45 1152.57 L153.334 1152.57 L153.334 1158.45 L148.45 1158.45 L148.45 1152.57 Z\" fill=\"#000000\" fill-rule=\"evenodd\" fill-opacity=\"1\" /><path clip-path=\"url(#clip240)\" d=\"M167.547 1154.51 L183.866 1154.51 L183.866 1158.45 L161.922 1158.45 L161.922 1154.51 Q164.584 1151.76 169.167 1147.13 Q173.774 1142.48 174.954 1141.13 Q177.2 1138.61 178.079 1136.87 Q178.982 1135.11 178.982 1133.42 Q178.982 1130.67 177.038 1128.93 Q175.116 1127.2 172.014 1127.2 Q169.815 1127.2 167.362 1127.96 Q164.931 1128.73 162.153 1130.28 L162.153 1125.55 Q164.977 1124.42 167.431 1123.84 Q169.885 1123.26 171.922 1123.26 Q177.292 1123.26 180.487 1125.95 Q183.681 1128.63 183.681 1133.12 Q183.681 1135.25 182.871 1137.17 Q182.084 1139.07 179.977 1141.67 Q179.399 1142.34 176.297 1145.55 Q173.195 1148.75 167.547 1154.51 Z\" fill=\"#000000\" fill-rule=\"evenodd\" fill-opacity=\"1\" /><path clip-path=\"url(#clip240)\" d=\"M127.339 881.739 Q123.728 881.739 121.899 885.303 Q120.093 888.845 120.093 895.975 Q120.093 903.081 121.899 906.646 Q123.728 910.188 127.339 910.188 Q130.973 910.188 132.779 906.646 Q134.607 903.081 134.607 895.975 Q134.607 888.845 132.779 885.303 Q130.973 881.739 127.339 881.739 M127.339 878.035 Q133.149 878.035 136.204 882.641 Q139.283 887.225 139.283 895.975 Q139.283 904.701 136.204 909.308 Q133.149 913.891 127.339 913.891 Q121.529 913.891 118.45 909.308 Q115.394 904.701 115.394 895.975 Q115.394 887.225 118.45 882.641 Q121.529 878.035 127.339 878.035 Z\" fill=\"#000000\" fill-rule=\"evenodd\" fill-opacity=\"1\" /><path clip-path=\"url(#clip240)\" d=\"M147.501 907.34 L152.385 907.34 L152.385 913.22 L147.501 913.22 L147.501 907.34 Z\" fill=\"#000000\" fill-rule=\"evenodd\" fill-opacity=\"1\" /><path clip-path=\"url(#clip240)\" d=\"M176.737 894.586 Q180.093 895.303 181.968 897.572 Q183.866 899.84 183.866 903.174 Q183.866 908.289 180.348 911.09 Q176.829 913.891 170.348 913.891 Q168.172 913.891 165.857 913.451 Q163.565 913.035 161.112 912.178 L161.112 907.664 Q163.056 908.799 165.371 909.377 Q167.686 909.956 170.209 909.956 Q174.607 909.956 176.899 908.22 Q179.214 906.484 179.214 903.174 Q179.214 900.118 177.061 898.405 Q174.931 896.669 171.112 896.669 L167.084 896.669 L167.084 892.827 L171.297 892.827 Q174.746 892.827 176.575 891.461 Q178.403 890.072 178.403 887.479 Q178.403 884.817 176.505 883.405 Q174.63 881.97 171.112 881.97 Q169.19 881.97 166.991 882.387 Q164.792 882.803 162.153 883.683 L162.153 879.516 Q164.815 878.776 167.13 878.405 Q169.468 878.035 171.528 878.035 Q176.852 878.035 179.954 880.465 Q183.056 882.873 183.056 886.993 Q183.056 889.864 181.413 891.854 Q179.769 893.822 176.737 894.586 Z\" fill=\"#000000\" fill-rule=\"evenodd\" fill-opacity=\"1\" /><path clip-path=\"url(#clip240)\" d=\"M126.205 636.511 Q122.593 636.511 120.765 640.076 Q118.959 643.617 118.959 650.747 Q118.959 657.853 120.765 661.418 Q122.593 664.96 126.205 664.96 Q129.839 664.96 131.644 661.418 Q133.473 657.853 133.473 650.747 Q133.473 643.617 131.644 640.076 Q129.839 636.511 126.205 636.511 M126.205 632.807 Q132.015 632.807 135.07 637.414 Q138.149 641.997 138.149 650.747 Q138.149 659.474 135.07 664.08 Q132.015 668.663 126.205 668.663 Q120.394 668.663 117.316 664.08 Q114.26 659.474 114.26 650.747 Q114.26 641.997 117.316 637.414 Q120.394 632.807 126.205 632.807 Z\" fill=\"#000000\" fill-rule=\"evenodd\" fill-opacity=\"1\" /><path clip-path=\"url(#clip240)\" d=\"M146.366 662.112 L151.251 662.112 L151.251 667.992 L146.366 667.992 L146.366 662.112 Z\" fill=\"#000000\" fill-rule=\"evenodd\" fill-opacity=\"1\" /><path clip-path=\"url(#clip240)\" d=\"M174.283 637.506 L162.477 655.955 L174.283 655.955 L174.283 637.506 M173.056 633.432 L178.936 633.432 L178.936 655.955 L183.866 655.955 L183.866 659.844 L178.936 659.844 L178.936 667.992 L174.283 667.992 L174.283 659.844 L158.681 659.844 L158.681 655.33 L173.056 633.432 Z\" fill=\"#000000\" fill-rule=\"evenodd\" fill-opacity=\"1\" /><path clip-path=\"url(#clip240)\" d=\"M127.686 391.283 Q124.075 391.283 122.246 394.848 Q120.441 398.389 120.441 405.519 Q120.441 412.625 122.246 416.19 Q124.075 419.732 127.686 419.732 Q131.32 419.732 133.126 416.19 Q134.954 412.625 134.954 405.519 Q134.954 398.389 133.126 394.848 Q131.32 391.283 127.686 391.283 M127.686 387.579 Q133.496 387.579 136.552 392.186 Q139.63 396.769 139.63 405.519 Q139.63 414.246 136.552 418.852 Q133.496 423.435 127.686 423.435 Q121.876 423.435 118.797 418.852 Q115.742 414.246 115.742 405.519 Q115.742 396.769 118.797 392.186 Q121.876 387.579 127.686 387.579 Z\" fill=\"#000000\" fill-rule=\"evenodd\" fill-opacity=\"1\" /><path clip-path=\"url(#clip240)\" d=\"M147.848 416.885 L152.732 416.885 L152.732 422.764 L147.848 422.764 L147.848 416.885 Z\" fill=\"#000000\" fill-rule=\"evenodd\" fill-opacity=\"1\" /><path clip-path=\"url(#clip240)\" d=\"M162.964 388.204 L181.32 388.204 L181.32 392.139 L167.246 392.139 L167.246 400.612 Q168.264 400.264 169.283 400.102 Q170.302 399.917 171.32 399.917 Q177.107 399.917 180.487 403.088 Q183.866 406.26 183.866 411.676 Q183.866 417.255 180.394 420.357 Q176.922 423.435 170.602 423.435 Q168.427 423.435 166.158 423.065 Q163.913 422.695 161.505 421.954 L161.505 417.255 Q163.589 418.389 165.811 418.945 Q168.033 419.5 170.51 419.5 Q174.514 419.5 176.852 417.394 Q179.19 415.287 179.19 411.676 Q179.19 408.065 176.852 405.959 Q174.514 403.852 170.51 403.852 Q168.635 403.852 166.76 404.269 Q164.908 404.686 162.964 405.565 L162.964 388.204 Z\" fill=\"#000000\" fill-rule=\"evenodd\" fill-opacity=\"1\" /><path clip-path=\"url(#clip240)\" d=\"M126.529 146.055 Q122.918 146.055 121.089 149.62 Q119.283 153.161 119.283 160.291 Q119.283 167.397 121.089 170.962 Q122.918 174.504 126.529 174.504 Q130.163 174.504 131.968 170.962 Q133.797 167.397 133.797 160.291 Q133.797 153.161 131.968 149.62 Q130.163 146.055 126.529 146.055 M126.529 142.351 Q132.339 142.351 135.394 146.958 Q138.473 151.541 138.473 160.291 Q138.473 169.018 135.394 173.624 Q132.339 178.208 126.529 178.208 Q120.718 178.208 117.64 173.624 Q114.584 169.018 114.584 160.291 Q114.584 151.541 117.64 146.958 Q120.718 142.351 126.529 142.351 Z\" fill=\"#000000\" fill-rule=\"evenodd\" fill-opacity=\"1\" /><path clip-path=\"url(#clip240)\" d=\"M146.691 171.657 L151.575 171.657 L151.575 177.536 L146.691 177.536 L146.691 171.657 Z\" fill=\"#000000\" fill-rule=\"evenodd\" fill-opacity=\"1\" /><path clip-path=\"url(#clip240)\" d=\"M172.339 158.393 Q169.19 158.393 167.339 160.546 Q165.51 162.698 165.51 166.448 Q165.51 170.175 167.339 172.351 Q169.19 174.504 172.339 174.504 Q175.487 174.504 177.315 172.351 Q179.167 170.175 179.167 166.448 Q179.167 162.698 177.315 160.546 Q175.487 158.393 172.339 158.393 M181.621 143.74 L181.621 147.999 Q179.862 147.166 178.056 146.726 Q176.274 146.286 174.514 146.286 Q169.885 146.286 167.431 149.411 Q165.001 152.536 164.653 158.856 Q166.019 156.842 168.079 155.777 Q170.139 154.689 172.616 154.689 Q177.825 154.689 180.834 157.86 Q183.866 161.009 183.866 166.448 Q183.866 171.772 180.718 174.99 Q177.57 178.208 172.339 178.208 Q166.343 178.208 163.172 173.624 Q160.001 169.018 160.001 160.291 Q160.001 152.097 163.89 147.236 Q167.778 142.351 174.329 142.351 Q176.089 142.351 177.871 142.699 Q179.676 143.046 181.621 143.74 Z\" fill=\"#000000\" fill-rule=\"evenodd\" fill-opacity=\"1\" /><path clip-path=\"url(#clip240)\" d=\"M22.818 791.914 L58.657 804.964 L58.657 778.832 L22.818 791.914 M64.0042 813.685 L16.4842 795.542 L16.4842 788.254 L64.0042 770.143 L64.0042 813.685 Z\" fill=\"#000000\" fill-rule=\"evenodd\" fill-opacity=\"1\" /><path clip-path=\"url(#clip240)\" d=\"M28.3562 767.661 L28.3562 761.454 L58.275 750.314 L28.3562 739.174 L28.3562 732.967 L64.0042 746.335 L64.0042 754.293 L28.3562 767.661 Z\" fill=\"#000000\" fill-rule=\"evenodd\" fill-opacity=\"1\" /><path clip-path=\"url(#clip240)\" d=\"M974.695 72.576 L951.605 12.096 L960.153 12.096 L979.313 63.0159 L998.515 12.096 L1007.02 12.096 L983.972 72.576 L974.695 72.576 Z\" fill=\"#000000\" fill-rule=\"evenodd\" fill-opacity=\"1\" /><path clip-path=\"url(#clip240)\" d=\"M1029.71 49.7694 Q1020.67 49.7694 1017.19 51.8354 Q1013.71 53.9013 1013.71 58.8839 Q1013.71 62.8538 1016.3 65.2034 Q1018.93 67.5124 1023.43 67.5124 Q1029.63 67.5124 1033.35 63.1374 Q1037.12 58.7219 1037.12 51.4303 L1037.12 49.7694 L1029.71 49.7694 M1044.57 46.6907 L1044.57 72.576 L1037.12 72.576 L1037.12 65.6895 Q1034.57 69.8214 1030.76 71.8063 Q1026.95 73.7508 1021.44 73.7508 Q1014.48 73.7508 1010.34 69.8619 Q1006.25 65.9325 1006.25 59.3701 Q1006.25 51.7138 1011.36 47.825 Q1016.5 43.9361 1026.67 43.9361 L1037.12 43.9361 L1037.12 43.2069 Q1037.12 38.0623 1033.72 35.2672 Q1030.35 32.4315 1024.24 32.4315 Q1020.35 32.4315 1016.66 33.3632 Q1012.98 34.295 1009.57 36.1584 L1009.57 29.2718 Q1013.66 27.692 1017.51 26.9223 Q1021.36 26.1121 1025.01 26.1121 Q1034.85 26.1121 1039.71 31.2163 Q1044.57 36.3204 1044.57 46.6907 Z\" fill=\"#000000\" fill-rule=\"evenodd\" fill-opacity=\"1\" /><path clip-path=\"url(#clip240)\" d=\"M1059.93 9.54393 L1067.38 9.54393 L1067.38 72.576 L1059.93 72.576 L1059.93 9.54393 Z\" fill=\"#000000\" fill-rule=\"evenodd\" fill-opacity=\"1\" /><path clip-path=\"url(#clip240)\" d=\"M1082.21 54.671 L1082.21 27.2059 L1089.66 27.2059 L1089.66 54.3874 Q1089.66 60.8284 1092.17 64.0691 Q1094.68 67.2693 1099.71 67.2693 Q1105.74 67.2693 1109.23 63.421 Q1112.75 59.5726 1112.75 52.9291 L1112.75 27.2059 L1120.2 27.2059 L1120.2 72.576 L1112.75 72.576 L1112.75 65.6084 Q1110.04 69.7404 1106.43 71.7658 Q1102.87 73.7508 1098.13 73.7508 Q1090.31 73.7508 1086.26 68.8897 Q1082.21 64.0286 1082.21 54.671 M1100.96 26.1121 L1100.96 26.1121 Z\" fill=\"#000000\" fill-rule=\"evenodd\" fill-opacity=\"1\" /><path clip-path=\"url(#clip240)\" d=\"M1174.36 48.0275 L1174.36 51.6733 L1140.09 51.6733 Q1140.58 59.3701 1144.71 63.421 Q1148.88 67.4314 1156.3 67.4314 Q1160.59 67.4314 1164.6 66.3781 Q1168.65 65.3249 1172.62 63.2184 L1172.62 70.267 Q1168.61 71.9684 1164.4 72.8596 Q1160.19 73.7508 1155.85 73.7508 Q1145 73.7508 1138.64 67.4314 Q1132.32 61.1119 1132.32 50.3365 Q1132.32 39.1965 1138.31 32.6746 Q1144.35 26.1121 1154.56 26.1121 Q1163.71 26.1121 1169.02 32.0264 Q1174.36 37.9003 1174.36 48.0275 M1166.91 45.84 Q1166.83 39.7232 1163.47 36.0774 Q1160.15 32.4315 1154.64 32.4315 Q1148.4 32.4315 1144.63 35.9558 Q1140.9 39.4801 1140.34 45.8805 L1166.91 45.84 Z\" fill=\"#000000\" fill-rule=\"evenodd\" fill-opacity=\"1\" /><path clip-path=\"url(#clip240)\" d=\"M1233.59 49.7694 Q1224.56 49.7694 1221.07 51.8354 Q1217.59 53.9013 1217.59 58.8839 Q1217.59 62.8538 1220.18 65.2034 Q1222.81 67.5124 1227.31 67.5124 Q1233.51 67.5124 1237.23 63.1374 Q1241 58.7219 1241 51.4303 L1241 49.7694 L1233.59 49.7694 M1248.46 46.6907 L1248.46 72.576 L1241 72.576 L1241 65.6895 Q1238.45 69.8214 1234.64 71.8063 Q1230.83 73.7508 1225.32 73.7508 Q1218.36 73.7508 1214.23 69.8619 Q1210.13 65.9325 1210.13 59.3701 Q1210.13 51.7138 1215.24 47.825 Q1220.38 43.9361 1230.55 43.9361 L1241 43.9361 L1241 43.2069 Q1241 38.0623 1237.6 35.2672 Q1234.24 32.4315 1228.12 32.4315 Q1224.23 32.4315 1220.54 33.3632 Q1216.86 34.295 1213.46 36.1584 L1213.46 29.2718 Q1217.55 27.692 1221.4 26.9223 Q1225.24 26.1121 1228.89 26.1121 Q1238.73 26.1121 1243.59 31.2163 Q1248.46 36.3204 1248.46 46.6907 Z\" fill=\"#000000\" fill-rule=\"evenodd\" fill-opacity=\"1\" /><path clip-path=\"url(#clip240)\" d=\"M1301.52 45.1919 L1301.52 72.576 L1294.07 72.576 L1294.07 45.4349 Q1294.07 38.994 1291.56 35.7938 Q1289.05 32.5936 1284.02 32.5936 Q1277.99 32.5936 1274.5 36.4419 Q1271.02 40.2903 1271.02 46.9338 L1271.02 72.576 L1263.52 72.576 L1263.52 27.2059 L1271.02 27.2059 L1271.02 34.2544 Q1273.69 30.163 1277.3 28.1376 Q1280.94 26.1121 1285.68 26.1121 Q1293.5 26.1121 1297.51 30.9732 Q1301.52 35.7938 1301.52 45.1919 Z\" fill=\"#000000\" fill-rule=\"evenodd\" fill-opacity=\"1\" /><path clip-path=\"url(#clip240)\" d=\"M1346.24 34.0924 L1346.24 9.54393 L1353.7 9.54393 L1353.7 72.576 L1346.24 72.576 L1346.24 65.7705 Q1343.89 69.8214 1340.29 71.8063 Q1336.72 73.7508 1331.7 73.7508 Q1323.48 73.7508 1318.29 67.1883 Q1313.15 60.6258 1313.15 49.9314 Q1313.15 39.2371 1318.29 32.6746 Q1323.48 26.1121 1331.7 26.1121 Q1336.72 26.1121 1340.29 28.0971 Q1343.89 30.0415 1346.24 34.0924 M1320.85 49.9314 Q1320.85 58.1548 1324.21 62.8538 Q1327.61 67.5124 1333.52 67.5124 Q1339.44 67.5124 1342.84 62.8538 Q1346.24 58.1548 1346.24 49.9314 Q1346.24 41.7081 1342.84 37.0496 Q1339.44 32.3505 1333.52 32.3505 Q1327.61 32.3505 1324.21 37.0496 Q1320.85 41.7081 1320.85 49.9314 Z\" fill=\"#000000\" fill-rule=\"evenodd\" fill-opacity=\"1\" /><path clip-path=\"url(#clip240)\" d=\"M1394.65 54.671 L1394.65 27.2059 L1402.11 27.2059 L1402.11 54.3874 Q1402.11 60.8284 1404.62 64.0691 Q1407.13 67.2693 1412.15 67.2693 Q1418.19 67.2693 1421.67 63.421 Q1425.2 59.5726 1425.2 52.9291 L1425.2 27.2059 L1432.65 27.2059 L1432.65 72.576 L1425.2 72.576 L1425.2 65.6084 Q1422.48 69.7404 1418.88 71.7658 Q1415.31 73.7508 1410.57 73.7508 Q1402.75 73.7508 1398.7 68.8897 Q1394.65 64.0286 1394.65 54.671 M1413.41 26.1121 L1413.41 26.1121 Z\" fill=\"#000000\" fill-rule=\"evenodd\" fill-opacity=\"1\" /><path clip-path=\"url(#clip240)\" d=\"M1455.38 14.324 L1455.38 27.2059 L1470.73 27.2059 L1470.73 32.9987 L1455.38 32.9987 L1455.38 57.6282 Q1455.38 63.1779 1456.87 64.7578 Q1458.41 66.3376 1463.07 66.3376 L1470.73 66.3376 L1470.73 72.576 L1463.07 72.576 Q1454.44 72.576 1451.16 69.3758 Q1447.88 66.1351 1447.88 57.6282 L1447.88 32.9987 L1442.41 32.9987 L1442.41 27.2059 L1447.88 27.2059 L1447.88 14.324 L1455.38 14.324 Z\" fill=\"#000000\" fill-rule=\"evenodd\" fill-opacity=\"1\" /><path clip-path=\"url(#clip240)\" d=\"M1480.53 27.2059 L1487.99 27.2059 L1487.99 72.576 L1480.53 72.576 L1480.53 27.2059 M1480.53 9.54393 L1487.99 9.54393 L1487.99 18.9825 L1480.53 18.9825 L1480.53 9.54393 Z\" fill=\"#000000\" fill-rule=\"evenodd\" fill-opacity=\"1\" /><path clip-path=\"url(#clip240)\" d=\"M1503.58 9.54393 L1511.03 9.54393 L1511.03 72.576 L1503.58 72.576 L1503.58 9.54393 Z\" fill=\"#000000\" fill-rule=\"evenodd\" fill-opacity=\"1\" /><path clip-path=\"url(#clip240)\" d=\"M1526.63 27.2059 L1534.08 27.2059 L1534.08 72.576 L1526.63 72.576 L1526.63 27.2059 M1526.63 9.54393 L1534.08 9.54393 L1534.08 18.9825 L1526.63 18.9825 L1526.63 9.54393 Z\" fill=\"#000000\" fill-rule=\"evenodd\" fill-opacity=\"1\" /><path clip-path=\"url(#clip240)\" d=\"M1557.05 14.324 L1557.05 27.2059 L1572.41 27.2059 L1572.41 32.9987 L1557.05 32.9987 L1557.05 57.6282 Q1557.05 63.1779 1558.55 64.7578 Q1560.09 66.3376 1564.75 66.3376 L1572.41 66.3376 L1572.41 72.576 L1564.75 72.576 Q1556.12 72.576 1552.84 69.3758 Q1549.56 66.1351 1549.56 57.6282 L1549.56 32.9987 L1544.09 32.9987 L1544.09 27.2059 L1549.56 27.2059 L1549.56 14.324 L1557.05 14.324 Z\" fill=\"#000000\" fill-rule=\"evenodd\" fill-opacity=\"1\" /><path clip-path=\"url(#clip240)\" d=\"M1601.09 76.7889 Q1597.93 84.8907 1594.93 87.3618 Q1591.93 89.8329 1586.91 89.8329 L1580.95 89.8329 L1580.95 83.5945 L1585.33 83.5945 Q1588.41 83.5945 1590.11 82.1361 Q1591.81 80.6778 1593.88 75.2496 L1595.21 71.8468 L1576.86 27.2059 L1584.76 27.2059 L1598.94 62.6918 L1613.12 27.2059 L1621.02 27.2059 L1601.09 76.7889 Z\" fill=\"#000000\" fill-rule=\"evenodd\" fill-opacity=\"1\" /><circle clip-path=\"url(#clip242)\" cx=\"513.343\" cy=\"1386.4\" r=\"14\" fill=\"#009af9\" fill-rule=\"evenodd\" fill-opacity=\"1\" stroke=\"#000000\" stroke-opacity=\"1\" stroke-width=\"3.2\"/>\n",
       "<circle clip-path=\"url(#clip242)\" cx=\"769.094\" cy=\"1141.17\" r=\"14\" fill=\"#009af9\" fill-rule=\"evenodd\" fill-opacity=\"1\" stroke=\"#000000\" stroke-opacity=\"1\" stroke-width=\"3.2\"/>\n",
       "<circle clip-path=\"url(#clip242)\" cx=\"1844.61\" cy=\"650.712\" r=\"14\" fill=\"#009af9\" fill-rule=\"evenodd\" fill-opacity=\"1\" stroke=\"#000000\" stroke-opacity=\"1\" stroke-width=\"3.2\"/>\n",
       "<circle clip-path=\"url(#clip242)\" cx=\"1930.46\" cy=\"405.484\" r=\"14\" fill=\"#009af9\" fill-rule=\"evenodd\" fill-opacity=\"1\" stroke=\"#000000\" stroke-opacity=\"1\" stroke-width=\"3.2\"/>\n",
       "<circle clip-path=\"url(#clip242)\" cx=\"2292.39\" cy=\"160.256\" r=\"14\" fill=\"#009af9\" fill-rule=\"evenodd\" fill-opacity=\"1\" stroke=\"#000000\" stroke-opacity=\"1\" stroke-width=\"3.2\"/>\n",
       "<circle clip-path=\"url(#clip242)\" cx=\"280.231\" cy=\"1386.4\" r=\"14\" fill=\"#009af9\" fill-rule=\"evenodd\" fill-opacity=\"1\" stroke=\"#000000\" stroke-opacity=\"1\" stroke-width=\"3.2\"/>\n",
       "<circle clip-path=\"url(#clip242)\" cx=\"1355.75\" cy=\"895.94\" r=\"14\" fill=\"#009af9\" fill-rule=\"evenodd\" fill-opacity=\"1\" stroke=\"#000000\" stroke-opacity=\"1\" stroke-width=\"3.2\"/>\n",
       "<circle clip-path=\"url(#clip242)\" cx=\"1441.6\" cy=\"650.712\" r=\"14\" fill=\"#009af9\" fill-rule=\"evenodd\" fill-opacity=\"1\" stroke=\"#000000\" stroke-opacity=\"1\" stroke-width=\"3.2\"/>\n",
       "<circle clip-path=\"url(#clip242)\" cx=\"1803.53\" cy=\"405.484\" r=\"14\" fill=\"#009af9\" fill-rule=\"evenodd\" fill-opacity=\"1\" stroke=\"#000000\" stroke-opacity=\"1\" stroke-width=\"3.2\"/>\n",
       "<circle clip-path=\"url(#clip242)\" cx=\"1100\" cy=\"1141.17\" r=\"14\" fill=\"#009af9\" fill-rule=\"evenodd\" fill-opacity=\"1\" stroke=\"#000000\" stroke-opacity=\"1\" stroke-width=\"3.2\"/>\n",
       "<circle clip-path=\"url(#clip242)\" cx=\"1185.85\" cy=\"895.94\" r=\"14\" fill=\"#009af9\" fill-rule=\"evenodd\" fill-opacity=\"1\" stroke=\"#000000\" stroke-opacity=\"1\" stroke-width=\"3.2\"/>\n",
       "<circle clip-path=\"url(#clip242)\" cx=\"1547.78\" cy=\"650.712\" r=\"14\" fill=\"#009af9\" fill-rule=\"evenodd\" fill-opacity=\"1\" stroke=\"#000000\" stroke-opacity=\"1\" stroke-width=\"3.2\"/>\n",
       "</svg>\n"
      ]
     },
     "metadata": {},
     "output_type": "display_data"
    }
   ],
   "source": [
    "mask = ([4,5],[4,6],[5,6])\n",
    "\n",
    "for pair in mask\n",
    "    udiff[pair[1],pair[2]] = udiff[pair[2],pair[1]] = 0.0\n",
    "end\n",
    "\n",
    "mask = udiff .> 0.0\n",
    "u = udiff1[mask]\n",
    "v = vdiff[mask]\n",
    "\n",
    "\n",
    "fig = scatter(u, v, title = \"Value and utility\", label=\"\")#, dpi=500)\n",
    "xlabel!(\"Δu\")\n",
    "ylabel!(\"Δv\")\n",
    "#savefig(fig, \"v_vs_u_cavanagh\")\n",
    "display(fig)"
   ]
  },
  {
   "cell_type": "code",
   "execution_count": 114,
   "id": "93b43533",
   "metadata": {},
   "outputs": [
    {
     "data": {
      "text/html": [
       "<div class=\"data-frame\"><p>12 rows × 2 columns</p><table class=\"data-frame\"><thead><tr><th></th><th>u</th><th>v</th></tr><tr><th></th><th title=\"Float64\">Float64</th><th title=\"Float64\">Float64</th></tr></thead><tbody><tr><th>1</th><td>0.0114749</td><td>0.1</td></tr><tr><th>2</th><td>0.017478</td><td>0.2</td></tr><tr><th>3</th><td>0.0427231</td><td>0.4</td></tr><tr><th>4</th><td>0.0447383</td><td>0.5</td></tr><tr><th>5</th><td>0.0532336</td><td>0.6</td></tr><tr><th>6</th><td>0.00600313</td><td>0.1</td></tr><tr><th>7</th><td>0.0312483</td><td>0.3</td></tr><tr><th>8</th><td>0.0332634</td><td>0.4</td></tr><tr><th>9</th><td>0.0417588</td><td>0.5</td></tr><tr><th>10</th><td>0.0252451</td><td>0.2</td></tr><tr><th>11</th><td>0.0272603</td><td>0.3</td></tr><tr><th>12</th><td>0.0357556</td><td>0.4</td></tr></tbody></table></div>"
      ],
      "text/latex": [
       "\\begin{tabular}{r|cc}\n",
       "\t& u & v\\\\\n",
       "\t\\hline\n",
       "\t& Float64 & Float64\\\\\n",
       "\t\\hline\n",
       "\t1 & 0.0114749 & 0.1 \\\\\n",
       "\t2 & 0.017478 & 0.2 \\\\\n",
       "\t3 & 0.0427231 & 0.4 \\\\\n",
       "\t4 & 0.0447383 & 0.5 \\\\\n",
       "\t5 & 0.0532336 & 0.6 \\\\\n",
       "\t6 & 0.00600313 & 0.1 \\\\\n",
       "\t7 & 0.0312483 & 0.3 \\\\\n",
       "\t8 & 0.0332634 & 0.4 \\\\\n",
       "\t9 & 0.0417588 & 0.5 \\\\\n",
       "\t10 & 0.0252451 & 0.2 \\\\\n",
       "\t11 & 0.0272603 & 0.3 \\\\\n",
       "\t12 & 0.0357556 & 0.4 \\\\\n",
       "\\end{tabular}\n"
      ],
      "text/plain": [
       "\u001b[1m12×2 DataFrame\u001b[0m\n",
       "\u001b[1m Row \u001b[0m│\u001b[1m u          \u001b[0m\u001b[1m v       \u001b[0m\n",
       "\u001b[1m     \u001b[0m│\u001b[90m Float64    \u001b[0m\u001b[90m Float64 \u001b[0m\n",
       "─────┼─────────────────────\n",
       "   1 │ 0.0114749       0.1\n",
       "   2 │ 0.017478        0.2\n",
       "   3 │ 0.0427231       0.4\n",
       "   4 │ 0.0447383       0.5\n",
       "   5 │ 0.0532336       0.6\n",
       "   6 │ 0.00600313      0.1\n",
       "   7 │ 0.0312483       0.3\n",
       "   8 │ 0.0332634       0.4\n",
       "   9 │ 0.0417588       0.5\n",
       "  10 │ 0.0252451       0.2\n",
       "  11 │ 0.0272603       0.3\n",
       "  12 │ 0.0357556       0.4"
      ]
     },
     "execution_count": 114,
     "metadata": {},
     "output_type": "execute_result"
    }
   ],
   "source": [
    "data = DataFrame([u,v], :auto);\n",
    "Matrix(data)\n",
    "rename!(data,:x1 => :u)\n",
    "rename!(data,:x2 => :v)"
   ]
  },
  {
   "cell_type": "code",
   "execution_count": 41,
   "id": "d0517b92",
   "metadata": {},
   "outputs": [
    {
     "data": {
      "text/plain": [
       "StatsModels.TableRegressionModel{LinearModel{GLM.LmResp{Vector{Float64}}, GLM.DensePredChol{Float64, CholeskyPivoted{Float64, Matrix{Float64}}}}, Matrix{Float64}}\n",
       "\n",
       "v ~ 1 + u\n",
       "\n",
       "Coefficients:\n",
       "────────────────────────────────────────────────────────────────────────────\n",
       "                    Coef.  Std. Error      t  Pr(>|t|)  Lower 95%  Upper 95%\n",
       "────────────────────────────────────────────────────────────────────────────\n",
       "(Intercept)  -5.62935e-17   0.0081548  -0.00    1.0000  -0.016912   0.016912\n",
       "u            10.8471        0.242061   44.81    <1e-22  10.3451    11.3491\n",
       "────────────────────────────────────────────────────────────────────────────"
      ]
     },
     "execution_count": 41,
     "metadata": {},
     "output_type": "execute_result"
    }
   ],
   "source": [
    "ols = lm(@formula(v~u), data)"
   ]
  },
  {
   "cell_type": "code",
   "execution_count": 115,
   "id": "986ad29f",
   "metadata": {},
   "outputs": [],
   "source": [
    "b0, b1 = coef(ols)\n",
    "grid = minimum(u) .+ (maximum(u) - minimum(u)) .* collect(1:1000) ./ 1000\n",
    "line = b0 .+ b1*grid\n",
    "plot!(grid, line, color = \"red\", label=\"\", dpi=500)\n",
    "savefig(\"v_vs_u_cavanagh_nowinwin_21jan\")"
   ]
  },
  {
   "cell_type": "code",
   "execution_count": null,
   "id": "417c64d2",
   "metadata": {},
   "outputs": [],
   "source": []
  }
 ],
 "metadata": {
  "kernelspec": {
   "display_name": "Julia 1.7.1",
   "language": "julia",
   "name": "julia-1.7"
  },
  "language_info": {
   "file_extension": ".jl",
   "mimetype": "application/julia",
   "name": "julia",
   "version": "1.7.1"
  }
 },
 "nbformat": 4,
 "nbformat_minor": 5
}
